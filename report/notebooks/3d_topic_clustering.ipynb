{
 "cells": [
  {
   "cell_type": "code",
   "execution_count": 1,
   "metadata": {
    "execution": {
     "iopub.execute_input": "2025-07-20T07:46:06.572184Z",
     "iopub.status.busy": "2025-07-20T07:46:06.571763Z",
     "iopub.status.idle": "2025-07-20T07:46:32.703805Z",
     "shell.execute_reply": "2025-07-20T07:46:32.703345Z"
    }
   },
   "outputs": [
    {
     "name": "stdout",
     "output_type": "stream",
     "text": [
      "📚 Libraries loaded successfully!\n"
     ]
    }
   ],
   "source": [
    "import pandas as pd\n",
    "import numpy as np\n",
    "import json\n",
    "import plotly.express as px\n",
    "import plotly.graph_objects as go\n",
    "from plotly.subplots import make_subplots\n",
    "import plotly.io as pio\n",
    "\n",
    "# For dimensionality reduction\n",
    "import umap\n",
    "from sklearn.manifold import TSNE\n",
    "from sklearn.decomposition import PCA\n",
    "from sklearn.preprocessing import StandardScaler\n",
    "\n",
    "# Set plotly template\n",
    "pio.templates.default = \"plotly_white\"\n",
    "\n",
    "print(\"📚 Libraries loaded successfully!\")\n"
   ]
  },
  {
   "cell_type": "code",
   "execution_count": 2,
   "metadata": {
    "execution": {
     "iopub.execute_input": "2025-07-20T07:46:32.725640Z",
     "iopub.status.busy": "2025-07-20T07:46:32.725378Z",
     "iopub.status.idle": "2025-07-20T07:46:32.760144Z",
     "shell.execute_reply": "2025-07-20T07:46:32.759790Z"
    }
   },
   "outputs": [
    {
     "name": "stdout",
     "output_type": "stream",
     "text": [
      "📊 Loading topic modeling data...\n",
      "✅ Loaded 1,817 posts with topic assignments\n",
      "📅 Date range: 2025-01-01 10:48:00 to 2025-07-20 20:53:00\n",
      "🎯 Found 10 topic probability columns\n"
     ]
    },
    {
     "data": {
      "text/html": [
       "<div>\n",
       "<style scoped>\n",
       "    .dataframe tbody tr th:only-of-type {\n",
       "        vertical-align: middle;\n",
       "    }\n",
       "\n",
       "    .dataframe tbody tr th {\n",
       "        vertical-align: top;\n",
       "    }\n",
       "\n",
       "    .dataframe thead th {\n",
       "        text-align: right;\n",
       "    }\n",
       "</style>\n",
       "<table border=\"1\" class=\"dataframe\">\n",
       "  <thead>\n",
       "    <tr style=\"text-align: right;\">\n",
       "      <th></th>\n",
       "      <th>speaker</th>\n",
       "      <th>handle</th>\n",
       "      <th>platform</th>\n",
       "      <th>post_url</th>\n",
       "      <th>content_text</th>\n",
       "      <th>date_parsed</th>\n",
       "      <th>dominant_topic</th>\n",
       "      <th>topic_name</th>\n",
       "      <th>topic_confidence</th>\n",
       "      <th>topic_1_prob</th>\n",
       "      <th>...</th>\n",
       "      <th>topic_5_prob</th>\n",
       "      <th>topic_6_prob</th>\n",
       "      <th>topic_7_prob</th>\n",
       "      <th>topic_8_prob</th>\n",
       "      <th>topic_9_prob</th>\n",
       "      <th>topic_10_prob</th>\n",
       "      <th>hour</th>\n",
       "      <th>day_of_week</th>\n",
       "      <th>month</th>\n",
       "      <th>year_month</th>\n",
       "    </tr>\n",
       "  </thead>\n",
       "  <tbody>\n",
       "    <tr>\n",
       "      <th>0</th>\n",
       "      <td>Donald Trump</td>\n",
       "      <td>@realDonaldTrump</td>\n",
       "      <td>Truth Social</td>\n",
       "      <td>https://truthsocial.com/@realDonaldTrump/posts...</td>\n",
       "      <td>Adam “Shifty” Schiff is in BIG TROUBLE! He fal...</td>\n",
       "      <td>2025-07-20 20:53:00</td>\n",
       "      <td>8</td>\n",
       "      <td>Topic 9: biden-border-joe</td>\n",
       "      <td>0.363033</td>\n",
       "      <td>0.224121</td>\n",
       "      <td>...</td>\n",
       "      <td>0.113687</td>\n",
       "      <td>0.004762</td>\n",
       "      <td>0.004762</td>\n",
       "      <td>0.004763</td>\n",
       "      <td>0.363033</td>\n",
       "      <td>0.270586</td>\n",
       "      <td>20</td>\n",
       "      <td>Sunday</td>\n",
       "      <td>7</td>\n",
       "      <td>2025-07</td>\n",
       "    </tr>\n",
       "    <tr>\n",
       "      <th>1</th>\n",
       "      <td>Donald Trump</td>\n",
       "      <td>@realDonaldTrump</td>\n",
       "      <td>Truth Social</td>\n",
       "      <td>https://truthsocial.com/@realDonaldTrump/posts...</td>\n",
       "      <td>Go get the GREAT NEW BOOK by Mark Levin. It’s ...</td>\n",
       "      <td>2025-07-20 20:06:00</td>\n",
       "      <td>4</td>\n",
       "      <td>Topic 5: news-fake-new</td>\n",
       "      <td>0.637996</td>\n",
       "      <td>0.009091</td>\n",
       "      <td>...</td>\n",
       "      <td>0.637996</td>\n",
       "      <td>0.009093</td>\n",
       "      <td>0.289263</td>\n",
       "      <td>0.009094</td>\n",
       "      <td>0.009091</td>\n",
       "      <td>0.009095</td>\n",
       "      <td>20</td>\n",
       "      <td>Sunday</td>\n",
       "      <td>7</td>\n",
       "      <td>2025-07</td>\n",
       "    </tr>\n",
       "    <tr>\n",
       "      <th>2</th>\n",
       "      <td>Donald Trump</td>\n",
       "      <td>@realDonaldTrump</td>\n",
       "      <td>Truth Social</td>\n",
       "      <td>https://truthsocial.com/@realDonaldTrump/posts...</td>\n",
       "      <td>HOW DID SAMANTHA POWER MAKE ALL OF THAT MONEY???</td>\n",
       "      <td>2025-07-20 19:56:00</td>\n",
       "      <td>4</td>\n",
       "      <td>Topic 5: news-fake-new</td>\n",
       "      <td>0.699954</td>\n",
       "      <td>0.033339</td>\n",
       "      <td>...</td>\n",
       "      <td>0.699954</td>\n",
       "      <td>0.033340</td>\n",
       "      <td>0.033333</td>\n",
       "      <td>0.033341</td>\n",
       "      <td>0.033339</td>\n",
       "      <td>0.033340</td>\n",
       "      <td>19</td>\n",
       "      <td>Sunday</td>\n",
       "      <td>7</td>\n",
       "      <td>2025-07</td>\n",
       "    </tr>\n",
       "    <tr>\n",
       "      <th>3</th>\n",
       "      <td>Donald Trump</td>\n",
       "      <td>@realDonaldTrump</td>\n",
       "      <td>Truth Social</td>\n",
       "      <td>https://truthsocial.com/@realDonaldTrump/posts...</td>\n",
       "      <td>Watch Mark Levin on FoxNews! NOW!!!</td>\n",
       "      <td>2025-07-20 19:53:00</td>\n",
       "      <td>4</td>\n",
       "      <td>Topic 5: news-fake-new</td>\n",
       "      <td>0.419999</td>\n",
       "      <td>0.020000</td>\n",
       "      <td>...</td>\n",
       "      <td>0.419999</td>\n",
       "      <td>0.020003</td>\n",
       "      <td>0.419997</td>\n",
       "      <td>0.020000</td>\n",
       "      <td>0.020001</td>\n",
       "      <td>0.020000</td>\n",
       "      <td>19</td>\n",
       "      <td>Sunday</td>\n",
       "      <td>7</td>\n",
       "      <td>2025-07</td>\n",
       "    </tr>\n",
       "    <tr>\n",
       "      <th>4</th>\n",
       "      <td>Donald Trump</td>\n",
       "      <td>@realDonaldTrump</td>\n",
       "      <td>Truth Social</td>\n",
       "      <td>https://truthsocial.com/@realDonaldTrump/posts...</td>\n",
       "      <td>“Greatest Bitcoin explanation of all time”</td>\n",
       "      <td>2025-07-20 18:50:00</td>\n",
       "      <td>4</td>\n",
       "      <td>Topic 5: news-fake-new</td>\n",
       "      <td>0.699972</td>\n",
       "      <td>0.033338</td>\n",
       "      <td>...</td>\n",
       "      <td>0.699972</td>\n",
       "      <td>0.033337</td>\n",
       "      <td>0.033334</td>\n",
       "      <td>0.033344</td>\n",
       "      <td>0.033334</td>\n",
       "      <td>0.033336</td>\n",
       "      <td>18</td>\n",
       "      <td>Sunday</td>\n",
       "      <td>7</td>\n",
       "      <td>2025-07</td>\n",
       "    </tr>\n",
       "  </tbody>\n",
       "</table>\n",
       "<p>5 rows × 23 columns</p>\n",
       "</div>"
      ],
      "text/plain": [
       "        speaker            handle      platform  \\\n",
       "0  Donald Trump  @realDonaldTrump  Truth Social   \n",
       "1  Donald Trump  @realDonaldTrump  Truth Social   \n",
       "2  Donald Trump  @realDonaldTrump  Truth Social   \n",
       "3  Donald Trump  @realDonaldTrump  Truth Social   \n",
       "4  Donald Trump  @realDonaldTrump  Truth Social   \n",
       "\n",
       "                                            post_url  \\\n",
       "0  https://truthsocial.com/@realDonaldTrump/posts...   \n",
       "1  https://truthsocial.com/@realDonaldTrump/posts...   \n",
       "2  https://truthsocial.com/@realDonaldTrump/posts...   \n",
       "3  https://truthsocial.com/@realDonaldTrump/posts...   \n",
       "4  https://truthsocial.com/@realDonaldTrump/posts...   \n",
       "\n",
       "                                        content_text         date_parsed  \\\n",
       "0  Adam “Shifty” Schiff is in BIG TROUBLE! He fal... 2025-07-20 20:53:00   \n",
       "1  Go get the GREAT NEW BOOK by Mark Levin. It’s ... 2025-07-20 20:06:00   \n",
       "2   HOW DID SAMANTHA POWER MAKE ALL OF THAT MONEY??? 2025-07-20 19:56:00   \n",
       "3                Watch Mark Levin on FoxNews! NOW!!! 2025-07-20 19:53:00   \n",
       "4         “Greatest Bitcoin explanation of all time” 2025-07-20 18:50:00   \n",
       "\n",
       "   dominant_topic                 topic_name  topic_confidence  topic_1_prob  \\\n",
       "0               8  Topic 9: biden-border-joe          0.363033      0.224121   \n",
       "1               4     Topic 5: news-fake-new          0.637996      0.009091   \n",
       "2               4     Topic 5: news-fake-new          0.699954      0.033339   \n",
       "3               4     Topic 5: news-fake-new          0.419999      0.020000   \n",
       "4               4     Topic 5: news-fake-new          0.699972      0.033338   \n",
       "\n",
       "   ...  topic_5_prob  topic_6_prob  topic_7_prob  topic_8_prob  topic_9_prob  \\\n",
       "0  ...      0.113687      0.004762      0.004762      0.004763      0.363033   \n",
       "1  ...      0.637996      0.009093      0.289263      0.009094      0.009091   \n",
       "2  ...      0.699954      0.033340      0.033333      0.033341      0.033339   \n",
       "3  ...      0.419999      0.020003      0.419997      0.020000      0.020001   \n",
       "4  ...      0.699972      0.033337      0.033334      0.033344      0.033334   \n",
       "\n",
       "   topic_10_prob  hour  day_of_week  month  year_month  \n",
       "0       0.270586    20       Sunday      7     2025-07  \n",
       "1       0.009095    20       Sunday      7     2025-07  \n",
       "2       0.033340    19       Sunday      7     2025-07  \n",
       "3       0.020000    19       Sunday      7     2025-07  \n",
       "4       0.033336    18       Sunday      7     2025-07  \n",
       "\n",
       "[5 rows x 23 columns]"
      ]
     },
     "execution_count": 2,
     "metadata": {},
     "output_type": "execute_result"
    }
   ],
   "source": [
    "# Load the topic modeling results\n",
    "print(\"📊 Loading topic modeling data...\")\n",
    "\n",
    "# Load posts with topics\n",
    "df = pd.read_csv('../data/truth_social_posts_with_topics.csv')\n",
    "df['date_parsed'] = pd.to_datetime(df['date_parsed'])\n",
    "\n",
    "# Load topic summary\n",
    "with open('../data/topic_modeling_summary.json', 'r') as f:\n",
    "    topic_summary = json.load(f)\n",
    "\n",
    "print(f\"✅ Loaded {len(df):,} posts with topic assignments\")\n",
    "print(f\"📅 Date range: {df['date_parsed'].min()} to {df['date_parsed'].max()}\")\n",
    "\n",
    "# Extract topic probability columns\n",
    "topic_prob_cols = [col for col in df.columns if col.startswith('topic_') and col.endswith('_prob')]\n",
    "print(f\"🎯 Found {len(topic_prob_cols)} topic probability columns\")\n",
    "\n",
    "df.head()\n"
   ]
  },
  {
   "cell_type": "code",
   "execution_count": 3,
   "metadata": {
    "execution": {
     "iopub.execute_input": "2025-07-20T07:46:32.761641Z",
     "iopub.status.busy": "2025-07-20T07:46:32.761506Z",
     "iopub.status.idle": "2025-07-20T07:46:32.765105Z",
     "shell.execute_reply": "2025-07-20T07:46:32.764725Z"
    }
   },
   "outputs": [
    {
     "name": "stdout",
     "output_type": "stream",
     "text": [
      "🎨 Preparing topic information for visualization...\n",
      "📋 Topic Information:\n",
      "   Topic 1: tariff-canada-country (243 posts, 13.4%)\n",
      "   Topic 2: dollar-billion-tax (160 posts, 8.8%)\n",
      "   Topic 3: war-thank-deal (239 posts, 13.2%)\n",
      "   Topic 4: secure-energy-complete (106 posts, 5.8%)\n",
      "   Topic 5: news-fake-new (190 posts, 10.5%)\n",
      "   Topic 6: good-order-elon (187 posts, 10.3%)\n",
      "   Topic 7: announce-pleased-pleased announce (202 posts, 11.1%)\n",
      "   Topic 8: house-white-white house (174 posts, 9.6%)\n",
      "   Topic 9: biden-border-joe (147 posts, 8.1%)\n",
      "   Topic 10: republican-democrat-judge (169 posts, 9.3%)\n"
     ]
    }
   ],
   "source": [
    "# Prepare topic information for visualization\n",
    "print(\"🎨 Preparing topic information for visualization...\")\n",
    "\n",
    "# Create topic color mapping\n",
    "n_topics = len(topic_prob_cols)\n",
    "colors = px.colors.qualitative.Set3[:n_topics]  # Use qualitative colors\n",
    "\n",
    "# Create topic information dictionary\n",
    "topic_info = {}\n",
    "for topic_key, topic_data in topic_summary['topics'].items():\n",
    "    topic_id = topic_data['id']\n",
    "    topic_info[topic_id] = {\n",
    "        'name': topic_data['name'],\n",
    "        'short_name': topic_data['name'].split(': ')[1] if ': ' in topic_data['name'] else topic_data['name'],\n",
    "        'top_words': ', '.join(topic_data['top_words'][:5]),\n",
    "        'num_posts': topic_data['num_posts'],\n",
    "        'percentage': topic_data['percentage'],\n",
    "        'color': colors[topic_id]\n",
    "    }\n",
    "\n",
    "print(\"📋 Topic Information:\")\n",
    "for topic_id, info in topic_info.items():\n",
    "    print(f\"   Topic {topic_id + 1}: {info['short_name']} ({info['num_posts']} posts, {info['percentage']:.1f}%)\")\n"
   ]
  },
  {
   "cell_type": "code",
   "execution_count": 4,
   "metadata": {
    "execution": {
     "iopub.execute_input": "2025-07-20T07:46:32.766614Z",
     "iopub.status.busy": "2025-07-20T07:46:32.766486Z",
     "iopub.status.idle": "2025-07-20T07:46:32.770471Z",
     "shell.execute_reply": "2025-07-20T07:46:32.770075Z"
    }
   },
   "outputs": [
    {
     "name": "stdout",
     "output_type": "stream",
     "text": [
      "🔍 Preparing data for dimensionality reduction...\n",
      "📊 Topic probability matrix shape: (1817, 10)\n",
      "✅ Data prepared for dimensionality reduction\n",
      "   Original dimensions: 10D\n",
      "   Target dimensions: 3D\n"
     ]
    }
   ],
   "source": [
    "# Extract topic probability matrix for dimensionality reduction\n",
    "print(\"🔍 Preparing data for dimensionality reduction...\")\n",
    "\n",
    "# Get topic probability matrix\n",
    "topic_probs = df[topic_prob_cols].values\n",
    "print(f\"📊 Topic probability matrix shape: {topic_probs.shape}\")\n",
    "\n",
    "# Standardize the data (optional, but can help)\n",
    "scaler = StandardScaler()\n",
    "topic_probs_scaled = scaler.fit_transform(topic_probs)\n",
    "\n",
    "print(f\"✅ Data prepared for dimensionality reduction\")\n",
    "print(f\"   Original dimensions: {topic_probs.shape[1]}D\")\n",
    "print(f\"   Target dimensions: 3D\")\n"
   ]
  },
  {
   "cell_type": "code",
   "execution_count": 5,
   "metadata": {
    "execution": {
     "iopub.execute_input": "2025-07-20T07:46:32.772147Z",
     "iopub.status.busy": "2025-07-20T07:46:32.772002Z",
     "iopub.status.idle": "2025-07-20T07:46:38.803850Z",
     "shell.execute_reply": "2025-07-20T07:46:38.803384Z"
    }
   },
   "outputs": [
    {
     "name": "stdout",
     "output_type": "stream",
     "text": [
      "🗺️ Applying UMAP dimensionality reduction...\n"
     ]
    },
    {
     "name": "stderr",
     "output_type": "stream",
     "text": [
      "/Users/ronan/Developer/truth-social-extractor/venv/lib/python3.9/site-packages/umap/umap_.py:1952: UserWarning: n_jobs value 1 overridden to 1 by setting random_state. Use no seed for parallelism.\n",
      "  warn(\n"
     ]
    },
    {
     "name": "stdout",
     "output_type": "stream",
     "text": [
      "✅ UMAP completed!\n",
      "   3D coordinates shape: (1817, 3)\n",
      "   X range: [-6.89, 16.96]\n",
      "   Y range: [-6.07, 36.25]\n",
      "   Z range: [-6.56, 11.60]\n"
     ]
    }
   ],
   "source": [
    "# Apply UMAP for 3D dimensionality reduction\n",
    "print(\"🗺️ Applying UMAP dimensionality reduction...\")\n",
    "\n",
    "# Try importing UMAP from the correct location to avoid AttributeError\n",
    "try:\n",
    "    UMAP = umap.UMAP\n",
    "except AttributeError:\n",
    "    try:\n",
    "        from umap.umap_ import UMAP\n",
    "    except ImportError:\n",
    "        raise ImportError(\n",
    "            \"UMAP could not be imported. Please ensure the 'umap-learn' package is installed.\"\n",
    "        )\n",
    "else:\n",
    "    # If import from umap.UMAP works, alias it for consistency\n",
    "    from types import SimpleNamespace\n",
    "    UMAP = umap.UMAP\n",
    "\n",
    "# UMAP parameters for good 3D clustering\n",
    "umap_3d = UMAP(\n",
    "    n_components=3,\n",
    "    n_neighbors=15,  # Balance between local and global structure\n",
    "    min_dist=0.1,    # Minimum distance between points\n",
    "    metric='cosine', # Good for probability distributions\n",
    "    random_state=42\n",
    ")\n",
    "\n",
    "# Fit and transform\n",
    "umap_coords = umap_3d.fit_transform(topic_probs_scaled)\n",
    "\n",
    "print(f\"✅ UMAP completed!\")\n",
    "print(f\"   3D coordinates shape: {umap_coords.shape}\")\n",
    "print(f\"   X range: [{umap_coords[:, 0].min():.2f}, {umap_coords[:, 0].max():.2f}]\")\n",
    "print(f\"   Y range: [{umap_coords[:, 1].min():.2f}, {umap_coords[:, 1].max():.2f}]\")\n",
    "print(f\"   Z range: [{umap_coords[:, 2].min():.2f}, {umap_coords[:, 2].max():.2f}]\")\n",
    "\n",
    "# Add coordinates to dataframe\n",
    "df['x_3d'] = umap_coords[:, 0]\n",
    "df['y_3d'] = umap_coords[:, 1]\n",
    "df['z_3d'] = umap_coords[:, 2]\n"
   ]
  },
  {
   "cell_type": "code",
   "execution_count": 6,
   "metadata": {
    "execution": {
     "iopub.execute_input": "2025-07-20T07:46:38.806307Z",
     "iopub.status.busy": "2025-07-20T07:46:38.806137Z",
     "iopub.status.idle": "2025-07-20T07:46:38.834362Z",
     "shell.execute_reply": "2025-07-20T07:46:38.834067Z"
    }
   },
   "outputs": [
    {
     "name": "stdout",
     "output_type": "stream",
     "text": [
      "📝 Creating hover text with post content...\n",
      "✅ Hover text created for 1817 posts\n",
      "\n",
      "📋 Sample hover text:\n",
      "<b>Date:</b> 2025-07-20 20:53<br><b>Topic:</b> biden-border-joe (Confidence: 0.363)<br><b>Content:</b><br>Adam “Shifty” Schiff is in BIG TROUBLE! He falsified Loan<br>Documents. He once said my son would go to prison on a SCAM<br>that Schiff, along with other Crooked Dems, illegally<br>“manufactured” in order to s...<br><b>Speaker:</b> Donald Trump\n"
     ]
    }
   ],
   "source": [
    "# Create hover text with post content and topic information\n",
    "print(\"📝 Creating hover text with post content...\")\n",
    "\n",
    "import textwrap\n",
    "\n",
    "def create_hover_text(row, wrap_width=60):\n",
    "    \"\"\"Create rich hover text for each post with multiline content and text wrapping\"\"\"\n",
    "    # Truncate content if too long\n",
    "    content = row['content_text']\n",
    "    if len(content) > 200:\n",
    "        content = content[:200] + \"...\"\n",
    "    \n",
    "    # Wrap the content to avoid overflow in hover\n",
    "    wrapped_lines = textwrap.wrap(content, width=wrap_width)\n",
    "    # Join wrapped lines with <br> for multiline display in hover\n",
    "    content_multiline = \"<br>\".join(wrapped_lines)\n",
    "    \n",
    "    # Get topic info\n",
    "    topic_id = row['dominant_topic']\n",
    "    topic_name = topic_info[topic_id]['short_name']\n",
    "    confidence = row['topic_confidence']\n",
    "    \n",
    "    # Format date\n",
    "    date_str = row['date_parsed'].strftime('%Y-%m-%d %H:%M')\n",
    "    \n",
    "    hover_text = (\n",
    "        f\"<b>Date:</b> {date_str}<br>\"\n",
    "        f\"<b>Topic:</b> {topic_name} (Confidence: {confidence:.3f})<br>\"\n",
    "        f\"<b>Content:</b><br>{content_multiline}<br>\"\n",
    "        f\"<b>Speaker:</b> {row['speaker']}\"\n",
    "    )\n",
    "    \n",
    "    return hover_text\n",
    "\n",
    "# Apply to dataframe\n",
    "df['hover_text'] = df.apply(create_hover_text, axis=1)\n",
    "\n",
    "print(f\"✅ Hover text created for {len(df)} posts\")\n",
    "print(\"\\n📋 Sample hover text:\")\n",
    "print(df['hover_text'].iloc[0])\n"
   ]
  },
  {
   "cell_type": "code",
   "execution_count": 7,
   "metadata": {
    "execution": {
     "iopub.execute_input": "2025-07-20T07:46:38.835820Z",
     "iopub.status.busy": "2025-07-20T07:46:38.835719Z",
     "iopub.status.idle": "2025-07-20T07:46:38.970170Z",
     "shell.execute_reply": "2025-07-20T07:46:38.969785Z"
    }
   },
   "outputs": [
    {
     "name": "stdout",
     "output_type": "stream",
     "text": [
      "🎨 Creating 3D interactive scatter plot...\n",
      "✅ 3D scatter plot created!\n",
      "   📊 1817 posts plotted across 10 topics\n",
      "   🖱️  Interactive features:\n",
      "      - Hover over points to see post content\n",
      "      - Click and drag to rotate the plot\n",
      "      - Scroll to zoom in/out\n",
      "      - Click legend items to show/hide topics\n"
     ]
    },
    {
     "data": {
      "application/vnd.plotly.v1+json": {
       "config": {
        "plotlyServerURL": "https://plot.ly"
       },
       "data": [
        {
         "hoverinfo": "text",
         "hovertemplate": "%{text}<extra></extra>",
         "marker": {
          "color": "rgb(141,211,199)",
          "line": {
           "color": "darkgray",
           "width": 0.5
          },
          "opacity": 0.8,
          "size": 5
         },
         "mode": "markers",
         "name": "Topic 1: tariff-canada-country",
         "text": [
          "<b>Date:</b> 2025-07-20 15:37<br><b>Topic:</b> tariff-canada-country (Confidence: 0.509)<br><b>Content:</b><br>The Wall Street Journal ran a typically untruthful story<br>today by saying that Secretary of the Treasury, Scott<br>Bessent, explained to me that firing Jerome “Too Late”<br>Powell, the Worst Federal Reserve ...<br><b>Speaker:</b> Donald Trump",
          "<b>Date:</b> 2025-07-19 22:07<br><b>Topic:</b> tariff-canada-country (Confidence: 0.100)<br><b>Content:</b><br>\"BLOCKBUSTER SCANDAL\"<br><b>Speaker:</b> Donald Trump",
          "<b>Date:</b> 2025-07-18 18:51<br><b>Topic:</b> tariff-canada-country (Confidence: 0.449)<br><b>Content:</b><br>BREAKING NEWS: We have just filed a POWERHOUSE Lawsuit<br>against everyone involved in publishing the false,<br>malicious, defamatory, FAKE NEWS “article” in the useless<br>“rag” that is, The Wall Street Journ...<br><b>Speaker:</b> Donald Trump",
          "<b>Date:</b> 2025-07-18 18:51<br><b>Topic:</b> tariff-canada-country (Confidence: 0.449)<br><b>Content:</b><br>BREAKING NEWS: We have just filed a POWERHOUSE Lawsuit<br>against everyone involved in publishing the false,<br>malicious, defamatory, FAKE NEWS “article” in the useless<br>“rag” that is, The Wall Street Journ...<br><b>Speaker:</b> Donald Trump",
          "<b>Date:</b> 2025-07-17 21:57<br><b>Topic:</b> tariff-canada-country (Confidence: 0.477)<br><b>Content:</b><br>The Wall Street Journal printed a FAKE letter, supposedly to<br>Epstein. These are not my words, not the way I talk. Also, I<br>don’t draw pictures. I told Rupert Murdoch it was a Scam,<br>that he shouldn’t pr...<br><b>Speaker:</b> Donald Trump",
          "<b>Date:</b> 2025-07-17 21:57<br><b>Topic:</b> tariff-canada-country (Confidence: 0.477)<br><b>Content:</b><br>The Wall Street Journal printed a FAKE letter, supposedly to<br>Epstein. These are not my words, not the way I talk. Also, I<br>don’t draw pictures. I told Rupert Murdoch it was a Scam,<br>that he shouldn’t pr...<br><b>Speaker:</b> Donald Trump",
          "<b>Date:</b> 2025-07-17 20:33<br><b>Topic:</b> tariff-canada-country (Confidence: 0.663)<br><b>Content:</b><br>The Wall Street Journal, and Rupert Murdoch, personally,<br>were warned directly by President Donald J. Trump that the<br>supposed letter they printed by President Trump to Epstein<br>was a FAKE and, if they p...<br><b>Speaker:</b> Donald Trump",
          "<b>Date:</b> 2025-07-17 20:33<br><b>Topic:</b> tariff-canada-country (Confidence: 0.663)<br><b>Content:</b><br>The Wall Street Journal, and Rupert Murdoch, personally,<br>were warned directly by President Donald J. Trump that the<br>supposed letter they printed by President Trump to Epstein<br>was a FAKE and, if they p...<br><b>Speaker:</b> Donald Trump",
          "<b>Date:</b> 2025-07-14 07:46<br><b>Topic:</b> tariff-canada-country (Confidence: 0.504)<br><b>Content:</b><br>The United States of America has been ripped off on TRADE<br>(and MILITARY!), by friend and foe, alike, for DECADES. It<br>has come at a cost of TRILLIONS OF DOLLARS, and it is just<br>not sustainable any long...<br><b>Speaker:</b> Donald Trump",
          "<b>Date:</b> 2025-07-11 11:19<br><b>Topic:</b> tariff-canada-country (Confidence: 0.550)<br><b>Content:</b><br>We're the hottest Country anywhere in the world!<br><b>Speaker:</b> Donald Trump",
          "<b>Date:</b> 2025-07-09 20:29<br><b>Topic:</b> tariff-canada-country (Confidence: 0.434)<br><b>Content:</b><br>I am announcing a 50% TARIFF on Copper, effective August 1,<br>2025, after receiving a robust NATIONAL SECURITY ASSESSMENT.<br>Copper is necessary for Semiconductors, Aircraft, Ships,<br>Ammunition, Data Cente...<br><b>Speaker:</b> Donald Trump",
          "<b>Date:</b> 2025-07-09 16:03<br><b>Topic:</b> tariff-canada-country (Confidence: 0.401)<br><b>Content:</b><br>Secretary Lori Chavez-DeRemer: “The promises made by<br>President Trump was that he was going to pay attention to<br>the American worker, and that's why you're seeing American-<br>born jobs be increased...under...<br><b>Speaker:</b> Donald Trump",
          "<b>Date:</b> 2025-07-09 16:00<br><b>Topic:</b> tariff-canada-country (Confidence: 0.821)<br><b>Content:</b><br>\"I love the border policy. I love the tax policy. I love the<br>foreign policy. America is no longer a joke — America is<br>taken seriously.\"<br><b>Speaker:</b> Donald Trump",
          "<b>Date:</b> 2025-07-09 15:59<br><b>Topic:</b> tariff-canada-country (Confidence: 0.723)<br><b>Content:</b><br>\"High Hopes for Local Aluminum Plant\"\"Since its expansion,<br>Rosemount business is adding needed domestic aluminum supply<br>in face of tariffs.\"<br><b>Speaker:</b> Donald Trump",
          "<b>Date:</b> 2025-07-09 13:49<br><b>Topic:</b> tariff-canada-country (Confidence: 0.627)<br><b>Content:</b><br>RT@rapidresponse47President@realDonaldTrumpis already<br>working very hard in favor of peace throughout the world<br>with no distinction, no regard to what continent it's on...<br>and our world needs more peac...<br><b>Speaker:</b> Donald Trump",
          "<b>Date:</b> 2025-07-09 10:30<br><b>Topic:</b> tariff-canada-country (Confidence: 0.630)<br><b>Content:</b><br>“Golden Age: Trump Stacks Up MAGA Wins in First Six Months”<br><b>Speaker:</b> Donald Trump",
          "<b>Date:</b> 2025-07-08 21:54<br><b>Topic:</b> tariff-canada-country (Confidence: 0.443)<br><b>Content:</b><br>The great Gary Player, winner of over 150 golf tournaments,<br>and 9 Majors, plus many tournaments and Majors on the Senior<br>Tour. Based on his incredible record, only Tiger and Jack,<br>two truly incredible...<br><b>Speaker:</b> Donald Trump",
          "<b>Date:</b> 2025-07-08 15:12<br><b>Topic:</b> tariff-canada-country (Confidence: 0.820)<br><b>Content:</b><br>Secretary Wright: “The whole Administration—led by President<br>Trump, is all-in on keeping gasoline prices down, diesel<br>prices down...”<br><b>Speaker:</b> Donald Trump",
          "<b>Date:</b> 2025-07-03 11:18<br><b>Topic:</b> tariff-canada-country (Confidence: 0.523)<br><b>Content:</b><br>We brought the price of Eggs back to what they were supposed<br>to be. When I took over on January 20th, the Fake News was<br>screaming that, “Egg prices have gone through the roof,<br>quadrupled,” they said. ...<br><b>Speaker:</b> Donald Trump",
          "<b>Date:</b> 2025-07-03 09:41<br><b>Topic:</b> tariff-canada-country (Confidence: 0.775)<br><b>Content:</b><br>What a great night it was. One of the most consequential<br>Bills ever. The USA is the “HOTTEST” Country in the World,<br>by far!!!<br><b>Speaker:</b> Donald Trump",
          "<b>Date:</b> 2025-07-03 09:36<br><b>Topic:</b> tariff-canada-country (Confidence: 0.423)<br><b>Content:</b><br>“This is good news; much better than expected.\"\"In our<br>survey, economists were looking for [the unemployment rate]<br>to climb up to 4.3 — It comes in at 4.1.\"\"Jobless claims —<br>Much lower than expected.\"<br><b>Speaker:</b> Donald Trump",
          "<b>Date:</b> 2025-07-02 08:58<br><b>Topic:</b> tariff-canada-country (Confidence: 0.501)<br><b>Content:</b><br>EPA Administrator, Lee Zeldin: “Don't you love the fact we<br>have this President who wants to unleash American energy<br>dominance? He wants America to be the AI capital of the<br>world, he wants to advance p...<br><b>Speaker:</b> Donald Trump",
          "<b>Date:</b> 2025-07-02 08:55<br><b>Topic:</b> tariff-canada-country (Confidence: 0.576)<br><b>Content:</b><br>“GAS PRICES FALL”“GAS PRICES FALL BELOW $2.70 ON FIRST<br>COAST”“HOLIDAY GAS PRICES LOWEST SINCE 2021”“GAS PRICES HIT<br>4-YEAR-LOW AHEAD OF JULY 4 HOLIDAY WEEKEND”<br><b>Speaker:</b> Donald Trump",
          "<b>Date:</b> 2025-07-01 14:30<br><b>Topic:</b> tariff-canada-country (Confidence: 0.387)<br><b>Content:</b><br>I am thrilled to announce that I will be traveling to one of<br>my favorite places in the World, beautiful Iowa, on<br>Thursday, July 3rd, to kick off the very beginning of our<br>exciting Celebration of Ameri...<br><b>Speaker:</b> Donald Trump",
          "<b>Date:</b> 2025-06-30 18:08<br><b>Topic:</b> tariff-canada-country (Confidence: 0.550)<br><b>Content:</b><br>“U.S. TARIFF REVENUE”<br><b>Speaker:</b> Donald Trump",
          "<b>Date:</b> 2025-06-29 13:11<br><b>Topic:</b> tariff-canada-country (Confidence: 0.434)<br><b>Content:</b><br>Sen. Katie Britt: “At the end of the day, we know we have to<br>deliver results. The president ran on this—He said we’re<br>going to change America for the better!”<br><b>Speaker:</b> Donald Trump",
          "<b>Date:</b> 2025-06-27 13:44<br><b>Topic:</b> tariff-canada-country (Confidence: 0.595)<br><b>Content:</b><br>We have just been informed that Canada, a very difficult<br>Country to TRADE with, including the fact that they have<br>charged our Farmers as much as 400% Tariffs, for years, on<br>Dairy Products, has just an...<br><b>Speaker:</b> Donald Trump",
          "<b>Date:</b> 2025-06-26 09:13<br><b>Topic:</b> tariff-canada-country (Confidence: 0.910)<br><b>Content:</b><br>The cars and small trucks at the site were those of concrete<br>workers trying to cover up the top of the shafts. Nothing<br>was taken out of facility. Would take too long, too<br>dangerous, and very heavy and...<br><b>Speaker:</b> Donald Trump",
          "<b>Date:</b> 2025-06-24 20:30<br><b>Topic:</b> tariff-canada-country (Confidence: 0.616)<br><b>Content:</b><br>Steve Witkoff: “We put 12 bunker buster bombs on Fordow.<br>There's no doubt that it breached the canopy...and there's<br>no doubt that it was OBLITERATED. So, the reporting out<br>there that in some way sugge...<br><b>Speaker:</b> Donald Trump",
          "<b>Date:</b> 2025-06-24 15:09<br><b>Topic:</b> tariff-canada-country (Confidence: 0.100)<br><b>Content:</b><br>RT@rapidresponse47President@realDonaldTrumpgreets King<br>Willem-Alexander and Queen Máxima of the Netherlands<br><b>Speaker:</b> Donald Trump",
          "<b>Date:</b> 2025-06-24 09:14<br><b>Topic:</b> tariff-canada-country (Confidence: 0.396)<br><b>Content:</b><br>China can now continue to purchase Oil from Iran. Hopefully,<br>they will be purchasing plenty from the U.S., also. It was<br>my Great Honor to make this happen!<br><b>Speaker:</b> Donald Trump",
          "<b>Date:</b> 2025-06-19 19:03<br><b>Topic:</b> tariff-canada-country (Confidence: 0.670)<br><b>Content:</b><br>Too many non-working holidays in America. It is costing our<br>Country $BILLIONS OF DOLLARS to keep all of these businesses<br>closed. The workers don’t want it either! Soon we’ll end up<br>having a holiday fo...<br><b>Speaker:</b> Donald Trump",
          "<b>Date:</b> 2025-06-19 13:27<br><b>Topic:</b> tariff-canada-country (Confidence: 0.700)<br><b>Content:</b><br>YOU EARNED IT, YOU KEEP IT—NO TAX ON TIPS!<br><b>Speaker:</b> Donald Trump",
          "<b>Date:</b> 2025-06-19 09:05<br><b>Topic:</b> tariff-canada-country (Confidence: 0.789)<br><b>Content:</b><br>The Wall Street Journal has No Idea what my thoughts are<br>concerning Iran!<br><b>Speaker:</b> Donald Trump",
          "<b>Date:</b> 2025-06-17 12:22<br><b>Topic:</b> tariff-canada-country (Confidence: 0.100)<br><b>Content:</b><br>UNCONDITIONAL SURRENDER!<br><b>Speaker:</b> Donald Trump",
          "<b>Date:</b> 2025-06-17 01:15<br><b>Topic:</b> tariff-canada-country (Confidence: 0.648)<br><b>Content:</b><br>Publicity seeking President Emmanuel Macron, of France,<br>mistakenly said that I left the G7 Summit, in Canada, to go<br>back to D.C. to work on a “cease fire” between Israel and<br>Iran. Wrong! He has no ide...<br><b>Speaker:</b> Donald Trump",
          "<b>Date:</b> 2025-06-11 09:03<br><b>Topic:</b> tariff-canada-country (Confidence: 0.632)<br><b>Content:</b><br>Adding to the China readout, President XI and I are going to<br>work closely together to open up China to American Trade.<br>This would be a great WIN for both countries!!!<br><b>Speaker:</b> Donald Trump",
          "<b>Date:</b> 2025-06-10 20:24<br><b>Topic:</b> tariff-canada-country (Confidence: 0.320)<br><b>Content:</b><br>It's a beautiful sight to be with you in a place called Fort<br>Bragg…<br><b>Speaker:</b> Donald Trump",
          "<b>Date:</b> 2025-06-09 00:19<br><b>Topic:</b> tariff-canada-country (Confidence: 0.100)<br><b>Content:</b><br>ARREST THE PEOPLE IN FACE MASKS, NOW!<br><b>Speaker:</b> Donald Trump",
          "<b>Date:</b> 2025-06-06 18:24<br><b>Topic:</b> tariff-canada-country (Confidence: 0.406)<br><b>Content:</b><br>“TRADE DEFICIT SHRINKS BY MORE THAN HALF”<br><b>Speaker:</b> Donald Trump",
          "<b>Date:</b> 2025-06-06 07:45<br><b>Topic:</b> tariff-canada-country (Confidence: 0.538)<br><b>Content:</b><br>Prices are down, income is up, our Border is closed,<br>gasoline is CHEAP, inflation is DEAD — Our Country is<br>BOOMING! Companies are pouring into America like never<br>before!<br><b>Speaker:</b> Donald Trump",
          "<b>Date:</b> 2025-06-04 02:17<br><b>Topic:</b> tariff-canada-country (Confidence: 0.634)<br><b>Content:</b><br>I like President XI of China, always have, and always will,<br>but he is VERY TOUGH, AND EXTREMELY HARD TO MAKE A DEAL<br>WITH!!!<br><b>Speaker:</b> Donald Trump",
          "<b>Date:</b> 2025-06-03 00:59<br><b>Topic:</b> tariff-canada-country (Confidence: 0.700)<br><b>Content:</b><br>Because of Tariffs, our Economy is BOOMING!<br><b>Speaker:</b> Donald Trump",
          "<b>Date:</b> 2025-06-02 19:25<br><b>Topic:</b> tariff-canada-country (Confidence: 0.549)<br><b>Content:</b><br>If other Countries are allowed to use Tariffs against us,<br>and we’re not allowed to counter them, quickly and nimbly,<br>with Tariffs against them, our Country doesn’t have, even a<br>small chance, of Econom...<br><b>Speaker:</b> Donald Trump",
          "<b>Date:</b> 2025-06-01 13:58<br><b>Topic:</b> tariff-canada-country (Confidence: 0.563)<br><b>Content:</b><br>If the Courts somehow rule against us on Tariffs, which is<br>not expected, that would allow other Countries to hold our<br>Nation hostage with their anti-American Tariffs that they<br>would use against us. Th...<br><b>Speaker:</b> Donald Trump",
          "<b>Date:</b> 2025-06-01 12:38<br><b>Topic:</b> tariff-canada-country (Confidence: 0.460)<br><b>Content:</b><br>With the help of Patriots like you, we're going to produce<br>our own metal, unleash our own energy, secure our own<br>future, build our Country, control our destiny and we are<br>once again going to put Penns...<br><b>Speaker:</b> Donald Trump",
          "<b>Date:</b> 2025-05-31 19:53<br><b>Topic:</b> tariff-canada-country (Confidence: 0.670)<br><b>Content:</b><br>Like the other two, TIPS AND OVERTIME, No Tax on Social<br>Security is being done also, but in a different form, a<br>large deduction after which many will have no tax to pay.<br>Thank you!<br><b>Speaker:</b> Donald Trump",
          "<b>Date:</b> 2025-05-31 09:15<br><b>Topic:</b> tariff-canada-country (Confidence: 0.525)<br><b>Content:</b><br>For generations, the workers of this region have always been<br>there for our country when we needed you most. You built<br>this Country…Under our leadership, we are making it richer,<br>stronger, and more pow...<br><b>Speaker:</b> Donald Trump",
          "<b>Date:</b> 2025-05-30 20:14<br><b>Topic:</b> tariff-canada-country (Confidence: 0.774)<br><b>Content:</b><br>We don’t want America’s future to be built with shoddy steel<br>from Shanghai—we want it built with the strength and the<br>pride of Pittsburgh!<br><b>Speaker:</b> Donald Trump",
          "<b>Date:</b> 2025-05-30 19:16<br><b>Topic:</b> tariff-canada-country (Confidence: 0.590)<br><b>Content:</b><br>It is my great honor to raise the Tariffs on steel and<br>aluminum from 25% to 50%, effective Wednesday, June 4th. Our<br>steel and aluminum industries are coming back like never<br>before. This will be yet an...<br><b>Speaker:</b> Donald Trump",
          "<b>Date:</b> 2025-05-30 17:20<br><b>Topic:</b> tariff-canada-country (Confidence: 0.367)<br><b>Content:</b><br>Join me LIVE—at U.S. Steel in Pittsburgh!<br><b>Speaker:</b> Donald Trump",
          "<b>Date:</b> 2025-05-30 08:09<br><b>Topic:</b> tariff-canada-country (Confidence: 0.360)<br><b>Content:</b><br>Two weeks ago China was in grave economic danger! The very<br>high Tariffs I set made it virtually impossible for China to<br>TRADE into the United States marketplace which is, by far,<br>number one in the Wor...<br><b>Speaker:</b> Donald Trump",
          "<b>Date:</b> 2025-05-27 18:02<br><b>Topic:</b> tariff-canada-country (Confidence: 0.618)<br><b>Content:</b><br>Nobody has done more for Alaska than your Favorite<br>President, DONALD J. TRUMP. However, the Biden/Harris<br>Administration terminated MUCH of our good, JOB producing<br>product. I am working very hard to ga...<br><b>Speaker:</b> Donald Trump",
          "<b>Date:</b> 2025-05-27 17:41<br><b>Topic:</b> tariff-canada-country (Confidence: 0.526)<br><b>Content:</b><br>I told Canada, which very much wants to be part of our<br>fabulous Golden Dome System, that it will cost $61 Billion<br>Dollars if they remain a separate, but unequal, Nation, but<br>will cost ZERO DOLLARS if ...<br><b>Speaker:</b> Donald Trump",
          "<b>Date:</b> 2025-05-26 08:42<br><b>Topic:</b> tariff-canada-country (Confidence: 0.459)<br><b>Content:</b><br>We are still waiting for the Foreign Student Lists from<br>Harvard so that we can determine, after a ridiculous<br>expenditure of BILLIONS OF DOLLARS, how many radicalized<br>lunatics, troublemakers all, shoul...<br><b>Speaker:</b> Donald Trump",
          "<b>Date:</b> 2025-05-26 08:27<br><b>Topic:</b> tariff-canada-country (Confidence: 0.493)<br><b>Content:</b><br>I am considering taking Three Billion Dollars of Grant Money<br>away from a very antisemitic Harvard, and giving it to TRADE<br>SCHOOLS all across our land. What a great investment that<br>would be for the USA...<br><b>Speaker:</b> Donald Trump",
          "<b>Date:</b> 2025-05-26 08:17<br><b>Topic:</b> tariff-canada-country (Confidence: 0.495)<br><b>Content:</b><br>Our Nation is staging one if the greatest and fastest<br>comebacks in history. In just 4 short months, we are<br>respected again, respected like never before, and just wait,<br>with many Trillions of Dollars o...<br><b>Speaker:</b> Donald Trump",
          "<b>Date:</b> 2025-05-25 00:51<br><b>Topic:</b> tariff-canada-country (Confidence: 0.768)<br><b>Content:</b><br>Why isn’t Harvard saying that almost 31% of their students<br>are from FOREIGN LANDS, and yet those countries, some not at<br>all friendly to the United States, pay NOTHING toward their<br>student’s education,...<br><b>Speaker:</b> Donald Trump",
          "<b>Date:</b> 2025-05-23 15:25<br><b>Topic:</b> tariff-canada-country (Confidence: 0.369)<br><b>Content:</b><br>I am proud to announce that, after much consideration and<br>negotiation, US Steel will REMAIN in America, and keep its<br>Headquarters in the Great City of Pittsburgh. For many<br>years, the name, “United Sta...<br><b>Speaker:</b> Donald Trump",
          "<b>Date:</b> 2025-05-23 07:43<br><b>Topic:</b> tariff-canada-country (Confidence: 0.601)<br><b>Content:</b><br>The European Union, which was formed for the primary purpose<br>of taking advantage of the United States on TRADE, has been<br>very difficult to deal with. Their powerful Trade Barriers,<br>Vat Taxes, ridiculo...<br><b>Speaker:</b> Donald Trump",
          "<b>Date:</b> 2025-05-23 05:59<br><b>Topic:</b> tariff-canada-country (Confidence: 0.540)<br><b>Content:</b><br>Our negotiated deal with the United Kingdom is working out<br>well for all. I strongly recommend to them, however, that in<br>order to get their Energy Costs down, they stop with the<br>costly and unsightly wi...<br><b>Speaker:</b> Donald Trump",
          "<b>Date:</b> 2025-05-21 18:26<br><b>Topic:</b> tariff-canada-country (Confidence: 0.367)<br><b>Content:</b><br>The Golden Dome Missile Defense Shield!<br><b>Speaker:</b> Donald Trump",
          "<b>Date:</b> 2025-05-19 01:34<br><b>Topic:</b> tariff-canada-country (Confidence: 0.337)<br><b>Content:</b><br>HOW MUCH DID KAMALA HARRIS PAY BRUCE SPRINGSTEEN FOR HIS<br>POOR PERFORMANCE DURING HER CAMPAIGN FOR PRESIDENT? WHY DID<br>HE ACCEPT THAT MONEY IF HE IS SUCH A FAN OF HERS? ISN’T THAT<br>A MAJOR AND ILLEGAL CA...<br><b>Speaker:</b> Donald Trump",
          "<b>Date:</b> 2025-05-17 10:27<br><b>Topic:</b> tariff-canada-country (Confidence: 0.700)<br><b>Content:</b><br>Walmart should STOP trying to blame Tariffs as the reason<br>for raising prices throughout the chain. Walmart made<br>BILLIONS OF DOLLARS last year, far more than expected.<br>Between Walmart and China they sh...<br><b>Speaker:</b> Donald Trump",
          "<b>Date:</b> 2025-05-16 18:46<br><b>Topic:</b> tariff-canada-country (Confidence: 0.550)<br><b>Content:</b><br>There has never been a trip like this by any President…<br><b>Speaker:</b> Donald Trump",
          "<b>Date:</b> 2025-05-13 23:56<br><b>Topic:</b> tariff-canada-country (Confidence: 0.100)<br><b>Content:</b><br>RT@IStandWithTrump47Thank you Sir!!!#MAGA#Truth#AmericaFirst<br><b>Speaker:</b> Donald Trump",
          "<b>Date:</b> 2025-05-13 23:54<br><b>Topic:</b> tariff-canada-country (Confidence: 0.550)<br><b>Content:</b><br>RT@IStandWithTrump47We love you<br>Sir!!!#Truth#MAGA#AmericaFirst🇺🇸<br><b>Speaker:</b> Donald Trump",
          "<b>Date:</b> 2025-05-13 15:51<br><b>Topic:</b> tariff-canada-country (Confidence: 0.550)<br><b>Content:</b><br>A great day in Saudi Arabia!!!<br><b>Speaker:</b> Donald Trump",
          "<b>Date:</b> 2025-05-13 03:27<br><b>Topic:</b> tariff-canada-country (Confidence: 0.100)<br><b>Content:</b><br>Just landed in Saudi Arabia!<br><b>Speaker:</b> Donald Trump",
          "<b>Date:</b> 2025-05-12 22:09<br><b>Topic:</b> tariff-canada-country (Confidence: 0.940)<br><b>Content:</b><br>RT@realDonaldTrumpWe are going to slash the cost of<br>prescription drugs, and we will bring fairness to America.<br>Drug prices will come down—We're gonna cut out the middlemen<br>and facilitate the direct sa...<br><b>Speaker:</b> Donald Trump",
          "<b>Date:</b> 2025-05-12 16:55<br><b>Topic:</b> tariff-canada-country (Confidence: 0.940)<br><b>Content:</b><br>We are going to slash the cost of prescription drugs, and we<br>will bring fairness to America. Drug prices will come<br>down—We're gonna cut out the middlemen and facilitate the<br>direct sale of drugs at the...<br><b>Speaker:</b> Donald Trump",
          "<b>Date:</b> 2025-05-12 13:04<br><b>Topic:</b> tariff-canada-country (Confidence: 0.313)<br><b>Content:</b><br>This week the Republicans are meeting in the Tax, Energy,<br>and Agriculture Committees on major pieces of “THE ONE, BIG,<br>BEAUTIFUL BILL.” Republicans need to UNIFY behind their<br>Highly Respected Chairmen...<br><b>Speaker:</b> Donald Trump",
          "<b>Date:</b> 2025-05-12 12:34<br><b>Topic:</b> tariff-canada-country (Confidence: 0.536)<br><b>Content:</b><br>For the first time in many years, we'll slash the cost of<br>prescription drugs, and we will bring fairness to America!<br>EXECUTIVE ORDER:<br><b>Speaker:</b> Donald Trump",
          "<b>Date:</b> 2025-05-12 12:28<br><b>Topic:</b> tariff-canada-country (Confidence: 0.918)<br><b>Content:</b><br>Dr. Jay Bhattacharya: \"What President Trump has done is a<br>historic measure that should have been done a long time ago.<br>What we're going to do is make sure that those prices become<br>much closer to equal...<br><b>Speaker:</b> Donald Trump",
          "<b>Date:</b> 2025-05-12 06:24<br><b>Topic:</b> tariff-canada-country (Confidence: 0.514)<br><b>Content:</b><br>DRUG PRICES TO BE CUT BY 59%, PLUS! Gasoline, Energy,<br>Groceries, and all other costs, DOWN. NO INFLATION!!! LOVE,<br>DJT<br><b>Speaker:</b> Donald Trump",
          "<b>Date:</b> 2025-05-11 18:22<br><b>Topic:</b> tariff-canada-country (Confidence: 0.607)<br><b>Content:</b><br>For many years the World has wondered why Prescription Drugs<br>and Pharmaceuticals in the United States States of America<br>were SO MUCH HIGHER IN PRICE THAN THEY WERE IN ANY OTHER<br>NATION, SOMETIMES BEING...<br><b>Speaker:</b> Donald Trump",
          "<b>Date:</b> 2025-05-11 09:26<br><b>Topic:</b> tariff-canada-country (Confidence: 0.550)<br><b>Content:</b><br>RT@mrddmia🚨Now tech bros are going to attempt to steal<br>creators’ copyrights for AI profits.This is 100%<br>unacceptable.<br><b>Speaker:</b> Donald Trump",
          "<b>Date:</b> 2025-05-09 12:18<br><b>Topic:</b> tariff-canada-country (Confidence: 0.529)<br><b>Content:</b><br>I highly recommend Keith Poole, who is the very successful<br>Editor-in-Chief of the New York Post, to take over the<br>entire operation of the highly inaccurate, “China Centric,”<br>Wall Street Journal. It’s ...<br><b>Speaker:</b> Donald Trump",
          "<b>Date:</b> 2025-05-09 07:26<br><b>Topic:</b> tariff-canada-country (Confidence: 0.620)<br><b>Content:</b><br>80% Tariff on China seems right! Up to Scott B.<br><b>Speaker:</b> Donald Trump",
          "<b>Date:</b> 2025-05-09 07:21<br><b>Topic:</b> tariff-canada-country (Confidence: 0.733)<br><b>Content:</b><br>CHINA SHOULD OPEN UP ITS MARKET TO USA — WOULD BE SO GOOD<br>FOR THEM!!! CLOSED MARKETS DON’T WORK ANYMORE!!!<br><b>Speaker:</b> Donald Trump",
          "<b>Date:</b> 2025-05-08 06:15<br><b>Topic:</b> tariff-canada-country (Confidence: 0.820)<br><b>Content:</b><br>The Golden Age of America is coming!<br><b>Speaker:</b> Donald Trump",
          "<b>Date:</b> 2025-05-06 14:55<br><b>Topic:</b> tariff-canada-country (Confidence: 0.550)<br><b>Content:</b><br>“𝗔𝗺𝗲𝗿𝗶𝗰𝗮𝗻 𝗠𝗮𝗻𝘂𝗳𝗮𝗰𝘁𝘂𝗿𝗲𝗿𝘀 𝗢𝘃𝗲𝗿𝘄𝗵𝗲𝗹𝗺𝗲𝗱 𝗪𝗶𝘁𝗵 𝗢𝗿𝗱𝗲𝗿𝘀 𝗔𝗳𝘁𝗲𝗿<br>𝗧𝗿𝘂𝗺𝗽’𝘀 𝗧𝗮𝗿𝗶𝗳𝗳 𝗖𝗿𝗮𝗰𝗸𝗱𝗼𝘄𝗻 𝗢𝗻 𝗖𝗵𝗶𝗻𝗮”“American manufacturers<br>are seeing a surge in demand as President Donald Trump’s<br>tariffs force companies to reco...<br><b>Speaker:</b> Donald Trump",
          "<b>Date:</b> 2025-05-06 14:36<br><b>Topic:</b> tariff-canada-country (Confidence: 0.673)<br><b>Content:</b><br>Charles Payne: \"I was in Louisiana this year—you have all<br>this natural gas and guess what? You've got these large<br>companies that are coming to Louisiana to build data<br>centers... that's been the messag...<br><b>Speaker:</b> Donald Trump",
          "<b>Date:</b> 2025-05-05 10:08<br><b>Topic:</b> tariff-canada-country (Confidence: 0.887)<br><b>Content:</b><br>“Small businesses are back in the driver's seat thanks to<br>President Trump and his belief in the American worker,<br>American industry, and Main Street.”<br><b>Speaker:</b> Donald Trump",
          "<b>Date:</b> 2025-05-04 19:18<br><b>Topic:</b> tariff-canada-country (Confidence: 0.661)<br><b>Content:</b><br>The Movie Industry in America is DYING a very fast death.<br>Other Countries are offering all sorts of incentives to draw<br>our filmmakers and studios away from the United States.<br>Hollywood, and many other...<br><b>Speaker:</b> Donald Trump",
          "<b>Date:</b> 2025-05-02 07:25<br><b>Topic:</b> tariff-canada-country (Confidence: 0.850)<br><b>Content:</b><br>We are going to be taking away Harvard’s Tax Exempt Status.<br>It’s what they deserve!<br><b>Speaker:</b> Donald Trump",
          "<b>Date:</b> 2025-05-01 22:34<br><b>Topic:</b> tariff-canada-country (Confidence: 0.493)<br><b>Content:</b><br>Many of our allies and friends are celebrating May 8th as<br>Victory Day, but we did more than any other Country, by far,<br>in producing a victorious result on World War II. I am<br>hereby renaming May 8th as...<br><b>Speaker:</b> Donald Trump",
          "<b>Date:</b> 2025-04-29 11:47<br><b>Topic:</b> tariff-canada-country (Confidence: 0.548)<br><b>Content:</b><br>President Donald Trump once said, ‘No dream is too big. No<br>challenge is too great. Nothing we want for our future is<br>beyond our reach.’ At 100 days of his second term, the<br>president is proving that’s ...<br><b>Speaker:</b> Donald Trump",
          "<b>Date:</b> 2025-04-29 11:28<br><b>Topic:</b> tariff-canada-country (Confidence: 0.497)<br><b>Content:</b><br>“When Americans evaluate a presidency, we ask a simple<br>question: ‘Am I better off now than I was before?’ This<br>question reflects on our personal finances, job security,<br>safety, and confidence in our n...<br><b>Speaker:</b> Donald Trump",
          "<b>Date:</b> 2025-04-29 11:19<br><b>Topic:</b> tariff-canada-country (Confidence: 0.463)<br><b>Content:</b><br>Secretary Burgum: \"POTUS has been incredibly focused on<br>energy because he understands that energy's not just one<br>industry; it's the foundation of all other industries. The<br>food on your table, the gas ...<br><b>Speaker:</b> Donald Trump",
          "<b>Date:</b> 2025-04-29 10:55<br><b>Topic:</b> tariff-canada-country (Confidence: 0.700)<br><b>Content:</b><br>\"He is the most consequential American leader of the 21st<br>Century, and that's an understatement.\"<br><b>Speaker:</b> Donald Trump",
          "<b>Date:</b> 2025-04-29 10:29<br><b>Topic:</b> tariff-canada-country (Confidence: 0.476)<br><b>Content:</b><br>Senator Bill Hagerty: \"This has been the most effective,<br>most impactful in a positive sense 100 days in my<br>lifetime...In November of last year, 75% of the American<br>public felt that this nation was on ...<br><b>Speaker:</b> Donald Trump",
          "<b>Date:</b> 2025-04-28 09:49<br><b>Topic:</b> tariff-canada-country (Confidence: 0.517)<br><b>Content:</b><br>Join me tomorrow, April 29th—in Warren, Michigan at 6:00PM<br>Eastern! Tickets:<br><b>Speaker:</b> Donald Trump",
          "<b>Date:</b> 2025-04-28 08:36<br><b>Topic:</b> tariff-canada-country (Confidence: 0.388)<br><b>Content:</b><br>Good luck to the Great people of Canada. Elect the man who<br>has the strength and wisdom to cut your taxes in half,<br>increase your military power, for free, to the highest level<br>in the World, have your C...<br><b>Speaker:</b> Donald Trump",
          "<b>Date:</b> 2025-04-25 17:40<br><b>Topic:</b> tariff-canada-country (Confidence: 0.100)<br><b>Content:</b><br>Just landed in Italy!<br><b>Speaker:</b> Donald Trump",
          "<b>Date:</b> 2025-04-25 14:34<br><b>Topic:</b> tariff-canada-country (Confidence: 0.100)<br><b>Content:</b><br>A MUST READ!<br><b>Speaker:</b> Donald Trump",
          "<b>Date:</b> 2025-04-24 10:43<br><b>Topic:</b> tariff-canada-country (Confidence: 0.487)<br><b>Content:</b><br>Boeing should default China for not taking the beautifully<br>finished planes that China committed to purchase. This is<br>just a small example of what China has done to the USA, for<br>years… And, by the way,...<br><b>Speaker:</b> Donald Trump",
          "<b>Date:</b> 2025-04-24 09:54<br><b>Topic:</b> tariff-canada-country (Confidence: 0.583)<br><b>Content:</b><br>Rupert Murdoch has told me for years that he is going to get<br>rid of his FoxNews, Trump Hating, Fake Pollster, but he has<br>never done so. This “pollster” has gotten me, and MAGA,<br>wrong for years. Also, ...<br><b>Speaker:</b> Donald Trump",
          "<b>Date:</b> 2025-04-24 09:33<br><b>Topic:</b> tariff-canada-country (Confidence: 0.386)<br><b>Content:</b><br>Harvard is an Anti-Semitic, Far Left Institution, as are<br>numerous others, with students being accepted from all over<br>the World that want to rip our Country apart. The place is a<br>Liberal mess, allowing...<br><b>Speaker:</b> Donald Trump",
          "<b>Date:</b> 2025-04-24 07:36<br><b>Topic:</b> tariff-canada-country (Confidence: 0.850)<br><b>Content:</b><br>Gas and grocery prices are WAY DOWN, just like I said they<br>would be. Eggs are plentiful, and down 87%. NICE!<br><b>Speaker:</b> Donald Trump",
          "<b>Date:</b> 2025-04-20 17:13<br><b>Topic:</b> tariff-canada-country (Confidence: 0.683)<br><b>Content:</b><br>NON-TARIFF CHEATING:1. Currency Manipulation2. VATs which<br>act as tariffs and export subsidies3. Dumping Below Cost4.<br>Export Subsidies and Other Govt. Subsidies5. Protective<br>Agricultural Standards (e.g...<br><b>Speaker:</b> Donald Trump",
          "<b>Date:</b> 2025-04-20 17:12<br><b>Topic:</b> tariff-canada-country (Confidence: 0.832)<br><b>Content:</b><br>Since our announcement of LIBERATION DAY, many World Leaders<br>and Business Executives have come to me asking for relief<br>from Tariffs. It’s good to see that the World knows we are<br>serious, because WE AR...<br><b>Speaker:</b> Donald Trump",
          "<b>Date:</b> 2025-04-20 17:11<br><b>Topic:</b> tariff-canada-country (Confidence: 0.550)<br><b>Content:</b><br>\"A Gift from China\" in the Pacific Ocean!<br><b>Speaker:</b> Donald Trump",
          "<b>Date:</b> 2025-04-20 09:57<br><b>Topic:</b> tariff-canada-country (Confidence: 0.820)<br><b>Content:</b><br>We are, together, going to make America bigger, better,<br>stronger, wealthier, healthier, and more religious, than it<br>has ever been before!!! DONALD J. TRUMP, PRESIDENT OF THE<br>UNITED STATES OF AMERICA!!...<br><b>Speaker:</b> Donald Trump",
          "<b>Date:</b> 2025-04-16 07:05<br><b>Topic:</b> tariff-canada-country (Confidence: 0.272)<br><b>Content:</b><br>Everyone knows that Harvard has “lost its way.” They hired,<br>from New York (Bill D) and Chicago (Lori L), at ridiculously<br>high salaries/fees, two of the WORST and MOST INCOMPETENT<br>mayors in the history...<br><b>Speaker:</b> Donald Trump",
          "<b>Date:</b> 2025-04-15 23:31<br><b>Topic:</b> tariff-canada-country (Confidence: 0.424)<br><b>Content:</b><br>The United States is taking in RECORD NUMBERS in Tariffs,<br>with the cost of almost all products going down, including<br>gasoline, groceries, and just about everything else.<br>Likewise, INFLATION is down. P...<br><b>Speaker:</b> Donald Trump",
          "<b>Date:</b> 2025-04-15 07:36<br><b>Topic:</b> tariff-canada-country (Confidence: 0.587)<br><b>Content:</b><br>NVIDIA COMMITS 500 BILLION DOLLARS TO BUILD A.I.<br>SUPERCOMPUTERS, PLUS, IN THE UNITED STATES, EXCLUSIVELY.<br>This is very big and exciting news. All necessary permits<br>will be expedited and quickly delive...<br><b>Speaker:</b> Donald Trump",
          "<b>Date:</b> 2025-04-13 15:36<br><b>Topic:</b> tariff-canada-country (Confidence: 0.645)<br><b>Content:</b><br>NOBODY is getting “off the hook” for the unfair Trade<br>Balances, and Non Monetary Tariff Barriers, that other<br>Countries have used against us, especially not China which,<br>by far, treats us the worst! Th...<br><b>Speaker:</b> Donald Trump",
          "<b>Date:</b> 2025-04-11 19:45<br><b>Topic:</b> tariff-canada-country (Confidence: 0.573)<br><b>Content:</b><br>How could we be expected to go to South Africa for the very<br>important G20 Meeting when Land Confiscation and Genocide is<br>the primary topic of conversation? They are taking the land<br>of white Farmers, a...<br><b>Speaker:</b> Donald Trump",
          "<b>Date:</b> 2025-04-11 12:25<br><b>Topic:</b> tariff-canada-country (Confidence: 0.661)<br><b>Content:</b><br>Stuart Varney: “This week, President Trump dominated the<br>world stage. He stamped his influence on markets and<br>economies everywhere. I've been doing this for 50 years and<br>I can't remember a week quite ...<br><b>Speaker:</b> Donald Trump",
          "<b>Date:</b> 2025-04-11 09:20<br><b>Topic:</b> tariff-canada-country (Confidence: 0.637)<br><b>Content:</b><br>We are doing really well on our TARIFF POLICY. Very exciting<br>for America, and the World!!! It is moving along quickly.<br>DJT<br><b>Speaker:</b> Donald Trump",
          "<b>Date:</b> 2025-04-10 00:45<br><b>Topic:</b> tariff-canada-country (Confidence: 0.775)<br><b>Content:</b><br>What a day, but more great days coming!!!<br><b>Speaker:</b> Donald Trump",
          "<b>Date:</b> 2025-04-09 09:33<br><b>Topic:</b> tariff-canada-country (Confidence: 0.820)<br><b>Content:</b><br>BE COOL! Everything is going to work out well. The USA will<br>be bigger and better than ever before!<br><b>Speaker:</b> Donald Trump",
          "<b>Date:</b> 2025-04-09 09:25<br><b>Topic:</b> tariff-canada-country (Confidence: 0.303)<br><b>Content:</b><br>“Fixing Trade and Tariffs is a good thing!” Jamie Dimon,<br>JPMorgan Chase, Chairman & CEO, on Maria B Show!<br><b>Speaker:</b> Donald Trump",
          "<b>Date:</b> 2025-04-08 21:40<br><b>Topic:</b> tariff-canada-country (Confidence: 0.642)<br><b>Content:</b><br>I’m proud to be the President for the workers, not the<br>outsourcers; the President who stands up for Main Street,<br>not Wall Street; who protects the middle class, not the<br>political class; and who defend...<br><b>Speaker:</b> Donald Trump",
          "<b>Date:</b> 2025-04-07 15:07<br><b>Topic:</b> tariff-canada-country (Confidence: 0.679)<br><b>Content:</b><br>“What we're not talking about is, oil was $76, now it's $65.<br>Gasoline prices are going to plummet…”<br><b>Speaker:</b> Donald Trump",
          "<b>Date:</b> 2025-04-07 11:14<br><b>Topic:</b> tariff-canada-country (Confidence: 0.486)<br><b>Content:</b><br>Yesterday, China issued Retaliatory Tariffs of 34%, on top<br>of their already record setting Tariffs, Non-Monetary<br>Tariffs, Illegal Subsidization of companies, and massive<br>long term Currency Manipulatio...<br><b>Speaker:</b> Donald Trump",
          "<b>Date:</b> 2025-04-07 10:32<br><b>Topic:</b> tariff-canada-country (Confidence: 0.530)<br><b>Content:</b><br>“Rates are plummeting, oil prices are plummeting,<br>deregulation is happening. President Trump is not going to<br>bend...\"<br><b>Speaker:</b> Donald Trump",
          "<b>Date:</b> 2025-04-07 10:19<br><b>Topic:</b> tariff-canada-country (Confidence: 0.820)<br><b>Content:</b><br>“To see those plants close, one after another, and just sit<br>idle and then fall into disrepair and collapse, they become<br>abandoned buildings...I'm glad to see Donald Trump finally<br>standing up saying he...<br><b>Speaker:</b> Donald Trump",
          "<b>Date:</b> 2025-04-07 10:12<br><b>Topic:</b> tariff-canada-country (Confidence: 0.762)<br><b>Content:</b><br>“This is balancing our economy with countries that have<br>taken advantage of us. There are countries, for decades,<br>that have got rich over the backs of the workers here in<br>America…I applaud the Presiden...<br><b>Speaker:</b> Donald Trump",
          "<b>Date:</b> 2025-04-07 10:04<br><b>Topic:</b> tariff-canada-country (Confidence: 0.700)<br><b>Content:</b><br>This is NOT SUSTAINABLE! The United States can't lose $1.9<br>trillion on trade…<br><b>Speaker:</b> Donald Trump",
          "<b>Date:</b> 2025-04-07 09:27<br><b>Topic:</b> tariff-canada-country (Confidence: 0.384)<br><b>Content:</b><br>Countries from all over the World are talking to us. Tough<br>but fair parameters are being set. Spoke to the Japanese<br>Prime Minister this morning. He is sending a top team to<br>negotiate! They have treate...<br><b>Speaker:</b> Donald Trump",
          "<b>Date:</b> 2025-04-07 08:59<br><b>Topic:</b> tariff-canada-country (Confidence: 0.685)<br><b>Content:</b><br>The United States has a chance to do something that should<br>have been done DECADES AGO. Don’t be Weak! Don’t be Stupid!<br>Don’t be a PANICAN (A new party based on Weak and Stupid<br>people!). Be Strong, Cou...<br><b>Speaker:</b> Donald Trump",
          "<b>Date:</b> 2025-04-07 06:49<br><b>Topic:</b> tariff-canada-country (Confidence: 0.657)<br><b>Content:</b><br>Oil prices are down, interest rates are down (the slow<br>moving Fed should cut rates!), food prices are down, there<br>is NO INFLATION, and the long time abused USA is bringing in<br>Billions of Dollars a wee...<br><b>Speaker:</b> Donald Trump",
          "<b>Date:</b> 2025-04-06 19:20<br><b>Topic:</b> tariff-canada-country (Confidence: 0.403)<br><b>Content:</b><br>We have massive Financial Deficits with China, the European<br>Union, and many others. The only way this problem can be<br>cured is with TARIFFS, which are now bringing Tens of<br>Billions of Dollars into the ...<br><b>Speaker:</b> Donald Trump",
          "<b>Date:</b> 2025-04-05 17:30<br><b>Topic:</b> tariff-canada-country (Confidence: 0.775)<br><b>Content:</b><br>“We need Tariffs on China!” Gordon Chang<br><b>Speaker:</b> Donald Trump",
          "<b>Date:</b> 2025-04-05 08:34<br><b>Topic:</b> tariff-canada-country (Confidence: 0.962)<br><b>Content:</b><br>China has been hit much harder than the USA, not even close.<br>They, and many other nations, have treated us unsustainably<br>badly. We have been the dumb and helpless “whipping post,”<br>but not any longer. ...<br><b>Speaker:</b> Donald Trump",
          "<b>Date:</b> 2025-04-04 15:35<br><b>Topic:</b> tariff-canada-country (Confidence: 0.550)<br><b>Content:</b><br>ONLY THE WEAK WILL FAIL!<br><b>Speaker:</b> Donald Trump",
          "<b>Date:</b> 2025-04-04 09:25<br><b>Topic:</b> tariff-canada-country (Confidence: 0.775)<br><b>Content:</b><br>CHINA PLAYED IT WRONG, THEY PANICKED - THE ONE THING THEY<br>CANNOT AFFORD TO DO!<br><b>Speaker:</b> Donald Trump",
          "<b>Date:</b> 2025-04-04 09:07<br><b>Topic:</b> tariff-canada-country (Confidence: 0.887)<br><b>Content:</b><br>GREAT JOB NUMBERS, FAR BETTER THAN EXPECTED. IT’S ALREADY<br>WORKING. HANG TOUGH, WE CAN’T LOSE!!!<br><b>Speaker:</b> Donald Trump",
          "<b>Date:</b> 2025-04-03 23:32<br><b>Topic:</b> tariff-canada-country (Confidence: 0.100)<br><b>Content:</b><br>Championship golfers at Doral!!!<br><b>Speaker:</b> Donald Trump",
          "<b>Date:</b> 2025-04-03 15:17<br><b>Topic:</b> tariff-canada-country (Confidence: 0.550)<br><b>Content:</b><br>I think it’s going very well—The MARKETS are going to BOOM…<br><b>Speaker:</b> Donald Trump",
          "<b>Date:</b> 2025-04-03 13:04<br><b>Topic:</b> tariff-canada-country (Confidence: 0.648)<br><b>Content:</b><br>Senator Kennedy: “President Trump is saying that if you<br>foreign businesses want to sell in America, then move your<br>business here and hire American workers.\"<br><b>Speaker:</b> Donald Trump",
          "<b>Date:</b> 2025-04-03 08:33<br><b>Topic:</b> tariff-canada-country (Confidence: 0.850)<br><b>Content:</b><br>THE OPERATION IS OVER! THE PATIENT LIVED, AND IS HEALING.<br>THE PROGNOSIS IS THAT THE PATIENT WILL BE FAR STRONGER,<br>BIGGER, BETTER, AND MORE RESILIENT THAN EVER BEFORE. MAKE<br>AMERICA GREAT AGAIN!!!<br><b>Speaker:</b> Donald Trump",
          "<b>Date:</b> 2025-04-02 12:04<br><b>Topic:</b> tariff-canada-country (Confidence: 0.517)<br><b>Content:</b><br>“Trump's tariffs are saving the American steel industry”<br><b>Speaker:</b> Donald Trump",
          "<b>Date:</b> 2025-04-02 09:55<br><b>Topic:</b> tariff-canada-country (Confidence: 0.471)<br><b>Content:</b><br>“This is an exciting day, Liberation Day. This is the single<br>greatest salvation, for not just small businesses, but for<br>America. This country was traveling down an unsustainable<br>path, and President Tr...<br><b>Speaker:</b> Donald Trump",
          "<b>Date:</b> 2025-04-02 07:06<br><b>Topic:</b> tariff-canada-country (Confidence: 0.550)<br><b>Content:</b><br>IT’S LIBERATION DAY IN AMERICA!<br><b>Speaker:</b> Donald Trump",
          "<b>Date:</b> 2025-04-01 09:49<br><b>Topic:</b> tariff-canada-country (Confidence: 0.550)<br><b>Content:</b><br>“Trump is A Combination of Reagan and Churchill - Only<br>Better”<br><b>Speaker:</b> Donald Trump",
          "<b>Date:</b> 2025-03-31 20:04<br><b>Topic:</b> tariff-canada-country (Confidence: 0.518)<br><b>Content:</b><br>“IN A VICTORY FOR AUTOWORKERS, AUTO TARIFFS MARK THE<br>BEGINNING OF THE END OF NAFTA AND THE ‘FREE TRADE’ DISASTER”<br><b>Speaker:</b> Donald Trump",
          "<b>Date:</b> 2025-03-31 20:03<br><b>Topic:</b> tariff-canada-country (Confidence: 0.683)<br><b>Content:</b><br>“Trump tariff on Venezuelan oil buyers shakes global market,<br>major refiners pull back”<br><b>Speaker:</b> Donald Trump",
          "<b>Date:</b> 2025-03-31 20:02<br><b>Topic:</b> tariff-canada-country (Confidence: 0.700)<br><b>Content:</b><br>“Companies eye US expansion to lessen fallout from potential<br>tariffs”<br><b>Speaker:</b> Donald Trump",
          "<b>Date:</b> 2025-03-31 19:02<br><b>Topic:</b> tariff-canada-country (Confidence: 0.100)<br><b>Content:</b><br>“French shipping magnate Rodolphe Saadé pledges $20bn US<br>expansion in nod to Donald Trump”<br><b>Speaker:</b> Donald Trump",
          "<b>Date:</b> 2025-03-28 16:52<br><b>Topic:</b> tariff-canada-country (Confidence: 0.395)<br><b>Content:</b><br>My Administration is breaking all modern Presidential<br>Staffing Records since taking Office on January 20th. The<br>Presidential Personnel Office has made over 2,200 offers,<br>all accepted, to exceptionally...<br><b>Speaker:</b> Donald Trump",
          "<b>Date:</b> 2025-03-27 01:50<br><b>Topic:</b> tariff-canada-country (Confidence: 0.944)<br><b>Content:</b><br>If the European Union works with Canada in order to do<br>economic harm to the USA, large scale Tariffs, far larger<br>than currently planned, will be placed on them both in order<br>to protect the best friend...<br><b>Speaker:</b> Donald Trump",
          "<b>Date:</b> 2025-03-27 01:39<br><b>Topic:</b> tariff-canada-country (Confidence: 0.749)<br><b>Content:</b><br>LIBERATION DAY IN AMERICA IS COMING, SOON. FOR YEARS WE HAVE<br>BEEN RIPPED OFF BY VIRTUALLY EVERY COUNTRY IN THE WORLD,<br>BOTH FRIEND AND FOE. BUT THOSE DAYS ARE OVER — AMERICA<br>FIRST!!!<br><b>Speaker:</b> Donald Trump",
          "<b>Date:</b> 2025-03-26 20:39<br><b>Topic:</b> tariff-canada-country (Confidence: 0.460)<br><b>Content:</b><br>Throughout history—strong, tough, visionary women defended<br>our flags, strengthened our communities, explored new<br>frontiers, & expanded the American dream...Patriotic<br>American women like those in this ...<br><b>Speaker:</b> Donald Trump",
          "<b>Date:</b> 2025-03-26 11:37<br><b>Topic:</b> tariff-canada-country (Confidence: 0.871)<br><b>Content:</b><br>“Egg prices have definitely turned a corner...with large egg<br>prices, on average, down 59% since February 28th.\"<br><b>Speaker:</b> Donald Trump",
          "<b>Date:</b> 2025-03-24 20:37<br><b>Topic:</b> tariff-canada-country (Confidence: 0.524)<br><b>Content:</b><br>“On this day in 1945, 16,000 Allied airborne troops land<br>near Wesel Germany. Operation Varsity, the largest single-<br>day parachute and glider assault in history, succeeds in<br>securing a series of bridges...<br><b>Speaker:</b> Donald Trump",
          "<b>Date:</b> 2025-03-24 19:26<br><b>Topic:</b> tariff-canada-country (Confidence: 0.468)<br><b>Content:</b><br>BREAKING—LEE ZELDIN: “EPA is initiating 31 historic actions<br>to Power the Great American Comeback in the greatest day of<br>deregulation in American history! Our actions will unleash<br>energy dominance, low...<br><b>Speaker:</b> Donald Trump",
          "<b>Date:</b> 2025-03-23 11:26<br><b>Topic:</b> tariff-canada-country (Confidence: 0.700)<br><b>Content:</b><br>April 2nd, “LIBERATION DAY IN AMERICA!”<br><b>Speaker:</b> Donald Trump",
          "<b>Date:</b> 2025-03-22 18:40<br><b>Topic:</b> tariff-canada-country (Confidence: 0.100)<br><b>Content:</b><br>SUCH A CONFLICT OF INTEREST!<br><b>Speaker:</b> Donald Trump",
          "<b>Date:</b> 2025-03-21 18:33<br><b>Topic:</b> tariff-canada-country (Confidence: 0.801)<br><b>Content:</b><br>The 14th Amendment Right of American Citizenship never had<br>anything to do with modern day \"gate crashers,\" illegal<br>immigrants who break the Law by being in our Country, it had<br>everything to do with gi...<br><b>Speaker:</b> Donald Trump",
          "<b>Date:</b> 2025-03-21 10:01<br><b>Topic:</b> tariff-canada-country (Confidence: 0.700)<br><b>Content:</b><br>I Love King Charles. Sounds good to me!<br><b>Speaker:</b> Donald Trump",
          "<b>Date:</b> 2025-03-21 08:01<br><b>Topic:</b> tariff-canada-country (Confidence: 0.490)<br><b>Content:</b><br>April 2nd is Liberation Day in America!!! For DECADES we<br>have been ripped off and abused by every nation in the<br>World, both friend and foe. Now it is finally time for the<br>Good Ol’ USA to get some of t...<br><b>Speaker:</b> Donald Trump",
          "<b>Date:</b> 2025-03-20 23:47<br><b>Topic:</b> tariff-canada-country (Confidence: 0.523)<br><b>Content:</b><br>Egg prices are WAY DOWN from the Biden inspired prices if<br>just a few weeks ago. “Groceries” and Gasoline are down,<br>also. Now, if the Fed would do the right thing and lower<br>interest rates, that would b...<br><b>Speaker:</b> Donald Trump",
          "<b>Date:</b> 2025-03-19 22:10<br><b>Topic:</b> tariff-canada-country (Confidence: 0.597)<br><b>Content:</b><br>The Fed would be MUCH better off CUTTING RATES as<br>U.S.Tariffs start to transition (ease!) their way into the<br>economy. Do the right thing. April 2nd is Liberation Day in<br>America!!!<br><b>Speaker:</b> Donald Trump",
          "<b>Date:</b> 2025-03-19 15:53<br><b>Topic:</b> tariff-canada-country (Confidence: 0.100)<br><b>Content:</b><br>“TRUMP ON TESLA TERRORISM”<br><b>Speaker:</b> Donald Trump",
          "<b>Date:</b> 2025-03-18 21:27<br><b>Topic:</b> tariff-canada-country (Confidence: 0.517)<br><b>Content:</b><br>Philip K. Bell: “Trump's tariffs are saving the American<br>steel industry”<br><b>Speaker:</b> Donald Trump",
          "<b>Date:</b> 2025-03-17 18:46<br><b>Topic:</b> tariff-canada-country (Confidence: 0.399)<br><b>Content:</b><br>After years of being held captive by Environmental<br>Extremists, Lunatics, Radicals, and Thugs, allowing other<br>Countries, in particular China, to gain tremendous Economic<br>advantage over us by opening up...<br><b>Speaker:</b> Donald Trump",
          "<b>Date:</b> 2025-03-17 17:19<br><b>Topic:</b> tariff-canada-country (Confidence: 0.510)<br><b>Content:</b><br>April 2nd is Liberation Day for America, because we will<br>start taking back some of the vast wealth that has been<br>taken from us due to the many weak, incompetent, and perhaps<br>even dishonest politicians...<br><b>Speaker:</b> Donald Trump",
          "<b>Date:</b> 2025-03-14 08:23<br><b>Topic:</b> tariff-canada-country (Confidence: 0.700)<br><b>Content:</b><br>Our Economy will BOOM, like never before!<br><b>Speaker:</b> Donald Trump",
          "<b>Date:</b> 2025-03-13 09:50<br><b>Topic:</b> tariff-canada-country (Confidence: 0.850)<br><b>Content:</b><br>“Canada needs America, America does not need Canada.” Grant<br>Cardone of Cardone Capital, on Stuart Varney & Co.<br><b>Speaker:</b> Donald Trump",
          "<b>Date:</b> 2025-03-13 08:56<br><b>Topic:</b> tariff-canada-country (Confidence: 0.961)<br><b>Content:</b><br>The Globalist Wall Street Journal has no idea what they are<br>doing or saying. They are owned by the polluted thinking of<br>the European Union, which was formed for the primary purpose<br>of “screwing” the U...<br><b>Speaker:</b> Donald Trump",
          "<b>Date:</b> 2025-03-13 07:58<br><b>Topic:</b> tariff-canada-country (Confidence: 0.883)<br><b>Content:</b><br>The European Union, one of the most hostile and abusive<br>taxing and tariffing authorities in the World, which was<br>formed for the sole purpose of taking advantage of the<br>United States, has just put a na...<br><b>Speaker:</b> Donald Trump",
          "<b>Date:</b> 2025-03-12 16:23<br><b>Topic:</b> tariff-canada-country (Confidence: 0.576)<br><b>Content:</b><br>“GE Aerospace announced on Tuesday a nearly $1 billion<br>investment in U.S. manufacturing, the latest company to do<br>so under the Trump administration…It marks the latest<br>company to put money back into t...<br><b>Speaker:</b> Donald Trump",
          "<b>Date:</b> 2025-03-12 16:17<br><b>Topic:</b> tariff-canada-country (Confidence: 0.931)<br><b>Content:</b><br>Howard Lutnick: “What does the President want? He wants to<br>worry about major things for national security...these are<br>the kind of tariffs that are going to make sure these things<br>COME BACK TO AMERICA ...<br><b>Speaker:</b> Donald Trump",
          "<b>Date:</b> 2025-03-12 16:11<br><b>Topic:</b> tariff-canada-country (Confidence: 0.451)<br><b>Content:</b><br>“President Trump is delivering on his promise to put America<br>first and his actions today put the domestic steel industry<br>in a position to again be the envy of the world. We look<br>forward to continuing ...<br><b>Speaker:</b> Donald Trump",
          "<b>Date:</b> 2025-03-12 16:05<br><b>Topic:</b> tariff-canada-country (Confidence: 0.329)<br><b>Content:</b><br>Goldman Sachs CEO David Solomon: \"One of the things that I<br>do like is that the President is engaged with the business<br>community. The administration is engaged with the business<br>community — and that's ...<br><b>Speaker:</b> Donald Trump",
          "<b>Date:</b> 2025-03-12 16:02<br><b>Topic:</b> tariff-canada-country (Confidence: 0.463)<br><b>Content:</b><br>Kevin Hassett: \"The economic news we've been seeing is<br>really wonderful. It's way above expectations of<br>economists...10,000 manufacturing jobs, 9,000 auto<br>jobs...The lowest core inflation in four year...<br><b>Speaker:</b> Donald Trump",
          "<b>Date:</b> 2025-03-12 13:39<br><b>Topic:</b> tariff-canada-country (Confidence: 0.768)<br><b>Content:</b><br>JUDGE JEANINE: “THIS IS GOING TO BENEFIT THE AMERICAN<br>WORKER, AMERICAN MANUFACTURING, AND DOMESTIC PRODUCTION—AND<br>IT IS GOING TO PRESERVE JOBS!”<br><b>Speaker:</b> Donald Trump",
          "<b>Date:</b> 2025-03-12 11:31<br><b>Topic:</b> tariff-canada-country (Confidence: 0.550)<br><b>Content:</b><br>“TRUMP SHAKING UP BROKEN ECONOMIC SYSTEM”<br><b>Speaker:</b> Donald Trump",
          "<b>Date:</b> 2025-03-11 16:08<br><b>Topic:</b> tariff-canada-country (Confidence: 0.850)<br><b>Content:</b><br>The price of eggs have come down, interest rates have come<br>down, gasoline prices have come down—It's all coming down!<br>We're doing it the right way, and I have tremendous<br>confidence in this Country and...<br><b>Speaker:</b> Donald Trump",
          "<b>Date:</b> 2025-03-11 10:15<br><b>Topic:</b> tariff-canada-country (Confidence: 0.870)<br><b>Content:</b><br>Based on Ontario, Canada, placing a 25% Tariff on<br>“Electricity” coming into the United States, I have<br>instructed my Secretary of Commerce to add an ADDITIONAL 25%<br>Tariff, to 50%, on all STEEL and ALUM...<br><b>Speaker:</b> Donald Trump",
          "<b>Date:</b> 2025-03-10 23:18<br><b>Topic:</b> tariff-canada-country (Confidence: 0.862)<br><b>Content:</b><br>Despite the fact that Canada is charging the USA from 250%<br>to 390% Tariffs on many of our farm products, Ontario just<br>announced a 25% surcharge on “electricity,” of all things,<br>and your not even allow...<br><b>Speaker:</b> Donald Trump",
          "<b>Date:</b> 2025-03-10 17:56<br><b>Topic:</b> tariff-canada-country (Confidence: 0.850)<br><b>Content:</b><br>“Donald Trump attends Daytona 500 with loud cheers, says<br>NASCAR will 'fuel America's golden age'”<br><b>Speaker:</b> Donald Trump",
          "<b>Date:</b> 2025-03-09 22:57<br><b>Topic:</b> tariff-canada-country (Confidence: 0.491)<br><b>Content:</b><br>Malcolm Turnbull, the former Prime Minister of Australia who<br>was always leading that wonderful country from “behind,”<br>never understood what was going on in China, nor did he have<br>the capacity to do so...<br><b>Speaker:</b> Donald Trump",
          "<b>Date:</b> 2025-03-07 19:52<br><b>Topic:</b> tariff-canada-country (Confidence: 0.705)<br><b>Content:</b><br>Canada is cheating the United States Farmers on USMCA. In<br>2024, Canada retained Tariffs on various U.S. Goods,<br>particularly in protected sectors like Dairy that are<br>operated under a supply management ...<br><b>Speaker:</b> Donald Trump",
          "<b>Date:</b> 2025-03-07 09:05<br><b>Topic:</b> tariff-canada-country (Confidence: 0.621)<br><b>Content:</b><br>South Africa is being terrible, plus, to long time Farmers<br>in the country. They are confiscating their LAND and FARMS,<br>and MUCH WORSE THAN THAT. A bad place to be right now, and<br>we are stopping all Fe...<br><b>Speaker:</b> Donald Trump",
          "<b>Date:</b> 2025-03-05 13:07<br><b>Topic:</b> tariff-canada-country (Confidence: 0.428)<br><b>Content:</b><br>Justin Trudeau, of Canada, called me to ask what could be<br>done about Tariffs. I told him that many people have died<br>from Fentanyl that came through the Borders of Canada and<br>Mexico, and nothing has co...<br><b>Speaker:</b> Donald Trump",
          "<b>Date:</b> 2025-03-04 12:40<br><b>Topic:</b> tariff-canada-country (Confidence: 0.515)<br><b>Content:</b><br>Please explain to Governor Trudeau, of Canada, that when he<br>puts on a Retaliatory Tariff on the U.S., our Reciprocal<br>Tariff will immediately increase by a like amount!<br><b>Speaker:</b> Donald Trump",
          "<b>Date:</b> 2025-03-04 10:13<br><b>Topic:</b> tariff-canada-country (Confidence: 0.700)<br><b>Content:</b><br>IF COMPANIES MOVE TO THE UNITED STATES, THERE ARE NO<br>TARIFFS!!!<br><b>Speaker:</b> Donald Trump",
          "<b>Date:</b> 2025-03-04 09:42<br><b>Topic:</b> tariff-canada-country (Confidence: 0.552)<br><b>Content:</b><br>Canada doesn’t allow American Banks to do business in<br>Canada, but their banks flood the American Market. Oh, that<br>seems fair to me, doesn’t it?<br><b>Speaker:</b> Donald Trump",
          "<b>Date:</b> 2025-03-03 13:32<br><b>Topic:</b> tariff-canada-country (Confidence: 0.662)<br><b>Content:</b><br>To the Great Farmers of the United States: Get ready to<br>start making a lot of agricultural product to be sold INSIDE<br>of the United States. Tariffs will go on external product on<br>April 2nd. Have fun!<br><b>Speaker:</b> Donald Trump",
          "<b>Date:</b> 2025-03-02 21:20<br><b>Topic:</b> tariff-canada-country (Confidence: 0.769)<br><b>Content:</b><br>Exciting news! The Treasury Department has announced that<br>they are suspending all enforcement of the outrageous and<br>invasive Beneficial Ownership Information (BOI) reporting<br>requirement for U.S. Citiz...<br><b>Speaker:</b> Donald Trump",
          "<b>Date:</b> 2025-03-01 10:53<br><b>Topic:</b> tariff-canada-country (Confidence: 0.550)<br><b>Content:</b><br>“Donald Trump Finally Gets His Honeymoon”<br><b>Speaker:</b> Donald Trump",
          "<b>Date:</b> 2025-03-01 10:47<br><b>Topic:</b> tariff-canada-country (Confidence: 0.775)<br><b>Content:</b><br>“In his first three days, Trump disrupted America. Then he<br>turned to the world”<br><b>Speaker:</b> Donald Trump",
          "<b>Date:</b> 2025-02-26 18:08<br><b>Topic:</b> tariff-canada-country (Confidence: 0.430)<br><b>Content:</b><br>Wayne Gretzky is a fantastic guy! They call him, “The Great<br>One,” and he is. He could run for any political office in<br>Canada, and win. Wayne is my friend, and he wants to make me<br>happy, and is therefo...<br><b>Speaker:</b> Donald Trump",
          "<b>Date:</b> 2025-02-26 06:50<br><b>Topic:</b> tariff-canada-country (Confidence: 0.751)<br><b>Content:</b><br>I don’t understand The Wall Street Journal Editorial Board,<br>never have. They come to my aid when I least expect it,<br>sometimes strongly, and I greatly appreciate that — Very<br>meaningful! But then they c...<br><b>Speaker:</b> Donald Trump",
          "<b>Date:</b> 2025-02-25 18:05<br><b>Topic:</b> tariff-canada-country (Confidence: 0.518)<br><b>Content:</b><br>Like our Steel and Aluminum Industries, our Great American<br>Copper Industry has been decimated by global actors<br>attacking our domestic production. To build back our Copper<br>Industry, I have requested my...<br><b>Speaker:</b> Donald Trump",
          "<b>Date:</b> 2025-02-25 18:05<br><b>Topic:</b> tariff-canada-country (Confidence: 0.688)<br><b>Content:</b><br>Our incredible United States Economy and undeniable American<br>Spirit have enabled the creation of the Greatest Technology<br>Companies on Earth. Our Digital Economy is bigger than most<br>of the World’s Coun...<br><b>Speaker:</b> Donald Trump",
          "<b>Date:</b> 2025-02-19 21:13<br><b>Topic:</b> tariff-canada-country (Confidence: 0.525)<br><b>Content:</b><br>“Full List of Counties Donald Trump Flipped From Kamala<br>Harris”<br><b>Speaker:</b> Donald Trump",
          "<b>Date:</b> 2025-02-19 17:56<br><b>Topic:</b> tariff-canada-country (Confidence: 0.457)<br><b>Content:</b><br>The best and most successful business leaders on Earth are<br>now racing to invest in the United States. Since November,<br>DAMAC has announced plans to invest $40B in the U.S.,<br>creating at least 10,000 job...<br><b>Speaker:</b> Donald Trump",
          "<b>Date:</b> 2025-02-19 17:49<br><b>Topic:</b> tariff-canada-country (Confidence: 0.900)<br><b>Content:</b><br>If you want to build the future, there's no better place on<br>Earth than the United States of America—under a certain<br>President named Donald J. Trump.<br><b>Speaker:</b> Donald Trump",
          "<b>Date:</b> 2025-02-16 11:44<br><b>Topic:</b> tariff-canada-country (Confidence: 0.801)<br><b>Content:</b><br>The 14th Amendment Right of American Citizenship never had<br>anything to do with modern day \"gate crashers,\" illegal<br>immigrants who break the Law by being in our Country, it had<br>everything to do with gi...<br><b>Speaker:</b> Donald Trump",
          "<b>Date:</b> 2025-02-15 12:52<br><b>Topic:</b> tariff-canada-country (Confidence: 0.595)<br><b>Content:</b><br>On Trade, I have decided, for purposes of Fairness, that I<br>will charge a RECIPROCAL Tariff meaning, whatever Countries<br>charge the United States of America, we will charge them -<br>No more, no less!For p...<br><b>Speaker:</b> Donald Trump",
          "<b>Date:</b> 2025-02-15 12:48<br><b>Topic:</b> tariff-canada-country (Confidence: 0.850)<br><b>Content:</b><br>US will be 'flooded with jobs' as foreign nations avoid<br>tariffs, Trump says<br><b>Speaker:</b> Donald Trump",
          "<b>Date:</b> 2025-02-14 15:37<br><b>Topic:</b> tariff-canada-country (Confidence: 0.850)<br><b>Content:</b><br>“US will be 'flooded with jobs' as foreign nations avoid<br>tariffs, Trump says”<br><b>Speaker:</b> Donald Trump",
          "<b>Date:</b> 2025-02-14 15:36<br><b>Topic:</b> tariff-canada-country (Confidence: 0.605)<br><b>Content:</b><br>“Trump orders reciprocal tariffs on countries treating US<br>imports unfairly — with EU, India, Japan in crosshairs”<br><b>Speaker:</b> Donald Trump",
          "<b>Date:</b> 2025-02-14 15:33<br><b>Topic:</b> tariff-canada-country (Confidence: 0.291)<br><b>Content:</b><br>“Trump signs sweeping reciprocal tariff plan, says more<br>coming”<br><b>Speaker:</b> Donald Trump",
          "<b>Date:</b> 2025-02-13 22:20<br><b>Topic:</b> tariff-canada-country (Confidence: 0.404)<br><b>Content:</b><br>“RECIPROCAL TRADE AND TARIFFS”<br><b>Speaker:</b> Donald Trump",
          "<b>Date:</b> 2025-02-13 14:34<br><b>Topic:</b> tariff-canada-country (Confidence: 0.595)<br><b>Content:</b><br>On Trade, I have decided, for purposes of Fairness, that I<br>will charge a RECIPROCAL Tariff meaning, whatever Countries<br>charge the United States of America, we will charge them -<br>No more, no less!For p...<br><b>Speaker:</b> Donald Trump",
          "<b>Date:</b> 2025-02-10 18:35<br><b>Topic:</b> tariff-canada-country (Confidence: 0.820)<br><b>Content:</b><br>We're going to be BIGGER, BETTER, and STRONGER than ever<br>before!<br><b>Speaker:</b> Donald Trump",
          "<b>Date:</b> 2025-02-10 18:33<br><b>Topic:</b> tariff-canada-country (Confidence: 0.550)<br><b>Content:</b><br>We’re going back to plastic straws!<br><b>Speaker:</b> Donald Trump",
          "<b>Date:</b> 2025-02-09 14:58<br><b>Topic:</b> tariff-canada-country (Confidence: 0.648)<br><b>Content:</b><br>Bob Unanue: \"I love the President for his Courage,<br>Leadership, Love of Country, Love of us, Love of the most<br>vulnerable, Love of God and for leading America and the<br>World closer to HIM! Mr. President,...<br><b>Speaker:</b> Donald Trump",
          "<b>Date:</b> 2025-02-08 07:24<br><b>Topic:</b> tariff-canada-country (Confidence: 0.428)<br><b>Content:</b><br>Our Country is coming back faster than anyone thought<br>possible. We are respected all over the world, like never<br>before. ENJOY!!!<br><b>Speaker:</b> Donald Trump",
          "<b>Date:</b> 2025-02-07 15:06<br><b>Topic:</b> tariff-canada-country (Confidence: 0.486)<br><b>Content:</b><br>For nearly 80 years the American and Japanese people have<br>enjoyed a friendship like few others. After our meeting<br>today, I'm confident that the cherished alliances between<br>our two countries will conti...<br><b>Speaker:</b> Donald Trump",
          "<b>Date:</b> 2025-02-06 12:09<br><b>Topic:</b> tariff-canada-country (Confidence: 0.579)<br><b>Content:</b><br>After years of decline, Americans are re-asserting our true<br>identity as a people ordained by God to be the freest and<br>most exceptional nation ever to exist on the face of the<br>Earth.<br><b>Speaker:</b> Donald Trump",
          "<b>Date:</b> 2025-02-06 06:09<br><b>Topic:</b> tariff-canada-country (Confidence: 0.302)<br><b>Content:</b><br>CBS and 60 Minutes defrauded the public by doing something<br>which has never, to this extent, been seen before. They 100%<br>removed Kamala’s horrible election changing answers to<br>questions, and replaced t...<br><b>Speaker:</b> Donald Trump",
          "<b>Date:</b> 2025-02-02 21:34<br><b>Topic:</b> tariff-canada-country (Confidence: 0.425)<br><b>Content:</b><br>RT@PaulIngrassiaBREAKING: First January 6th political<br>prisoners to be released after President Trump’s pardon:<br>brothers Matthew and Andrew Valentin. They were released<br>minutes ago from the DC Jail.A H...<br><b>Speaker:</b> Donald Trump",
          "<b>Date:</b> 2025-02-02 19:05<br><b>Topic:</b> tariff-canada-country (Confidence: 0.732)<br><b>Content:</b><br>RT@realDonaldTrumpAnybody that’s against Tariffs, including<br>the Fake News Wall Street Journal, and Hedge Funds, is only<br>against them because these people or entities are controlled<br>by China, or other ...<br><b>Speaker:</b> Donald Trump",
          "<b>Date:</b> 2025-02-02 18:37<br><b>Topic:</b> tariff-canada-country (Confidence: 0.732)<br><b>Content:</b><br>Anybody that’s against Tariffs, including the Fake News Wall<br>Street Journal, and Hedge Funds, is only against them<br>because these people or entities are controlled by China, or<br>other foreign or domesti...<br><b>Speaker:</b> Donald Trump",
          "<b>Date:</b> 2025-02-02 08:26<br><b>Topic:</b> tariff-canada-country (Confidence: 0.718)<br><b>Content:</b><br>We pay hundreds of Billions of Dollars to SUBSIDIZE Canada.<br>Why? There is no reason. We don’t need anything they have.<br>We have unlimited Energy, should make our own Cars, and have<br>more Lumber than we ...<br><b>Speaker:</b> Donald Trump",
          "<b>Date:</b> 2025-02-02 08:09<br><b>Topic:</b> tariff-canada-country (Confidence: 0.896)<br><b>Content:</b><br>The “Tariff Lobby,” headed by the Globalist, and always<br>wrong, Wall Street Journal, is working hard to justify<br>Countries like Canada, Mexico, China, and too many others to<br>name, continue the decades l...<br><b>Speaker:</b> Donald Trump",
          "<b>Date:</b> 2025-01-31 19:35<br><b>Topic:</b> tariff-canada-country (Confidence: 0.550)<br><b>Content:</b><br>I LOVE $TRUMP!!Go to<br><b>Speaker:</b> Donald Trump",
          "<b>Date:</b> 2025-01-31 08:09<br><b>Topic:</b> tariff-canada-country (Confidence: 0.700)<br><b>Content:</b><br>AMERICA FIRST DRUG PRICES!!!<br><b>Speaker:</b> Donald Trump",
          "<b>Date:</b> 2025-01-30 20:27<br><b>Topic:</b> tariff-canada-country (Confidence: 0.437)<br><b>Content:</b><br>The idea that the BRICS Countries are trying to move away<br>from the Dollar, while we stand by and watch, is OVER. We<br>are going to require a commitment from these seemingly<br>hostile Countries that they w...<br><b>Speaker:</b> Donald Trump",
          "<b>Date:</b> 2025-01-30 12:11<br><b>Topic:</b> tariff-canada-country (Confidence: 0.700)<br><b>Content:</b><br>Flying is very safe—We have the safest flying anywhere in<br>the world, and we'll keep it that way…<br><b>Speaker:</b> Donald Trump",
          "<b>Date:</b> 2025-01-28 11:09<br><b>Topic:</b> tariff-canada-country (Confidence: 0.775)<br><b>Content:</b><br>The era of American decline is OVER—and the Golden Age of<br>America is officially underway!<br><b>Speaker:</b> Donald Trump",
          "<b>Date:</b> 2025-01-25 14:04<br><b>Topic:</b> tariff-canada-country (Confidence: 0.887)<br><b>Content:</b><br>“THE FIRST 100 HOURS: HISTORIC ACTION TO KICK OFF AMERICA’S<br>GOLDEN AGE”<br><b>Speaker:</b> Donald Trump",
          "<b>Date:</b> 2025-01-24 17:02<br><b>Topic:</b> tariff-canada-country (Confidence: 0.887)<br><b>Content:</b><br>THE MOST HISTORIC 100 HOURS IN AMERICAN HISTORY—THE GOLDEN<br>AGE OF AMERICA BEGINS RIGHT NOW!<br><b>Speaker:</b> Donald Trump",
          "<b>Date:</b> 2025-01-22 10:03<br><b>Topic:</b> tariff-canada-country (Confidence: 0.100)<br><b>Content:</b><br>Anniversary!<br><b>Speaker:</b> Donald Trump",
          "<b>Date:</b> 2025-01-22 10:01<br><b>Topic:</b> tariff-canada-country (Confidence: 0.100)<br><b>Content:</b><br>RT@SilverKnight57Best FLOTUS Ever!!!<br><b>Speaker:</b> Donald Trump",
          "<b>Date:</b> 2025-01-21 02:53<br><b>Topic:</b> tariff-canada-country (Confidence: 0.550)<br><b>Content:</b><br>RT@TeamTrump🚨 President Trump withdraws the United States<br>from the World Health Organization<br><b>Speaker:</b> Donald Trump",
          "<b>Date:</b> 2025-01-19 14:33<br><b>Topic:</b> tariff-canada-country (Confidence: 0.100)<br><b>Content:</b><br>RT@TeamTrumpPresident Donald J. Trump and Vice President-<br>elect Vance lay wreaths at the Tomb of the Unknown Solider:<br><b>Speaker:</b> Donald Trump",
          "<b>Date:</b> 2025-01-19 08:40<br><b>Topic:</b> tariff-canada-country (Confidence: 0.100)<br><b>Content:</b><br>RT@CrazyCatRescuer#WEWON24#XTeam#PHPnews#WPN#MH8<br><b>Speaker:</b> Donald Trump",
          "<b>Date:</b> 2025-01-19 08:40<br><b>Topic:</b> tariff-canada-country (Confidence: 0.100)<br><b>Content:</b><br>aboard, Matt!<br><b>Speaker:</b> Donald Trump",
          "<b>Date:</b> 2025-01-18 14:30<br><b>Topic:</b> tariff-canada-country (Confidence: 0.519)<br><b>Content:</b><br>Bill McGurn: under Biden, “The World is a more dangerous<br>place.” The Journal Editorial Report.<br><b>Speaker:</b> Donald Trump",
          "<b>Date:</b> 2025-01-17 08:40<br><b>Topic:</b> tariff-canada-country (Confidence: 0.350)<br><b>Content:</b><br>RT@justthenewsIsrael's Netanyahu confirms hostage deal with<br>Hamas has been reached despite 'last minute crisis'<br><b>Speaker:</b> Donald Trump",
          "<b>Date:</b> 2025-01-17 08:39<br><b>Topic:</b> tariff-canada-country (Confidence: 0.100)<br><b>Content:</b><br>RT@MayorRudyGiuliani#saverudy<br><b>Speaker:</b> Donald Trump",
          "<b>Date:</b> 2025-01-17 07:04<br><b>Topic:</b> tariff-canada-country (Confidence: 0.100)<br><b>Content:</b><br>RT@MayorRudyGiulianiThe+Consequences+of+Political+Persecutio<br>n:+Willkie+Farr+&+Gallagher+LLP’s+Miscalculation+in+the+Era+<br>of+Trump+47<br><b>Speaker:</b> Donald Trump",
          "<b>Date:</b> 2025-01-17 07:01<br><b>Topic:</b> tariff-canada-country (Confidence: 0.550)<br><b>Content:</b><br>RT@catturd25 days until FAFO.<br><b>Speaker:</b> Donald Trump",
          "<b>Date:</b> 2025-01-16 12:36<br><b>Topic:</b> tariff-canada-country (Confidence: 0.630)<br><b>Content:</b><br>It is my honor to announce Jon Voight, Mel Gibson, and<br>Sylvester Stallone, to be Special Ambassadors to a great but<br>very troubled place, Hollywood, California. They will serve<br>as Special Envoys to me ...<br><b>Speaker:</b> Donald Trump",
          "<b>Date:</b> 2025-01-15 11:03<br><b>Topic:</b> tariff-canada-country (Confidence: 0.779)<br><b>Content:</b><br>Windmills are an economic and environmental disaster. I<br>don’t want even one built during my Administration. The<br>thousands of dead and broken ones should be ripped down<br>ASAP. Most expensive energy, onl...<br><b>Speaker:</b> Donald Trump",
          "<b>Date:</b> 2025-01-14 11:28<br><b>Topic:</b> tariff-canada-country (Confidence: 0.411)<br><b>Content:</b><br>For far too long, we have relied on taxing our Great People<br>using the Internal Revenue Service (IRS). Through soft and<br>pathetically weak Trade agreements, the American Economy has<br>delivered growth and...<br><b>Speaker:</b> Donald Trump",
          "<b>Date:</b> 2025-01-13 23:10<br><b>Topic:</b> tariff-canada-country (Confidence: 0.537)<br><b>Content:</b><br>To Gavin Newscum: RELEASE THE WATER FROM UP NORTH. MILLIONS<br>OF GALLONS A DAY. WHAT’S TAKING YOU SO LONG. SHOULD HAVE<br>DONE IT EIGHT YEARS AGO, AND YOU WOULD HAVE HAD NO FIRE<br>PROBLEMS TODAY. GROSS INCOM...<br><b>Speaker:</b> Donald Trump",
          "<b>Date:</b> 2025-01-07 14:03<br><b>Topic:</b> tariff-canada-country (Confidence: 0.275)<br><b>Content:</b><br>“The Case for Trump’s Tariffs”<br><b>Speaker:</b> Donald Trump",
          "<b>Date:</b> 2025-01-07 10:45<br><b>Topic:</b> tariff-canada-country (Confidence: 0.700)<br><b>Content:</b><br>RT@realamericasvoice👉📢BREAKING: TRUMP TO SPEAK AT MAR-A-<br>LAGOStay tuned, as our@Brianis on the scene<br>where@realDonaldTrumpis expected to speak soon.STAY IN THE<br>KNOW, EVEN ON THE GO! 🎯 PODCASTS NOW AVAI...<br><b>Speaker:</b> Donald Trump",
          "<b>Date:</b> 2025-01-07 01:09<br><b>Topic:</b> tariff-canada-country (Confidence: 0.550)<br><b>Content:</b><br>“Why Has Mar-a-Lago Become The “Capitol of The World”<br><b>Speaker:</b> Donald Trump",
          "<b>Date:</b> 2025-01-06 18:09<br><b>Topic:</b> tariff-canada-country (Confidence: 0.612)<br><b>Content:</b><br>I am hearing that the people of Greenland are “MAGA.” My<br>son, Don Jr, and various representatives, will be traveling<br>there to visit some of the most magnificent areas and<br>sights. Greenland is an incre...<br><b>Speaker:</b> Donald Trump",
          "<b>Date:</b> 2025-01-06 12:52<br><b>Topic:</b> tariff-canada-country (Confidence: 0.957)<br><b>Content:</b><br>Many people in Canada LOVE being the 51st State. The United<br>States can no longer suffer the massive Trade Deficits and<br>Subsidies that Canada needs to stay afloat. Justin Trudeau<br>knew this, and resigne...<br><b>Speaker:</b> Donald Trump",
          "<b>Date:</b> 2025-01-06 08:29<br><b>Topic:</b> tariff-canada-country (Confidence: 0.822)<br><b>Content:</b><br>Why would they want to sell U.S. Steel now when Tariffs will<br>make it a much more profitable and valuable company?<br>Wouldn’t it be nice to have U.S. Steel, once the greatest<br>company in the World, lead t...<br><b>Speaker:</b> Donald Trump",
          "<b>Date:</b> 2025-01-05 21:05<br><b>Topic:</b> tariff-canada-country (Confidence: 0.296)<br><b>Content:</b><br>Members of Congress are getting to work on one powerful Bill<br>that will bring our Country back, and make it greater than<br>ever before. We must Secure our Border, Unleash American<br>Energy, and Renew the T...<br><b>Speaker:</b> Donald Trump",
          "<b>Date:</b> 2025-01-01 16:02<br><b>Topic:</b> tariff-canada-country (Confidence: 0.546)<br><b>Content:</b><br>The Tariffs, and Tariffs alone, created this vast wealth for<br>our Country. Then we switched over to Income Tax. We were<br>never so wealthy as during this period. Tariffs will pay off<br>our debt and, MAKE A...<br><b>Speaker:</b> Donald Trump"
         ],
         "type": "scatter3d",
         "x": {
          "bdata": "QyJjQIpih0GDMgNA8lcCQMWyAUA2FgJAaWA0QB0wMkDmyWdAmE4bQBpf/D9q+DI/SBYHQLBMSUBYtL8/1+VJQGurRUCoCo5AO0gEQLJdjUDFpVxAXcAIQMBSuD+ksr0/728YQKUppj8SAbc/gC/0P+bI+z/lM4dBg4qfP6U6ZUC4BXNAlDX1P7Ewh0FHb8I/AjTlP6acWkAwsIdBM0ecPzfLCUBZb8o/NzlzQNX9AkC8pzM/jVgJQDoaAkB+nKo/ynvwP4Qu/T87Vpo/260CQAmUZ0CVfmlAW41GQBrzaECNO2pAZkpmQBe6Z0CV8bs/UsQFQF5nnsCiiypAuLhlQFK4GEBgR4dB+QIZQM12GED9NYdBIuvyP8RM9T/9cj9AhLmrP8lM9D/PBmVAdozpPwEcFkCb7wlAfKPIP6r+BUAyFo5Ak2SawI72/j8tjPI/AJTKP2YIl0DicZg//9vuP+PI8D9G4ZvAaURzQJpLQ0D6b5zAGh5oQNh4h0E8TIdBT3u9P5oAyD/YXmZAtQeXQLbIZUBwnOI/j7QYQEqdjUAkrx9AFmphQIaJY0APOEJAT1O4P7ws9z9ajyNA4zqNQBP2jkBZrzs/kSRJQH8pIkBlE60/rXhpQHsSjkCH3hpApgpzQJYaGz+/mzJAfKBlQNTPLT/XJ41AkCvvP8XzGEBKWo1AkbHxP7Mdh0Hafr0/ojkGQC8Sl0DDHGpAJOBDQNefF0DZZBZAto7uP2/f2j90AXNA2yCHQci7REDZWfI/se8iQJIS3D8Pu/E/IwVqQCmSCkBaPnNAd0iHQQc+S0A0CHNAZlSdP+kfaEBdamhAa56HQUbNaUAZtRs/Y1OmPx+Ac0AwkZdAGcXxP49mD0CeM2xASFD1Pzf+pD/wWDk/oBdbQPGBS0DMZRhABEhWQEitg0DPlQBAfwyXQFCHJT/sKUpAw60LQAB5Qj9eDyBAUfdxQPhEI0AydyNAJUb7P1OcGECkX41AYuhaQClGPkCpgrw/NrhHQFMLSkAnJWlAQ3vzP0SrSkDfQ0tA4MeWQGUIl0DlAcg/5Y5XQH1Dmj+SlUpAAj2PQOfYGEDjG70/F3v9P3rxnz/BLr8/rO8NQLH6RECBjiFA9rwhQPDCZUD/WgpA4k4ZQPVGc0BZ7lpADSBzQEGPjUB3LvI/G171P4Q5h0HySodBlF4YQAs6h0FeZYdBDcWGQcdrOT/8H6U/fUmHQZVRh0F7kRlAbPuawHKBZkClNmVATv+cwLs+WUBjd3NA+5UYQEG8CUBzJ/I/K2b0Pz9NKcDrGGpA",
          "dtype": "f4"
         },
         "y": {
          "bdata": "+tr5v8SONUB922TA1sxlwG5mZcAInmXA6XqBwH1GgsAnXeC/cCbCwAmqtcBthLnADTq1wCcYb8DGS47AyohnwEWJYMCBMYDAVVFnwOjWgMDeecq/Ta6hwKH1kcADR4rAJBDBwG9sgMB4h4nAsdanwDd3k8DaAzdAcLt7wDAUCMBvErXAkBWgwJgdN0DWFo/AMHegwCAhw78yFzNAjqt4wCF/ocBWPZLAP0q1wJiPtMB+VrvAwNWhwKraoMC5cI/AzCmfwD6hlcCiUXfAhItlwJsv6r+cZsy/oX5fwJ6osL/1Sra/43YWwBUM17/eGIzAIuigwO7DAsCjWEHANMELwL8SwcCLaDZAuVjBwP6UwMD48zZAc6igwOGSn8C+ujnABZqPwLqmo8Dcmeu/l8SewH16v8CroErASDeVwEvOtcD/LYDAGAwKwBgItsAcUqzAJwOSwG6wksA7IHbAhrmOwGX3kMBK+gfAY0G1wPZwXsCO5wbAqM6yv3DdNEAmQjZAtSeVwMjck8CZ3fu/a7GSwOwoD8Afz53AbLbAwFO4gMDZxUHAD9zqv1sU+L+RCoDAUIuKwAbwlsDdVYTAkSaBwKvFf8A8MrrAq0ZlwBdChsAkGYTAFYHhv2kUgMAGI4vAHjK1wP49vsCIq4LAoRgHwNphusDBXYHADkifwP16wcBb3IDAka6swEK3N0AixJLAGa61wLeqksC+XNu//xNdwCM0wMCWIMDAB02WwJOXm8BIMrXA3503QFJuYMBYOaDA3Y6GwBm3kMCnB63AH1Lav3ChocDGQLXA9GA2QHP2bsCHa7XAHrV4wCq+zb+Zjum/MKkzQEst4b9NOr3AvZyOwLFltcDUK5LAKvuewHmgscC4k9u/ScygwPHVf8C1P7vABNnHvxcxccCIgcHAT/l1wDY3hsBzaarAWLCSwO6Xu8A1pG/A3cCOwCoYusANuoTAWZe0wJt/hMCo9oTATWCqwCWIwcC/4IDA/6TGv311fsC/HpPAXVlxwJeBZMBFytG/Jt6qwHcXcMC5NWbA4eKSwEuyksB3TZHAMiT8v4lcd8BElmfAjWF/wE0awcDTj43AbABowAXxesCFcI3AJmM5wJlUasBuA4fActOFwFJ5DsA1ybXAtIXBwCVTtcD79ca/9EC1wB3GgMBUGK3Az0aswAzZNkCnTTZAFX7AwJnNNkAsezVAYnI6QCg7u8B4IYDAMFI2QLgZNkCRqcDAIJIJwGkSGMCb5b+/lUMFwL1ktb8oabXAMZvAwN0XosA3kp/AKe+fwKmnJ0BU1t2/",
          "dtype": "f4"
         },
         "z": {
          "bdata": "A090vpFu9j/uGAY/rY4CPxu0+z4M6/4+D3apP+elpT/1ILC+RaPLvoDUPL4X4pK/qdMHvnK43z947qC+boziP5R+8z+kUtQ/VX0HP7Gg0D88QHY8Qfy4vhJylj/FuIS+cc/0vrJS874QQ66+w4wBP3NWJD+8WPk/W6Hdvr4QRr58+zg/2WcfPhuM+T8FKp6+oW/tvA1BZj1dfPE/7DbuviwPt77sD36+R1M6P1jcE76neZS/Oqe5vgjWCr41kKI/nFcyPtsFID9ygfC+bnYDPwA+kb7EPNu+dwPcP6cV/b4ulvm+ypzLvbLYzL4zWK6+ukCZvsqBFz849xs/kmI+vsmm9L77Ifg/Xyz7vnNF376iOPk/zOP+PsMiEj+M2C8/pHGhPyE/Aj+le2K+cT8cPy1K2r6Qmek/p3yHP4QPHr53jNQ/HlwUP0qrR77cnQk/RcBtvkBNxsAQc/u+USk8PzPCNz9WqxE/+5I6PyZD+D+AnxM/hFH6vs4L9T/r1Pc/0J2jvs7/jD+ouYa+XUzGwL5SHL7SPTk/68Dfvofv0j9h0wxA+3CZvoPQRb52lbw/L9WtvgOLBz9Q5Ys/3MzPP9551T8sn46/XarlP3ZhhT8rysy+Iqiyvk/z1D8xM3E/8hM6P82Wn7/UgKU/bvdNvg4KmL90884/I2sLP8svAr9wjdA/SlsKP22/+j9jSZM/XP4cvjhdxsCEF76+j3b9P+9r2b5BqAq/dVC5PrV4VT/23zg/hIz6P7B79j9tLgs/CdmFP8R3YD/W8go/vuXAvpZ4vr4BYDo/kBL4P8iY2T+qQjk/Edjqvkyk2b7Wop++hKDyP1rxsL68R5+/y8ilPy3hOj9r28bAzVgFP5vJ3z3rhMG+PIcDP0fc7L7SM5G/6ppFPbj62D/UgP++TQDVPz3NkT9bUS0+VFjGwIGpmr/jn9k/aEVQP3B9i79bVXQ/Jog1P2m6hj9lwIk/6C7LPvAJCL+Ph9A/2xFOPWO1uj9ZZZI/GjjaPyOR7D87yeO+7tMDPy4G2j+lvtw/tQHGwDxQxsBmeYW+Yq95vkUm9r4omt4/mzLWP7555r7zEq2+MgThPpk84L4gg6G+nxMLQG1W4T+Wo4A/wfGFP7TBI76e5se9J4rwvh8xOj/FLlE9WdE5PxM90T9n1wo/w4cAP7EC+T/x6/c/R9TZvnTp+D/+RvY/+RgAQL+wkb+oH/2+gPL3P9GD9z+nmNO+lIsWP2PNpL1/j96+Zb0LP7DmkT1gJTs/G0/YvqI+sL561QI/g0V/PphOIEBa4re+",
          "dtype": "f4"
         }
        },
        {
         "hoverinfo": "text",
         "hovertemplate": "%{text}<extra></extra>",
         "marker": {
          "color": "rgb(255,255,179)",
          "line": {
           "color": "darkgray",
           "width": 0.5
          },
          "opacity": 0.8,
          "size": 5
         },
         "mode": "markers",
         "name": "Topic 2: dollar-billion-tax",
         "text": [
          "<b>Date:</b> 2025-07-18 21:39<br><b>Topic:</b> dollar-billion-tax (Confidence: 0.871)<br><b>Content:</b><br>We have fulfilled so many of our promises…✅One Big Beautiful<br>Bill✅Laken Riley Act✅TAKE IT DOWN Act✅Rescissions Act of<br>2025✅HALT Fentanyl Act✅GENIUS Act<br><b>Speaker:</b> Donald Trump",
          "<b>Date:</b> 2025-07-18 21:39<br><b>Topic:</b> dollar-billion-tax (Confidence: 0.871)<br><b>Content:</b><br>We have fulfilled so many of our promises…✅One Big Beautiful<br>Bill✅Laken Riley Act✅TAKE IT DOWN Act✅Rescissions Act of<br>2025✅HALT Fentanyl Act✅GENIUS Act<br><b>Speaker:</b> Donald Trump",
          "<b>Date:</b> 2025-07-18 07:26<br><b>Topic:</b> dollar-billion-tax (Confidence: 0.820)<br><b>Content:</b><br>Lower the Rate, Too Late!<br><b>Speaker:</b> Donald Trump",
          "<b>Date:</b> 2025-07-18 07:26<br><b>Topic:</b> dollar-billion-tax (Confidence: 0.820)<br><b>Content:</b><br>Lower the Rate, Too Late!<br><b>Speaker:</b> Donald Trump",
          "<b>Date:</b> 2025-07-18 06:45<br><b>Topic:</b> dollar-billion-tax (Confidence: 0.973)<br><b>Content:</b><br>“Too Late,” and the Fed, are choking out the housing market<br>with their high rate, making it difficult for people,<br>especially the young, to buy a house. He is truly one of my<br>worst appointments. Sleepy...<br><b>Speaker:</b> Donald Trump",
          "<b>Date:</b> 2025-07-18 06:45<br><b>Topic:</b> dollar-billion-tax (Confidence: 0.973)<br><b>Content:</b><br>“Too Late,” and the Fed, are choking out the housing market<br>with their high rate, making it difficult for people,<br>especially the young, to buy a house. He is truly one of my<br>worst appointments. Sleepy...<br><b>Speaker:</b> Donald Trump",
          "<b>Date:</b> 2025-07-18 00:40<br><b>Topic:</b> dollar-billion-tax (Confidence: 0.855)<br><b>Content:</b><br>HOUSE APPROVES NINE BILLION DOLLAR CUTS PACKAGE, INCLUDING<br>ATROCIOUS NPR AND PUBLIC BROADCASTING, WHERE BILLIONS OF<br>DOLLARS A YEAR WERE WASTED. REPUBLICANS HAVE TRIED DOING<br>THIS FOR 40 YEARS, AND FAIL...<br><b>Speaker:</b> Donald Trump",
          "<b>Date:</b> 2025-07-18 00:40<br><b>Topic:</b> dollar-billion-tax (Confidence: 0.855)<br><b>Content:</b><br>HOUSE APPROVES NINE BILLION DOLLAR CUTS PACKAGE, INCLUDING<br>ATROCIOUS NPR AND PUBLIC BROADCASTING, WHERE BILLIONS OF<br>DOLLARS A YEAR WERE WASTED. REPUBLICANS HAVE TRIED DOING<br>THIS FOR 40 YEARS, AND FAIL...<br><b>Speaker:</b> Donald Trump",
          "<b>Date:</b> 2025-07-17 10:12<br><b>Topic:</b> dollar-billion-tax (Confidence: 0.715)<br><b>Content:</b><br>“Too Late:” Great numbers just out. LOWER THE RATE!!! DJT<br><b>Speaker:</b> Donald Trump",
          "<b>Date:</b> 2025-07-16 19:28<br><b>Topic:</b> dollar-billion-tax (Confidence: 0.597)<br><b>Content:</b><br>To the Law abiding, Tax paying, Hardworking Citizens of the<br>United States of America, I am thrilled to announce that I<br>have officially freed you from funding California’s<br>disastrously overpriced, “HIG...<br><b>Speaker:</b> Donald Trump",
          "<b>Date:</b> 2025-07-16 18:40<br><b>Topic:</b> dollar-billion-tax (Confidence: 0.820)<br><b>Content:</b><br>“President Trump Signs HALT Fentanyl Act into Law”<br><b>Speaker:</b> Donald Trump",
          "<b>Date:</b> 2025-07-16 10:35<br><b>Topic:</b> dollar-billion-tax (Confidence: 0.651)<br><b>Content:</b><br>Fox Business: “Tariff revenues topped a record $113 billion<br>for the first time during the fiscal year — a revelation<br>that comes as President Donald Trump imposes near-weekly<br>duties on some of the worl...<br><b>Speaker:</b> Donald Trump",
          "<b>Date:</b> 2025-07-15 14:09<br><b>Topic:</b> dollar-billion-tax (Confidence: 0.333)<br><b>Content:</b><br>This morning I finalized an important Deal with the Republic<br>of Indonesia after speaking with their Highly Respected<br>President Prabowo Subianto. This landmark Deal opens up<br>Indonesia’s ENTIRE MARKET t...<br><b>Speaker:</b> Donald Trump",
          "<b>Date:</b> 2025-07-15 10:08<br><b>Topic:</b> dollar-billion-tax (Confidence: 0.925)<br><b>Content:</b><br>Fed should cut Rates by 3 Points. Very Low Inflation. One<br>Trillion Dollars a year would be saved!!!<br><b>Speaker:</b> Donald Trump",
          "<b>Date:</b> 2025-07-15 10:02<br><b>Topic:</b> dollar-billion-tax (Confidence: 0.850)<br><b>Content:</b><br>Consumer Prices LOW. Bring down the Fed Rate, NOW!!!<br><b>Speaker:</b> Donald Trump",
          "<b>Date:</b> 2025-07-12 14:00<br><b>Topic:</b> dollar-billion-tax (Confidence: 0.775)<br><b>Content:</b><br>“US customs duties top $100 billion for first time in a<br>fiscal year”<br><b>Speaker:</b> Donald Trump",
          "<b>Date:</b> 2025-07-10 10:39<br><b>Topic:</b> dollar-billion-tax (Confidence: 0.420)<br><b>Content:</b><br>“A DAY LATE AND A DOLLAR SHORT…”<br><b>Speaker:</b> Donald Trump",
          "<b>Date:</b> 2025-07-10 10:37<br><b>Topic:</b> dollar-billion-tax (Confidence: 0.910)<br><b>Content:</b><br>“Too Late” DEMEANS THE GREAT CREDIT OF THE USA. We are now,<br>again, the Number One Credit in the World! “Gigantic<br>Comeback.” The Fed Rate should be reflective of this. We<br>should be at the top of the li...<br><b>Speaker:</b> Donald Trump",
          "<b>Date:</b> 2025-07-10 10:28<br><b>Topic:</b> dollar-billion-tax (Confidence: 0.691)<br><b>Content:</b><br>Tech Stocks, Industrial Stocks, & NASDAQ, HIT ALL-TIME,<br>RECORD HIGHS! CRYPTO, “Through the Roof.” NVIDIA IS UP 47%<br>SINCE TRUMP TARIFFS. USA is taking in Hundreds of Billions<br>of Dollars in Tariffs. COU...<br><b>Speaker:</b> Donald Trump",
          "<b>Date:</b> 2025-07-09 10:30<br><b>Topic:</b> dollar-billion-tax (Confidence: 0.381)<br><b>Content:</b><br>“Marco Rubio: Trump defense deal with NATO is a big,<br>beautiful win for America”<br><b>Speaker:</b> Donald Trump",
          "<b>Date:</b> 2025-07-09 10:00<br><b>Topic:</b> dollar-billion-tax (Confidence: 0.953)<br><b>Content:</b><br>Our Fed Rate is AT LEAST 3 Points too high. “Too Late” is<br>costing the U.S. 360 Billion Dollars a Point, PER YEAR, in<br>refinancing costs. No Inflation, COMPANIES POURING INTO<br>AMERICA. “The hottest Count...<br><b>Speaker:</b> Donald Trump",
          "<b>Date:</b> 2025-07-09 09:31<br><b>Topic:</b> dollar-billion-tax (Confidence: 0.550)<br><b>Content:</b><br>ANYBODY BUT “TOO LATE.”<br><b>Speaker:</b> Donald Trump",
          "<b>Date:</b> 2025-07-08 15:08<br><b>Topic:</b> dollar-billion-tax (Confidence: 0.544)<br><b>Content:</b><br>A new Study by the Council of Economic Advisers (CEA), led<br>by Highly Respected Chair, Dr. Stephen Miran, has found that<br>Tariffs have had ZERO IMPACT on Inflation. In fact, the<br>Study shows that Import ...<br><b>Speaker:</b> Donald Trump",
          "<b>Date:</b> 2025-07-05 16:48<br><b>Topic:</b> dollar-billion-tax (Confidence: 0.755)<br><b>Content:</b><br>The One Big Beautiful Bill will deliver the strongest border<br>on Earth, the strongest economy on Earth, the strongest<br>military on Earth, & ensure the United States of America<br>will remain the strongest ...<br><b>Speaker:</b> Donald Trump",
          "<b>Date:</b> 2025-07-04 00:05<br><b>Topic:</b> dollar-billion-tax (Confidence: 0.367)<br><b>Content:</b><br>THANK YOU IOWA! 🇺🇸<br><b>Speaker:</b> Donald Trump",
          "<b>Date:</b> 2025-07-03 19:33<br><b>Topic:</b> dollar-billion-tax (Confidence: 0.900)<br><b>Content:</b><br>Great job by Secretary of the Treasury Scott Bessent in<br>explaining the complexities, but BEAUTY, of the “ONE BIG<br>BEAUTIFUL BILL ACT!”<br><b>Speaker:</b> Donald Trump",
          "<b>Date:</b> 2025-07-03 00:12<br><b>Topic:</b> dollar-billion-tax (Confidence: 0.740)<br><b>Content:</b><br>Largest Tax Cuts in History and a Booming Economy vs.<br>Biggest Tax Increase in History, and a Failed Economy. What<br>are the Republicans waiting for??? What are you trying to<br>prove??? MAGA IS NOT HAPPY, ...<br><b>Speaker:</b> Donald Trump",
          "<b>Date:</b> 2025-07-02 21:34<br><b>Topic:</b> dollar-billion-tax (Confidence: 0.673)<br><b>Content:</b><br>The USA is on track to break every record on GROWTH. Go<br>Republicans, beat the Crooked Democrats tonight! PRO-GROWTH<br>Tax Cuts never fail. MAKE AMERICA GREAT AGAIN!<br><b>Speaker:</b> Donald Trump",
          "<b>Date:</b> 2025-07-02 18:10<br><b>Topic:</b> dollar-billion-tax (Confidence: 0.820)<br><b>Content:</b><br>“Too Late” should resign immediately!!!“Fed Chair Should Be<br>Investigated by Congress, FHFA Head Says”<br><b>Speaker:</b> Donald Trump",
          "<b>Date:</b> 2025-07-02 11:21<br><b>Topic:</b> dollar-billion-tax (Confidence: 0.368)<br><b>Content:</b><br>Congressman Jason Smith: “We are gonna get the One, Big,<br>Beautiful Bill passed and to your desk! This will be for the<br>people who don't have lobbyists in this town. The farmers,<br>the welders, the waitre...<br><b>Speaker:</b> Donald Trump",
          "<b>Date:</b> 2025-07-02 10:52<br><b>Topic:</b> dollar-billion-tax (Confidence: 0.886)<br><b>Content:</b><br>THE ONE BIG BEAUTIFUL DEAL IS ALL ABOUT GROWTH. IF PASSED,<br>AMERICA WILL HAVE AN ECONOMIC RENAISSANCE LIKE NEVER BEFORE.<br>IT IS ALREADY HAPPENING, JUST IN ANTICIPATION OF THE<br>BEAUTIFUL BILL. DEFICIT CUT...<br><b>Speaker:</b> Donald Trump",
          "<b>Date:</b> 2025-07-02 07:38<br><b>Topic:</b> dollar-billion-tax (Confidence: 0.405)<br><b>Content:</b><br>Nobody wants to talk about GROWTH, which will be the primary<br>reason that the Big, Beautiful Bill will be one of the most<br>successful pieces of legislation ever passed. THIS GROWTH<br>has already begun at ...<br><b>Speaker:</b> Donald Trump",
          "<b>Date:</b> 2025-07-01 07:40<br><b>Topic:</b> dollar-billion-tax (Confidence: 0.900)<br><b>Content:</b><br>“The One Big Beautiful Bill Slashes Deficits, National Debt<br>While Unleashing Economic Growth”<br><b>Speaker:</b> Donald Trump",
          "<b>Date:</b> 2025-07-01 07:33<br><b>Topic:</b> dollar-billion-tax (Confidence: 0.910)<br><b>Content:</b><br>Sen. Eric Schmitt: “We got this Big Beautiful Bill we want<br>to get on his Big Beautiful Desk.”<br><b>Speaker:</b> Donald Trump",
          "<b>Date:</b> 2025-07-01 00:01<br><b>Topic:</b> dollar-billion-tax (Confidence: 0.719)<br><b>Content:</b><br>Republicans, the One Big Beautiful Bill, perhaps the<br>greatest and most important of its kind in history, gives<br>the largest Tax Cuts and Border Security ever, Jobs by the<br>Millions, Military/Vets increa...<br><b>Speaker:</b> Donald Trump",
          "<b>Date:</b> 2025-06-30 13:09<br><b>Topic:</b> dollar-billion-tax (Confidence: 0.675)<br><b>Content:</b><br>Jerome “Too Late” Powell, and his entire Board, should be<br>ashamed of themselves for allowing this to happen to the<br>United States. They have one of the easiest, yet most<br>prestigious, jobs in America, a...<br><b>Speaker:</b> Donald Trump",
          "<b>Date:</b> 2025-06-30 02:19<br><b>Topic:</b> dollar-billion-tax (Confidence: 0.775)<br><b>Content:</b><br>ONE GREAT BIG BEAUTIFUL BILL, is moving along nicely! MAKE<br>AMERICA GREAT AGAIN!<br><b>Speaker:</b> Donald Trump",
          "<b>Date:</b> 2025-06-29 17:27<br><b>Topic:</b> dollar-billion-tax (Confidence: 0.506)<br><b>Content:</b><br>For all cost cutting Republicans, of which I am one,<br>REMEMBER, you still have to get reelected. Don’t go too<br>crazy! We will make it all up, times 10, with GROWTH, more<br>than ever before<br><b>Speaker:</b> Donald Trump",
          "<b>Date:</b> 2025-06-29 13:39<br><b>Topic:</b> dollar-billion-tax (Confidence: 0.947)<br><b>Content:</b><br>Secretary Chris Wright: “The One Big Beautiful Bill gets rid<br>of over a half of trillion dollars in subsidies that are<br>paid for by American taxpayers, while at the same time<br>reducing energy prices for ...<br><b>Speaker:</b> Donald Trump",
          "<b>Date:</b> 2025-06-29 13:33<br><b>Topic:</b> dollar-billion-tax (Confidence: 0.816)<br><b>Content:</b><br>Sen. John Barrasso on the Big Beautiful Bill: “Lower prices,<br>lower taxes, more jobs, better paying jobs, more money in<br>people’s pockets…safety and prosperity…that’s what this is<br>all about…”<br><b>Speaker:</b> Donald Trump",
          "<b>Date:</b> 2025-06-29 13:14<br><b>Topic:</b> dollar-billion-tax (Confidence: 0.569)<br><b>Content:</b><br>Sen. Jim Banks on the One Big Beautiful Bill: \"Democrats are<br>focused on screwing the working class with higher<br>taxes…President Trump and Republicans are serious about<br>cutting taxes on the people who n...<br><b>Speaker:</b> Donald Trump",
          "<b>Date:</b> 2025-06-29 13:12<br><b>Topic:</b> dollar-billion-tax (Confidence: 0.552)<br><b>Content:</b><br>Sen. Markwayne Mullin on the One Big Beautiful Bill: \"What<br>we're doing is cutting the waste, fraud, and abuse out of<br>the Medicaid system—and make sure it's for the people that<br>it was originally intend...<br><b>Speaker:</b> Donald Trump",
          "<b>Date:</b> 2025-06-28 21:48<br><b>Topic:</b> dollar-billion-tax (Confidence: 0.324)<br><b>Content:</b><br>Looks like Senator Thom Tillis, as usual, wants to tell the<br>Nation that he’s giving them a 68% Tax Increase, as opposed<br>to the Biggest Tax Cut in American History! At the same<br>time, he is unable to un...<br><b>Speaker:</b> Donald Trump",
          "<b>Date:</b> 2025-06-28 07:53<br><b>Topic:</b> dollar-billion-tax (Confidence: 0.571)<br><b>Content:</b><br>CONGRESSMAN KEVIN KILEY’S, “NO TAX DOLLARS FOR RIOTS”<br>legislation, should be passed immediately. I am hereby<br>instructing my Administration not to pay ANY money to these<br>radicalized groups, regardless ...<br><b>Speaker:</b> Donald Trump",
          "<b>Date:</b> 2025-06-27 14:09<br><b>Topic:</b> dollar-billion-tax (Confidence: 0.925)<br><b>Content:</b><br>After many years of decline in our air traffic control<br>system, the One Big Beautiful Bill will modernize this<br>decrepit relic and give America the best, most advanced air<br>traffic control system on Eart...<br><b>Speaker:</b> Donald Trump",
          "<b>Date:</b> 2025-06-26 17:49<br><b>Topic:</b> dollar-billion-tax (Confidence: 0.900)<br><b>Content:</b><br>The One Big Beautiful Bill will be the single most important<br>piece of Border Legislation ever to cross the floor of<br>Congress…<br><b>Speaker:</b> Donald Trump",
          "<b>Date:</b> 2025-06-24 11:23<br><b>Topic:</b> dollar-billion-tax (Confidence: 0.871)<br><b>Content:</b><br>The United States is at almost $1 Trillion Dollars — This is<br>incredible! Will be discussing it soon with the Members of<br>NATO.<br><b>Speaker:</b> Donald Trump",
          "<b>Date:</b> 2025-06-24 09:17<br><b>Topic:</b> dollar-billion-tax (Confidence: 0.345)<br><b>Content:</b><br>Third Rate Congressman Thomas Massie, of the Great<br>Commonwealth of Kentucky, a phenomenal State that I won all<br>three times (by a lot!), keeps talking about how he is going<br>to protect the Constitution,...<br><b>Speaker:</b> Donald Trump",
          "<b>Date:</b> 2025-06-24 01:32<br><b>Topic:</b> dollar-billion-tax (Confidence: 0.976)<br><b>Content:</b><br>“Too Late” Jerome Powell, of the Fed, will be in Congress<br>today in order to explain, among other things, why he is<br>refusing to lower the Rate. Europe has had 10 cuts, we have<br>had ZERO. No inflation, g...<br><b>Speaker:</b> Donald Trump",
          "<b>Date:</b> 2025-06-23 22:43<br><b>Topic:</b> dollar-billion-tax (Confidence: 0.656)<br><b>Content:</b><br>“Tell Your Senators: Stop the Largest Tax Hike in History.<br>Vote YES on the Working Family Tax Cuts.”<br><b>Speaker:</b> Donald Trump",
          "<b>Date:</b> 2025-06-23 21:49<br><b>Topic:</b> dollar-billion-tax (Confidence: 0.887)<br><b>Content:</b><br>Members of Congress are united in their commitment to<br>deliver the One Big Beautiful Bill to you, the American<br>People!<br><b>Speaker:</b> Donald Trump",
          "<b>Date:</b> 2025-06-21 16:59<br><b>Topic:</b> dollar-billion-tax (Confidence: 0.850)<br><b>Content:</b><br>WAGE GROWTH BEST IN 60 YEARS, BY FAR. MAGA!<br><b>Speaker:</b> Donald Trump",
          "<b>Date:</b> 2025-06-21 15:21<br><b>Topic:</b> dollar-billion-tax (Confidence: 0.554)<br><b>Content:</b><br>I HATE “GREEN TAX CREDITS” IN THE GREAT, BIG, BEAUTIFUL<br>BILL. They are largely a giant SCAM. I would much prefer<br>that this money be used somewhere else, including<br>reductions. “Anywhere” would be prefe...<br><b>Speaker:</b> Donald Trump",
          "<b>Date:</b> 2025-06-20 17:58<br><b>Topic:</b> dollar-billion-tax (Confidence: 0.478)<br><b>Content:</b><br>“Too Late” Powell complains about costs, much of which were<br>produced by the Biden Fake “Government,” but he could do the<br>biggest and best job for our Country by helping to lower<br>Interest Rates and, if...<br><b>Speaker:</b> Donald Trump",
          "<b>Date:</b> 2025-06-20 13:12<br><b>Topic:</b> dollar-billion-tax (Confidence: 0.604)<br><b>Content:</b><br>“Hourly workers in the service, hospitality, and retail<br>industries overwhelmingly back President Donald J. Trump’s<br>bold NO TAX ON TIPS plan in the One Big Beautiful Bill,<br>according to a new survey — s...<br><b>Speaker:</b> Donald Trump",
          "<b>Date:</b> 2025-06-19 19:58<br><b>Topic:</b> dollar-billion-tax (Confidence: 0.775)<br><b>Content:</b><br>“Lowest Inflation In 4 Years.” Kevin Hassett<br><b>Speaker:</b> Donald Trump",
          "<b>Date:</b> 2025-06-19 19:44<br><b>Topic:</b> dollar-billion-tax (Confidence: 0.871)<br><b>Content:</b><br>@IStandWithTrump47Depart of Treasury just announced the<br>largest BLUE COLLAR WAGE GROWTH IN OVER 60 YEARS. WOW!<br><b>Speaker:</b> Donald Trump",
          "<b>Date:</b> 2025-06-19 16:24<br><b>Topic:</b> dollar-billion-tax (Confidence: 0.454)<br><b>Content:</b><br>“NAVY RECRUITMENT ‘SKYROCKETS’ UNDER TRUMP’S LEADERSHIP”“The<br>U.S. Navy has achieved its fiscal year 2025 recruiting goal<br>three months ahead of schedule, positioning the maritime<br>service branch to send...<br><b>Speaker:</b> Donald Trump",
          "<b>Date:</b> 2025-06-19 16:09<br><b>Topic:</b> dollar-billion-tax (Confidence: 0.368)<br><b>Content:</b><br>“A union representing nearly 20,000 Border Patrol agents<br>declared its support for President Donald Trump’s ‘big,<br>beautiful bill,’ hailing the legislation as an ‘investment’<br>in America’s border securit...<br><b>Speaker:</b> Donald Trump",
          "<b>Date:</b> 2025-06-19 10:04<br><b>Topic:</b> dollar-billion-tax (Confidence: 0.898)<br><b>Content:</b><br>“Too Late” Jerome Powell is costing our Country Hundreds of<br>Billions of Dollars. He is truly one of the dumbest, and<br>most destructive, people in Government, and the Fed Board is<br>complicit. Europe has ...<br><b>Speaker:</b> Donald Trump",
          "<b>Date:</b> 2025-06-18 23:56<br><b>Topic:</b> dollar-billion-tax (Confidence: 0.633)<br><b>Content:</b><br>Too Late—Powell is the WORST. A real dummy, who’s costing<br>America $Billions!“Fannie, Freddie regulator: Powell should<br>cut rates or quit”<br><b>Speaker:</b> Donald Trump",
          "<b>Date:</b> 2025-06-18 17:31<br><b>Topic:</b> dollar-billion-tax (Confidence: 0.584)<br><b>Content:</b><br>Republican Study Committee: “The One Big Beautiful Bill is<br>One Big Beautiful Win for America!”<br><b>Speaker:</b> Donald Trump",
          "<b>Date:</b> 2025-06-18 17:29<br><b>Topic:</b> dollar-billion-tax (Confidence: 0.443)<br><b>Content:</b><br>HUD Secretary, Scott Turner: “The One Big Beautiful Bill<br>will give millions of Americans financial freedom and<br>unleash America’s Golden Age!”<br><b>Speaker:</b> Donald Trump",
          "<b>Date:</b> 2025-06-18 17:25<br><b>Topic:</b> dollar-billion-tax (Confidence: 0.380)<br><b>Content:</b><br>EPA Administrator, Lee Zeldin: “Ramping up domestic energy<br>production is better for our economy, our environment, and<br>our national security. President Trump’s One, Big, Beautiful<br>Bill will help make t...<br><b>Speaker:</b> Donald Trump",
          "<b>Date:</b> 2025-06-17 23:09<br><b>Topic:</b> dollar-billion-tax (Confidence: 0.820)<br><b>Content:</b><br>Wow!!! U.S. Wage Growth BEST IN 60 YEARS!<br><b>Speaker:</b> Donald Trump",
          "<b>Date:</b> 2025-06-12 18:11<br><b>Topic:</b> dollar-billion-tax (Confidence: 0.307)<br><b>Content:</b><br>Thank you to everyone for being so generous yesterday at The<br>Kennedy Center. We raised over $10 Million Dollars for its<br>Restoration, A RECORD. In addition, the Actors and Actresses<br>in Les Mis were inc...<br><b>Speaker:</b> Donald Trump",
          "<b>Date:</b> 2025-06-12 15:13<br><b>Topic:</b> dollar-billion-tax (Confidence: 0.409)<br><b>Content:</b><br>The House of Representatives is NOW voting on my<br>Administration’s first “Rescissions” Bill. It will OFFICALLY<br>“claw back” $9.4 BILLION DOLLARS in funding for wasteful<br>Foreign Aid, used for Radical “DE...<br><b>Speaker:</b> Donald Trump",
          "<b>Date:</b> 2025-06-12 13:50<br><b>Topic:</b> dollar-billion-tax (Confidence: 0.593)<br><b>Content:</b><br>FOR FIVE MILLION $DOLLARS, THE TRUMP CARD IS COMING! More<br>than fifteen thousand have signed up and joined the Waiting<br>List since we opened the site last night! That's $75 Billion<br>Dollars to help balan...<br><b>Speaker:</b> Donald Trump",
          "<b>Date:</b> 2025-06-12 08:07<br><b>Topic:</b> dollar-billion-tax (Confidence: 0.789)<br><b>Content:</b><br>THE GREAT, BIG, BEAUTIFUL BILL WILL GROW THE ECONOMY LIKE IT<br>HAS NEVER GROWN BEFORE. AT THE SAME TIME, IT IS CUTTING<br>EXPENSES BY 1.6 TRILLION DOLLARS. IT PUTS OUR COUNTRY ON THE<br>RIGHT TRACK, PLUS! MAK...<br><b>Speaker:</b> Donald Trump",
          "<b>Date:</b> 2025-06-11 09:54<br><b>Topic:</b> dollar-billion-tax (Confidence: 0.725)<br><b>Content:</b><br>CPI JUST OUT. GREAT NUMBERS! FED SHOULD LOWER ONE FULL<br>POINT. WOULD PAY MUCH LESS INTEREST ON DEBT COMING DUE. SO<br>IMPORTANT!!!<br><b>Speaker:</b> Donald Trump",
          "<b>Date:</b> 2025-06-10 13:17<br><b>Topic:</b> dollar-billion-tax (Confidence: 0.918)<br><b>Content:</b><br>The $1,000 child Trump Accounts are a pro-family initiative<br>that will help millions of Americans harness the strength of<br>our economy to lift up the next generation—They are fully<br>funded through target...<br><b>Speaker:</b> Donald Trump",
          "<b>Date:</b> 2025-06-06 10:12<br><b>Topic:</b> dollar-billion-tax (Confidence: 0.702)<br><b>Content:</b><br>GREAT JOB NUMBERS, STOCK MARKET UP BIG! AT THE SAME TIME,<br>BILLIONS POURING IN FROM TARIFFS!!!<br><b>Speaker:</b> Donald Trump",
          "<b>Date:</b> 2025-06-06 09:49<br><b>Topic:</b> dollar-billion-tax (Confidence: 0.630)<br><b>Content:</b><br>If “Too Late” at the Fed would CUT, we would greatly reduce<br>interest rates, long and short, on debt that is coming due.<br>Biden went mostly short term. There is virtually no<br>inflation (anymore), but if ...<br><b>Speaker:</b> Donald Trump",
          "<b>Date:</b> 2025-06-06 09:41<br><b>Topic:</b> dollar-billion-tax (Confidence: 0.900)<br><b>Content:</b><br>“Too Late” at the Fed is a disaster! Europe has had 10 rate<br>cuts, we have had none. Despite him, our Country is doing<br>great. Go for a full point, Rocket Fuel!<br><b>Speaker:</b> Donald Trump",
          "<b>Date:</b> 2025-06-05 16:06<br><b>Topic:</b> dollar-billion-tax (Confidence: 0.603)<br><b>Content:</b><br>I don’t mind Elon turning against me, but he should have<br>done so months ago. This is one of the Greatest Bills ever<br>presented to Congress. It’s a Record Cut in Expenses, $1.6<br>Trillion Dollars, and the...<br><b>Speaker:</b> Donald Trump",
          "<b>Date:</b> 2025-06-05 14:37<br><b>Topic:</b> dollar-billion-tax (Confidence: 0.791)<br><b>Content:</b><br>The easiest way to save money in our Budget, Billions and<br>Billions of Dollars, is to terminate Elon’s Governmental<br>Subsidies and Contracts. I was always surprised that Biden<br>didn’t do it!<br><b>Speaker:</b> Donald Trump",
          "<b>Date:</b> 2025-06-05 11:32<br><b>Topic:</b> dollar-billion-tax (Confidence: 0.483)<br><b>Content:</b><br>Shockingly, the Democrat controlled CBO just announced that<br>the Tariffs will be reducing the Deficit by at least $2.8<br>Trillion Dollars. Too bad this information couldn’t have<br>been released earlier, it...<br><b>Speaker:</b> Donald Trump",
          "<b>Date:</b> 2025-06-04 08:21<br><b>Topic:</b> dollar-billion-tax (Confidence: 0.900)<br><b>Content:</b><br>ADP NUMBER OUT!!! “Too Late” Powell must now LOWER THE RATE.<br>He is unbelievable!!! Europe has lowered NINE TIMES!<br><b>Speaker:</b> Donald Trump",
          "<b>Date:</b> 2025-06-04 02:20<br><b>Topic:</b> dollar-billion-tax (Confidence: 0.700)<br><b>Content:</b><br>THE UNITED STATES HAD THE BEST MAY IN 30 YEARS. MAKE AMERICA<br>GREAT AGAIN!!!<br><b>Speaker:</b> Donald Trump",
          "<b>Date:</b> 2025-06-02 18:45<br><b>Topic:</b> dollar-billion-tax (Confidence: 0.291)<br><b>Content:</b><br>Passing THE ONE, BIG, BEAUTIFUL BILL is a Historic<br>Opportunity to turn our Country around after four disastrous<br>years under Joe Biden. We will take a massive step to<br>balancing our Budget by enacting t...<br><b>Speaker:</b> Donald Trump",
          "<b>Date:</b> 2025-05-31 09:17<br><b>Topic:</b> dollar-billion-tax (Confidence: 0.596)<br><b>Content:</b><br>With One, Big, Beautiful Bill, we will protect over 7<br>million jobs, raise take-home pay for American families by<br>up to $13,000 per household, and reduce taxes for working-<br>class Americans by as much as...<br><b>Speaker:</b> Donald Trump",
          "<b>Date:</b> 2025-05-30 21:32<br><b>Topic:</b> dollar-billion-tax (Confidence: 0.612)<br><b>Content:</b><br>“PRESIDENT TRUMP’S PARDON OF COURAGEOUS SHERIFF SCOTT<br>JENKINS MAY BE HIS BEST TO DATE”<br><b>Speaker:</b> Donald Trump",
          "<b>Date:</b> 2025-05-30 21:31<br><b>Topic:</b> dollar-billion-tax (Confidence: 0.683)<br><b>Content:</b><br>“Housing market chief Pulte sends blunt message on Fed<br>interest rate cuts”<br><b>Speaker:</b> Donald Trump",
          "<b>Date:</b> 2025-05-30 13:06<br><b>Topic:</b> dollar-billion-tax (Confidence: 0.398)<br><b>Content:</b><br>Secretary Wright: “President Trump got elected to lower<br>energy prices, reindustrialize America, bring jobs and<br>opportunity back to our country and peace abroad — and he is<br>pursuing that agenda aggress...<br><b>Speaker:</b> Donald Trump",
          "<b>Date:</b> 2025-05-30 12:29<br><b>Topic:</b> dollar-billion-tax (Confidence: 0.510)<br><b>Content:</b><br>The Democrat inspired and “controlled” Congressional Budget<br>Office (CBO) purposefully gave us an EXTREMELY LOW level of<br>Growth, 1.8% over 10 years. How ridiculous and unpatriotic<br>is that! They did the...<br><b>Speaker:</b> Donald Trump",
          "<b>Date:</b> 2025-05-28 23:16<br><b>Topic:</b> dollar-billion-tax (Confidence: 0.683)<br><b>Content:</b><br>“FHFA Director Pulte calls on Powell to lower interest<br>rates”<br><b>Speaker:</b> Donald Trump",
          "<b>Date:</b> 2025-05-28 11:44<br><b>Topic:</b> dollar-billion-tax (Confidence: 0.680)<br><b>Content:</b><br>“Here’s what they’re saying about the One, Big, Beautiful<br>Bill”<br><b>Speaker:</b> Donald Trump",
          "<b>Date:</b> 2025-05-19 17:06<br><b>Topic:</b> dollar-billion-tax (Confidence: 0.542)<br><b>Content:</b><br>“As First Lady, my Be Best initiative is focused on<br>improving children's well-being, encouraging kindness and<br>creating a safer online environment for our youth. Today,<br>I'm proud to say that the values...<br><b>Speaker:</b> Donald Trump",
          "<b>Date:</b> 2025-05-17 11:11<br><b>Topic:</b> dollar-billion-tax (Confidence: 0.680)<br><b>Content:</b><br>THE CONSENSUS OF ALMOST EVERYBODY IS THAT, “THE FED SHOULD<br>CUT RATES SOONER, RATHER THAN LATER.” Too Late Powell, a man<br>legendary for being Too Late, will probably blow it again -<br>But who knows???<br><b>Speaker:</b> Donald Trump",
          "<b>Date:</b> 2025-05-16 04:38<br><b>Topic:</b> dollar-billion-tax (Confidence: 0.707)<br><b>Content:</b><br>“The president has traveled to Saudi Arabia, Qatar, and the<br>United Arab Emirates so far this week to sign agreements and<br>receive commitments that will generate roughly $2 trillion<br>in trade and investm...<br><b>Speaker:</b> Donald Trump",
          "<b>Date:</b> 2025-05-13 19:50<br><b>Topic:</b> dollar-billion-tax (Confidence: 0.508)<br><b>Content:</b><br>The Boeing 747 is being given to the United States Air<br>Force/Department of Defense, NOT TO ME! It is a gift from a<br>Nation, Qatar, that we have successfully defended for many<br>years. It will be used by ...<br><b>Speaker:</b> Donald Trump",
          "<b>Date:</b> 2025-05-13 13:43<br><b>Topic:</b> dollar-billion-tax (Confidence: 0.543)<br><b>Content:</b><br>No Inflation, and Prices of Gasoline, Energy, Groceries, and<br>practically everything else, are DOWN!!! THE FED must lower<br>the RATE, like Europe and China have done. What is wrong<br>with Too Late Powell? ...<br><b>Speaker:</b> Donald Trump",
          "<b>Date:</b> 2025-05-10 11:35<br><b>Topic:</b> dollar-billion-tax (Confidence: 0.775)<br><b>Content:</b><br>“Trump's Three Steps to Economic Growth”<br><b>Speaker:</b> Donald Trump",
          "<b>Date:</b> 2025-05-08 16:38<br><b>Topic:</b> dollar-billion-tax (Confidence: 0.552)<br><b>Content:</b><br>I have spoken with my wonderful Secretary of Commerce,<br>Howard Lutnick, and we agree that the Biden/Harris so-called<br>“Digital Equity Act” is totally UNCONSTITUTIONAL. No more<br>woke handouts based on rac...<br><b>Speaker:</b> Donald Trump",
          "<b>Date:</b> 2025-05-08 06:31<br><b>Topic:</b> dollar-billion-tax (Confidence: 0.486)<br><b>Content:</b><br>“Too Late” Jerome Powell is a FOOL, who doesn’t have a clue.<br>Other than that, I like him very much! Oil and Energy way<br>down, almost all costs (groceries and “eggs”) down,<br>virtually NO INFLATION, Tarif...<br><b>Speaker:</b> Donald Trump",
          "<b>Date:</b> 2025-05-07 17:49<br><b>Topic:</b> dollar-billion-tax (Confidence: 0.575)<br><b>Content:</b><br>We are making great progress on “The One, Big, Beautiful<br>Bill.” Our Economy is doing well, but it’s going to BOOM in<br>a way never seen before. We are going to do NO TAX ON TIPS,<br>NO TAX ON SENIORS’ SOCI...<br><b>Speaker:</b> Donald Trump",
          "<b>Date:</b> 2025-05-05 11:40<br><b>Topic:</b> dollar-billion-tax (Confidence: 0.538)<br><b>Content:</b><br>Secretary Scott Bessent: \"President Trump has secured more<br>investment for our country in 100 days than President Biden<br>did during all four years.\"<br><b>Speaker:</b> Donald Trump",
          "<b>Date:</b> 2025-05-05 10:06<br><b>Topic:</b> dollar-billion-tax (Confidence: 0.596)<br><b>Content:</b><br>Senator Markwayne Mullin: “President Trump is the first<br>President we've had that actually has a backbone strong<br>enough to stand up and say we've got to right this wrong,<br>start manufacturing goods here...<br><b>Speaker:</b> Donald Trump",
          "<b>Date:</b> 2025-05-04 14:52<br><b>Topic:</b> dollar-billion-tax (Confidence: 0.514)<br><b>Content:</b><br>Lee Zeldin: “At the Trump EPA, the status quo won’t be<br>treated as a sacred cow, Biden EPA rules won’t be considered<br>etched in stone, and there will be a ZERO tolerance policy<br>towards wasting ANY tax d...<br><b>Speaker:</b> Donald Trump",
          "<b>Date:</b> 2025-05-04 13:16<br><b>Topic:</b> dollar-billion-tax (Confidence: 0.910)<br><b>Content:</b><br>“The president has been very clear. He does not want to cut<br>benefits for individuals on Medicaid, Medicare...he wants to<br>make sure illegals are not receiving public assistance<br>through these benefits…”<br><b>Speaker:</b> Donald Trump",
          "<b>Date:</b> 2025-05-02 12:10<br><b>Topic:</b> dollar-billion-tax (Confidence: 0.580)<br><b>Content:</b><br>Stephen Moore: \"436,000 increase in the number of people who<br>are employed. So, this is an AMAZING report...The labor<br>force participation rate rose. So, this is a very strong<br>number.\"<br><b>Speaker:</b> Donald Trump",
          "<b>Date:</b> 2025-05-02 12:08<br><b>Topic:</b> dollar-billion-tax (Confidence: 0.606)<br><b>Content:</b><br>Maria Bartiromo: “As President Trump would say, it’s going<br>to be the best economy anybody has ever seen. Look, we've<br>got a market that is reflecting that.\"<br><b>Speaker:</b> Donald Trump",
          "<b>Date:</b> 2025-05-02 08:45<br><b>Topic:</b> dollar-billion-tax (Confidence: 0.478)<br><b>Content:</b><br>Gasoline just broke $1.98 a Gallon, lowest in years,<br>groceries (and eggs!) down, energy down, mortgage rates<br>down, employment strong, and much more good news, as<br>Billions of Dollars pour in from Tarif...<br><b>Speaker:</b> Donald Trump",
          "<b>Date:</b> 2025-04-27 09:06<br><b>Topic:</b> dollar-billion-tax (Confidence: 0.544)<br><b>Content:</b><br>When Tariffs cut in, many people’s Income Taxes will be<br>substantially reduced, maybe even completely eliminated.<br>Focus will be on people making less than $200,000 a year.<br>Also, massive numbers of jobs...<br><b>Speaker:</b> Donald Trump",
          "<b>Date:</b> 2025-04-21 09:41<br><b>Topic:</b> dollar-billion-tax (Confidence: 0.681)<br><b>Content:</b><br>“Preemptive Cuts” in Interest Rates are being called for by<br>many. With Energy Costs way down, food prices (including<br>Biden’s egg disaster!) substantially lower, and most other<br>“things” trending down, ...<br><b>Speaker:</b> Donald Trump",
          "<b>Date:</b> 2025-04-19 20:08<br><b>Topic:</b> dollar-billion-tax (Confidence: 0.447)<br><b>Content:</b><br>TRUMP’S BEST POLL NUMBERS, EVER. THANK YOU!<br><b>Speaker:</b> Donald Trump",
          "<b>Date:</b> 2025-04-17 06:12<br><b>Topic:</b> dollar-billion-tax (Confidence: 0.485)<br><b>Content:</b><br>The ECB is expected to cut interest rates for the 7th time,<br>and yet, “Too Late” Jerome Powell of the Fed, who is always<br>TOO LATE AND WRONG, yesterday issued a report which was<br>another, and typical, co...<br><b>Speaker:</b> Donald Trump",
          "<b>Date:</b> 2025-04-15 10:09<br><b>Topic:</b> dollar-billion-tax (Confidence: 0.383)<br><b>Content:</b><br>Perhaps Harvard should lose its Tax Exempt Status and be<br>Taxed as a Political Entity if it keeps pushing political,<br>ideological, and terrorist inspired/supporting “Sickness?”<br>Remember, Tax Exempt Stat...<br><b>Speaker:</b> Donald Trump",
          "<b>Date:</b> 2025-04-11 12:21<br><b>Topic:</b> dollar-billion-tax (Confidence: 0.968)<br><b>Content:</b><br>Today, President Donald J. Trump and Kirkland & Ellis LLP,<br>Allen Overy Shearman Sterling US LLP, Simpson Thacher &<br>Bartlett LLP, and Latham & Watkins LLP (the “Law Firms”)<br>announce the following agree...<br><b>Speaker:</b> Donald Trump",
          "<b>Date:</b> 2025-04-11 12:21<br><b>Topic:</b> dollar-billion-tax (Confidence: 0.391)<br><b>Content:</b><br>….Statement from the White House: \"President Trump and his<br>Administration have entered into an agreement with these<br>long established firms, which have affirmed their strong<br>commitment to ending the We...<br><b>Speaker:</b> Donald Trump",
          "<b>Date:</b> 2025-04-11 12:19<br><b>Topic:</b> dollar-billion-tax (Confidence: 0.910)<br><b>Content:</b><br>Today, President Donald J. Trump and Cadwalader, Wickersham<br>& Taft, LLP (“Cadwalader”) announce the following<br>commitments regarding a series of actions to be taken by<br>Cadwalader:1. Cadwalader will pro...<br><b>Speaker:</b> Donald Trump",
          "<b>Date:</b> 2025-04-10 11:28<br><b>Topic:</b> dollar-billion-tax (Confidence: 0.436)<br><b>Content:</b><br>Congratulations to the House on the passage of a Bill that<br>sets the stage for one of the Greatest and Most Important<br>Signings in the History of our Country. Among many other<br>things, it will be the Lar...<br><b>Speaker:</b> Donald Trump",
          "<b>Date:</b> 2025-04-10 09:38<br><b>Topic:</b> dollar-billion-tax (Confidence: 0.550)<br><b>Content:</b><br>Just out: “INFLATION IS DOWN!!!”<br><b>Speaker:</b> Donald Trump",
          "<b>Date:</b> 2025-04-10 08:28<br><b>Topic:</b> dollar-billion-tax (Confidence: 0.486)<br><b>Content:</b><br>Great News! “The Big, Beautiful Bill” is coming along really<br>well. Republicans are working together nicely. Biggest Tax<br>Cuts in USA History!!! Getting close. DJT<br><b>Speaker:</b> Donald Trump",
          "<b>Date:</b> 2025-04-09 08:58<br><b>Topic:</b> dollar-billion-tax (Confidence: 0.538)<br><b>Content:</b><br>It is IMPERATIVE that Republicans in the House pass the Tax<br>Cut Bill, NOW! Our Country Will Boom!!!<br><b>Speaker:</b> Donald Trump",
          "<b>Date:</b> 2025-04-04 11:08<br><b>Topic:</b> dollar-billion-tax (Confidence: 0.646)<br><b>Content:</b><br>This would be a PERFECT time for Fed Chairman Jerome Powell<br>to cut Interest Rates. He is always “late,” but he could now<br>change his image, and quickly. Energy prices are down,<br>Interest Rates are down,...<br><b>Speaker:</b> Donald Trump",
          "<b>Date:</b> 2025-04-04 08:44<br><b>Topic:</b> dollar-billion-tax (Confidence: 0.871)<br><b>Content:</b><br>TO THE MANY INVESTORS COMING INTO THE UNITED STATES AND<br>INVESTING MASSIVE AMOUNTS OF MONEY, MY POLICIES WILL NEVER<br>CHANGE. THIS IS A GREAT TIME TO GET RICH, RICHER THAN EVER<br>BEFORE!!!<br><b>Speaker:</b> Donald Trump",
          "<b>Date:</b> 2025-04-02 09:45<br><b>Topic:</b> dollar-billion-tax (Confidence: 0.560)<br><b>Content:</b><br>Lee Zeldin: “The historic deregulatory actions we are taking<br>at EPA will save the American people TRILLIONS of dollars<br>while we work to provide the cleanest air, land, and water<br>on the planet...”<br><b>Speaker:</b> Donald Trump",
          "<b>Date:</b> 2025-04-01 16:47<br><b>Topic:</b> dollar-billion-tax (Confidence: 0.816)<br><b>Content:</b><br>Today, President Donald J. Trump and Willkie Farr &<br>Gallagher LLP (“Willkie”) announce the following agreement<br>regarding a series of actions to be taken by Willkie:1.<br>Willkie will provide a total of a...<br><b>Speaker:</b> Donald Trump",
          "<b>Date:</b> 2025-03-31 19:05<br><b>Topic:</b> dollar-billion-tax (Confidence: 0.525)<br><b>Content:</b><br>“Europe Should Make a $200 Billion Deal With Trump”<br><b>Speaker:</b> Donald Trump",
          "<b>Date:</b> 2025-03-28 13:57<br><b>Topic:</b> dollar-billion-tax (Confidence: 0.858)<br><b>Content:</b><br>Today, President Donald J. Trump and Skadden, Arps, Slate,<br>Meagher & Flom LLP announce the following agreement<br>regarding a series of actions to be taken by Skadden:1.<br>Skadden will provide a total of a...<br><b>Speaker:</b> Donald Trump",
          "<b>Date:</b> 2025-03-26 11:50<br><b>Topic:</b> dollar-billion-tax (Confidence: 0.820)<br><b>Content:</b><br>“The bottom line is, the percentage of Americans who say<br>we're on the right track is through the roof.\"<br><b>Speaker:</b> Donald Trump",
          "<b>Date:</b> 2025-03-21 09:02<br><b>Topic:</b> dollar-billion-tax (Confidence: 0.775)<br><b>Content:</b><br>RT@realDonaldTrump“Nvidia to spend hundreds of billions in<br>U.S. during Trump's term”<br><b>Speaker:</b> Donald Trump",
          "<b>Date:</b> 2025-03-20 18:10<br><b>Topic:</b> dollar-billion-tax (Confidence: 0.578)<br><b>Content:</b><br>Today, President Donald J. Trump agreed to withdraw his<br>March 14, 2025 Executive Order regarding the Paul, Weiss,<br>Rifkind, Wharton & Garrison LLP law firm (“Paul, Weiss”),<br>which has entered into the f...<br><b>Speaker:</b> Donald Trump",
          "<b>Date:</b> 2025-03-20 11:22<br><b>Topic:</b> dollar-billion-tax (Confidence: 0.629)<br><b>Content:</b><br>Financial Times: “The huge spending projection from the<br>world’s most valuable semiconductor group (Nvidia) follows<br>multibillion-dollar US investment plans announced by other<br>technology companies inclu...<br><b>Speaker:</b> Donald Trump",
          "<b>Date:</b> 2025-03-20 08:59<br><b>Topic:</b> dollar-billion-tax (Confidence: 0.775)<br><b>Content:</b><br>“Nvidia to spend hundreds of billions in U.S. during Trump's<br>term”<br><b>Speaker:</b> Donald Trump",
          "<b>Date:</b> 2025-03-18 21:31<br><b>Topic:</b> dollar-billion-tax (Confidence: 0.659)<br><b>Content:</b><br>“Americans are continuing to see the benefits as the<br>economic agenda of President Donald J. Trump and his<br>administration comes into focus. After years of soaring<br>prices and economic pain, the Trump Ad...<br><b>Speaker:</b> Donald Trump",
          "<b>Date:</b> 2025-03-17 18:09<br><b>Topic:</b> dollar-billion-tax (Confidence: 0.498)<br><b>Content:</b><br>Hunter Biden has had Secret Service protection for an<br>extended period of time, all paid for by the United States<br>Taxpayer. There are as many as 18 people on this Detail,<br>which is ridiculous! He is cur...<br><b>Speaker:</b> Donald Trump",
          "<b>Date:</b> 2025-03-17 10:19<br><b>Topic:</b> dollar-billion-tax (Confidence: 0.578)<br><b>Content:</b><br>EPA Administrator, Lee Zeldin: “The Obama and Biden era<br>environmental regulations that strangulated the U.S. economy<br>are not Commandments, etched in stone. Quite the opposite<br>actually. The Trump era E...<br><b>Speaker:</b> Donald Trump",
          "<b>Date:</b> 2025-03-11 16:12<br><b>Topic:</b> dollar-billion-tax (Confidence: 0.550)<br><b>Content:</b><br>The Tesla Model S — BEAUTIFUL!<br><b>Speaker:</b> Donald Trump",
          "<b>Date:</b> 2025-03-09 20:51<br><b>Topic:</b> dollar-billion-tax (Confidence: 0.700)<br><b>Content:</b><br>I want a dynamic Country where private enterprise carries<br>the day—NOT the government!<br><b>Speaker:</b> Donald Trump",
          "<b>Date:</b> 2025-03-07 15:13<br><b>Topic:</b> dollar-billion-tax (Confidence: 0.700)<br><b>Content:</b><br>“Trump Administration Cancels $400 Million in Grants to<br>Columbia”<br><b>Speaker:</b> Donald Trump",
          "<b>Date:</b> 2025-03-03 13:31<br><b>Topic:</b> dollar-billion-tax (Confidence: 0.611)<br><b>Content:</b><br>Europe has spent more money buying Russian Oil and Gas than<br>they have spent on defending Ukraine —BY FAR!<br><b>Speaker:</b> Donald Trump",
          "<b>Date:</b> 2025-03-02 09:32<br><b>Topic:</b> dollar-billion-tax (Confidence: 0.871)<br><b>Content:</b><br>“President Trump is the best President we’ve ever had—a<br>great businessman, and that’s what it’s about...Trump is the<br>man for the job.\" Floyd Mayweather<br><b>Speaker:</b> Donald Trump",
          "<b>Date:</b> 2025-03-01 10:42<br><b>Topic:</b> dollar-billion-tax (Confidence: 0.382)<br><b>Content:</b><br>RT@RepMTGI traveled all across the country with President<br>Trump, and no matter which state or city we visited, the<br>American people greeted him with thunderous applause in<br>support of his tax cuts.These...<br><b>Speaker:</b> Donald Trump",
          "<b>Date:</b> 2025-02-27 21:37<br><b>Topic:</b> dollar-billion-tax (Confidence: 0.355)<br><b>Content:</b><br>Iowa, a beautiful State that I have won BIG every time, has<br>a Bill to remove Radical Gender Ideology from their Laws.<br>Iowa should follow the lead of my Executive Order, saying<br>there are only two gende...<br><b>Speaker:</b> Donald Trump",
          "<b>Date:</b> 2025-02-26 14:34<br><b>Topic:</b> dollar-billion-tax (Confidence: 0.550)<br><b>Content:</b><br>We're cutting down the size of government—we have to…<br><b>Speaker:</b> Donald Trump",
          "<b>Date:</b> 2025-02-26 10:25<br><b>Topic:</b> dollar-billion-tax (Confidence: 0.532)<br><b>Content:</b><br>I hope the House and Senate are able to agree on making the<br>Tax Cuts PERMANENT!<br><b>Speaker:</b> Donald Trump",
          "<b>Date:</b> 2025-02-24 08:04<br><b>Topic:</b> dollar-billion-tax (Confidence: 0.538)<br><b>Content:</b><br>APPLE HAS JUST ANNOUNCED A RECORD 500 BILLION DOLLAR<br>INVESTMENT IN THE UNITED STATES OF AMERICA. THE REASON,<br>FAITH IN WHAT WE ARE DOING, WITHOUT WHICH, THEY WOULD’NT BE<br>INVESTING TEN CENTS. THANK YOU ...<br><b>Speaker:</b> Donald Trump",
          "<b>Date:</b> 2025-02-21 11:21<br><b>Topic:</b> dollar-billion-tax (Confidence: 0.700)<br><b>Content:</b><br>@RepMattGaetz: “From cutting bloated budgets to renaming the<br>Gulf of America…”<br><b>Speaker:</b> Donald Trump",
          "<b>Date:</b> 2025-02-19 21:12<br><b>Topic:</b> dollar-billion-tax (Confidence: 0.432)<br><b>Content:</b><br>“Trump says he'll work with Republicans in Congress to<br>'dramatically' cut taxes”<br><b>Speaker:</b> Donald Trump",
          "<b>Date:</b> 2025-02-15 12:46<br><b>Topic:</b> dollar-billion-tax (Confidence: 0.700)<br><b>Content:</b><br>Massive AI Stargate Project under Trump admin reveals next<br>steps<br><b>Speaker:</b> Donald Trump",
          "<b>Date:</b> 2025-02-14 15:35<br><b>Topic:</b> dollar-billion-tax (Confidence: 0.525)<br><b>Content:</b><br>“Trump announces boldest tariff plan in more than a century:<br>'This is the big one'”<br><b>Speaker:</b> Donald Trump",
          "<b>Date:</b> 2025-02-12 09:04<br><b>Topic:</b> dollar-billion-tax (Confidence: 0.390)<br><b>Content:</b><br>BIDEN INFLATION UP!<br><b>Speaker:</b> Donald Trump",
          "<b>Date:</b> 2025-02-11 10:29<br><b>Topic:</b> dollar-billion-tax (Confidence: 0.633)<br><b>Content:</b><br>FEMA spent tens of millions of dollars in Democrat areas,<br>disobeying orders, but left the people of North Carolina<br>high and dry. It is now under review and investigation. THE<br>BIDEN RUN FEMA HAS BEEN A...<br><b>Speaker:</b> Donald Trump",
          "<b>Date:</b> 2025-02-11 10:04<br><b>Topic:</b> dollar-billion-tax (Confidence: 0.366)<br><b>Content:</b><br>“DOGE DISRUPTS DC WITH MASSIVE SPENDING CUTS”<br><b>Speaker:</b> Donald Trump",
          "<b>Date:</b> 2025-02-10 10:35<br><b>Topic:</b> dollar-billion-tax (Confidence: 0.518)<br><b>Content:</b><br>“What a Difference Eight Years Make: How Trump’s Second<br>Inaugural Will Surpass His First”<br><b>Speaker:</b> Donald Trump",
          "<b>Date:</b> 2025-02-09 21:27<br><b>Topic:</b> dollar-billion-tax (Confidence: 0.425)<br><b>Content:</b><br>For far too long the United States has minted pennies which<br>literally cost us more than 2 cents. This is so wasteful! I<br>have instructed my Secretary of the US Treasury to stop<br>producing new pennies. L...<br><b>Speaker:</b> Donald Trump",
          "<b>Date:</b> 2025-02-09 08:51<br><b>Topic:</b> dollar-billion-tax (Confidence: 0.815)<br><b>Content:</b><br>South Africa is confiscating land, and treating certain<br>classes of people VERY BADLY. It is a bad situation that the<br>Radical Left Media doesn’t want to so much as mention. A<br>massive Human Rights VIOLA...<br><b>Speaker:</b> Donald Trump",
          "<b>Date:</b> 2025-02-07 08:09<br><b>Topic:</b> dollar-billion-tax (Confidence: 0.587)<br><b>Content:</b><br>Two great Quarterbacks in this game. Also, an unbelievable<br>running back, and the absolute best tight end in football<br>(Ever!). Incredible coaching! If they would only get rid of<br>that really weird looki...<br><b>Speaker:</b> Donald Trump",
          "<b>Date:</b> 2025-02-02 19:04<br><b>Topic:</b> dollar-billion-tax (Confidence: 0.810)<br><b>Content:</b><br>RT@realDonaldTrumpSouth Africa is confiscating land, and<br>treating certain classes of people VERY BADLY. It is a bad<br>situation that the Radical Left Media doesn’t want to so<br>much as mention. A massive ...<br><b>Speaker:</b> Donald Trump",
          "<b>Date:</b> 2025-02-02 18:19<br><b>Topic:</b> dollar-billion-tax (Confidence: 0.826)<br><b>Content:</b><br>South Africa is confiscating land, and treating certain<br>classes of people VERY BADLY. It is a bad situation that the<br>Radical Left Media doesn’t want to so much as mention. A<br>massive Human Rights VIOLA...<br><b>Speaker:</b> Donald Trump",
          "<b>Date:</b> 2025-01-31 08:14<br><b>Topic:</b> dollar-billion-tax (Confidence: 0.543)<br><b>Content:</b><br>The Blackhawk helicopter was flying too high, by a lot. It<br>was far above the 200 foot limit. That’s not really too<br>complicated to understand, is it???<br><b>Speaker:</b> Donald Trump",
          "<b>Date:</b> 2025-01-29 16:17<br><b>Topic:</b> dollar-billion-tax (Confidence: 0.631)<br><b>Content:</b><br>Because Jay Powell and the Fed failed to stop the problem<br>they created with Inflation, I will do it by unleashing<br>American Energy production, slashing Regulation, rebalancing<br>International Trade, and ...<br><b>Speaker:</b> Donald Trump",
          "<b>Date:</b> 2025-01-25 20:07<br><b>Topic:</b> dollar-billion-tax (Confidence: 0.582)<br><b>Content:</b><br>“New viewership records on Twitch and YouTube thanks to<br>Donald Trump's Inauguration”<br><b>Speaker:</b> Donald Trump",
          "<b>Date:</b> 2025-01-25 20:04<br><b>Topic:</b> dollar-billion-tax (Confidence: 0.548)<br><b>Content:</b><br>President Donald J. Trump’s Historic Inauguration Sets<br>Viewership RecordData from Streams Charts shows that due to<br>coverage of President Trump’s Inauguration, the News section<br>of YouTube set a new “Al...<br><b>Speaker:</b> Donald Trump",
          "<b>Date:</b> 2025-01-09 07:29<br><b>Topic:</b> dollar-billion-tax (Confidence: 0.493)<br><b>Content:</b><br>Fire is spreading rapidly for 3 days — ZERO CONTAINMENT.<br>Nobody has ever seen such failed numbers before! Gross<br>incompetence by Gavin Newscum and Karen Bass….And Biden’s<br>FEMA has no money — all wasted...<br><b>Speaker:</b> Donald Trump",
          "<b>Date:</b> 2025-01-07 14:02<br><b>Topic:</b> dollar-billion-tax (Confidence: 0.669)<br><b>Content:</b><br>“GUTFELD! NOTCHES LARGEST AUDIENCE IN PROGRAM HISTORY WITH<br>NEARLY FIVE MILLION VIEWERS DURING INTERVIEW WITH FORMER<br>PRESIDENT DONALD TRUMP”<br><b>Speaker:</b> Donald Trump",
          "<b>Date:</b> 2025-01-07 13:57<br><b>Topic:</b> dollar-billion-tax (Confidence: 0.775)<br><b>Content:</b><br>RT@RealRogerStoneFIND OUT who else is on my 2024 Best &<br>Worst Dressed List:<br><b>Speaker:</b> Donald Trump",
          "<b>Date:</b> 2025-01-03 00:18<br><b>Topic:</b> dollar-billion-tax (Confidence: 0.850)<br><b>Content:</b><br>The U.K. is making a very big mistake. Open up the North<br>Sea. Get rid of Windmills!<br><b>Speaker:</b> Donald Trump"
         ],
         "type": "scatter3d",
         "x": {
          "bdata": "4lmqQAV8qkBHi51Ah+GdQOOEQ0D6fUNAZAZxQBcycUDEMj9AAMRYQDScnUBdRVxA24xfQI5ISkDha6hAwzBRQPCNMEBK5ExAzzRdQLRzAkAZ00VA4FM+QA8oREAQITBAU0kMQMNaT0DEL3JApV1AQL3enUCenm5AtyRAQLKVcUBLPFFAsWZNQFbhLUDcPSBAV9ZRQDqedECGvUVA59Y6QITbCkBvNTZA1llxQB85QUBtl0hA9ORQQJFdqkC7+3ZAENtBQIJ/D0DHyFFATT+oQBDKY0BkEkxAHEFjQJ6eTkDxWKpAWBHUP/uL/j9RBEFAwKYkQJu5dUDrhGRAFXRbQKK1nUCGoF8/Ret0QEjBOEBhNUNAJYBeQPhVS0B5m19Asns6QL6VUUAnpT9Ae1U5QANqNUC9flBAbbpDQI3U+z/0cgtA0mh0QFqEV0BhQEtA4fk0QDUFWEA/xDhAPkgHQIIHQEA+O19AdqExQLNiYUA16FFAJW8cQFdmXECnpmNAcCsVQAkaYUBsO2ZApTNNQM3lWEA6pWFATa1lQOOaZUCtUStAuns9QMmAaECHoXRAFBtKQDL3KkApSlZApp4DQM1CQUBwNT9AOhAJQGcuckAybalA5aFbQD0IZECr8h1AjO5UQL1ZnUB0BFJAhB84QMXWX0BVgVJAO2pfQKaaaEByDFdAUzhBQH/ZQkBEOURAuBhZQEw/qkDq7mJApiluQAdnPkAtwwVAmvEaQKC1RUAOz05AGX5DQOZ1YUAxAOM/h3Z1QKaVBUCZfU1Ave8WQEP7cECvOjxAooxzQDuOcUA4vkBADANhQIc9eEBhpnhABMhZQMcvQEDDhlFAIIOoQA==",
          "dtype": "f4"
         },
         "y": {
          "bdata": "yuXRPyxr0j/v2qo/1aqrP5//kj+MeZI//MyiQNdjo0DF+mw/tttmP3fzqj9oSrs9fgCiv6YRoD+MtMs/ZHp1QNdDxT9HdKc/1zQEO+/NP0DcS5s/GIFgQMKVIj8bV5s/n4i0PxATrz8QWqRAFWpJPzqrqz/JtrJAMxGUP+QhsEBsCbM/BJKoPyNNVEBZRFpASP12QCjfs0Dd15U/osFZQCqrR0C1gbk/IjKuQLTxQD91HKE/Gd6xP07H0T8lJ69A8vaQP0JnSkDxGLI/4gDLP5I8AL/ghMo+X4vTvirwckBcA9I/RLxTQLT3UkAYgps/eSlcQAZisEA3yw6/8ooOP+I5qz/SyDJA7ga1QF1Srj9NPFhAPY7KPLshpj9AOEe9FiasPwUxsz/qVEk/IMtdQNlEtz8erbA/+3tmQBpGUkBzxlZAW1msQCOEdT8/ekdAbRO8P1SleT8Th7I/oIVIQJxtRz8Rfai9BHKJPxvGhr4LfHZAa9+jPxeLj74iAQe/hmqtP4qIz751D0G/hhGpPyVAaz/V7rC+BZM5v8QnJr83UVxAcBYiP/8/mb/+PbNAeZaLP2k8vj+E2II/Xm9JQMBnYUB1xT0/BPpIQBSjpUDgNs4/170lP/x8nT8gAa0/muCOP0Iwqj9A/nVAVWS0P6V4L74uQndAwvmWvagjnr9kIm8/zsNfQFw3ZUAGnmZAFBT4Pahs0T/ijea++U2wQA12XUCf5EhA196tP/UjaUBOgEVAupJjQDuhpr7wvVNA1IWvQLMmR0A3eEpAB+6qP4kKpEDqNVw/xAGmQOehpEDB4TU//vifvu6ErkADs69AVNZ5Pwz1Vj+CBXZAxgfMPw==",
          "dtype": "f4"
         },
         "z": {
          "bdata": "+zIMwFZ1DMCVCv+/Qn7/v8CFXL8W7WC/FvGeP3fgoD/aHtS+sCZsv1D8/r9Tqki/0XbvvuLuhb/MWgnAW4LDPtn4Tb8nyI+/XC1Gv0Djyb3w5G2/ZGDaPpygPL4Y+0C/0k8LvxI+nb9FUKM/Fn9tvgp4/7/jctg/7Gddv4gX0T9EYqC/tQeSv8BVDz6mURM/LFjIPjpi2z9p3Gy/j1M2PpWxDr2AbFS/QwPIP6ngRb68y4K/WriavzMXDMCm9sc/oo9Yv9mI+bs27KC/Of0IwDiNKr/c5LG+CAMtv3MHyT7+PgzAQCN0P17mFT96U2K/PqoMP7BwzD+uDia/TnJiv2wo/7+eUSs/CZjeP5nzVb808b4+I1w9vwN1i7+B+T+/Egxav/d1oL+iWWm+fG/lPrerUb9lQ56/BHvQPogMFD+S2DE/TpK+P6egbL/AFo0+c3NUv5mObb8a0Fu/rKMsvSUPYb49+z+///0Gv78eN78J1sc+floSv2aoBb+k8im/XH8TvycuNr95oBq/RGaSv0F1bL9csDO/Ia4Sv5itHb8c6wM/FO7TPVkoCL/Kf9g/+BNkv3c8M7/psnK/t9ZdvOYw1D5SIfS9p3u1vOP1pz+RZQrAH5tkv9/AeL9cDCC/E+F4v62J/r+duMM+gcBUv2S5O783hcY+vMo+v+S5BL8LpGm/Gy/PPtWPvT71LMs+tTtFvykCDMBJuyu/HZvPP2WH1z4puPu8DTEZv45g0z7ELoc+3hLEPlxiNr9JVV4/BlPIPymIwL1sCJE+5hgQv06ooj9FxpG+b2ipP2U/pD9Dn+e98MQxvyhlxD/O6MU/HatlvwHunr4+h8Y+L3UJwA==",
          "dtype": "f4"
         }
        },
        {
         "hoverinfo": "text",
         "hovertemplate": "%{text}<extra></extra>",
         "marker": {
          "color": "rgb(190,186,218)",
          "line": {
           "color": "darkgray",
           "width": 0.5
          },
          "opacity": 0.8,
          "size": 5
         },
         "mode": "markers",
         "name": "Topic 3: war-thank-deal",
         "text": [
          "<b>Date:</b> 2025-07-20 07:53<br><b>Topic:</b> war-thank-deal (Confidence: 0.629)<br><b>Content:</b><br>Wow, time flies! Today is that Sixth Month Anniversary of my<br>Second Term. Importantly, it’s being hailed as one of the<br>most consequential periods of any President. In other words,<br>we got a lot of good...<br><b>Speaker:</b> Donald Trump",
          "<b>Date:</b> 2025-07-19 09:02<br><b>Topic:</b> war-thank-deal (Confidence: 0.957)<br><b>Content:</b><br>All three nuclear sites in Iran were completely destroyed<br>and/or OBLITERATED. It would take years to bring them back<br>into service and, if Iran wanted to do so, they would be<br>much better off starting a...<br><b>Speaker:</b> Donald Trump",
          "<b>Date:</b> 2025-07-18 09:17<br><b>Topic:</b> war-thank-deal (Confidence: 0.871)<br><b>Content:</b><br>I look forward to getting Rupert Murdoch to testify in my<br>lawsuit against him and his “pile of garbage” newspaper, the<br>WSJ. That will be an interesting experience!!!<br><b>Speaker:</b> Donald Trump",
          "<b>Date:</b> 2025-07-18 09:17<br><b>Topic:</b> war-thank-deal (Confidence: 0.871)<br><b>Content:</b><br>I look forward to getting Rupert Murdoch to testify in my<br>lawsuit against him and his “pile of garbage” newspaper, the<br>WSJ. That will be an interesting experience!!!<br><b>Speaker:</b> Donald Trump",
          "<b>Date:</b> 2025-07-16 16:19<br><b>Topic:</b> war-thank-deal (Confidence: 0.585)<br><b>Content:</b><br>I have been speaking to Coca-Cola about using REAL Cane<br>Sugar in Coke in the United States, and they have agreed to<br>do so. I’d like to thank all of those in authority at Coca-<br>Cola. This will be a very...<br><b>Speaker:</b> Donald Trump",
          "<b>Date:</b> 2025-07-15 15:32<br><b>Topic:</b> war-thank-deal (Confidence: 0.775)<br><b>Content:</b><br>Join me LIVE in Pittsburgh, Pennsylvania!<br><b>Speaker:</b> Donald Trump",
          "<b>Date:</b> 2025-07-15 14:48<br><b>Topic:</b> war-thank-deal (Confidence: 0.550)<br><b>Content:</b><br>Thank you to Ken Langone. Very nice!<br><b>Speaker:</b> Donald Trump",
          "<b>Date:</b> 2025-07-15 10:58<br><b>Topic:</b> war-thank-deal (Confidence: 0.374)<br><b>Content:</b><br>Maria Bartiromo on today's inflation report: \"You've got to<br>look at this report as another victory for President Trump,<br>who has focused on reining in inflation — and that’s what<br>we're seeing from this...<br><b>Speaker:</b> Donald Trump",
          "<b>Date:</b> 2025-07-15 09:50<br><b>Topic:</b> war-thank-deal (Confidence: 0.871)<br><b>Content:</b><br>Great deal, for everybody, just made with Indonesia. I dealt<br>directly with with their highly respected President. DETAILS<br>TO FOLLOW!!!<br><b>Speaker:</b> Donald Trump",
          "<b>Date:</b> 2025-07-12 14:01<br><b>Topic:</b> war-thank-deal (Confidence: 0.458)<br><b>Content:</b><br>“Treasury posts unexpected surplus in June as tariff<br>receipts surge”<br><b>Speaker:</b> Donald Trump",
          "<b>Date:</b> 2025-07-12 09:42<br><b>Topic:</b> war-thank-deal (Confidence: 0.580)<br><b>Content:</b><br>Because of the fact that Rosie O’Donnell is not in the best<br>interests of our Great Country, I am giving serious<br>consideration to taking away her Citizenship. She is a<br>Threat to Humanity, and should re...<br><b>Speaker:</b> Donald Trump",
          "<b>Date:</b> 2025-07-11 12:44<br><b>Topic:</b> war-thank-deal (Confidence: 0.443)<br><b>Content:</b><br>RT@WhiteHousePresident Donald J. Trump and First Lady<br>Melania Trump on their way to meet with flood victims in<br>Kerrville, Texas. 🇺🇸<br><b>Speaker:</b> Donald Trump",
          "<b>Date:</b> 2025-07-10 23:57<br><b>Topic:</b> war-thank-deal (Confidence: 0.820)<br><b>Content:</b><br>Thank you USA TODAY. So nice!“Trump deserves Nobel Peace<br>Prize. He's achieved more than those who've won before”<br><b>Speaker:</b> Donald Trump",
          "<b>Date:</b> 2025-07-10 19:04<br><b>Topic:</b> war-thank-deal (Confidence: 0.332)<br><b>Content:</b><br>It is very important that all Republicans adhere to my<br>Recissions Bill and, in particular, DEFUND THE CORPORATION<br>FOR PUBLIC BROADCASTING (PBS and NPR), which is worse than<br>CNN & MSDNC put together. A...<br><b>Speaker:</b> Donald Trump",
          "<b>Date:</b> 2025-07-09 10:09<br><b>Topic:</b> war-thank-deal (Confidence: 0.567)<br><b>Content:</b><br>RT@realDonaldTrumpAny Country aligning themselves with the<br>Anti-American policies of BRICS, will be charged an<br>ADDITIONAL 10% Tariff. There will be no exceptions to this<br>policy. Thank you for your att...<br><b>Speaker:</b> Donald Trump",
          "<b>Date:</b> 2025-07-08 19:20<br><b>Topic:</b> war-thank-deal (Confidence: 0.936)<br><b>Content:</b><br>We will be releasing a minimum of 7 Countries having to do<br>with trade, tomorrow morning, with an additional number of<br>Countries being released in the afternoon. Thank you for<br>your attention to this ma...<br><b>Speaker:</b> Donald Trump",
          "<b>Date:</b> 2025-07-08 10:45<br><b>Topic:</b> war-thank-deal (Confidence: 0.404)<br><b>Content:</b><br>As per letters sent to various countries yesterday, in<br>addition to letters that will be sent today, tomorrow, and<br>for the next short period of time, TARIFFS WILL START BEING<br>PAID ON AUGUST 1, 2025. Th...<br><b>Speaker:</b> Donald Trump",
          "<b>Date:</b> 2025-07-06 22:24<br><b>Topic:</b> war-thank-deal (Confidence: 0.567)<br><b>Content:</b><br>Any Country aligning themselves with the Anti-American<br>policies of BRICS, will be charged an ADDITIONAL 10% Tariff.<br>There will be no exceptions to this policy. Thank you for<br>your attention to this mat...<br><b>Speaker:</b> Donald Trump",
          "<b>Date:</b> 2025-07-06 22:12<br><b>Topic:</b> war-thank-deal (Confidence: 0.511)<br><b>Content:</b><br>I am pleased to announce that the UNITED STATES TARIFF<br>Letters, and/or Deals, with various Countries from around<br>the World, will be delivered starting 12:00 P.M. (Eastern),<br>Monday, July 7th. Thank you...<br><b>Speaker:</b> Donald Trump",
          "<b>Date:</b> 2025-07-06 19:52<br><b>Topic:</b> war-thank-deal (Confidence: 0.910)<br><b>Content:</b><br>GOD BLESS ALL OF THE PEOPLE WHO HAVE GONE THROUGH SO MUCH,<br>AND GOD BLESS THE STATE OF TEXAS!<br><b>Speaker:</b> Donald Trump",
          "<b>Date:</b> 2025-07-06 10:59<br><b>Topic:</b> war-thank-deal (Confidence: 0.558)<br><b>Content:</b><br>I just signed a Major Disaster Declaration for Kerr County,<br>Texas, to ensure that our Brave First Responders immediately<br>have the resources they need. These families are enduring an<br>unimaginable trage...<br><b>Speaker:</b> Donald Trump",
          "<b>Date:</b> 2025-07-05 10:58<br><b>Topic:</b> war-thank-deal (Confidence: 0.773)<br><b>Content:</b><br>The Trump Administration is working with State and Local<br>Officials on the ground in Texas in response to the tragic<br>flooding that took place yesterday. Our Secretary of<br>Homeland Security, Kristi Noem,...<br><b>Speaker:</b> Donald Trump",
          "<b>Date:</b> 2025-07-04 23:40<br><b>Topic:</b> war-thank-deal (Confidence: 0.550)<br><b>Content:</b><br>HAPPY 4TH OF JULY! 🎇🎆🇺🇸🦅<br><b>Speaker:</b> Donald Trump",
          "<b>Date:</b> 2025-07-03 23:50<br><b>Topic:</b> war-thank-deal (Confidence: 0.460)<br><b>Content:</b><br>RT@rapidresponse47President@realDonaldTrump: Exactly one<br>year from tomorrow, we will celebrate the 250th anniversary<br>of America's founding...This evening, we are officially<br>launching \"AMERICA 250\" — a...<br><b>Speaker:</b> Donald Trump",
          "<b>Date:</b> 2025-07-03 09:39<br><b>Topic:</b> war-thank-deal (Confidence: 0.850)<br><b>Content:</b><br>Will be speaking to President Putin of Russia at 10:00 A.M.<br>Thank you!<br><b>Speaker:</b> Donald Trump",
          "<b>Date:</b> 2025-07-02 10:44<br><b>Topic:</b> war-thank-deal (Confidence: 0.508)<br><b>Content:</b><br>It is my Great Honor to announce that I have just made a<br>Trade Deal with the Socialist Republic of Vietnam after<br>speaking with To Lam, the Highly Respected General Secretary<br>of the Communist Party of ...<br><b>Speaker:</b> Donald Trump",
          "<b>Date:</b> 2025-07-02 10:25<br><b>Topic:</b> war-thank-deal (Confidence: 0.775)<br><b>Content:</b><br>I just made a Trade Deal with Vietnam. Details to follow!<br><b>Speaker:</b> Donald Trump",
          "<b>Date:</b> 2025-07-01 18:25<br><b>Topic:</b> war-thank-deal (Confidence: 0.936)<br><b>Content:</b><br>My Representatives had a long and productive meeting with<br>the Israelis today on Gaza. Israel has agreed to the<br>necessary conditions to finalize the 60 Day CEASEFIRE,<br>during which time we will work wit...<br><b>Speaker:</b> Donald Trump",
          "<b>Date:</b> 2025-06-30 14:13<br><b>Topic:</b> war-thank-deal (Confidence: 0.690)<br><b>Content:</b><br>I’m doing a major Conference Call with Faith Leaders from<br>all over the Country, and AT&T is totally unable to make<br>their equipment work properly. This is the second time it’s<br>happened. If the Boss of ...<br><b>Speaker:</b> Donald Trump",
          "<b>Date:</b> 2025-06-30 13:56<br><b>Topic:</b> war-thank-deal (Confidence: 0.502)<br><b>Content:</b><br>To show people how spoiled Countries have become with<br>respect to the United States of America, and I have great<br>respect for Japan, they won’t take our RICE, and yet they<br>have a massive rice shortage. ...<br><b>Speaker:</b> Donald Trump",
          "<b>Date:</b> 2025-06-29 00:27<br><b>Topic:</b> war-thank-deal (Confidence: 0.539)<br><b>Content:</b><br>VERY PROUD OF THE REPUBLICAN PARTY TONIGHT. GOD BLESS YOU<br>ALL!<br><b>Speaker:</b> Donald Trump",
          "<b>Date:</b> 2025-06-28 22:01<br><b>Topic:</b> war-thank-deal (Confidence: 0.803)<br><b>Content:</b><br>Numerous people have come forward wanting to run in the<br>Primary against “Senator Thom” Tillis. I will be meeting<br>with them over the coming weeks, looking for someone who<br>will properly represent the Gr...<br><b>Speaker:</b> Donald Trump",
          "<b>Date:</b> 2025-06-27 23:22<br><b>Topic:</b> war-thank-deal (Confidence: 0.671)<br><b>Content:</b><br>RT@realDonaldTrumpWhy would the so-called “Supreme Leader,”<br>Ayatollah Ali Khamenei, of the war torn Country of Iran, say<br>so blatantly and foolishly that he won the War with Israel,<br>when he knows his s...<br><b>Speaker:</b> Donald Trump",
          "<b>Date:</b> 2025-06-27 13:09<br><b>Topic:</b> war-thank-deal (Confidence: 0.671)<br><b>Content:</b><br>Why would the so-called “Supreme Leader,” Ayatollah Ali<br>Khamenei, of the war torn Country of Iran, say so blatantly<br>and foolishly that he won the War with Israel, when he knows<br>his statement is a lie,...<br><b>Speaker:</b> Donald Trump",
          "<b>Date:</b> 2025-06-25 13:17<br><b>Topic:</b> war-thank-deal (Confidence: 0.748)<br><b>Content:</b><br>Israel just stated that the Nuclear Sites were OBLITERATED!<br>Thank you to our great B-2 pilots, and all others involved!<br><b>Speaker:</b> Donald Trump",
          "<b>Date:</b> 2025-06-25 12:54<br><b>Topic:</b> war-thank-deal (Confidence: 0.850)<br><b>Content:</b><br>Secretary Marco Rubio: “I know of no president, probably in<br>our modern history—that has sought peace more than President<br>Trump has.\"<br><b>Speaker:</b> Donald Trump",
          "<b>Date:</b> 2025-06-25 11:44<br><b>Topic:</b> war-thank-deal (Confidence: 0.758)<br><b>Content:</b><br>Last weekend, the United States successfully carried out a<br>massive precision strike on Iran's nuclear enrichment<br>facilities, and it was very, very successful—It was called<br>OBLITERATION. This incredibl...<br><b>Speaker:</b> Donald Trump",
          "<b>Date:</b> 2025-06-25 11:29<br><b>Topic:</b> war-thank-deal (Confidence: 0.729)<br><b>Content:</b><br>A letter from the Atomic Energy Commission of Israel states<br>that \"the devastating U.S. strike on Fordow destroyed the<br>site's critical infrastructure and rendered the enrichment<br>facility totally inoper...<br><b>Speaker:</b> Donald Trump",
          "<b>Date:</b> 2025-06-25 08:35<br><b>Topic:</b> war-thank-deal (Confidence: 0.388)<br><b>Content:</b><br>Secretary Marco Rubio: “There’s no way Iran comes to the<br>table if somehow nothing had happened—this was COMPLETE &<br>TOTAL OBLITERATION, they’re in bad shape…”<br><b>Speaker:</b> Donald Trump",
          "<b>Date:</b> 2025-06-24 20:28<br><b>Topic:</b> war-thank-deal (Confidence: 0.820)<br><b>Content:</b><br>Steve Witkoff on the 12 Day War ceasefire: \"The proof is in<br>the pudding, no one's shooting at each other. It's over.”<br><b>Speaker:</b> Donald Trump",
          "<b>Date:</b> 2025-06-24 11:52<br><b>Topic:</b> war-thank-deal (Confidence: 0.550)<br><b>Content:</b><br>Thank you to Jeb Bush — Very much appreciated!<br><b>Speaker:</b> Donald Trump",
          "<b>Date:</b> 2025-06-24 11:17<br><b>Topic:</b> war-thank-deal (Confidence: 0.918)<br><b>Content:</b><br>Both Israel and Iran wanted to stop the War, equally! It was<br>my great honor to Destroy All Nuclear facilities &<br>capability, and then, STOP THE WAR!<br><b>Speaker:</b> Donald Trump",
          "<b>Date:</b> 2025-06-24 09:14<br><b>Topic:</b> war-thank-deal (Confidence: 0.785)<br><b>Content:</b><br>Heading to NATO where, at worst, it will be a much calmer<br>period than what I just went through with Israel and Iran. I<br>look forward to seeing all of my very good European friends,<br>and others. Hopefull...<br><b>Speaker:</b> Donald Trump",
          "<b>Date:</b> 2025-06-24 07:28<br><b>Topic:</b> war-thank-deal (Confidence: 0.804)<br><b>Content:</b><br>ISRAEL is not going to attack Iran. All planes will turn<br>around and head home, while doing a friendly “Plane Wave” to<br>Iran. Nobody will be hurt, the Ceasefire is in effect! Thank<br>you for your attentio...<br><b>Speaker:</b> Donald Trump",
          "<b>Date:</b> 2025-06-24 06:50<br><b>Topic:</b> war-thank-deal (Confidence: 0.850)<br><b>Content:</b><br>ISRAEL. DO NOT DROP THOSE BOMBS. IF YOU DO IT IS A MAJOR<br>VIOLATION. BRING YOUR PILOTS HOME, NOW! DONALD J. TRUMP,<br>PRESIDENT OF THE UNITED STATES<br><b>Speaker:</b> Donald Trump",
          "<b>Date:</b> 2025-06-24 01:08<br><b>Topic:</b> war-thank-deal (Confidence: 0.367)<br><b>Content:</b><br>THE CEASEFIRE IS NOW IN EFFECT. PLEASE DO NOT VIOLATE IT!<br>DONALD J. TRUMP, PRESIDENT OF THE UNITED STATES!<br><b>Speaker:</b> Donald Trump",
          "<b>Date:</b> 2025-06-23 22:18<br><b>Topic:</b> war-thank-deal (Confidence: 0.759)<br><b>Content:</b><br>Israel & Iran came to me, almost simultaneously, and said,<br>“PEACE!” I knew the time was NOW. The World, and the Middle<br>East, are the real WINNERS! Both Nations will see tremendous<br>LOVE, PEACE, AND PRO...<br><b>Speaker:</b> Donald Trump",
          "<b>Date:</b> 2025-06-23 18:02<br><b>Topic:</b> war-thank-deal (Confidence: 0.988)<br><b>Content:</b><br>CONGRATULATIONS TO EVERYONE! It has been fully agreed by and<br>between Israel and Iran that there will be a Complete and<br>Total CEASEFIRE (in approximately 6 hours from now, when<br>Israel and Iran have wou...<br><b>Speaker:</b> Donald Trump",
          "<b>Date:</b> 2025-06-23 16:02<br><b>Topic:</b> war-thank-deal (Confidence: 0.610)<br><b>Content:</b><br>CONGRATULATIONS WORLD, IT’S TIME FOR PEACE!<br><b>Speaker:</b> Donald Trump",
          "<b>Date:</b> 2025-06-23 15:54<br><b>Topic:</b> war-thank-deal (Confidence: 0.957)<br><b>Content:</b><br>I’d like to thank the Highly Respected Emir of Qatar for all<br>that he has done in seeking Peace for the Region. Regarding<br>the attack today at the American Base in Qatar, I am pleased<br>to report that, in...<br><b>Speaker:</b> Donald Trump",
          "<b>Date:</b> 2025-06-23 15:52<br><b>Topic:</b> war-thank-deal (Confidence: 0.970)<br><b>Content:</b><br>Iran has officially responded to our Obliteration of their<br>Nuclear Facilities with a very weak response, which we<br>expected, and have very effectively countered. There have<br>been 14 missiles fired — 13 ...<br><b>Speaker:</b> Donald Trump",
          "<b>Date:</b> 2025-06-22 21:55<br><b>Topic:</b> war-thank-deal (Confidence: 0.656)<br><b>Content:</b><br>Monumental Damage was done to all Nuclear sites in Iran, as<br>shown by satellite images. Obliteration is an accurate term!<br>The white structure shown is deeply imbedded into the rock,<br>with even its roof ...<br><b>Speaker:</b> Donald Trump",
          "<b>Date:</b> 2025-06-22 16:45<br><b>Topic:</b> war-thank-deal (Confidence: 0.563)<br><b>Content:</b><br>The damage to the Nuclear sites in Iran is said to be<br>“monumental.” The hits were hard and accurate. Great skill<br>was shown by our military. Thank you!<br><b>Speaker:</b> Donald Trump",
          "<b>Date:</b> 2025-06-21 22:35<br><b>Topic:</b> war-thank-deal (Confidence: 0.675)<br><b>Content:</b><br>ANY RETALIATION BY IRAN AGAINST THE UNITED STATES OF AMERICA<br>WILL BE MET WITH FORCE FAR GREATER THAN WHAT WAS WITNESSED<br>TONIGHT. THANK YOU! DONALD J. TRUMP, PRESIDENT OF THE UNITED<br>STATES<br><b>Speaker:</b> Donald Trump",
          "<b>Date:</b> 2025-06-21 20:13<br><b>Topic:</b> war-thank-deal (Confidence: 0.663)<br><b>Content:</b><br>I will be giving an Address to the Nation at 10:00 P.M., at<br>the White House, regarding our very successful military<br>operation in Iran. This is an HISTORIC MOMENT FOR THE UNITED<br>STATES OF AMERICA, ISRA...<br><b>Speaker:</b> Donald Trump",
          "<b>Date:</b> 2025-06-21 19:50<br><b>Topic:</b> war-thank-deal (Confidence: 0.878)<br><b>Content:</b><br>We have completed our very successful attack on the three<br>Nuclear sites in Iran, including Fordow, Natanz, and<br>Esfahan. All planes are now outside of Iran air space. A<br>full payload of BOMBS was droppe...<br><b>Speaker:</b> Donald Trump",
          "<b>Date:</b> 2025-06-20 22:49<br><b>Topic:</b> war-thank-deal (Confidence: 0.775)<br><b>Content:</b><br>“We have to trust in our Commander-in-Chief...If there’s ONE<br>PERSON who can stop us from being embroiled in a war, it’s<br>President Trump…”<br><b>Speaker:</b> Donald Trump",
          "<b>Date:</b> 2025-06-20 17:58<br><b>Topic:</b> war-thank-deal (Confidence: 0.704)<br><b>Content:</b><br>I am very happy to report that I have arranged, along with<br>Secretary of State Marco Rubio, a wonderful Treaty between<br>the Democratic Republic of the Congo, and the Republic of<br>Rwanda, in their War, wh...<br><b>Speaker:</b> Donald Trump",
          "<b>Date:</b> 2025-06-20 15:40<br><b>Topic:</b> war-thank-deal (Confidence: 0.651)<br><b>Content:</b><br>Many people have been asking what is going on with Harvard<br>University and their largescale improprieties that we have<br>been addressing, looking for a solution. We have been<br>working closely with Harvard...<br><b>Speaker:</b> Donald Trump",
          "<b>Date:</b> 2025-06-17 12:19<br><b>Topic:</b> war-thank-deal (Confidence: 0.492)<br><b>Content:</b><br>We know exactly where the so-called “Supreme Leader” is<br>hiding. He is an easy target, but is safe there - We are not<br>going to take him out (kill!), at least not for now. But we<br>don’t want missiles sho...<br><b>Speaker:</b> Donald Trump",
          "<b>Date:</b> 2025-06-15 09:41<br><b>Topic:</b> war-thank-deal (Confidence: 0.513)<br><b>Content:</b><br>Iran and Israel should make a deal, and will make a deal,<br>just like I got India and Pakistan to make, in that case by<br>using TRADE with the United States to bring reason,<br>cohesion, and sanity into the ...<br><b>Speaker:</b> Donald Trump",
          "<b>Date:</b> 2025-06-15 00:32<br><b>Topic:</b> war-thank-deal (Confidence: 0.726)<br><b>Content:</b><br>The U.S. had nothing to do with the attack on Iran, tonight.<br>If we are attacked in any way, shape or form by Iran, the<br>full strength and might of the U.S. Armed Forces will come<br>down on you at levels ...<br><b>Speaker:</b> Donald Trump",
          "<b>Date:</b> 2025-06-15 00:11<br><b>Topic:</b> war-thank-deal (Confidence: 0.700)<br><b>Content:</b><br>What a GREAT Parade. THANK YOU, ARMY!<br><b>Speaker:</b> Donald Trump",
          "<b>Date:</b> 2025-06-14 15:01<br><b>Topic:</b> war-thank-deal (Confidence: 0.692)<br><b>Content:</b><br>President Putin called this morning to very nicely wish me a<br>Happy Birthday, but to more importantly, talk about Iran, a<br>country he knows very well. We talked at length. Much less<br>time was spent talki...<br><b>Speaker:</b> Donald Trump",
          "<b>Date:</b> 2025-06-14 12:42<br><b>Topic:</b> war-thank-deal (Confidence: 0.419)<br><b>Content:</b><br>I have been briefed on the terrible shooting that took place<br>in Minnesota, which appears to be a targeted attack against<br>State Lawmakers. Our Attorney General, Pam Bondi, and the<br>FBI, are investigatin...<br><b>Speaker:</b> Donald Trump",
          "<b>Date:</b> 2025-06-14 09:49<br><b>Topic:</b> war-thank-deal (Confidence: 0.775)<br><b>Content:</b><br>HAPPY FLAG DAY!<br><b>Speaker:</b> Donald Trump",
          "<b>Date:</b> 2025-06-13 07:34<br><b>Topic:</b> war-thank-deal (Confidence: 0.662)<br><b>Content:</b><br>Two months ago I gave Iran a 60 day ultimatum to “make a<br>deal.” They should have done it! Today is day 61. I told<br>them what to do, but they just couldn’t get there. Now they<br>have, perhaps, a second ch...<br><b>Speaker:</b> Donald Trump",
          "<b>Date:</b> 2025-06-13 05:56<br><b>Topic:</b> war-thank-deal (Confidence: 0.795)<br><b>Content:</b><br>I gave Iran chance after chance to make a deal. I told them,<br>in the strongest of words, to “just do it,” but no matter<br>how hard they tried, no matter how close they got, they just<br>couldn’t get it done...<br><b>Speaker:</b> Donald Trump",
          "<b>Date:</b> 2025-06-12 17:09<br><b>Topic:</b> war-thank-deal (Confidence: 0.734)<br><b>Content:</b><br>We remain committed to a Diplomatic Resolution to the Iran<br>Nuclear Issue! My entire Administration has been directed to<br>negotiate with Iran. They could be a Great Country, but they<br>first must complete...<br><b>Speaker:</b> Donald Trump",
          "<b>Date:</b> 2025-06-12 09:02<br><b>Topic:</b> war-thank-deal (Confidence: 0.700)<br><b>Content:</b><br>THE CHINA DEAL IS GREAT!<br><b>Speaker:</b> Donald Trump",
          "<b>Date:</b> 2025-06-12 07:58<br><b>Topic:</b> war-thank-deal (Confidence: 0.503)<br><b>Content:</b><br>Lee Greenwood was GREAT on Maria B this morning. He is a<br>SPECTACULAR man, married to a great woman, Kim, and will be<br>singing at the biggest ever Military Parade, IN HONOR OF THE<br>ARMY, which is exactly...<br><b>Speaker:</b> Donald Trump",
          "<b>Date:</b> 2025-06-11 17:44<br><b>Topic:</b> war-thank-deal (Confidence: 0.568)<br><b>Content:</b><br>I am more confident than ever that in the days ahead and<br>every generation to come, the U.S. Army will heap glory upon<br>glory. You will summon inexhaustible courage. You will<br>protect every inch of U.S. ...<br><b>Speaker:</b> Donald Trump",
          "<b>Date:</b> 2025-06-11 08:04<br><b>Topic:</b> war-thank-deal (Confidence: 0.621)<br><b>Content:</b><br>OUR DEAL WITH CHINA IS DONE, SUBJECT TO FINAL APPROVAL WITH<br>PRESIDENT XI AND ME. FULL MAGNETS, AND ANY NECESSARY RARE<br>EARTHS, WILL BE SUPPLIED, UP FRONT, BY CHINA. LIKEWISE, WE<br>WILL PROVIDE TO CHINA W...<br><b>Speaker:</b> Donald Trump",
          "<b>Date:</b> 2025-06-10 19:16<br><b>Topic:</b> war-thank-deal (Confidence: 0.610)<br><b>Content:</b><br>Standing before you today, I am more confident than ever<br>that in the days ahead and every generation to come, the<br>U.S. Army will heap glory upon glory. You will summon<br>inexhaustible courage. You will ...<br><b>Speaker:</b> Donald Trump",
          "<b>Date:</b> 2025-06-10 19:15<br><b>Topic:</b> war-thank-deal (Confidence: 0.526)<br><b>Content:</b><br>This week, we remember that we only have A COUNTRY because<br>we first had an ARMY—and after 250 years, we still proudly<br>declare that WE ARE FREE because YOU ARE STRONG. We are SAFE<br>because you are BRAVE...<br><b>Speaker:</b> Donald Trump",
          "<b>Date:</b> 2025-06-10 19:11<br><b>Topic:</b> war-thank-deal (Confidence: 0.617)<br><b>Content:</b><br>From June 1775 to June 2025, those foolish enough to<br>challenge America’s Army have been met with unyielding<br>strength, unbreakable spirit, and unstoppable, overwhelming<br>force. Time and again, our enemi...<br><b>Speaker:</b> Donald Trump",
          "<b>Date:</b> 2025-06-06 14:30<br><b>Topic:</b> war-thank-deal (Confidence: 0.802)<br><b>Content:</b><br>I am pleased to announce that Secretary of the Treasury<br>Scott Bessent, Secretary of Commerce Howard Lutnick, and<br>United States Trade Representative, Ambassador Jamieson<br>Greer, will be meeting in Londo...<br><b>Speaker:</b> Donald Trump",
          "<b>Date:</b> 2025-06-05 10:46<br><b>Topic:</b> war-thank-deal (Confidence: 0.870)<br><b>Content:</b><br>I just concluded a very good phone call with President Xi,<br>of China, discussing some of the intricacies of our recently<br>made, and agreed to, Trade Deal. The call lasted<br>approximately one and a half ho...<br><b>Speaker:</b> Donald Trump",
          "<b>Date:</b> 2025-06-04 14:01<br><b>Topic:</b> war-thank-deal (Confidence: 0.367)<br><b>Content:</b><br>“Congress can give Trump the leverage to coerce Putin”<br><b>Speaker:</b> Donald Trump",
          "<b>Date:</b> 2025-06-04 13:56<br><b>Topic:</b> war-thank-deal (Confidence: 0.606)<br><b>Content:</b><br>I just finished speaking, by telephone, with President<br>Vladimir Putin, of Russia. The call lasted approximately one<br>hour and 15 minutes. We discussed the attack on Russia’s<br>docked airplanes, by Ukrain...<br><b>Speaker:</b> Donald Trump",
          "<b>Date:</b> 2025-06-02 19:43<br><b>Topic:</b> war-thank-deal (Confidence: 0.356)<br><b>Content:</b><br>Congratulations to my friend, Kid Rock (I call him Bob!), on<br>the Grand Opening of his new Nashville restaurant, “The<br>Detroit Cowboy.” I hear it is a very friendly MAGA<br>establishment, and look forward ...<br><b>Speaker:</b> Donald Trump",
          "<b>Date:</b> 2025-05-31 21:40<br><b>Topic:</b> war-thank-deal (Confidence: 0.671)<br><b>Content:</b><br>After a thorough review of prior associations, I am hereby<br>withdrawing the nomination of Jared Isaacman to head NASA. I<br>will soon announce a new Nominee who will be Mission<br>aligned, and put America Fi...<br><b>Speaker:</b> Donald Trump",
          "<b>Date:</b> 2025-05-30 13:30<br><b>Topic:</b> war-thank-deal (Confidence: 0.499)<br><b>Content:</b><br>Upon the request and recommendation of many people, I am<br>herby terminating the employment of Kim Sajet as Director of<br>the National Portrait Gallery. She is a highly partisan<br>person, and a strong suppo...<br><b>Speaker:</b> Donald Trump",
          "<b>Date:</b> 2025-05-28 18:33<br><b>Topic:</b> war-thank-deal (Confidence: 0.367)<br><b>Content:</b><br>Happy 101st Anniversary to the U.S. Border Patrol—THANK YOU<br>for all you do, 24/7/365!PROCLAMATION:<br><b>Speaker:</b> Donald Trump",
          "<b>Date:</b> 2025-05-27 09:25<br><b>Topic:</b> war-thank-deal (Confidence: 0.586)<br><b>Content:</b><br>I was extremely satisfied with the 50% Tariff allotment on<br>the European Union, especially since they were “slow walking<br>(to put it mildly!), our negotiations with them. Remember, I<br>am empowered to “SE...<br><b>Speaker:</b> Donald Trump",
          "<b>Date:</b> 2025-05-26 07:45<br><b>Topic:</b> war-thank-deal (Confidence: 0.777)<br><b>Content:</b><br>Countries from all over the World want to make TRADE DEALS<br>with us. IT IS A BEAUTIFUL THING TO SEE. The Good Ol’ USA<br>will soon have tremendous growth, and be stronger than ever<br>before!!!<br><b>Speaker:</b> Donald Trump",
          "<b>Date:</b> 2025-05-26 06:28<br><b>Topic:</b> war-thank-deal (Confidence: 0.700)<br><b>Content:</b><br>HAPPY MEMORIAL DAY!<br><b>Speaker:</b> Donald Trump",
          "<b>Date:</b> 2025-05-25 20:46<br><b>Topic:</b> war-thank-deal (Confidence: 0.522)<br><b>Content:</b><br>I’ve always had a very good relationship with Vladimir Putin<br>of Russia, but something has happened to him. He has gone<br>absolutely CRAZY! He is needlessly killing a lot of people,<br>and I’m not just talk...<br><b>Speaker:</b> Donald Trump",
          "<b>Date:</b> 2025-05-25 18:15<br><b>Topic:</b> war-thank-deal (Confidence: 0.722)<br><b>Content:</b><br>I received a call today from Ursula von der Leyen, President<br>of the European Commission, requesting an extension on the<br>June 1st deadline on the 50% Tariff with respect to Trade<br>and the European Union...<br><b>Speaker:</b> Donald Trump",
          "<b>Date:</b> 2025-05-24 11:34<br><b>Topic:</b> war-thank-deal (Confidence: 0.512)<br><b>Content:</b><br>As you receive your commissions as Second Lieutenants, each<br>of you continues down the same hallowed path walked by the<br>titans and legends of U.S. Military lore…<br><b>Speaker:</b> Donald Trump",
          "<b>Date:</b> 2025-05-23 15:25<br><b>Topic:</b> war-thank-deal (Confidence: 0.506)<br><b>Content:</b><br>I am proud to announce that we will be hosting a magnificent<br>Parade to honor the United States Army’s 250th Birthday, on<br>Saturday, June 14th, in Washington, D.C. For two and a half<br>centuries, our brav...<br><b>Speaker:</b> Donald Trump",
          "<b>Date:</b> 2025-05-23 07:19<br><b>Topic:</b> war-thank-deal (Confidence: 0.442)<br><b>Content:</b><br>I have long ago informed Tim Cook of Apple that I expect<br>their iPhone’s that will be sold in the United States of<br>America will be manufactured and built in the United States,<br>not India, or anyplace el...<br><b>Speaker:</b> Donald Trump",
          "<b>Date:</b> 2025-05-23 05:43<br><b>Topic:</b> war-thank-deal (Confidence: 0.630)<br><b>Content:</b><br>A major prisoners swap was just completed between Russia and<br>Ukraine. It will go into effect shortly. Congratulations to<br>both sides on this negotiation. This could lead to something<br>big???<br><b>Speaker:</b> Donald Trump",
          "<b>Date:</b> 2025-05-22 00:11<br><b>Topic:</b> war-thank-deal (Confidence: 0.931)<br><b>Content:</b><br>These horrible D.C. killings, based obviously on<br>antisemitism, must end, NOW! Hatred and Radicalism have no<br>place in the USA. Condolences to the families of the<br>victims. So sad that such things as thi...<br><b>Speaker:</b> Donald Trump",
          "<b>Date:</b> 2025-05-21 18:48<br><b>Topic:</b> war-thank-deal (Confidence: 0.602)<br><b>Content:</b><br>I am giving very serious consideration to bringing Fannie<br>Mae and Freddie Mac public. I will be speaking with Treasury<br>Secretary Scott Bessent, Secretary of Commerce Howard<br>Lutnick, and the Director o...<br><b>Speaker:</b> Donald Trump",
          "<b>Date:</b> 2025-05-19 13:33<br><b>Topic:</b> war-thank-deal (Confidence: 0.784)<br><b>Content:</b><br>Just completed my two hour call with President Vladimir<br>Putin of Russia. I believe it went very well. Russia and<br>Ukraine will immediately start negotiations toward a<br>Ceasefire and, more importantly, a...<br><b>Speaker:</b> Donald Trump",
          "<b>Date:</b> 2025-05-18 17:32<br><b>Topic:</b> war-thank-deal (Confidence: 0.508)<br><b>Content:</b><br>Melania and I are saddened to hear about Joe Biden’s recent<br>medical diagnosis. We extend our warmest and best wishes to<br>Jill and the family, and we wish Joe a fast and successful<br>recovery.<br><b>Speaker:</b> Donald Trump",
          "<b>Date:</b> 2025-05-17 10:58<br><b>Topic:</b> war-thank-deal (Confidence: 0.871)<br><b>Content:</b><br>I WILL BE SPEAKING, BY TELEPHONE, TO PRESIDENT VLADIMIR<br>PUTIN OF RUSSIA ON MONDAY, AT 10:00 A.M. THE SUBJECTS OF THE<br>CALL WILL BE, STOPPING THE “BLOODBATH” THAT IS KILLING, ON<br>AVERAGE, MORE THAN 5000 ...<br><b>Speaker:</b> Donald Trump",
          "<b>Date:</b> 2025-05-16 18:49<br><b>Topic:</b> war-thank-deal (Confidence: 0.700)<br><b>Content:</b><br>Ending the sanctions on Syria…<br><b>Speaker:</b> Donald Trump",
          "<b>Date:</b> 2025-05-16 18:45<br><b>Topic:</b> war-thank-deal (Confidence: 0.512)<br><b>Content:</b><br>I’ve always considered the Middle East to be a very<br>important region…<br><b>Speaker:</b> Donald Trump",
          "<b>Date:</b> 2025-05-15 08:07<br><b>Topic:</b> war-thank-deal (Confidence: 0.518)<br><b>Content:</b><br>Remember, it all started right after the Civil War ended, it<br>had nothing to do with current day Immigration Policy!<br><b>Speaker:</b> Donald Trump",
          "<b>Date:</b> 2025-05-15 07:53<br><b>Topic:</b> war-thank-deal (Confidence: 0.445)<br><b>Content:</b><br>Big case today in the United States Supreme Court.<br>Birthright Citizenship was not meant for people taking<br>vacations to become permanent Citizens of the United States<br>of America, and bringing their fam...<br><b>Speaker:</b> Donald Trump",
          "<b>Date:</b> 2025-05-14 13:43<br><b>Topic:</b> war-thank-deal (Confidence: 0.434)<br><b>Content:</b><br>RT@WhiteHouse“The gleaming marbles of Riyadh and Abu Dhabi<br>were not created by the so-called nation builders, neocons,<br>or liberal nonprofits. The birth of a modern Middle East has<br>been brought by the ...<br><b>Speaker:</b> Donald Trump",
          "<b>Date:</b> 2025-05-13 16:07<br><b>Topic:</b> war-thank-deal (Confidence: 0.550)<br><b>Content:</b><br>So nice. Thank you!<br><b>Speaker:</b> Donald Trump",
          "<b>Date:</b> 2025-05-11 18:38<br><b>Topic:</b> war-thank-deal (Confidence: 0.466)<br><b>Content:</b><br>I am happy to announce that Edan Alexander, an American<br>citizen who has been held hostage since October 2023, is<br>coming home to his family. I am grateful to all those<br>involved in making this monumenta...<br><b>Speaker:</b> Donald Trump",
          "<b>Date:</b> 2025-05-11 12:16<br><b>Topic:</b> war-thank-deal (Confidence: 0.877)<br><b>Content:</b><br>President Putin of Russia doesn’t want to have a Cease Fire<br>Agreement with Ukraine, but rather wants to meet on<br>Thursday, in Turkey, to negotiate a possible end to the<br>BLOODBATH. Ukraine should agree ...<br><b>Speaker:</b> Donald Trump",
          "<b>Date:</b> 2025-05-11 00:06<br><b>Topic:</b> war-thank-deal (Confidence: 0.700)<br><b>Content:</b><br>HAPPY MOTHER’S DAY TO ALL, AND TO ALL A GOODNIGHT!!!<br><b>Speaker:</b> Donald Trump",
          "<b>Date:</b> 2025-05-11 00:03<br><b>Topic:</b> war-thank-deal (Confidence: 0.817)<br><b>Content:</b><br>A potentially great day for Russia and Ukraine! Think of the<br>hundreds of thousands of lives that will be saved as this<br>never ending “bloodbath” hopefully comes to an end. It will<br>be a whole new, and m...<br><b>Speaker:</b> Donald Trump",
          "<b>Date:</b> 2025-05-10 23:58<br><b>Topic:</b> war-thank-deal (Confidence: 0.708)<br><b>Content:</b><br>I am very proud of the strong and unwaveringly powerful<br>leadership of India and Pakistan for having the strength,<br>wisdom, and fortitude to fully know and understand that it<br>was time to stop the curren...<br><b>Speaker:</b> Donald Trump",
          "<b>Date:</b> 2025-05-10 19:12<br><b>Topic:</b> war-thank-deal (Confidence: 0.720)<br><b>Content:</b><br>A very good meeting today with China, in Switzerland. Many<br>things discussed, much agreed to. A total reset negotiated<br>in a friendly, but constructive, manner. We want to see, for<br>the good of both Chin...<br><b>Speaker:</b> Donald Trump",
          "<b>Date:</b> 2025-05-10 07:55<br><b>Topic:</b> war-thank-deal (Confidence: 0.515)<br><b>Content:</b><br>After a long night of talks mediated by the United States, I<br>am pleased to announce that India and Pakistan have agreed<br>to a FULL AND IMMEDIATE CEASEFIRE. Congratulations to both<br>Countries on using Co...<br><b>Speaker:</b> Donald Trump",
          "<b>Date:</b> 2025-05-09 08:43<br><b>Topic:</b> war-thank-deal (Confidence: 0.820)<br><b>Content:</b><br>Many Trade Deals in the hopper, all good (GREAT!) ones!<br><b>Speaker:</b> Donald Trump",
          "<b>Date:</b> 2025-05-08 17:49<br><b>Topic:</b> war-thank-deal (Confidence: 0.763)<br><b>Content:</b><br>The Deal I made today with the United Kingdom is GREAT for<br>our FARMERS and RANCHERS! It’s also wonderful for the United<br>Kingdom. Everybody benefits, that’s the way it should be!<br><b>Speaker:</b> Donald Trump",
          "<b>Date:</b> 2025-05-08 16:38<br><b>Topic:</b> war-thank-deal (Confidence: 0.977)<br><b>Content:</b><br>Talks with Russia/Ukraine continue. The U.S. calls for,<br>ideally, a 30-day unconditional ceasefire. Hopefully, an<br>acceptable ceasefire will be observed, and both Countries<br>will be held accountable for ...<br><b>Speaker:</b> Donald Trump",
          "<b>Date:</b> 2025-05-08 10:59<br><b>Topic:</b> war-thank-deal (Confidence: 0.425)<br><b>Content:</b><br>Today is an incredible day for America as we deliver our<br>first Fair, Open, and Reciprocal Trade Deal — Something our<br>past Presidents never cared about. Together with our strong<br>Ally, the United Kingdo...<br><b>Speaker:</b> Donald Trump",
          "<b>Date:</b> 2025-05-08 06:08<br><b>Topic:</b> war-thank-deal (Confidence: 0.940)<br><b>Content:</b><br>The agreement with the United Kingdom is a full and<br>comprehensive one that will cement the relationship between<br>the United States and the United Kingdom for many years to<br>come. Because of our long tim...<br><b>Speaker:</b> Donald Trump",
          "<b>Date:</b> 2025-05-07 20:56<br><b>Topic:</b> war-thank-deal (Confidence: 0.705)<br><b>Content:</b><br>Big News Conference tomorrow morning at 10:00 A.M., The Oval<br>Office, concerning a MAJOR TRADE DEAL WITH REPRESENTATIVES<br>OF A BIG, AND HIGHLY RESPECTED, COUNTRY. THE FIRST OF<br>MANY!!!<br><b>Speaker:</b> Donald Trump",
          "<b>Date:</b> 2025-05-07 15:22<br><b>Topic:</b> war-thank-deal (Confidence: 0.398)<br><b>Content:</b><br>I am pleased to announce that I’ve just signed a<br>Proclamation officially designating tomorrow, May 8th as<br>VICTORY DAY FOR WORLD WAR II…Proclamation:<br><b>Speaker:</b> Donald Trump",
          "<b>Date:</b> 2025-05-06 22:32<br><b>Topic:</b> war-thank-deal (Confidence: 0.556)<br><b>Content:</b><br>Today, it was my Great Honor to host the first meeting of<br>the White House FIFA Task Force. Starting this June, the<br>United States will host the 2025 Club World Cup—and next<br>summer, we'll host the Offic...<br><b>Speaker:</b> Donald Trump",
          "<b>Date:</b> 2025-05-06 10:22<br><b>Topic:</b> war-thank-deal (Confidence: 0.944)<br><b>Content:</b><br>Commerce Secretary, Howard Lutnick: “President Trump hasn’t<br>just changed the way we think about trade; he’s also changed<br>how our trading partners approach it. We’re about to see<br>some amazing trade dea...<br><b>Speaker:</b> Donald Trump",
          "<b>Date:</b> 2025-05-05 18:49<br><b>Topic:</b> war-thank-deal (Confidence: 0.537)<br><b>Content:</b><br>We won two World Wars, but we never took credit for it —<br>Everyone else does! All over the World, the Allies are<br>celebrating the Victory we had in World War II. The only<br>Country that doesn’t celebrate ...<br><b>Speaker:</b> Donald Trump",
          "<b>Date:</b> 2025-05-05 11:10<br><b>Topic:</b> war-thank-deal (Confidence: 0.972)<br><b>Content:</b><br>I just had a very good and productive telephone conversation<br>with the President of Turkey, Recep Erdoğan, concerning many<br>subjects, including the War with Russia/Ukraine, all things<br>Syria, Gaza, and m...<br><b>Speaker:</b> Donald Trump",
          "<b>Date:</b> 2025-05-01 19:04<br><b>Topic:</b> war-thank-deal (Confidence: 0.753)<br><b>Content:</b><br>Just landing in Alabama, where I look forward to giving the<br>Commencement Address to the Great University of Alabama.<br>They put all of their nine Graduations into one, so I better<br>do well. These are tre...<br><b>Speaker:</b> Donald Trump",
          "<b>Date:</b> 2025-05-01 14:20<br><b>Topic:</b> war-thank-deal (Confidence: 0.557)<br><b>Content:</b><br>ALERT: All purchases of Iranian Oil, or Petrochemical<br>products, must stop, NOW! Any Country or person who buys ANY<br>AMOUNT of OIL or PETROCHEMICALS from Iran will be subject<br>to, immediately, Secondary ...<br><b>Speaker:</b> Donald Trump",
          "<b>Date:</b> 2025-04-30 10:32<br><b>Topic:</b> war-thank-deal (Confidence: 0.550)<br><b>Content:</b><br>“DONALD TRUMP CELEBRATING THE FIRST 100 DAYS OF HIS SECOND<br>TERM…”<br><b>Speaker:</b> Donald Trump",
          "<b>Date:</b> 2025-04-29 11:09<br><b>Topic:</b> war-thank-deal (Confidence: 0.620)<br><b>Content:</b><br>“TRUMP NEGOTIATING TRADE DEALS TO REVAMP ECONOMY”<br><b>Speaker:</b> Donald Trump",
          "<b>Date:</b> 2025-04-27 13:42<br><b>Topic:</b> war-thank-deal (Confidence: 0.299)<br><b>Content:</b><br>Thank you to my wonderful friends in Michigan’s Republican<br>Delegation, and the many other incredible Republicans in<br>Congress, who want to travel with me to celebrate our<br>Historic First 100 Days on Tue...<br><b>Speaker:</b> Donald Trump",
          "<b>Date:</b> 2025-04-27 13:42<br><b>Topic:</b> war-thank-deal (Confidence: 0.442)<br><b>Content:</b><br>I’m bringing Columbus Day back from the ashes. The Democrats<br>did everything possible to destroy Christopher Columbus, his<br>reputation, and all of the Italians that love him so much.<br>They tore down his ...<br><b>Speaker:</b> Donald Trump",
          "<b>Date:</b> 2025-04-26 16:37<br><b>Topic:</b> war-thank-deal (Confidence: 0.391)<br><b>Content:</b><br>American Ships, both Military and Commercial, should be<br>allowed to travel, free of charge, through the Panama and<br>Suez Canals! Those Canals would not exist without the United<br>States of America. I’ve a...<br><b>Speaker:</b> Donald Trump",
          "<b>Date:</b> 2025-04-26 09:35<br><b>Topic:</b> war-thank-deal (Confidence: 0.422)<br><b>Content:</b><br>No matter what deal I make with respect to Russia/Ukraine,<br>no matter how good it is, even if it’s the greatest deal<br>ever made, The Failing New York Times will speak BADLY of<br>it. Liddle’ Peter Baker, t...<br><b>Speaker:</b> Donald Trump",
          "<b>Date:</b> 2025-04-25 17:49<br><b>Topic:</b> war-thank-deal (Confidence: 0.796)<br><b>Content:</b><br>Just landed in Rome. A good day in talks and meetings with<br>Russia and Ukraine. They are very close to a deal, and the<br>two sides should now meet, at very high levels, to “finish<br>it off.” Most of the ma...<br><b>Speaker:</b> Donald Trump",
          "<b>Date:</b> 2025-04-25 16:18<br><b>Topic:</b> war-thank-deal (Confidence: 0.461)<br><b>Content:</b><br>Big news coming out of Africa, where I am also involved in<br>settling violent wars and conflicts. I don’t know why so<br>many of these events have fallen to me and my<br>Administration, but they have, and we ...<br><b>Speaker:</b> Donald Trump",
          "<b>Date:</b> 2025-04-25 14:32<br><b>Topic:</b> war-thank-deal (Confidence: 0.894)<br><b>Content:</b><br>Ukraine, headed by Volodymyr Zelenskyy, has not signed the<br>final papers on the very important Rare Earths Deal with the<br>United States. It is at least three weeks late. Hopefully,<br>it will be signed IMM...<br><b>Speaker:</b> Donald Trump",
          "<b>Date:</b> 2025-04-24 08:24<br><b>Topic:</b> war-thank-deal (Confidence: 0.677)<br><b>Content:</b><br>I am not happy with the Russian strikes on KYIV. Not<br>necessary, and very bad timing. Vladimir, STOP! 5000<br>soldiers a week are dying. Lets get the Peace Deal DONE!<br><b>Speaker:</b> Donald Trump",
          "<b>Date:</b> 2025-04-23 12:00<br><b>Topic:</b> war-thank-deal (Confidence: 0.538)<br><b>Content:</b><br>Ukrainian President, Volodymyr Zelenskyy, is boasting on the<br>front page of The Wall Street Journal that, “Ukraine will<br>not legally recognize the occupation of Crimea. There’s<br>nothing to talk about her...<br><b>Speaker:</b> Donald Trump",
          "<b>Date:</b> 2025-04-22 11:10<br><b>Topic:</b> war-thank-deal (Confidence: 0.517)<br><b>Content:</b><br>I’ve just spoken to Prime Minister of Israel, Bibi<br>Netanyahu, relative to numerous subjects including Trade,<br>Iran, etc. The call went very well—We are on the same side<br>of every issue.<br><b>Speaker:</b> Donald Trump",
          "<b>Date:</b> 2025-04-21 22:43<br><b>Topic:</b> war-thank-deal (Confidence: 0.495)<br><b>Content:</b><br>I have agreed to do the Commencement Address at two really<br>GREAT places, the University of Alabama and, WEST POINT.<br>Stay tuned for times and dates!!! DJT<br><b>Speaker:</b> Donald Trump",
          "<b>Date:</b> 2025-04-21 15:58<br><b>Topic:</b> war-thank-deal (Confidence: 0.850)<br><b>Content:</b><br>Melania and I will be going to the funeral of Pope Francis,<br>in Rome. We look forward to being there!<br><b>Speaker:</b> Donald Trump",
          "<b>Date:</b> 2025-04-21 07:59<br><b>Topic:</b> war-thank-deal (Confidence: 0.820)<br><b>Content:</b><br>Rest in Peace Pope Francis! May God Bless him and all who<br>loved him!<br><b>Speaker:</b> Donald Trump",
          "<b>Date:</b> 2025-04-20 16:15<br><b>Topic:</b> war-thank-deal (Confidence: 0.775)<br><b>Content:</b><br>HOPEFULLY RUSSIA AMD UKRAINE WILL MAKE A DEAL THIS WEEK.<br>BOTH WILL THEN START TO DO BIG BUSINESS WITH THE UNITED<br>STATES OF AMERICA, WHICH IS THRIVING, AND MAKE A FORTUNE!<br><b>Speaker:</b> Donald Trump",
          "<b>Date:</b> 2025-04-20 16:09<br><b>Topic:</b> war-thank-deal (Confidence: 0.418)<br><b>Content:</b><br>THE GOLDEN RULE OF NEGOTIATING AND SUCCESS: HE WHO HAS THE<br>GOLD MAKES THE RULES. THANK YOU!<br><b>Speaker:</b> Donald Trump",
          "<b>Date:</b> 2025-04-20 15:57<br><b>Topic:</b> war-thank-deal (Confidence: 0.550)<br><b>Content:</b><br>HAPPY EASTER. WE WILL, MAKE AMERICA GREAT AGAIN! DONALD J.<br>TRUMP, PRESIDENT OF THE UNITED STATES.<br><b>Speaker:</b> Donald Trump",
          "<b>Date:</b> 2025-04-20 08:40<br><b>Topic:</b> war-thank-deal (Confidence: 0.910)<br><b>Content:</b><br>Melania and I would like to wish everyone a very Happy<br>Easter! Whether you are heading out to Church or, watching<br>Service from home, may this day be full of Peace and Joy for<br>all who celebrate the Res...<br><b>Speaker:</b> Donald Trump",
          "<b>Date:</b> 2025-04-19 18:18<br><b>Topic:</b> war-thank-deal (Confidence: 0.482)<br><b>Content:</b><br>I look forward to having Easter service early tomorrow<br>morning at the White House!<br><b>Speaker:</b> Donald Trump",
          "<b>Date:</b> 2025-04-17 10:45<br><b>Topic:</b> war-thank-deal (Confidence: 0.426)<br><b>Content:</b><br>RT@WhiteHousePresident Trump attends the WH Easter Prayer<br>Service and Dinner during Holy Week.🙏“It will always be In<br>God We Trust. We will never change that… With God’s help, we<br>can overcome every cha...<br><b>Speaker:</b> Donald Trump",
          "<b>Date:</b> 2025-04-17 08:02<br><b>Topic:</b> war-thank-deal (Confidence: 0.688)<br><b>Content:</b><br>Had a very productive call with the President of Mexico<br>yesterday. Likewise, I met with the highest level Japanese<br>Trade Representatives. It was a very productive meeting.<br>Every Nation, including Chin...<br><b>Speaker:</b> Donald Trump",
          "<b>Date:</b> 2025-04-17 07:45<br><b>Topic:</b> war-thank-deal (Confidence: 0.423)<br><b>Content:</b><br>American Samoa: Happy Flag Day! Today marks the 125th<br>Anniversary of American Samoa becoming a treasured part of<br>the United States, and our Great American Flag has flown<br>over the Islands ever since.Th...<br><b>Speaker:</b> Donald Trump",
          "<b>Date:</b> 2025-04-16 17:48<br><b>Topic:</b> war-thank-deal (Confidence: 0.461)<br><b>Content:</b><br>A Great Honor to have just met with the Japanese Delegation<br>on Trade. Big Progress!<br><b>Speaker:</b> Donald Trump",
          "<b>Date:</b> 2025-04-16 06:18<br><b>Topic:</b> war-thank-deal (Confidence: 0.543)<br><b>Content:</b><br>Japan is coming in today to negotiate Tariffs, the cost of<br>military support, and “TRADE FAIRNESS.” I will attend the<br>meeting, along with Treasury & Commerce Secretaries.<br>Hopefully something can be wor...<br><b>Speaker:</b> Donald Trump",
          "<b>Date:</b> 2025-04-15 10:46<br><b>Topic:</b> war-thank-deal (Confidence: 0.505)<br><b>Content:</b><br>Our farmers are GREAT, but because of their GREATNESS, they<br>are always put on the Front Line with our adversaries, such<br>as China, whenever there is a Trade negotiation or, in this<br>case, a Trade War. T...<br><b>Speaker:</b> Donald Trump",
          "<b>Date:</b> 2025-04-14 10:12<br><b>Topic:</b> war-thank-deal (Confidence: 0.486)<br><b>Content:</b><br>The War between Russia and Ukraine is Biden’s war, not mine.<br>I just got here, and for four years during my term, had no<br>problem in preventing it from happening. President Putin,<br>and everyone else, res...<br><b>Speaker:</b> Donald Trump",
          "<b>Date:</b> 2025-04-13 22:08<br><b>Topic:</b> war-thank-deal (Confidence: 0.520)<br><b>Content:</b><br>We look forward to seeing President Bukele, of El Salvador,<br>tomorrow in the White House!<br><b>Speaker:</b> Donald Trump",
          "<b>Date:</b> 2025-04-13 20:57<br><b>Topic:</b> war-thank-deal (Confidence: 0.871)<br><b>Content:</b><br>RT@WhiteHouse✝️\"This Holy Week, Melania and I join in prayer<br>with Christians celebrating the crucifixion and resurrection<br>of our Lord and Savior, Jesus Christ—the living Son of God<br>who conquered death...<br><b>Speaker:</b> Donald Trump",
          "<b>Date:</b> 2025-04-13 20:57<br><b>Topic:</b> war-thank-deal (Confidence: 0.600)<br><b>Content:</b><br>RT@WhiteHouse\"To all the Jewish families gathering with<br>friends and loved ones this week, have a blessed Passover,<br>and may God continue to watch over the Jewish people, the<br>State of Israel, and the Un...<br><b>Speaker:</b> Donald Trump",
          "<b>Date:</b> 2025-04-13 20:53<br><b>Topic:</b> war-thank-deal (Confidence: 0.730)<br><b>Content:</b><br>This Holy Week, Christians around the World remember the<br>Crucifixion of God’s Only Begotten Son, our Lord and Savior,<br>Jesus Christ and, on Easter Sunday, we celebrate His<br>Glorious Resurrection and pro...<br><b>Speaker:</b> Donald Trump",
          "<b>Date:</b> 2025-04-12 18:35<br><b>Topic:</b> war-thank-deal (Confidence: 0.432)<br><b>Content:</b><br>Looking forward to seeing President Bukele, of El Salvador,<br>on Monday! Our Nations are working closely together to<br>eradicate terrorist organizations, and build a future of<br>Prosperity. President Bukele...<br><b>Speaker:</b> Donald Trump",
          "<b>Date:</b> 2025-04-11 12:19<br><b>Topic:</b> war-thank-deal (Confidence: 0.406)<br><b>Content:</b><br>….Statement from the White House: “President Trump and his<br>Administration have entered into an agreement with<br>Cadwalader, Wickersham & Taft, LLP, which voiced their<br>strong commitment to ending the Wea...<br><b>Speaker:</b> Donald Trump",
          "<b>Date:</b> 2025-04-11 09:35<br><b>Topic:</b> war-thank-deal (Confidence: 0.910)<br><b>Content:</b><br>Russia has to get moving. Too many people ere DYING,<br>thousands a week, in a terrible and senseless war - A war<br>that should have never happened, and wouldn’t have happened,<br>if I were President!!!<br><b>Speaker:</b> Donald Trump",
          "<b>Date:</b> 2025-04-10 19:12<br><b>Topic:</b> war-thank-deal (Confidence: 0.559)<br><b>Content:</b><br>Terrible helicopter crash in the Hudson River. Looks like<br>six people, the pilot, two adults, and three children, are<br>no longer with us. The footage of the accident is<br>horrendous. God bless the familie...<br><b>Speaker:</b> Donald Trump",
          "<b>Date:</b> 2025-04-10 18:33<br><b>Topic:</b> war-thank-deal (Confidence: 0.465)<br><b>Content:</b><br>I am proud to nominate Yehuda Kaploun as the United States<br>Special Envoy to Monitor and Combat Antisemitism,<br>Ambassador-at-Large. Yehuda is a successful businessman, and<br>staunch advocate for the Jewis...<br><b>Speaker:</b> Donald Trump",
          "<b>Date:</b> 2025-04-09 23:34<br><b>Topic:</b> war-thank-deal (Confidence: 0.499)<br><b>Content:</b><br>Thank you, Vince Molinari. Congratulations on all of your<br>success!<br><b>Speaker:</b> Donald Trump",
          "<b>Date:</b> 2025-04-09 13:18<br><b>Topic:</b> war-thank-deal (Confidence: 0.565)<br><b>Content:</b><br>Based on the lack of respect that China has shown to the<br>World’s Markets, I am hereby raising the Tariff charged to<br>China by the United States of America to 125%, effective<br>immediately. At some point,...<br><b>Speaker:</b> Donald Trump",
          "<b>Date:</b> 2025-04-08 10:44<br><b>Topic:</b> war-thank-deal (Confidence: 0.700)<br><b>Content:</b><br>“We're managing a massive amount of requests for<br>negotiations…”<br><b>Speaker:</b> Donald Trump",
          "<b>Date:</b> 2025-04-08 09:08<br><b>Topic:</b> war-thank-deal (Confidence: 0.510)<br><b>Content:</b><br>I just had a great call with the Acting President of South<br>Korea. We talked about their tremendous and unsustainable<br>Surplus, Tariffs, Shipbuilding, large scale purchase of U.S.<br>LNG, their joint ventu...<br><b>Speaker:</b> Donald Trump",
          "<b>Date:</b> 2025-04-07 18:32<br><b>Topic:</b> war-thank-deal (Confidence: 0.638)<br><b>Content:</b><br>I am pleased to report that my long scheduled Annual<br>Physical Examination will be done at Walter Reed Army<br>Medical Center on Friday of this week. I have never felt<br>better, but nevertheless, these thin...<br><b>Speaker:</b> Donald Trump",
          "<b>Date:</b> 2025-04-07 18:22<br><b>Topic:</b> war-thank-deal (Confidence: 0.698)<br><b>Content:</b><br>Secretary of Treasury, Scott Bessent: “Almost 70 countries<br>have now approached us wanting to help rebalance global<br>trade…”<br><b>Speaker:</b> Donald Trump",
          "<b>Date:</b> 2025-04-07 10:28<br><b>Topic:</b> war-thank-deal (Confidence: 0.524)<br><b>Content:</b><br>“I appreciate what the President is doing on<br>tariffs...Australia has sold $29 billion worth of beef in<br>the United States, and we haven't been able to sell one<br>hamburger in Australia because of barrier...<br><b>Speaker:</b> Donald Trump",
          "<b>Date:</b> 2025-04-07 10:17<br><b>Topic:</b> war-thank-deal (Confidence: 0.367)<br><b>Content:</b><br>“President Trump Unleashes Economic Prosperity”<br><b>Speaker:</b> Donald Trump",
          "<b>Date:</b> 2025-04-07 10:14<br><b>Topic:</b> war-thank-deal (Confidence: 0.400)<br><b>Content:</b><br>“President Trump has secured more private investment in his<br>first 11 weeks than Biden secured over his ENTIRE first<br>term.”<br><b>Speaker:</b> Donald Trump",
          "<b>Date:</b> 2025-04-07 10:09<br><b>Topic:</b> war-thank-deal (Confidence: 0.820)<br><b>Content:</b><br>“More than 50 countries have reached out to the president to<br>begin a negotiation…”<br><b>Speaker:</b> Donald Trump",
          "<b>Date:</b> 2025-04-04 13:34<br><b>Topic:</b> war-thank-deal (Confidence: 0.451)<br><b>Content:</b><br>My Administration has been working very hard on a Deal to<br>SAVE TIKTOK, and we have made tremendous progress. The Deal<br>requires more work to ensure all necessary approvals are<br>signed, which is why I am...<br><b>Speaker:</b> Donald Trump",
          "<b>Date:</b> 2025-04-04 11:01<br><b>Topic:</b> war-thank-deal (Confidence: 0.586)<br><b>Content:</b><br>Just had a very productive call with To Lam, General<br>Secretary of the Communist Party of Vietnam, who told me<br>that Vietnam wants to cut their Tariffs down to ZERO if they<br>are able to make an agreement...<br><b>Speaker:</b> Donald Trump",
          "<b>Date:</b> 2025-04-01 11:21<br><b>Topic:</b> war-thank-deal (Confidence: 0.779)<br><b>Content:</b><br>My telephone call with President El-Sisi, of Egypt, went<br>very well. We discussed numerous topics, among which was the<br>tremendous Military progress we have made against the Ship<br>destroying Houthis in Y...<br><b>Speaker:</b> Donald Trump",
          "<b>Date:</b> 2025-03-31 19:03<br><b>Topic:</b> war-thank-deal (Confidence: 0.367)<br><b>Content:</b><br>“Trump’s Timber Triumph: An America First Blueprint for<br>Prosperity”<br><b>Speaker:</b> Donald Trump",
          "<b>Date:</b> 2025-03-30 19:49<br><b>Topic:</b> war-thank-deal (Confidence: 0.311)<br><b>Content:</b><br>I got a call from a very good guy, and friend of mine, Kid<br>Rock, asking me whether or not it would be possible for me<br>to meet, in the White House, with Bill Maher, a man who has<br>been unjustifiably cri...<br><b>Speaker:</b> Donald Trump",
          "<b>Date:</b> 2025-03-29 16:14<br><b>Topic:</b> war-thank-deal (Confidence: 0.772)<br><b>Content:</b><br>I just played a round of Golf with Alexander Stubb,<br>President of Finland. He is a very good player, and we won<br>the Men’s Member-Guest Golf Tournament at Trump<br>International Golf Club in Palm Beach Cou...<br><b>Speaker:</b> Donald Trump",
          "<b>Date:</b> 2025-03-29 14:23<br><b>Topic:</b> war-thank-deal (Confidence: 0.700)<br><b>Content:</b><br>Thank you Faye — So honored with your words!<br><b>Speaker:</b> Donald Trump",
          "<b>Date:</b> 2025-03-28 11:10<br><b>Topic:</b> war-thank-deal (Confidence: 0.457)<br><b>Content:</b><br>I just finished speaking with Prime Minister Mark Carney, of<br>Canada. It was an extremely productive call, we agree on<br>many things, and will be meeting immediately after Canada’s<br>upcoming Election to w...<br><b>Speaker:</b> Donald Trump",
          "<b>Date:</b> 2025-03-27 14:12<br><b>Topic:</b> war-thank-deal (Confidence: 0.295)<br><b>Content:</b><br>As we advance our America First Agenda, it is essential that<br>we maintain EVERY Republican Seat in Congress. We must be<br>unified to accomplish our Mission, and Elise Stefanik has<br>been a vital part of ou...<br><b>Speaker:</b> Donald Trump",
          "<b>Date:</b> 2025-03-20 23:08<br><b>Topic:</b> war-thank-deal (Confidence: 0.871)<br><b>Content:</b><br>People that get caught sabotaging Teslas will stand a very<br>good chance of going to jail for up to twenty years, and<br>that includes the funders. WE ARE LOOKING FOR YOU!!!<br><b>Speaker:</b> Donald Trump",
          "<b>Date:</b> 2025-03-19 16:26<br><b>Topic:</b> war-thank-deal (Confidence: 0.621)<br><b>Content:</b><br>General Keith Kellogg: “President Trump is absolutely right,<br>this war wouldn’t have started if he were President…”<br><b>Speaker:</b> Donald Trump",
          "<b>Date:</b> 2025-03-19 15:10<br><b>Topic:</b> war-thank-deal (Confidence: 0.550)<br><b>Content:</b><br>THANK YOU, ELON—MAGA!<br><b>Speaker:</b> Donald Trump",
          "<b>Date:</b> 2025-03-19 11:38<br><b>Topic:</b> war-thank-deal (Confidence: 0.628)<br><b>Content:</b><br>Just completed a very good telephone call with President<br>Zelenskyy of Ukraine. It lasted approximately one hour. Much<br>of the discussion was based on the call made yesterday with<br>President Putin in ord...<br><b>Speaker:</b> Donald Trump",
          "<b>Date:</b> 2025-03-18 22:22<br><b>Topic:</b> war-thank-deal (Confidence: 0.512)<br><b>Content:</b><br>Tonight, in the White House, I warmly welcomed UAE National<br>Security Advisor H.H. Sheikh Tahnoon bin Zayed Al Nahyan to<br>meetings and a dinner with many notable, senior U.S.<br>officials. The evening demo...<br><b>Speaker:</b> Donald Trump",
          "<b>Date:</b> 2025-03-18 14:49<br><b>Topic:</b> war-thank-deal (Confidence: 0.873)<br><b>Content:</b><br>My phone conversation today with President Putin of Russia<br>was a very good and productive one. We agreed to an<br>immediate Ceasefire on all Energy and Infrastructure, with<br>an understanding that we will ...<br><b>Speaker:</b> Donald Trump",
          "<b>Date:</b> 2025-03-17 18:28<br><b>Topic:</b> war-thank-deal (Confidence: 0.957)<br><b>Content:</b><br>Tomorrow morning I will be speaking to President Putin<br>concerning the War in Ukraine. Many elements of a Final<br>Agreement have been agreed to, but much remains. Thousands<br>of young soldiers, and others,...<br><b>Speaker:</b> Donald Trump",
          "<b>Date:</b> 2025-03-17 10:16<br><b>Topic:</b> war-thank-deal (Confidence: 0.700)<br><b>Content:</b><br>It looks like we had an autopen for a president...<br><b>Speaker:</b> Donald Trump",
          "<b>Date:</b> 2025-03-15 14:34<br><b>Topic:</b> war-thank-deal (Confidence: 0.503)<br><b>Content:</b><br>I am pleased to inform you that General Keith Kellogg has<br>been appointed Special Envoy to Ukraine. General Kellogg, a<br>Highly Respected Military Expert, will deal directly with<br>President Zelenskyy, and...<br><b>Speaker:</b> Donald Trump",
          "<b>Date:</b> 2025-03-15 13:02<br><b>Topic:</b> war-thank-deal (Confidence: 0.659)<br><b>Content:</b><br>The Fake News, as usual, is at it again! Why can’t they be<br>honest, just for once? Last night I read that President<br>Vladimir Putin of Russia kept my Highly Respected Ambassador<br>and Special Envoy, Steve...<br><b>Speaker:</b> Donald Trump",
          "<b>Date:</b> 2025-03-14 09:33<br><b>Topic:</b> war-thank-deal (Confidence: 0.971)<br><b>Content:</b><br>We had very good and productive discussions with President<br>Vladimir Putin of Russia yesterday, and there is a very good<br>chance that this horrible, bloody war can finally come to an<br>end — BUT, AT THIS ...<br><b>Speaker:</b> Donald Trump",
          "<b>Date:</b> 2025-03-13 09:09<br><b>Topic:</b> war-thank-deal (Confidence: 0.887)<br><b>Content:</b><br>The U.S. doesn’t have Free Trade. We have “Stupid Trade.”<br>The Entire World is RIPPING US OFF!!!<br><b>Speaker:</b> Donald Trump",
          "<b>Date:</b> 2025-03-12 16:51<br><b>Topic:</b> war-thank-deal (Confidence: 0.603)<br><b>Content:</b><br>Secretary of Energy Chris Wright: “President Trump is a<br>businessman. Thank God he became elected president, and what<br>we're seeing now is a master negotiator practicing his<br>craft.\"<br><b>Speaker:</b> Donald Trump",
          "<b>Date:</b> 2025-03-09 20:50<br><b>Topic:</b> war-thank-deal (Confidence: 0.550)<br><b>Content:</b><br>Nobody has been tougher on Russia than Donald Trump—NOBODY…<br><b>Speaker:</b> Donald Trump",
          "<b>Date:</b> 2025-03-07 21:44<br><b>Topic:</b> war-thank-deal (Confidence: 0.499)<br><b>Content:</b><br>Senator Eric Schmitt: “The shift that you're seeing in the<br>foreign policy of the United States is a shift to REALISM —<br>the American taxpayers are tapped out of this war in<br>Ukraine. President Trump is ...<br><b>Speaker:</b> Donald Trump",
          "<b>Date:</b> 2025-03-07 09:17<br><b>Topic:</b> war-thank-deal (Confidence: 0.888)<br><b>Content:</b><br>Based on the fact that Russia is absolutely “pounding”<br>Ukraine on the battlefield right now, I am strongly<br>considering large scale Banking Sanctions, Sanctions, and<br>Tariffs on Russia until a Cease Fir...<br><b>Speaker:</b> Donald Trump",
          "<b>Date:</b> 2025-03-06 11:29<br><b>Topic:</b> war-thank-deal (Confidence: 0.483)<br><b>Content:</b><br>After speaking with President Claudia Sheinbaum of Mexico, I<br>have agreed that Mexico will not be required to pay Tariffs<br>on anything that falls under the USMCA Agreement. This<br>Agreement is until April...<br><b>Speaker:</b> Donald Trump",
          "<b>Date:</b> 2025-03-04 07:30<br><b>Topic:</b> war-thank-deal (Confidence: 0.323)<br><b>Content:</b><br>All Federal Funding will STOP for any College, School, or<br>University that allows illegal protests. Agitators will be<br>imprisoned/or permanently sent back to the country from<br>which they came. American s...<br><b>Speaker:</b> Donald Trump",
          "<b>Date:</b> 2025-03-03 11:38<br><b>Topic:</b> war-thank-deal (Confidence: 0.444)<br><b>Content:</b><br>This is the worst statement that could have been made by<br>Zelenskyy, and America will not put up with it for much<br>longer! It is what I was saying, this guy doesn’t want there<br>to be Peace as long as he ...<br><b>Speaker:</b> Donald Trump",
          "<b>Date:</b> 2025-03-03 07:36<br><b>Topic:</b> war-thank-deal (Confidence: 0.517)<br><b>Content:</b><br>The only President who gave none of Ukraine’s land to<br>Putin’s Russia is President Donald J. Trump. Remember that<br>when the weak and ineffective Democrat’s criticize, and the<br>Fake News gladly puts out a...<br><b>Speaker:</b> Donald Trump",
          "<b>Date:</b> 2025-03-01 10:42<br><b>Topic:</b> war-thank-deal (Confidence: 0.700)<br><b>Content:</b><br>RT@RepMTGThis is what homeschooling looks like in GA-14!!<br>❤️Gulf of AMERICA!! 🇺🇸🇺🇸🇺🇸<br><b>Speaker:</b> Donald Trump",
          "<b>Date:</b> 2025-02-28 13:16<br><b>Topic:</b> war-thank-deal (Confidence: 0.764)<br><b>Content:</b><br>A Statement from President Donald J. Trump“We had a very<br>meaningful meeting in the White House today. Much was<br>learned that could never be understood without conversation<br>under such fire and pressure....<br><b>Speaker:</b> Donald Trump",
          "<b>Date:</b> 2025-02-27 08:46<br><b>Topic:</b> war-thank-deal (Confidence: 0.388)<br><b>Content:</b><br>Drugs are still pouring into our Country from Mexico and<br>Canada at very high and unacceptable levels. A large<br>percentage of these Drugs, much of them in the form of<br>Fentanyl, are made in, and supplied...<br><b>Speaker:</b> Donald Trump",
          "<b>Date:</b> 2025-02-24 14:51<br><b>Topic:</b> war-thank-deal (Confidence: 0.683)<br><b>Content:</b><br>We're helping Ukraine like nobody has ever helped Ukraine<br>before…<br><b>Speaker:</b> Donald Trump",
          "<b>Date:</b> 2025-02-24 12:00<br><b>Topic:</b> war-thank-deal (Confidence: 0.669)<br><b>Content:</b><br>Today, President Emmanuel Macron of France joined me in the<br>Oval Office to speak to the G7 Summit. The meeting was<br>convened by Governor Justin Trudeau of Canada, the current<br>chair of G7, to acknowledg...<br><b>Speaker:</b> Donald Trump",
          "<b>Date:</b> 2025-02-19 19:40<br><b>Topic:</b> war-thank-deal (Confidence: 0.538)<br><b>Content:</b><br>Elon Musk: “The President’s instincts on Ukraine are<br>absolutely right. It is really sad that so many parents have<br>lost their sons, and so many sons their fathers in this<br>pointless war.”<br><b>Speaker:</b> Donald Trump",
          "<b>Date:</b> 2025-02-19 17:28<br><b>Topic:</b> war-thank-deal (Confidence: 0.525)<br><b>Content:</b><br>Join me LIVE in Miami, Florida!<br><b>Speaker:</b> Donald Trump",
          "<b>Date:</b> 2025-02-19 10:47<br><b>Topic:</b> war-thank-deal (Confidence: 0.315)<br><b>Content:</b><br>Think of it, a modestly successful comedian, Volodymyr<br>Zelenskyy, talked the United States of America into spending<br>$350 Billion Dollars, to go into a War that couldn’t be won,<br>that never had to start...<br><b>Speaker:</b> Donald Trump",
          "<b>Date:</b> 2025-02-13 22:19<br><b>Topic:</b> war-thank-deal (Confidence: 0.517)<br><b>Content:</b><br>“FACT SHEET: PRESIDENT DONALD J. TRUMP ANNOUNCES ‘FAIR AND<br>RECIPROCAL PLAN’ ON TRADE”<br><b>Speaker:</b> Donald Trump",
          "<b>Date:</b> 2025-02-13 17:33<br><b>Topic:</b> war-thank-deal (Confidence: 0.598)<br><b>Content:</b><br>We want a level playing field for all American workers — I<br>have instructed my Secretary of State, my Secretary of<br>Commerce, Secretary of Treasury, and U.S. Trade<br>Representative to do all necessary wor...<br><b>Speaker:</b> Donald Trump",
          "<b>Date:</b> 2025-02-13 06:52<br><b>Topic:</b> war-thank-deal (Confidence: 0.910)<br><b>Content:</b><br>GREAT TALKS WITH RUSSIA AND UKRAINE YESTERDAY. GOOD<br>POSSIBILITY OF ENDING THAT HORRIBLE, VERY BLOODY WAR!!!<br><b>Speaker:</b> Donald Trump",
          "<b>Date:</b> 2025-02-12 13:11<br><b>Topic:</b> war-thank-deal (Confidence: 0.974)<br><b>Content:</b><br>I just spoke to President Volodymyr Zelenskyy of Ukraine.<br>The conversation went very well. He, like President Putin,<br>wants to make PEACE. We discussed a variety of topics having<br>to do with the War, bu...<br><b>Speaker:</b> Donald Trump",
          "<b>Date:</b> 2025-02-12 11:53<br><b>Topic:</b> war-thank-deal (Confidence: 0.609)<br><b>Content:</b><br>I just had a lengthy and highly productive phone call with<br>President Vladimir Putin of Russia. We discussed Ukraine,<br>the Middle East, Energy, Artificial Intelligence, the power<br>of the Dollar, and vari...<br><b>Speaker:</b> Donald Trump",
          "<b>Date:</b> 2025-02-11 13:30<br><b>Topic:</b> war-thank-deal (Confidence: 0.918)<br><b>Content:</b><br>King of Jordan Abdullah II: \"I truly believe, with all the<br>challenges that we have in the Middle East, that I finally<br>see somebody that can take us across the finish line to<br>bring stability, peace, an...<br><b>Speaker:</b> Donald Trump",
          "<b>Date:</b> 2025-02-11 11:49<br><b>Topic:</b> war-thank-deal (Confidence: 0.565)<br><b>Content:</b><br>I am sending Secretary of the Treasury Scott Bessent to<br>Ukraine to meet President Zelensky. This War MUST and WILL<br>END SOON — Too much Death and Destruction. The U.S. has<br>spent BILLIONS of Dollars Glo...<br><b>Speaker:</b> Donald Trump",
          "<b>Date:</b> 2025-02-06 17:31<br><b>Topic:</b> war-thank-deal (Confidence: 0.574)<br><b>Content:</b><br>These events remind us of how blessed we are to live in a<br>nation that has thrived for two and a half centuries as a<br>haven of Religious Freedom—My administration is absolutely<br>committed to defending th...<br><b>Speaker:</b> Donald Trump",
          "<b>Date:</b> 2025-02-06 06:32<br><b>Topic:</b> war-thank-deal (Confidence: 0.403)<br><b>Content:</b><br>The Gaza Strip would be turned over to the United States by<br>Israel at the conclusion of fighting. The Palestinians,<br>people like Chuck Schumer, would have already been resettled<br>in far safer and more b...<br><b>Speaker:</b> Donald Trump",
          "<b>Date:</b> 2025-02-05 06:17<br><b>Topic:</b> war-thank-deal (Confidence: 0.873)<br><b>Content:</b><br>I want Iran to be a great and successful Country, but one<br>that cannot have a Nuclear Weapon. Reports that the United<br>States, working in conjunction with Israel, is going to blow<br>Iran into smithereens,...<br><b>Speaker:</b> Donald Trump",
          "<b>Date:</b> 2025-02-04 11:49<br><b>Topic:</b> war-thank-deal (Confidence: 0.931)<br><b>Content:</b><br>I was just informed that Tiger Woods’ wonderful Mother,<br>Kultida, passed away — She has gone onto greener fairways!<br>Kultida Woods was an amazing influence on Tiger, and gave<br>him much of his strength an...<br><b>Speaker:</b> Donald Trump",
          "<b>Date:</b> 2025-02-03 10:41<br><b>Topic:</b> war-thank-deal (Confidence: 0.687)<br><b>Content:</b><br>I just spoke with President Claudia Sheinbaum of Mexico. It<br>was a very friendly conversation wherein she agreed to<br>immediately supply 10,000 Mexican Soldiers on the Border<br>separating Mexico and the Un...<br><b>Speaker:</b> Donald Trump",
          "<b>Date:</b> 2025-02-02 18:52<br><b>Topic:</b> war-thank-deal (Confidence: 0.351)<br><b>Content:</b><br>RT@marklevinshowFamily and I are in Washington today. The<br>people who came here are smiling, excited, and polite. It’s<br>a fantastic atmosphere and the energy is everywhere. Trump<br>signs. American flags. ...<br><b>Speaker:</b> Donald Trump",
          "<b>Date:</b> 2025-01-31 21:01<br><b>Topic:</b> war-thank-deal (Confidence: 0.509)<br><b>Content:</b><br>So sad to see the plane go down in Philadelphia,<br>Pennsylvania. More innocent souls lost. Our people are<br>totally engaged. First Responders are already being given<br>credit for doing a great job. More to ...<br><b>Speaker:</b> Donald Trump",
          "<b>Date:</b> 2025-01-30 09:14<br><b>Topic:</b> war-thank-deal (Confidence: 0.635)<br><b>Content:</b><br>I have been fully briefed on the terrible accident which<br>just took place at Reagan National Airport. May God Bless<br>their souls. Thank you for the incredible work being done by<br>our first responders. I ...<br><b>Speaker:</b> Donald Trump",
          "<b>Date:</b> 2025-01-30 00:21<br><b>Topic:</b> war-thank-deal (Confidence: 0.683)<br><b>Content:</b><br>What a terrible night this has been. God bless you all!<br><b>Speaker:</b> Donald Trump",
          "<b>Date:</b> 2025-01-25 15:32<br><b>Topic:</b> war-thank-deal (Confidence: 0.700)<br><b>Content:</b><br>Join me LIVE in Las Vegas, Nevada!<br><b>Speaker:</b> Donald Trump",
          "<b>Date:</b> 2025-01-25 01:05<br><b>Topic:</b> war-thank-deal (Confidence: 0.429)<br><b>Content:</b><br>Wow! Rachel Maddow has horrible ratings. She’ll be off the<br>air very soon. MSNBC IS CLOSE TO DEATH. CNN HAS REACHED THE<br>BOTTOM. This is a good thing. They are the Enemy of the<br>people!<br><b>Speaker:</b> Donald Trump",
          "<b>Date:</b> 2025-01-22 13:45<br><b>Topic:</b> war-thank-deal (Confidence: 0.700)<br><b>Content:</b><br>Happy 20th Anniversary to Melania!<br><b>Speaker:</b> Donald Trump",
          "<b>Date:</b> 2025-01-22 10:46<br><b>Topic:</b> war-thank-deal (Confidence: 0.514)<br><b>Content:</b><br>I’m not looking to hurt Russia. I love the Russian people,<br>and always had a very good relationship with President Putin<br>- and this despite the Radical Left’s Russia, Russia, Russia<br>HOAX. We must never...<br><b>Speaker:</b> Donald Trump",
          "<b>Date:</b> 2025-01-19 16:22<br><b>Topic:</b> war-thank-deal (Confidence: 0.607)<br><b>Content:</b><br>RT@MelaniaTrumpThe Official Melania Meme is live!You can buy<br>$MELANIA now.Melaniameme.comFUAfBo2jgks6gB4Z4LfZkqSZgzNucisE<br>HqnNebaRxM1P<br><b>Speaker:</b> Donald Trump",
          "<b>Date:</b> 2025-01-17 11:55<br><b>Topic:</b> war-thank-deal (Confidence: 0.353)<br><b>Content:</b><br>January 20th cannot come fast enough! Everybody, even those<br>that initially opposed a Victory by President Donald J.<br>Trump and the Trump Administration, just want it to happen.<br>It is my obligation to p...<br><b>Speaker:</b> Donald Trump",
          "<b>Date:</b> 2025-01-17 09:28<br><b>Topic:</b> war-thank-deal (Confidence: 0.549)<br><b>Content:</b><br>I just spoke to Chairman Xi Jinping of China. The call was a<br>very good one for both China and the U.S.A. It is my<br>expectation that we will solve many problems together, and<br>starting immediately. We di...<br><b>Speaker:</b> Donald Trump",
          "<b>Date:</b> 2025-01-16 14:24<br><b>Topic:</b> war-thank-deal (Confidence: 0.552)<br><b>Content:</b><br>Arab officials: “Trump envoy swayed Netanyahu more in one<br>meeting than Biden did all year”<br><b>Speaker:</b> Donald Trump",
          "<b>Date:</b> 2025-01-15 12:24<br><b>Topic:</b> war-thank-deal (Confidence: 0.431)<br><b>Content:</b><br>This EPIC ceasefire agreement could have only happened as a<br>result of our Historic Victory in November, as it signaled<br>to the entire World that my Administration would seek Peace<br>and negotiate deals t...<br><b>Speaker:</b> Donald Trump",
          "<b>Date:</b> 2025-01-15 12:01<br><b>Topic:</b> war-thank-deal (Confidence: 0.709)<br><b>Content:</b><br>WE HAVE A DEAL FOR THE HOSTAGES IN THE MIDDLE EAST. THEY<br>WILL BE RELEASED SHORTLY. THANK YOU!<br><b>Speaker:</b> Donald Trump",
          "<b>Date:</b> 2025-01-14 11:46<br><b>Topic:</b> war-thank-deal (Confidence: 0.431)<br><b>Content:</b><br>Thank you Ron, hopefully other Governors will follow!<br><b>Speaker:</b> Donald Trump",
          "<b>Date:</b> 2025-01-12 01:24<br><b>Topic:</b> war-thank-deal (Confidence: 0.455)<br><b>Content:</b><br>The fires are still raging in L.A. The incompetent pols have<br>no idea how to put them out. Thousands of magnificent houses<br>are gone, and many more will soon be lost. There is death<br>all over the place. ...<br><b>Speaker:</b> Donald Trump",
          "<b>Date:</b> 2025-01-09 19:09<br><b>Topic:</b> war-thank-deal (Confidence: 0.850)<br><b>Content:</b><br>Thank you to the incredible people of Greenland for treating<br>my son, Don Jr, and other representatives, so nicely. We<br>will see you again — SOON!<br><b>Speaker:</b> Donald Trump",
          "<b>Date:</b> 2025-01-03 16:16<br><b>Topic:</b> war-thank-deal (Confidence: 0.417)<br><b>Content:</b><br>I am pleased to announce Morgan Ortagus as Deputy Special<br>Presidential Envoy for Middle East Peace, to the Honorable<br>Steven Witkoff. Early on Morgan fought me for three years,<br>but hopefully has learne...<br><b>Speaker:</b> Donald Trump",
          "<b>Date:</b> 2025-01-03 13:31<br><b>Topic:</b> war-thank-deal (Confidence: 0.539)<br><b>Content:</b><br>The Democrats are all “giddy” about our magnificent American<br>Flag potentially being at “half mast” during my<br>Inauguration. They think it’s so great, and are so happy<br>about it because, in actuality, th...<br><b>Speaker:</b> Donald Trump",
          "<b>Date:</b> 2025-01-01 13:17<br><b>Topic:</b> war-thank-deal (Confidence: 0.422)<br><b>Content:</b><br>Happy New Year to all. It will be a great time for America!<br><b>Speaker:</b> Donald Trump"
         ],
         "type": "scatter3d",
         "x": {
          "bdata": "ouiHvyoz4b9O7I+9yG1tvfibsr7BC8a+0mRsv4FkBkCZSm+92iRWv5NZW7+IQxW/JDqfvgpNpL6lk1K/W67mv/jkNcC6Ekq/Tlqhv9RA47/wtF7A9+smwCogaL+GPw7Aou3vvakNg78HHMq+S6bhv1e2kb/DuEm/aFKtvj3XHcATt4+/n92Ov9DDE799dPO95FUPwBypgL+5lB7AdtCQvqfAar9eUuS/s8quv3H6O78MTu69fMExvoLnJr8jk9i/1C4uwG9q4r+Fwdq/sOPuvrdRIcBhFBLACb3cv5s7AcCclb++4ed/v4U9kb8u5U2+iTyPvxYgGr+lzCS//NuPv+wfEcBOtL6+DEF9v145wL/SahPApxofv7VN0r8/N5O/xQmHv6uvkb85r2HAGReov9MEJcAgdsu/3hmTv6nnF8Bh4Bq/CE8xwDIGLMCa9zC+QWJQv5oDEL9ssiO/jO1iv3z3mL9SC5G/F2VjwFjfgr8XLbq/0bHmv5knWMCNXWS/uvx0vvL9UL/y7SW/hbz/v8Urhb4ev1q+81mvvrgyaL9CNyrA7dIOvgpZI7/hXLq/bXQRwILBh7/u4RLAHYWgvq16Db/E29m/UpYCQAnV5r/VfJO/STUTwM18/b+mIeW/u4xKvwEm2r8HJCTALu5xvwjFkL+ndIq/yzQkwAKq2L5Sdi/AHUgMv309Br9SYR7A/jULvpEbO796NZ+/m+wOv2Swh79lQe29l8+cvrutvb+Ee7W+NbttvxgM5L88Bw3At10PwKv8gb9BRF7AzUYGwLNQfb8i/zq+O4Zmvu4jA8DCqz29sSmLvyIAFMCRjpe/ZZsIQD6+478BHY6/6wJiwNNP9L+cdFC/K9Yev9CF0b75Xi6/3qUQwOOpBkC5rJg/bwkoP0Nar76RuSnA31CZv//OD8CocQxAp4gWv0EAEMCdyB6/t3+Tvgh4KsCmoS+9oirWv+ltbb+b6CvAGXNUwDd0bb+vydy/ETUjvzhxZMAQA5a/3Ljfv18Nn73l0YK/R/Rsv/dma7/4ntW/Jkejvsjzi77IEHO/ygYVv4bEJL+u/MS/JN56vomLh78Wfim/nBgnwLlZtr7quYY/T1YFQAM1vr7ihOW/yjnbv0Y1D8Bjd+G/oLTzP2UWV8C3w5m/bGAnv28G6783eAC/D/CbvslXqb7KdvS+jgcQwP3DHb+q0ifAFWkjv7MItr61uBTAYhgsvsc9KL/0x86+7nIRwPXUEMD67xG/QvsUv/Os0L3jQmfA1Pesvh0cFL8=",
          "dtype": "f4"
         },
         "y": {
          "bdata": "IHA8v94GBL8MCKC9kNS2vRl9F0Ai/90+gILvP7//vD+CSrO961txvzVGZ7+940+/AAagPiKYOrzXNW+/HNAAv8eWa0AdtHS/5R1Gv9IXCr8afHS+c2mcvi3F7D8zOB1AeZgwvVvpWL/nR9I+920Hv6gkNr+nO4C/1NYYvRvmr75QYDi/AUE7v6xdND7tO1S9quxHQDYY/z89MlhAoJ2SPh1B7j/sAgu/L6kVvwFT0T+zqjS95wwhQPKLC0CKYw6/JPiPvtmXAr9SiAu/ROwUPdMAWkDDxUpAaBUTQGvs574biMQ+o3JEv7+VS7/p3R5A/wQ2v9HoDUD6vq8/Pwc4v17zEUDPisU+RlpNvyZg/r7IFUxAW56sP5Y2E0DMfgxACxRTv6XOC0AqMG++nRQLQOjAnL6geQm/x/8MQEiIUEB/rlS/oHGMvrx7jL7/+CBADjZvv95Dnz/rJa8/LrcWQJuaLr8epwtAgDlhvkAISL9Erg9AFHAEv9Axa74y/vg/vg0dQK8G9j+WKLE/XyUYQIR0G0ADFxxAzj0OQFfx7D8zq2JAV+w9O5f3rj+/+w6/cTBKQEw7P79DSElAZWCmPkWzmz9OGQ+/FLewP0X6AL/qyTO/fxwMQOuGF0BuzAO/OON+v02zDL8kBaG+W2U9v2lBC0DPbgdAy94mQPWznb66DGhAFzpUv2A78T0cM1dAMugHvVStJj1w2SW/wHUXQA+OPL+fIja90YmfPgNkFr8pt9W9lGvwP1JFDL8BpRtA/hMjQFlYCUBnyhe+NdUZQB5RO79CSBtAlBEdQEKQGECXLc+9en07v5eOTECgjxZAypG/P9xdDL9NS1O/LMlwvsg8FkDDknW/xvysP0quEUAyyQZAVglKQMS6tD9FlXbAf6wpQH9/sz4zR2FAj/4bv4ppSED0xLQ/9NxLv2ubSEDBTqw/t4AWQMhEk0Cy2dS9jl8RQEL37j8vpYa+fTZIvvjh9D8zAAi/0yCvP773cr50jjC/h6YPv92sjr1HpARANi7wPxigV78oVAa/YzIVQAvvI0D2zFS/jx9Ov/WGsD/KTA1A5aoYQN1bBUAQOps/LcdfQAHKkLxy0ixAe2O1P+PAR730ZhC/Qi4Mv6bKRkBDqQu/1kC1P8iMa75sEhZA4ouyP42Y9r6qohBAinkTQNEjB72VEIk/S5dIQHjQqj9wm2BA3aKvP6LWh708Y01AWuAhQBcbDUAXSxVAy8kiQIyJSUAQCUy/RFxPv0CVaL2nxHG+HO4LvfRaS78=",
          "dtype": "f4"
         },
         "z": {
          "bdata": "Uip9P+XCIr/APCrA0gArwDBDlT6ycdW/uq5Dv3EP+L4F6yrA3rtSvjICW74X9hxAm93ev01EOb9VMkW+yBl8vwuyH8DgNyq+wROJvq+blb8EfpG+urf0vrPlRb+HKIg/WUUnwLW5f75lotS/FYaLv5SOQD+5MUK+H5k/v5I3A7+jTkM/veU+P+acfr/+uibAUsFFwA+hc7+juCPA6qjiv4h7Qr+FTJS/V+8rPvY9db/XUyfA6zsCP0Gysb3apQu/BPDhvpHoJb/2TBW/wlJhv8YDMMA74ULA0wwSPxI0Ib/upte/k9SVvqN5mb6RNPI+aM0HP4os57zqJre/npRJP5J+cT/5kde/jeGIvtwKkL7CTEHACwe5v6WWCT90MIa/RvGgvsnIhL/QDoS+S3QxPrXI9762nBO/SSeGv/f0PMBPwBhA6Hjavqk35r5u5gI/Wjc2vovYqb+pvbe/N/LNPh6xx74xk4W/qkuQvqbjvj5A2rs++4OJv8E4kb5+le6+k2fePr6aCL9Zt7q/qSpSP5zLyT7EbdE+CXqEPiCmQb8kWynAXaEgwIYPuL8vYQW938RDwG1Olr6XUEHA2vHdvygCqL+Ynwi/hiYPv5oqbr8/HT4/mEBlP2w6TT9Hxky/jHpRvktOD79E8Pu+dWVrvrOBhL/QZXy/kLXkP8m5E7/9ciXAun4hQChNhr+mxTTADXkjwKEgbr+JLY0+rQCmPt0/fj+VbyfAyWTev9R3/b4EZja/qRhFvzj5lr+EU4Q/qSuHP2RzlDx8U0u+AF1pP2HEor5OULE+FbzaPlS/Wz/wvivADq9sP67zQMCPEv0+sG4GvwiYlr87wZS+5xKHvvjvOz/yt2e+eMC3v64sHD5xiRy+7eBCwDKEDr/0G/i+VToGP1Yo27+iOSrAZTPlvncNRcBSdwy/kfocQBEkRcAVlre/Z5qtPo1JQUDb9CvA7JACP3amRL/Inuy+tVaKvotlR7+yIhq/QUO5v+1dg77shzM/0hUKv0XeKcBt+2a/hC1Dv2gqa75XQR6/sZCePsogTD++EXQ8w28eQHhAuL9fLLg+gnHFPjuhdr+WN46/74MqwE2sRr/8xws/pKMNv6fMQr8dRpm/lL8Ov1KeRcBKiZS/1WsYv723kb5tAPY+y6+6vxHbgr/8faw99vOcPrj0PL8796O/WPNEwF3vur8tnCvA+N64v5JFPb/l2j/AC8AEP3BXBL6+N2c+Z8OMP0M2RMBqPh9Ax6cdQANhKMBF8oO+CTo+vzeeIEA=",
          "dtype": "f4"
         }
        },
        {
         "hoverinfo": "text",
         "hovertemplate": "%{text}<extra></extra>",
         "marker": {
          "color": "rgb(251,128,114)",
          "line": {
           "color": "darkgray",
           "width": 0.5
          },
          "opacity": 0.8,
          "size": 5
         },
         "mode": "markers",
         "name": "Topic 4: secure-energy-complete",
         "text": [
          "<b>Date:</b> 2025-07-18 18:48<br><b>Topic:</b> secure-energy-complete (Confidence: 0.934)<br><b>Content:</b><br>Congresswoman Monica De La Cruz is doing an incredible job<br>representing the wonderful people of Texas’ 15th<br>Congressional District!A very successful Small<br>Businesswoman, Monica knows the AMERICA FIRST...<br><b>Speaker:</b> Donald Trump",
          "<b>Date:</b> 2025-07-18 18:48<br><b>Topic:</b> secure-energy-complete (Confidence: 0.934)<br><b>Content:</b><br>Congresswoman Monica De La Cruz is doing an incredible job<br>representing the wonderful people of Texas’ 15th<br>Congressional District!A very successful Small<br>Businesswoman, Monica knows the AMERICA FIRST...<br><b>Speaker:</b> Donald Trump",
          "<b>Date:</b> 2025-07-18 18:43<br><b>Topic:</b> secure-energy-complete (Confidence: 0.989)<br><b>Content:</b><br>Congressman Mark Harris is a terrific Representative for the<br>incredible people of North Carolina’s 8th Congressional<br>District!Mark has a strong Record of SUCCESS, and compelling<br>support from his Commu...<br><b>Speaker:</b> Donald Trump",
          "<b>Date:</b> 2025-07-18 18:43<br><b>Topic:</b> secure-energy-complete (Confidence: 0.989)<br><b>Content:</b><br>Congressman Mark Harris is a terrific Representative for the<br>incredible people of North Carolina’s 8th Congressional<br>District!Mark has a strong Record of SUCCESS, and compelling<br>support from his Commu...<br><b>Speaker:</b> Donald Trump",
          "<b>Date:</b> 2025-07-18 18:40<br><b>Topic:</b> secure-energy-complete (Confidence: 0.987)<br><b>Content:</b><br>Congressman Derek Schmidt is an incredible Representative of<br>Kansas’ 2nd Congressional District!A fifth generation<br>Kansan, Derek served as State Attorney General for 12 years<br>prior to becoming a disti...<br><b>Speaker:</b> Donald Trump",
          "<b>Date:</b> 2025-07-18 18:40<br><b>Topic:</b> secure-energy-complete (Confidence: 0.987)<br><b>Content:</b><br>Congressman Derek Schmidt is an incredible Representative of<br>Kansas’ 2nd Congressional District!A fifth generation<br>Kansan, Derek served as State Attorney General for 12 years<br>prior to becoming a disti...<br><b>Speaker:</b> Donald Trump",
          "<b>Date:</b> 2025-07-18 18:39<br><b>Topic:</b> secure-energy-complete (Confidence: 0.986)<br><b>Content:</b><br>Congressman Barry Loudermilk is a Tremendous Advocate for<br>the Great People of Georgia’s 11th Congressional District!A<br>Brave U.S. Air Force Veteran, Barry knows what is required<br>to Defend our Country, ...<br><b>Speaker:</b> Donald Trump",
          "<b>Date:</b> 2025-07-18 18:39<br><b>Topic:</b> secure-energy-complete (Confidence: 0.986)<br><b>Content:</b><br>Congressman Kevin Hern is a Tremendous Champion for<br>Oklahoma’s 1st Congressional District!As the Chair of the<br>House Republican Policy Committee, Kevin is doing a<br>fantastic job advancing our AMERICA FI...<br><b>Speaker:</b> Donald Trump",
          "<b>Date:</b> 2025-07-18 18:39<br><b>Topic:</b> secure-energy-complete (Confidence: 0.833)<br><b>Content:</b><br>Congresswoman Ann Wagner is doing an incredible job<br>representing the amazing people of Missouri’s 2nd<br>Congressional District!As the Chair of the Financial<br>Services Subcommittee on Capital Markets, Ann...<br><b>Speaker:</b> Donald Trump",
          "<b>Date:</b> 2025-07-18 18:39<br><b>Topic:</b> secure-energy-complete (Confidence: 0.988)<br><b>Content:</b><br>Congressman Tracey Mann is an incredible Representative for<br>the wonderful people of Kansas’ “Big First” Congressional<br>District!A fifth generation Farmer, Tracey is a strong and<br>effective Voice for Ame...<br><b>Speaker:</b> Donald Trump",
          "<b>Date:</b> 2025-07-18 18:39<br><b>Topic:</b> secure-energy-complete (Confidence: 0.988)<br><b>Content:</b><br>Congressman Mark Messmer is a Fantastic Representative for<br>the Great People of Indiana’s 8th Congressional<br>District!Mark has an incredible Record of Success, and<br>strong support from his Community. In ...<br><b>Speaker:</b> Donald Trump",
          "<b>Date:</b> 2025-07-18 18:39<br><b>Topic:</b> secure-energy-complete (Confidence: 0.986)<br><b>Content:</b><br>Congressman Barry Loudermilk is a Tremendous Advocate for<br>the Great People of Georgia’s 11th Congressional District!A<br>Brave U.S. Air Force Veteran, Barry knows what is required<br>to Defend our Country, ...<br><b>Speaker:</b> Donald Trump",
          "<b>Date:</b> 2025-07-18 18:39<br><b>Topic:</b> secure-energy-complete (Confidence: 0.833)<br><b>Content:</b><br>Congresswoman Ann Wagner is doing an incredible job<br>representing the amazing people of Missouri’s 2nd<br>Congressional District!As the Chair of the Financial<br>Services Subcommittee on Capital Markets, Ann...<br><b>Speaker:</b> Donald Trump",
          "<b>Date:</b> 2025-07-18 18:39<br><b>Topic:</b> secure-energy-complete (Confidence: 0.986)<br><b>Content:</b><br>Congressman Kevin Hern is a Tremendous Champion for<br>Oklahoma’s 1st Congressional District!As the Chair of the<br>House Republican Policy Committee, Kevin is doing a<br>fantastic job advancing our AMERICA FI...<br><b>Speaker:</b> Donald Trump",
          "<b>Date:</b> 2025-07-18 18:39<br><b>Topic:</b> secure-energy-complete (Confidence: 0.988)<br><b>Content:</b><br>Congressman Mark Messmer is a Fantastic Representative for<br>the Great People of Indiana’s 8th Congressional<br>District!Mark has an incredible Record of Success, and<br>strong support from his Community. In ...<br><b>Speaker:</b> Donald Trump",
          "<b>Date:</b> 2025-07-18 18:39<br><b>Topic:</b> secure-energy-complete (Confidence: 0.988)<br><b>Content:</b><br>Congressman Tracey Mann is an incredible Representative for<br>the wonderful people of Kansas’ “Big First” Congressional<br>District!A fifth generation Farmer, Tracey is a strong and<br>effective Voice for Ame...<br><b>Speaker:</b> Donald Trump",
          "<b>Date:</b> 2025-07-18 18:38<br><b>Topic:</b> secure-energy-complete (Confidence: 0.988)<br><b>Content:</b><br>Congresswoman Lauren Boebert is an America First Patriot,<br>who is doing an incredible job representing Colorado’s 4th<br>Congressional District!A MAGA Warrior, who has been with us<br>from the very beginning...<br><b>Speaker:</b> Donald Trump",
          "<b>Date:</b> 2025-07-18 18:38<br><b>Topic:</b> secure-energy-complete (Confidence: 0.989)<br><b>Content:</b><br>Congressman Brandon Gill is a “MAGA” Warrior for the<br>wonderful people of Texas’ 26th Congressional District! I<br>have known Brandon’s family for many years. He has an<br>incredible wife, Danielle, two beau...<br><b>Speaker:</b> Donald Trump",
          "<b>Date:</b> 2025-07-18 18:38<br><b>Topic:</b> secure-energy-complete (Confidence: 0.986)<br><b>Content:</b><br>Congressman Max Miller is a fantastic Champion for the Great<br>People of Ohio’s 1st Congressional District!Max bravely<br>served our Country in the U.S. Marine Corps and, during my<br>First Administration, wo...<br><b>Speaker:</b> Donald Trump",
          "<b>Date:</b> 2025-07-18 18:38<br><b>Topic:</b> secure-energy-complete (Confidence: 0.989)<br><b>Content:</b><br>Congresswoman Stephanie Bice is doing a truly fantastic job<br>representing the incredible people of Oklahoma’s 5th<br>Congressional District!Stephanie has a strong Record of<br>Success, and resounding support...<br><b>Speaker:</b> Donald Trump",
          "<b>Date:</b> 2025-07-18 18:38<br><b>Topic:</b> secure-energy-complete (Confidence: 0.989)<br><b>Content:</b><br>Congresswoman Stephanie Bice is doing a truly fantastic job<br>representing the incredible people of Oklahoma’s 5th<br>Congressional District!Stephanie has a strong Record of<br>Success, and resounding support...<br><b>Speaker:</b> Donald Trump",
          "<b>Date:</b> 2025-07-18 18:38<br><b>Topic:</b> secure-energy-complete (Confidence: 0.988)<br><b>Content:</b><br>Congresswoman Lauren Boebert is an America First Patriot,<br>who is doing an incredible job representing Colorado’s 4th<br>Congressional District!A MAGA Warrior, who has been with us<br>from the very beginning...<br><b>Speaker:</b> Donald Trump",
          "<b>Date:</b> 2025-07-18 18:38<br><b>Topic:</b> secure-energy-complete (Confidence: 0.986)<br><b>Content:</b><br>Congressman Max Miller is a fantastic Champion for the Great<br>People of Ohio’s 1st Congressional District!Max bravely<br>served our Country in the U.S. Marine Corps and, during my<br>First Administration, wo...<br><b>Speaker:</b> Donald Trump",
          "<b>Date:</b> 2025-07-18 18:38<br><b>Topic:</b> secure-energy-complete (Confidence: 0.989)<br><b>Content:</b><br>Congressman Brandon Gill is a “MAGA” Warrior for the<br>wonderful people of Texas’ 26th Congressional District! I<br>have known Brandon’s family for many years. He has an<br>incredible wife, Danielle, two beau...<br><b>Speaker:</b> Donald Trump",
          "<b>Date:</b> 2025-07-15 13:59<br><b>Topic:</b> secure-energy-complete (Confidence: 0.397)<br><b>Content:</b><br>On my way to Pittsburgh, Pennsylvania…<br><b>Speaker:</b> Donald Trump",
          "<b>Date:</b> 2025-07-11 21:11<br><b>Topic:</b> secure-energy-complete (Confidence: 0.572)<br><b>Content:</b><br>Just spoke to Great Combat Veteran Zach Nunn, and he is<br>committed to the mission of, HOLDING THE MAJORITY. He is a<br>team player, with a tremendous future — And 100% MAGA. Zach<br>needs our full support to...<br><b>Speaker:</b> Donald Trump",
          "<b>Date:</b> 2025-07-09 20:12<br><b>Topic:</b> secure-energy-complete (Confidence: 0.855)<br><b>Content:</b><br>Senator Tom Cotton is working incredibly hard for the Great<br>State of Arkansas, which I love and WON BIG in 2016, 2020,<br>and 2024. He loves the U.S.A., and is truly an American<br>Patriot!A former U.S. Arm...<br><b>Speaker:</b> Donald Trump",
          "<b>Date:</b> 2025-07-09 20:11<br><b>Topic:</b> secure-energy-complete (Confidence: 0.969)<br><b>Content:</b><br>Senator Roger Marshall is an incredibly strong advocate for<br>the wonderful people of Kansas, a State I love, and WON BIG,<br>in 2016, 2020, and 2024!A distinguished Medical Doctor and<br>U.S. Army Veteran, R...<br><b>Speaker:</b> Donald Trump",
          "<b>Date:</b> 2025-07-03 09:34<br><b>Topic:</b> secure-energy-complete (Confidence: 0.604)<br><b>Content:</b><br>Job Creators Network CEO Alfredo Ortiz: \"Hats off to<br>President Trump because this three-legged stool of his has<br>really been powerful: The trade, taxes, and regulations<br>together. It's all about Jobs! J...<br><b>Speaker:</b> Donald Trump",
          "<b>Date:</b> 2025-06-29 17:19<br><b>Topic:</b> secure-energy-complete (Confidence: 0.446)<br><b>Content:</b><br>Great News! “Senator” Thom Tillis will not be seeking<br>reelection.<br><b>Speaker:</b> Donald Trump",
          "<b>Date:</b> 2025-06-29 00:25<br><b>Topic:</b> secure-energy-complete (Confidence: 0.386)<br><b>Content:</b><br>Tonight we saw a GREAT VICTORY in the Senate with the<br>“GREAT, BIG, BEAUTIFUL BILL,” but, it wouldn’t have happened<br>without the Fantastic Work of Senator Rick Scott, Senator<br>Mike Lee, Senator Ron Johns...<br><b>Speaker:</b> Donald Trump",
          "<b>Date:</b> 2025-06-26 19:46<br><b>Topic:</b> secure-energy-complete (Confidence: 0.476)<br><b>Content:</b><br>The One Big Beautiful Bill will Secure our Borders,<br>turbocharge our economy, and bring back the American Dream.<br>This is the ultimate codification of our agenda to very<br>simply Make America Great Again!<br><b>Speaker:</b> Donald Trump",
          "<b>Date:</b> 2025-06-16 03:01<br><b>Topic:</b> secure-energy-complete (Confidence: 0.985)<br><b>Content:</b><br>Congressman Abe Hamadeh is an America First Patriot who is<br>doing a fantastic job representing Arizona’s 8th<br>Congressional District!A Brave U.S. Army Veteran, and former<br>Criminal Prosecutor, Abe is fig...<br><b>Speaker:</b> Donald Trump",
          "<b>Date:</b> 2025-06-10 17:48<br><b>Topic:</b> secure-energy-complete (Confidence: 0.956)<br><b>Content:</b><br>Brad Little is the strong and highly popular Governor of<br>Idaho, a State I love and WON BIG in 2016, 2020, and 2024!As<br>Governor, Brad is fighting tirelessly to Champion Idaho<br>Values, Promote our Great ...<br><b>Speaker:</b> Donald Trump",
          "<b>Date:</b> 2025-05-25 19:04<br><b>Topic:</b> secure-energy-complete (Confidence: 0.937)<br><b>Content:</b><br>Congressman Andrew Garbarino is a Fierce Advocate for Long<br>Island, and the Great People of New York’s 2nd Congressional<br>District!Andrew has an incredible Record of Success, and<br>strong support from his...<br><b>Speaker:</b> Donald Trump",
          "<b>Date:</b> 2025-05-25 19:03<br><b>Topic:</b> secure-energy-complete (Confidence: 0.984)<br><b>Content:</b><br>Congressman Bryan Steil is a Tremendous Advocate for the<br>Wonderful People of Wisconsin’s 1st Congressional<br>District!As the Chair of the House Administration Committee,<br>Bryan is an America First Fighte...<br><b>Speaker:</b> Donald Trump",
          "<b>Date:</b> 2025-05-25 19:03<br><b>Topic:</b> secure-energy-complete (Confidence: 0.989)<br><b>Content:</b><br>Congressman Troy Downing is doing a truly fantastic job<br>representing the Incredible People of Montana’s 2nd<br>Congressional District!Troy bravely served our Great Country<br>in the U.S. Air Force as a Comb...<br><b>Speaker:</b> Donald Trump",
          "<b>Date:</b> 2025-05-25 19:03<br><b>Topic:</b> secure-energy-complete (Confidence: 0.961)<br><b>Content:</b><br>Congressman Guy Reschenthaler is doing an incredible job<br>representing Pennsylvania’s 14th Congressional District!As<br>the Chief Deputy Whip, Guy is working closely with me to<br>Advance our America First A...<br><b>Speaker:</b> Donald Trump",
          "<b>Date:</b> 2025-05-16 15:27<br><b>Topic:</b> secure-energy-complete (Confidence: 0.933)<br><b>Content:</b><br>Senator Markwayne Mullin is doing a tremendous job<br>representing the wonderful People of the Great State of<br>Oklahoma, where I was the only person to win all 77 out of<br>77 Counties (Ronald Reagan was sec...<br><b>Speaker:</b> Donald Trump",
          "<b>Date:</b> 2025-05-16 11:02<br><b>Topic:</b> secure-energy-complete (Confidence: 0.752)<br><b>Content:</b><br>Senator Shelley Moore Capito is doing a tremendous job<br>representing the Wonderful People of West Virginia, a State<br>I love and WON BIG in 2016, 2020, and 2024!As the Chair of<br>the Senate Environment and...<br><b>Speaker:</b> Donald Trump",
          "<b>Date:</b> 2025-05-12 18:28<br><b>Topic:</b> secure-energy-complete (Confidence: 0.661)<br><b>Content:</b><br>Jack Ciattarelli is a terrific America First Candidate<br>running to be the next Governor of a State that I love, NEW<br>JERSEY!Jack, who after getting to know and understand MAGA,<br>has gone ALL IN, and is n...<br><b>Speaker:</b> Donald Trump",
          "<b>Date:</b> 2025-05-09 17:51<br><b>Topic:</b> secure-energy-complete (Confidence: 0.982)<br><b>Content:</b><br>Congresswoman Carol Miller is an incredible Representative<br>for the Great People of West Virginia’s 1st Congressional<br>District!Carol is a Fierce Advocate for our America First<br>Agenda. In Congress, she ...<br><b>Speaker:</b> Donald Trump",
          "<b>Date:</b> 2025-05-09 17:41<br><b>Topic:</b> secure-energy-complete (Confidence: 0.832)<br><b>Content:</b><br>Congressman Tim Walberg is an incredible Representative of<br>Michigan's 5th Congressional District!As Chair of the House<br>Education Committee, Tim is working hard to Advance School<br>Choice, Deliver the Be...<br><b>Speaker:</b> Donald Trump",
          "<b>Date:</b> 2025-05-09 17:41<br><b>Topic:</b> secure-energy-complete (Confidence: 0.923)<br><b>Content:</b><br>Congressman John Joyce is a fantastic Champion for<br>Pennsylvania’s 13th Congressional District!An Original<br>Member of my Pennsylvania Federal Leadership Team, John is<br>fighting hard in Congress to Secure...<br><b>Speaker:</b> Donald Trump",
          "<b>Date:</b> 2025-05-09 17:41<br><b>Topic:</b> secure-energy-complete (Confidence: 0.981)<br><b>Content:</b><br>Congressman Riley Moore is a tremendous America First<br>Representative for the Wonderful People of West Virginia’s<br>2nd Congressional District!In Congress, Riley is working<br>tirelessly to Grow the Economy...<br><b>Speaker:</b> Donald Trump",
          "<b>Date:</b> 2025-05-09 17:41<br><b>Topic:</b> secure-energy-complete (Confidence: 0.981)<br><b>Content:</b><br>Congresswoman Virginia Foxx is doing a tremendous job<br>fighting for the people of North Carolina’s 5th<br>Congressional District!As Chair of the House Rules<br>Committee, Virginia is working hard to Advance ...<br><b>Speaker:</b> Donald Trump",
          "<b>Date:</b> 2025-05-09 17:39<br><b>Topic:</b> secure-energy-complete (Confidence: 0.980)<br><b>Content:</b><br>Congresswoman Anna Paulina Luna is an incredible Advocate<br>for the Great People of Florida's 13th Congressional<br>District!Anna is an America First Patriot, who fights<br>tirelessly to Grow the Economy, Cut...<br><b>Speaker:</b> Donald Trump",
          "<b>Date:</b> 2025-05-08 18:03<br><b>Topic:</b> secure-energy-complete (Confidence: 0.383)<br><b>Content:</b><br>Chairman Jason Simmons is doing a tremendous job leading the<br>North Carolina Republican Party! Jason has been with us from<br>the very beginning, and has been key to our many Republican<br>Victories in The T...<br><b>Speaker:</b> Donald Trump",
          "<b>Date:</b> 2025-05-08 18:03<br><b>Topic:</b> secure-energy-complete (Confidence: 0.470)<br><b>Content:</b><br>Chairman Josh McKoon is doing a fantastic job leading the<br>Republican Party of Georgia, a State I LOVE, and WON BIG, in<br>2024! Josh is 100% MAGA, and I know he will continue to do a<br>fantastic job, and s...<br><b>Speaker:</b> Donald Trump",
          "<b>Date:</b> 2025-05-08 18:03<br><b>Topic:</b> secure-energy-complete (Confidence: 0.662)<br><b>Content:</b><br>Chair Julianne Murray is doing a tremendous job leading the<br>Delaware Republican Party. Julianne is MAGA all the way, and<br>has worked tirelessly to Secure our Elections, and Champion<br>our America First M...<br><b>Speaker:</b> Donald Trump",
          "<b>Date:</b> 2025-05-08 18:03<br><b>Topic:</b> secure-energy-complete (Confidence: 0.370)<br><b>Content:</b><br>Republicans in Utah have the opportunity to Re-Elect a<br>FANTASTIC Chairman! Robert Axson has dedicated his life to<br>the Republican Party, and the Great State of Utah. He is<br>Strongly Supported by many, i...<br><b>Speaker:</b> Donald Trump",
          "<b>Date:</b> 2025-05-08 18:03<br><b>Topic:</b> secure-energy-complete (Confidence: 0.929)<br><b>Content:</b><br>Congressman Ryan Mackenzie is an America First Patriot, who<br>is doing an incredible job representing the Great People of<br>Pennsylvania’s 7th Congressional District!In Congress, Ryan<br>is fighting tireless...<br><b>Speaker:</b> Donald Trump",
          "<b>Date:</b> 2025-05-08 18:03<br><b>Topic:</b> secure-energy-complete (Confidence: 0.866)<br><b>Content:</b><br>Congressman Tom Kean is a Great Representative for the<br>People of New Jersey’s 7th Congressional District!A<br>Tremendous Advocate of our America First Agenda, Tom is<br>working tirelessly to Secure the Bord...<br><b>Speaker:</b> Donald Trump",
          "<b>Date:</b> 2025-05-08 18:02<br><b>Topic:</b> secure-energy-complete (Confidence: 0.793)<br><b>Content:</b><br>Congressman Nick Begich is doing an incredible job<br>representing the Great People of Alaska, a State I love, and<br>WON BIG THREE TIMES, in 2016, 2020, and 2024!A very<br>successful Businessman, Nick knows t...<br><b>Speaker:</b> Donald Trump",
          "<b>Date:</b> 2025-05-08 18:02<br><b>Topic:</b> secure-energy-complete (Confidence: 0.979)<br><b>Content:</b><br>Congresswoman Jen Kiggans is a Tremendous Advocate for the<br>Great People of Virginia’s 2nd Congressional District!A<br>former Navy helicopter pilot, Jen knows how to Defend our<br>Country, Support our Brave ...<br><b>Speaker:</b> Donald Trump",
          "<b>Date:</b> 2025-05-08 18:02<br><b>Topic:</b> secure-energy-complete (Confidence: 0.980)<br><b>Content:</b><br>Congressman Tom Barrett is an incredible Representative for<br>the Wonderful People of Michigan's 7th Congressional<br>District!Tom bravely served our Country as an Army<br>Helicopter Pilot and, in Congress, h...<br><b>Speaker:</b> Donald Trump",
          "<b>Date:</b> 2025-05-08 18:02<br><b>Topic:</b> secure-energy-complete (Confidence: 0.918)<br><b>Content:</b><br>Congressman Rob Bresnahan is a terrific Representative of<br>Pennsylvania’s 8th Congressional District!A Highly<br>Successful Businessman, Rob is working hard to Create Jobs,<br>Cut Taxes, Stop Wasteful Spendi...<br><b>Speaker:</b> Donald Trump",
          "<b>Date:</b> 2025-05-08 18:01<br><b>Topic:</b> secure-energy-complete (Confidence: 0.984)<br><b>Content:</b><br>Congressman Mike Bost is a Tremendous Champion for Illinois’<br>12th Congressional District!A U.S. Marine Corps Veteran, and<br>Chairman of the House Veterans' Affairs Committee, Mike is<br>fighting tirelessly...<br><b>Speaker:</b> Donald Trump",
          "<b>Date:</b> 2025-05-08 18:01<br><b>Topic:</b> secure-energy-complete (Confidence: 0.950)<br><b>Content:</b><br>Congressman Zach Nunn is a fantastic Representative for the<br>Great People of Iowa’s 3rd Congressional District!A Brave<br>Combat Veteran, Zach is fighting hard to Grow our Economy,<br>Cut Taxes, Support our ...<br><b>Speaker:</b> Donald Trump",
          "<b>Date:</b> 2025-05-06 20:04<br><b>Topic:</b> secure-energy-complete (Confidence: 0.784)<br><b>Content:</b><br>Congressman Mike Lawler is a Strong Champion, and Highly<br>Effective Representative, for the Great People of New York’s<br>17th Congressional District!A true America First Patriot,<br>Mike is fighting hard to...<br><b>Speaker:</b> Donald Trump",
          "<b>Date:</b> 2025-05-06 18:44<br><b>Topic:</b> secure-energy-complete (Confidence: 0.904)<br><b>Content:</b><br>Bruce Blakeman of New York is doing an incredible job as<br>Nassau County Executive!Bruce is MAGA all the way, and has<br>been with us from the very beginning. He is working hard to<br>Grow the Economy, Cut Ta...<br><b>Speaker:</b> Donald Trump",
          "<b>Date:</b> 2025-04-28 16:00<br><b>Topic:</b> secure-energy-complete (Confidence: 0.867)<br><b>Content:</b><br>Congressman John McGuire is an America First Warrior for<br>Virginia’s 5th Congressional District. John bravely served<br>our Great Country as a U.S. Navy SEAL, and is doing an<br>incredible job fighting for t...<br><b>Speaker:</b> Donald Trump",
          "<b>Date:</b> 2025-04-28 14:57<br><b>Topic:</b> secure-energy-complete (Confidence: 0.985)<br><b>Content:</b><br>Congressman Scott Perry is a tremendous Representative for<br>the Great People of Pennsylvania’s 10th Congressional<br>District!A retired Army Brigadier General, Scott is a MAGA<br>Warrior, who always puts AME...<br><b>Speaker:</b> Donald Trump",
          "<b>Date:</b> 2025-04-28 14:53<br><b>Topic:</b> secure-energy-complete (Confidence: 0.868)<br><b>Content:</b><br>Congressman Gabe Evans is an America First Patriot who is<br>doing a fantastic job representing Colorado’s 8th<br>Congressional District!A decorated Army Helicopter Pilot and<br>former Police Officer, Gabe has...<br><b>Speaker:</b> Donald Trump",
          "<b>Date:</b> 2025-04-28 14:53<br><b>Topic:</b> secure-energy-complete (Confidence: 0.977)<br><b>Content:</b><br>Congressman Juan Ciscomani is a Tremendous Champion for<br>Arizona’s 6th Congressional District!As a Member of the<br>POWERFUL Appropriations Committee, Juan is fighting hard to<br>Secure the Border, Stop Migr...<br><b>Speaker:</b> Donald Trump",
          "<b>Date:</b> 2025-04-28 14:53<br><b>Topic:</b> secure-energy-complete (Confidence: 0.900)<br><b>Content:</b><br>Congressman Derrick Van Orden is an America First Warrior<br>for Wisconsin’s 3rd Congressional District.A retired Navy<br>SEAL, Derrick bravely served our Country in combat, and<br>brings that same Fighting Sp...<br><b>Speaker:</b> Donald Trump",
          "<b>Date:</b> 2025-04-24 08:28<br><b>Topic:</b> secure-energy-complete (Confidence: 0.430)<br><b>Content:</b><br>THE SOUTHERN BORDER IS NOW THE STRONGEST AND SAFEST IN USA<br>HISTORY. IT WILL REMAIN SO!!!<br><b>Speaker:</b> Donald Trump",
          "<b>Date:</b> 2025-04-21 18:22<br><b>Topic:</b> secure-energy-complete (Confidence: 0.563)<br><b>Content:</b><br>I like Karrin Taylor Robson of Arizona a lot, and when she<br>asked me to Endorse her, with nobody else running, I<br>Endorsed her, and was happy to do so. When Andy Biggs<br>decided to run for Governor, quite...<br><b>Speaker:</b> Donald Trump",
          "<b>Date:</b> 2025-04-21 17:18<br><b>Topic:</b> secure-energy-complete (Confidence: 0.786)<br><b>Content:</b><br>Steve Daines is a Great Man, and TREMENDOUS Senator,<br>representing the Fantastic People of Montana. I love<br>Montana, won every one of my Races there by a landslide, and<br>would only recommend the best to ...<br><b>Speaker:</b> Donald Trump",
          "<b>Date:</b> 2025-04-16 07:50<br><b>Topic:</b> secure-energy-complete (Confidence: 0.550)<br><b>Content:</b><br>Congresswoman Elise Stefanik is GREAT!!!<br><b>Speaker:</b> Donald Trump",
          "<b>Date:</b> 2025-04-14 23:57<br><b>Topic:</b> secure-energy-complete (Confidence: 0.458)<br><b>Content:</b><br>A just out NBC Poll says that MAGA is gaining tremendous<br>support. I am not, at all, surprised!!!<br><b>Speaker:</b> Donald Trump",
          "<b>Date:</b> 2025-04-10 17:57<br><b>Topic:</b> secure-energy-complete (Confidence: 0.630)<br><b>Content:</b><br>Senator Pete Ricketts is doing a terrific job for the People<br>of Nebraska! Pete is working hard to Champion our Great<br>Farmers and American Agriculture, Stop Illegal Immigration<br>and Migrant Crime, Cut T...<br><b>Speaker:</b> Donald Trump",
          "<b>Date:</b> 2025-04-10 17:52<br><b>Topic:</b> secure-energy-complete (Confidence: 0.780)<br><b>Content:</b><br>I am proud to once again endorse Texas Lieutenant Governor,<br>Dan Patrick, for Re-Election.As Texas Chair of our<br>Presidential Campaigns in 2016, 2020, and 2024, Dan has been<br>an incredible friend to our ...<br><b>Speaker:</b> Donald Trump",
          "<b>Date:</b> 2025-04-09 12:16<br><b>Topic:</b> secure-energy-complete (Confidence: 0.651)<br><b>Content:</b><br>Jon Husted is doing an incredible job as Senator for the<br>Great State of Ohio! He served as your Lieutenant Governor<br>for seven years prior to becoming a very distinguished and<br>well respected Senator.Jo...<br><b>Speaker:</b> Donald Trump",
          "<b>Date:</b> 2025-04-07 10:06<br><b>Topic:</b> secure-energy-complete (Confidence: 0.550)<br><b>Content:</b><br>“We added almost twice as many jobs as people were<br>predicting…”<br><b>Speaker:</b> Donald Trump",
          "<b>Date:</b> 2025-04-01 20:09<br><b>Topic:</b> secure-energy-complete (Confidence: 0.452)<br><b>Content:</b><br>Jimmy Patronis WINS BIG! Congratulations Jimmy. DONALD J.<br>TRUMP, PRESIDENT!<br><b>Speaker:</b> Donald Trump",
          "<b>Date:</b> 2025-04-01 19:24<br><b>Topic:</b> secure-energy-complete (Confidence: 0.525)<br><b>Content:</b><br>RANDY FINE WINS!!!<br><b>Speaker:</b> Donald Trump",
          "<b>Date:</b> 2025-04-01 09:56<br><b>Topic:</b> secure-energy-complete (Confidence: 0.987)<br><b>Content:</b><br>Jimmy Patronis, Chief Financial Officer and Fire Marshall<br>for the Great State of Florida, is running an incredible<br>Campaign for Congress in Florida’s 1st Congressional<br>District! A fourth generation Fl...<br><b>Speaker:</b> Donald Trump",
          "<b>Date:</b> 2025-04-01 09:55<br><b>Topic:</b> secure-energy-complete (Confidence: 0.986)<br><b>Content:</b><br>America First Patriot Randy Fine is running to represent the<br>Wonderful People of Florida’s 6th Congressional District! A<br>highly successful, Harvard educated businessman, and greatly<br>respected State Le...<br><b>Speaker:</b> Donald Trump",
          "<b>Date:</b> 2025-03-31 09:31<br><b>Topic:</b> secure-energy-complete (Confidence: 0.987)<br><b>Content:</b><br>RT@realDonaldTrumpJimmy Patronis, Chief Financial Officer<br>and Fire Marshall for the Great State of Florida, is running<br>an incredible Campaign for Congress in Florida’s 1st<br>Congressional District! A fo...<br><b>Speaker:</b> Donald Trump",
          "<b>Date:</b> 2025-03-31 09:31<br><b>Topic:</b> secure-energy-complete (Confidence: 0.986)<br><b>Content:</b><br>RT@realDonaldTrumpAmerica First Patriot Randy Fine is<br>running to represent the Wonderful People of Florida’s 6th<br>Congressional District! A highly successful, Harvard<br>educated businessman, and greatly ...<br><b>Speaker:</b> Donald Trump",
          "<b>Date:</b> 2025-03-29 12:50<br><b>Topic:</b> secure-energy-complete (Confidence: 0.987)<br><b>Content:</b><br>Jimmy Patronis, Chief Financial Officer and Fire Marshall<br>for the Great State of Florida, is running an incredible<br>Campaign for Congress in Florida’s 1st Congressional<br>District! A fourth generation Fl...<br><b>Speaker:</b> Donald Trump",
          "<b>Date:</b> 2025-03-29 12:49<br><b>Topic:</b> secure-energy-complete (Confidence: 0.986)<br><b>Content:</b><br>America First Patriot Randy Fine is running to represent the<br>Wonderful People of Florida’s 6th Congressional District! A<br>highly successful, Harvard educated businessman, and greatly<br>respected State Le...<br><b>Speaker:</b> Donald Trump",
          "<b>Date:</b> 2025-03-27 13:39<br><b>Topic:</b> secure-energy-complete (Confidence: 0.985)<br><b>Content:</b><br>Congressman Scott Perry is a tremendous Representative for<br>the Great People of Pennsylvania’s 10th Congressional<br>District!A retired Army Brigadier General, Scott is a MAGA<br>Warrior, who always puts AME...<br><b>Speaker:</b> Donald Trump",
          "<b>Date:</b> 2025-03-26 19:56<br><b>Topic:</b> secure-energy-complete (Confidence: 0.794)<br><b>Content:</b><br>Senator Lindsey Graham is working incredibly hard for the<br>Great People of South Carolina, a State I love and WON BIG<br>in 2016, 2020, and 2024!Lindsey has been a wonderful friend<br>to me, and has always b...<br><b>Speaker:</b> Donald Trump",
          "<b>Date:</b> 2025-03-26 19:49<br><b>Topic:</b> secure-energy-complete (Confidence: 0.917)<br><b>Content:</b><br>Senator Cynthia Lummis is an America First Warrior for the<br>Wonderful People of Wyoming!As the Chair of the Senate<br>Banking Subcommittee on Digital Assets, Cynthia is working<br>closely with me to make Ame...<br><b>Speaker:</b> Donald Trump",
          "<b>Date:</b> 2025-03-26 19:48<br><b>Topic:</b> secure-energy-complete (Confidence: 0.981)<br><b>Content:</b><br>Senator Cindy Hyde-Smith is 100% MAGA, and doing a fantastic<br>job representing the Incredible People of Mississippi!An<br>Original Member of my Mississippi Leadership Team, Cindy has<br>been with us from the...<br><b>Speaker:</b> Donald Trump",
          "<b>Date:</b> 2025-03-26 19:47<br><b>Topic:</b> secure-energy-complete (Confidence: 0.867)<br><b>Content:</b><br>Congressman John McGuire is an America First Warrior for<br>Virginia’s 5th Congressional District. John bravely served<br>our Great Country as a U.S. Navy SEAL, and is doing an<br>incredible job fighting for t...<br><b>Speaker:</b> Donald Trump",
          "<b>Date:</b> 2025-03-26 19:33<br><b>Topic:</b> secure-energy-complete (Confidence: 0.901)<br><b>Content:</b><br>Senator Bill Hagerty is doing a fantastic job representing<br>the Great People of Tennessee!I have known Bill for a long<br>time, as both a Highly Successful Businessman, and<br>outstanding Ambassador to Japan...<br><b>Speaker:</b> Donald Trump",
          "<b>Date:</b> 2025-03-24 07:32<br><b>Topic:</b> secure-energy-complete (Confidence: 0.987)<br><b>Content:</b><br>America First Patriot Randy Fine is running to represent the<br>Great People of Florida’s 6th Congressional District! A<br>highly successful, Harvard educated businessman, and greatly<br>respected State Legisl...<br><b>Speaker:</b> Donald Trump",
          "<b>Date:</b> 2025-03-24 07:31<br><b>Topic:</b> secure-energy-complete (Confidence: 0.987)<br><b>Content:</b><br>Jimmy Patronis, Chief Financial Officer and Fire Marshall<br>for the Great State of Florida, is running an incredible<br>Campaign for Congress in Florida’s 1st Congressional<br>District! A fourth generation Fl...<br><b>Speaker:</b> Donald Trump",
          "<b>Date:</b> 2025-03-20 14:47<br><b>Topic:</b> secure-energy-complete (Confidence: 0.831)<br><b>Content:</b><br>Senator Jim Risch is doing a tremendous job representing the<br>incredible people of Idaho, a State I love, and WON BIG, in<br>2016, 2020, and 2024!As the Chair of the Senate Foreign<br>Relations Committee, Ji...<br><b>Speaker:</b> Donald Trump",
          "<b>Date:</b> 2025-03-19 17:46<br><b>Topic:</b> secure-energy-complete (Confidence: 0.987)<br><b>Content:</b><br>America First Patriot Randy Fine is running to represent the<br>Great People of Florida’s 6th Congressional District! A<br>highly successful, Harvard educated businessman, and greatly<br>respected State Legisl...<br><b>Speaker:</b> Donald Trump",
          "<b>Date:</b> 2025-03-19 14:15<br><b>Topic:</b> secure-energy-complete (Confidence: 0.700)<br><b>Content:</b><br>“TRUMP IS FIGHTING TO PROTECT AMERICA”<br><b>Speaker:</b> Donald Trump",
          "<b>Date:</b> 2025-03-18 21:34<br><b>Topic:</b> secure-energy-complete (Confidence: 0.700)<br><b>Content:</b><br>“Let Trump Be Trump on the Economy”<br><b>Speaker:</b> Donald Trump",
          "<b>Date:</b> 2025-02-24 21:51<br><b>Topic:</b> secure-energy-complete (Confidence: 0.586)<br><b>Content:</b><br>VIVEK RAMASWAMY is running for Governor of the Great State<br>of Ohio. I know him well, competed against him, and he is<br>something SPECIAL. He’s Young, Strong, and Smart! Vivek is<br>also a very good person,...<br><b>Speaker:</b> Donald Trump",
          "<b>Date:</b> 2025-02-23 15:40<br><b>Topic:</b> secure-energy-complete (Confidence: 0.467)<br><b>Content:</b><br>Great job by Congressman Roger Williams, of Texas, on<br>FoxNews. Our economy will ROAR!!!<br><b>Speaker:</b> Donald Trump",
          "<b>Date:</b> 2025-02-22 08:14<br><b>Topic:</b> secure-energy-complete (Confidence: 0.775)<br><b>Content:</b><br>OUR SOUTHERN BORDER IS CLOSED!!!<br><b>Speaker:</b> Donald Trump",
          "<b>Date:</b> 2025-02-20 18:21<br><b>Topic:</b> secure-energy-complete (Confidence: 0.341)<br><b>Content:</b><br>America First Patriot Meshawn Maddock is running to serve as<br>Chair of the Michigan Republican Party!Meshawn is running to<br>replace my friend, the GREAT Pete Hoekstra, who will serve<br>as the next United ...<br><b>Speaker:</b> Donald Trump",
          "<b>Date:</b> 2025-02-20 18:12<br><b>Topic:</b> secure-energy-complete (Confidence: 0.653)<br><b>Content:</b><br>I am hearing that Highly Respected Congressman Byron Donalds<br>is considering running for Governor of Florida, a State that<br>I love, and WON BIG in 2016, 2020, and 2024.I know Byron<br>well, have seen him t...<br><b>Speaker:</b> Donald Trump",
          "<b>Date:</b> 2025-02-07 17:29<br><b>Topic:</b> secure-energy-complete (Confidence: 0.503)<br><b>Content:</b><br>Jeff Kaufmann is doing an incredible job as Chairman of the<br>Republican Party of Iowa.Jeff has overseen tremendous<br>Republican gains in the Hawkeye State, including my HISTORIC<br>WINS in 2016, 2020, and 2...<br><b>Speaker:</b> Donald Trump",
          "<b>Date:</b> 2025-01-25 18:34<br><b>Topic:</b> secure-energy-complete (Confidence: 0.986)<br><b>Content:</b><br>America First Patriot Randy Fine is running to represent the<br>Great People of Florida's 6th Congressional District!A<br>highly successful, Harvard educated businessman, and greatly<br>respected State Legisla...<br><b>Speaker:</b> Donald Trump",
          "<b>Date:</b> 2025-01-25 18:34<br><b>Topic:</b> secure-energy-complete (Confidence: 0.987)<br><b>Content:</b><br>Jimmy Patronis, Chief Financial Officer and Fire Marshall<br>for the Great State of Florida, is running an incredible<br>Campaign for Congress in Florida's 1st Congressional<br>District! A fourth generation Fl...<br><b>Speaker:</b> Donald Trump",
          "<b>Date:</b> 2025-01-21 02:54<br><b>Topic:</b> secure-energy-complete (Confidence: 0.456)<br><b>Content:</b><br>RT@TeamTrump🚨 President Trump signs an order to ease the<br>permitting process and other regulations in order to unleash<br>American energy<br><b>Speaker:</b> Donald Trump",
          "<b>Date:</b> 2025-01-21 02:54<br><b>Topic:</b> secure-energy-complete (Confidence: 0.443)<br><b>Content:</b><br>RT@TeamTrump🚨 President Trump signs a proclamation declaring<br>a NATIONAL EMERGENCY at the southern border<br><b>Speaker:</b> Donald Trump",
          "<b>Date:</b> 2025-01-08 16:17<br><b>Topic:</b> secure-energy-complete (Confidence: 0.408)<br><b>Content:</b><br>I hear that my fully Endorsed Candidates in Florida are<br>doing really well. Jimmy Patronis (FL-01) and Randy Fine<br>(FL-06) are leading by a great margin but, we must make it,<br>TOO BIG TO RIG. I have full...<br><b>Speaker:</b> Donald Trump"
         ],
         "type": "scatter3d",
         "x": {
          "bdata": "T+5hQRmJYkFQMFhBm95WQRJbV0HPnVdBEJxWQSAuWEEsV2FBKX1WQVozVkEOqVdBb0NgQaF8V0GMW1dBy3FWQetZV0GIwFVBNV9XQaXSV0FbyFZBgIpXQVIRWEHmr1ZB3Eg1wCsEZkHOSGZBjdxbQWaIWEFP6lVBYIcrwN0/UUCch1dBmzhcQVA2WUFg7lZBxRxXQYFIXEF4tmBB2hZfQfIdVkBtSVtB/V5mQaNKY0EdaFtBlMpZQT5LWUH2wlJA9NpWQA7xVUCCR1ZA5HpiQQn+YkFIgGFBHcNbQVESWkGf1GNBuy5ZQRhGX0GIeVtBu01aQbkvZkHnnVZBXBteQSVJWkGKCGFBVYVVQBtPYUE+vWZBehdhQTTpVUE6OWBBRhpgQYZsZkFIe2BBK/wqwK1cV0AaOFhBgN1WQacwV0F94VhBqWBWQaNHWUFgHVdB/mVhQRrdVkH9wlhB0hRmQVFCWkHkn1ZBXPZVQcAbY0EvgFVB051fQUEkYEGeBlhAuOlVQZi6YEGfKFFADOFVQHQSV0CKFFhB2mhYQW+HNcC6yjTAL7NQQA==",
          "dtype": "f4"
         },
         "y": {
          "bdata": "z8wNQmCqDUIpWxBCqn4QQq+kEELykhBCEssQQt2qEEJMtw1ClbUQQvaDEEKzlRBCu+oNQvLPEEL9XhBCtLcQQivPEEJQcxBClKkQQnRbEEK2ZxBCkrgQQl2aEEJIWRBCZQDHQKUODULe8QxCRaUPQrb0D0Im8QNCCwWWQMO5RkAjlhBC/KAPQrqtD0LMqhBCWv0QQuatD0Lyfw5CBu4OQuUF7kA/ExBCqO0MQnRxDUJx1A9CZ4wQQoR9EEJQlvBAcnLrQJTL7kBeXO5AT7oNQnF3DUIWTA5C8b8PQi4REELycQ1CdmAQQv7UDkKvHA9Cw3QPQnr0DEI+ABFCTjwPQjAgEEJ4gA5CKqRIQKRjDkIA2QxCWXQOQgXuA0L+wQ5Cda0OQuLoDEICmA5Ct++YQEOk7UDBnxBCXacQQkGYEEINUxBCusUQQrFFEELKzBBCLFEOQkyIEELQUhBCpfoMQvZ5D0Lr2RBCUpsQQriRDUJ+0hBChNYOQrWtDkLG9OtAFu8DQoOCDkKRTPJAyWLvQATY60AOhBBCQ38QQuwNx0Bd38ZAwIJGQA==",
          "dtype": "f4"
         },
         "z": {
          "bdata": "1se5wIJZuMCw/c3AIljKwLXbzMCHm8zACXHMwE68zsA6r7jAa4HLwBRTysAgR87AgnC6wGUqz8BcQ8nA2xfLwNFmzMBtw8jAeB7OwB//ysAE6crAygzNwPHFz8CmC8rATNviPjPQssC/K7HAiy/CwIK+xcCQKGbAawBHQCmQhT4+nc3AOfXBwGgKxcAivczAJCDNwLSnwsB3sMbA8sjAwDAeWEDDSdDAIfiwwCfftsARbsvAn7jRwPa60MAVkVxAruFWQHm9WED+iFhA7n+5wG/+tsA6mMLAWLvNwHPkz8BY1LbAj+jRwATsxcBU1cLA6//DwFBOscB6CNDAqzzAwKtjz8AVUMTAfEiRPtiawsBKRLDAb/zEwHr7ZcDHysLAiia/wJDRsMCmxMXAbAhKQO4iV0AQys7AF57MwMxXzsA6yc7ABALOwDES0MB03c7AKlrDwH1bycBOmM7AKY+xwJylw8DMB8nA2szJwKaat8BAicvA/mTIwK2tx8DX3VVA6wtmwHlKx8D1Wl5AI/JYQM2/VkCBus3APeHOwGJU4T7AM+Y+x3yGPg==",
          "dtype": "f4"
         }
        },
        {
         "hoverinfo": "text",
         "hovertemplate": "%{text}<extra></extra>",
         "marker": {
          "color": "rgb(128,177,211)",
          "line": {
           "color": "darkgray",
           "width": 0.5
          },
          "opacity": 0.8,
          "size": 5
         },
         "mode": "markers",
         "name": "Topic 5: news-fake-new",
         "text": [
          "<b>Date:</b> 2025-07-20 20:06<br><b>Topic:</b> news-fake-new (Confidence: 0.638)<br><b>Content:</b><br>Go get the GREAT NEW BOOK by Mark Levin. It’s entitled “ON<br>POWER,” and it’s the talk of the town. Read it, digest it,<br>and enjoy it. He is truly, ONE OF A KIND!!! DJT<br><b>Speaker:</b> Donald Trump",
          "<b>Date:</b> 2025-07-20 19:56<br><b>Topic:</b> news-fake-new (Confidence: 0.700)<br><b>Content:</b><br>HOW DID SAMANTHA POWER MAKE ALL OF THAT MONEY???<br><b>Speaker:</b> Donald Trump",
          "<b>Date:</b> 2025-07-20 19:53<br><b>Topic:</b> news-fake-new (Confidence: 0.420)<br><b>Content:</b><br>Watch Mark Levin on FoxNews! NOW!!!<br><b>Speaker:</b> Donald Trump",
          "<b>Date:</b> 2025-07-20 18:50<br><b>Topic:</b> news-fake-new (Confidence: 0.700)<br><b>Content:</b><br>“Greatest Bitcoin explanation of all time”<br><b>Speaker:</b> Donald Trump",
          "<b>Date:</b> 2025-07-20 09:06<br><b>Topic:</b> news-fake-new (Confidence: 0.481)<br><b>Content:</b><br>I will try to save them, starting right now.<br><b>Speaker:</b> Donald Trump",
          "<b>Date:</b> 2025-07-18 20:51<br><b>Topic:</b> news-fake-new (Confidence: 0.871)<br><b>Content:</b><br>RT@realDonaldTrumpEverybody should watch Sean Hannity<br>tonight. He really gets it! 9PM ET Fox News<br><b>Speaker:</b> Donald Trump",
          "<b>Date:</b> 2025-07-18 20:51<br><b>Topic:</b> news-fake-new (Confidence: 0.871)<br><b>Content:</b><br>RT@realDonaldTrumpEverybody should watch Sean Hannity<br>tonight. He really gets it! 9PM ET Fox News<br><b>Speaker:</b> Donald Trump",
          "<b>Date:</b> 2025-07-18 19:53<br><b>Topic:</b> news-fake-new (Confidence: 0.611)<br><b>Content:</b><br>I pledged that we would bring back American liberty and<br>leadership and make the U.S. the crypto capital of the<br>world—The Genius Act creates a clear and simple regulatory<br>framework to establish and unl...<br><b>Speaker:</b> Donald Trump",
          "<b>Date:</b> 2025-07-18 19:53<br><b>Topic:</b> news-fake-new (Confidence: 0.611)<br><b>Content:</b><br>I pledged that we would bring back American liberty and<br>leadership and make the U.S. the crypto capital of the<br>world—The Genius Act creates a clear and simple regulatory<br>framework to establish and unl...<br><b>Speaker:</b> Donald Trump",
          "<b>Date:</b> 2025-07-18 12:14<br><b>Topic:</b> news-fake-new (Confidence: 0.887)<br><b>Content:</b><br>Everybody should watch Sean Hannity tonight. He really gets<br>it! 9PM ET Fox News<br><b>Speaker:</b> Donald Trump",
          "<b>Date:</b> 2025-07-18 12:14<br><b>Topic:</b> news-fake-new (Confidence: 0.887)<br><b>Content:</b><br>Everybody should watch Sean Hannity tonight. He really gets<br>it! 9PM ET Fox News<br><b>Speaker:</b> Donald Trump",
          "<b>Date:</b> 2025-07-18 09:16<br><b>Topic:</b> news-fake-new (Confidence: 0.659)<br><b>Content:</b><br>I absolutely love that Colbert’ got fired. His talent was<br>even less than his ratings. I hear Jimmy Kimmel is next. Has<br>even less talent than Colbert! Greg Gutfeld is better than<br>all of them combined, ...<br><b>Speaker:</b> Donald Trump",
          "<b>Date:</b> 2025-07-18 09:16<br><b>Topic:</b> news-fake-new (Confidence: 0.659)<br><b>Content:</b><br>I absolutely love that Colbert’ got fired. His talent was<br>even less than his ratings. I hear Jimmy Kimmel is next. Has<br>even less talent than Colbert! Greg Gutfeld is better than<br>all of them combined, ...<br><b>Speaker:</b> Donald Trump",
          "<b>Date:</b> 2025-07-12 19:50<br><b>Topic:</b> news-fake-new (Confidence: 0.820)<br><b>Content:</b><br>I will be interviewed by my wonderful daughter-in-law, Lara<br>Trump, on FoxNews, at 9:00 P.M. (TONIGHT!). Enjoy!<br><b>Speaker:</b> Donald Trump",
          "<b>Date:</b> 2025-07-11 10:36<br><b>Topic:</b> news-fake-new (Confidence: 0.730)<br><b>Content:</b><br>Secretary of War Pete Hegseth was great on FoxNews this<br>morning. Talking about modern weapons and warfare. Thank you<br>also to Brett Velicovich, who really knows his “stuff.” We<br>are really on our way. M...<br><b>Speaker:</b> Donald Trump",
          "<b>Date:</b> 2025-07-10 23:52<br><b>Topic:</b> news-fake-new (Confidence: 0.596)<br><b>Content:</b><br>Congratulations to Bryan Bedford, who was just confirmed to<br>head the FAA. A very talented guy!!! DJT<br><b>Speaker:</b> Donald Trump",
          "<b>Date:</b> 2025-07-04 10:27<br><b>Topic:</b> news-fake-new (Confidence: 0.645)<br><b>Content:</b><br>Republican Strategist T.J. McCormack was fantastic this<br>morning on NewsMax. He really knows his “stuff!”<br><b>Speaker:</b> Donald Trump",
          "<b>Date:</b> 2025-07-03 23:50<br><b>Topic:</b> news-fake-new (Confidence: 0.887)<br><b>Content:</b><br>RT@rapidresponse47President@realDonaldTrump: \"As President<br>of the United States, I am proclaiming here and now that<br>America is NEVER going Communist in any way, shape, form —<br>and that includes New Yor...<br><b>Speaker:</b> Donald Trump",
          "<b>Date:</b> 2025-07-03 23:50<br><b>Topic:</b> news-fake-new (Confidence: 0.395)<br><b>Content:</b><br>I’m on Air Force One, traveling back to Washington from the<br>Great State of Iowa, with many of our wonderful and talented<br>Cabinet Secretaries, including Kristi Noem, Doug Burgum,<br>Brooke Rollins, Lee Ze...<br><b>Speaker:</b> Donald Trump",
          "<b>Date:</b> 2025-07-02 21:22<br><b>Topic:</b> news-fake-new (Confidence: 0.635)<br><b>Content:</b><br>Rep. Jamie Raskin, a third rate Democrat politician, has no<br>idea what is in our fantastic Tax Cut Bill, nor would he<br>understand it if he did. This DOPE has been consistently<br>losing to me for YEARS, an...<br><b>Speaker:</b> Donald Trump",
          "<b>Date:</b> 2025-07-02 08:38<br><b>Topic:</b> news-fake-new (Confidence: 0.631)<br><b>Content:</b><br>As President of the United States, I’m not going to let this<br>Communist Lunatic destroy New York. Rest assured, I hold all<br>the levers, and have all the cards. I’ll save New York City,<br>and make it “Hot”...<br><b>Speaker:</b> Donald Trump",
          "<b>Date:</b> 2025-07-01 21:24<br><b>Topic:</b> news-fake-new (Confidence: 0.910)<br><b>Content:</b><br>Congresswoman Anna Paulina Luna was FANTASTIC tonight on<br>“Jesse Watters Primetime,” as interviewed by fabulous<br>Charlie Hurt. Thank you Anna! Also, thank you to Congressman<br>Byron Donalds, and Stephen D...<br><b>Speaker:</b> Donald Trump",
          "<b>Date:</b> 2025-07-01 09:21<br><b>Topic:</b> news-fake-new (Confidence: 0.472)<br><b>Content:</b><br>New poll: Anybody I Endorse beats Thomas Massie of Kentucky<br>by 25 points. Get ready. Massie is a very bad guy!<br><b>Speaker:</b> Donald Trump",
          "<b>Date:</b> 2025-06-30 14:20<br><b>Topic:</b> news-fake-new (Confidence: 0.501)<br><b>Content:</b><br>I apologize for the long wait on the Faith Leaders<br>Conference Call. AT&T ought to get its act together. Please<br>pass along the word to the tens of thousands of people who<br>are there. We may have to resc...<br><b>Speaker:</b> Donald Trump",
          "<b>Date:</b> 2025-06-30 09:51<br><b>Topic:</b> news-fake-new (Confidence: 0.605)<br><b>Content:</b><br>Not that it really matters, but a terribly untalented writer<br>for badly failing Forbes Magazine, Dan Alexander, who<br>probably can’t get a meaningful job in the business, has<br>written so inaccurately abou...<br><b>Speaker:</b> Donald Trump",
          "<b>Date:</b> 2025-06-30 02:43<br><b>Topic:</b> news-fake-new (Confidence: 0.554)<br><b>Content:</b><br>Tell phony Democrat Senator Chris Coons that I am not<br>offering Iran ANYTHING, unlike Obama, who paid them<br>$Billions under the stupid “road to a Nuclear Weapon JCPOA<br>(which would now be expired!), nor ...<br><b>Speaker:</b> Donald Trump",
          "<b>Date:</b> 2025-06-29 16:48<br><b>Topic:</b> news-fake-new (Confidence: 0.508)<br><b>Content:</b><br>Great Congressman Greg Steube is 100% correct. An unelected<br>Senate Staffer (Parliamentarian), should not be allowed to<br>hurt the Republicans Bill. Wants many fantastic things out.<br>NO! DJT<br><b>Speaker:</b> Donald Trump",
          "<b>Date:</b> 2025-06-29 07:59<br><b>Topic:</b> news-fake-new (Confidence: 0.820)<br><b>Content:</b><br>I will be interviewed this morning by Maria Bartiromo on<br>FoxNews at 10:00 A.M. Enjoy!!!<br><b>Speaker:</b> Donald Trump",
          "<b>Date:</b> 2025-06-28 23:54<br><b>Topic:</b> news-fake-new (Confidence: 0.578)<br><b>Content:</b><br>Did Rand Paul Vote “NO” again tonight? What’s wrong with<br>this guy??? DJT<br><b>Speaker:</b> Donald Trump",
          "<b>Date:</b> 2025-06-28 07:28<br><b>Topic:</b> news-fake-new (Confidence: 0.918)<br><b>Content:</b><br>Fox & Friends Weekend is FANTASTIC! Absolutely killing the<br>Fake News Network’s Morning Shows!<br><b>Speaker:</b> Donald Trump",
          "<b>Date:</b> 2025-06-28 07:02<br><b>Topic:</b> news-fake-new (Confidence: 0.423)<br><b>Content:</b><br>Gianni Caldwell, a great guy who very successfully works at<br>FoxNews, wrote a fantastic new book, “THE DAY MY BROTHER WAS<br>MURDERED, My Journey Through America’s Violent Crime<br>Crisis.” It is a tragic st...<br><b>Speaker:</b> Donald Trump",
          "<b>Date:</b> 2025-06-27 22:56<br><b>Topic:</b> news-fake-new (Confidence: 0.572)<br><b>Content:</b><br>Where does CNN get its “talent?” Just watched someone named<br>Abby Phillip lecture her audience on Tariffs and the economy<br>(which is doing record business!). She has absolutely no<br>idea what she is talki...<br><b>Speaker:</b> Donald Trump",
          "<b>Date:</b> 2025-06-27 22:42<br><b>Topic:</b> news-fake-new (Confidence: 0.719)<br><b>Content:</b><br>Who in the Fake News Media is the SleazeBag saying that<br>“President Trump wants to give Iran $30 Billion to build<br>non-military Nuclear facilities.” Never heard of this<br>ridiculous idea. It’s just anothe...<br><b>Speaker:</b> Donald Trump",
          "<b>Date:</b> 2025-06-26 10:08<br><b>Topic:</b> news-fake-new (Confidence: 0.931)<br><b>Content:</b><br>FAKE NEWS REPORTERS FROM CNN & THE NEW YORK TIMES SHOULD BE<br>FIRED, IMMEDIATELY!!! BAD PEOPLE WITH EVIL INTENTIONS!!!<br><b>Speaker:</b> Donald Trump",
          "<b>Date:</b> 2025-06-26 09:07<br><b>Topic:</b> news-fake-new (Confidence: 0.614)<br><b>Content:</b><br>One of the greatest, most professional, and most<br>“confirming” News Conferences I have ever seen! The Fake<br>News should fire everyone involved in this Witch Hunt, and<br>apologize to our great warriors, an...<br><b>Speaker:</b> Donald Trump",
          "<b>Date:</b> 2025-06-26 08:09<br><b>Topic:</b> news-fake-new (Confidence: 0.775)<br><b>Content:</b><br>News Conference on Now: Watch it!<br><b>Speaker:</b> Donald Trump",
          "<b>Date:</b> 2025-06-26 08:07<br><b>Topic:</b> news-fake-new (Confidence: 0.955)<br><b>Content:</b><br>Rumor is that the Failing New York Times and Fake News CNN<br>will be firing the reporters who made up the FAKE stories on<br>the Iran Nuclear sites because they got it so wrong. Lets<br>see what happens?<br><b>Speaker:</b> Donald Trump",
          "<b>Date:</b> 2025-06-25 22:10<br><b>Topic:</b> news-fake-new (Confidence: 0.871)<br><b>Content:</b><br>FAKE NEWS CNN IS SO DISGUSTING AND INCOMPETENT. SOME OF THE<br>DUMBEST ANCHORS IN THE BUSINESS!<br><b>Speaker:</b> Donald Trump",
          "<b>Date:</b> 2025-06-25 17:13<br><b>Topic:</b> news-fake-new (Confidence: 0.749)<br><b>Content:</b><br>Secretary of Defense (War!) Pete Hegseth, together with<br>Military Representatives, will be holding a Major News<br>Conference tomorrow morning at 8 A.M. EST at The Pentagon,<br>in order to fight for the Dign...<br><b>Speaker:</b> Donald Trump",
          "<b>Date:</b> 2025-06-25 14:25<br><b>Topic:</b> news-fake-new (Confidence: 0.694)<br><b>Content:</b><br>Natasha Bertrand should be FIRED from CNN! I watched her for<br>three days doing Fake News. She should be IMMEDIATELY<br>reprimanded, and then thrown out “like a dog.” She lied on<br>the Laptop from Hell Story...<br><b>Speaker:</b> Donald Trump",
          "<b>Date:</b> 2025-06-25 12:29<br><b>Topic:</b> news-fake-new (Confidence: 0.710)<br><b>Content:</b><br>We just caught the Failing New York Times, working with Fake<br>News CNN, cheating again! They tried to demean the great<br>work our B-2 pilots did, and they were wrong in doing so.<br>These reporters are just...<br><b>Speaker:</b> Donald Trump",
          "<b>Date:</b> 2025-06-24 21:46<br><b>Topic:</b> news-fake-new (Confidence: 0.661)<br><b>Content:</b><br>FAKE NEWS CNN, TOGETHER WITH THE FAILING NEW YORK TIMES,<br>HAVE TEAMED UP IN AN ATTEMPT TO DEMEAN ONE OF THE MOST<br>SUCCESSFUL MILITARY STRIKES IN HISTORY. THE NUCLEAR SITES IN<br>IRAN ARE COMPLETELY DESTROY...<br><b>Speaker:</b> Donald Trump",
          "<b>Date:</b> 2025-06-23 22:39<br><b>Topic:</b> news-fake-new (Confidence: 0.544)<br><b>Content:</b><br>Nate Friedman: “Deranged leftist paid protestor says she<br>wants to destroy Israel then I expose her! Soros is behind<br>it all with proof…”<br><b>Speaker:</b> Donald Trump",
          "<b>Date:</b> 2025-06-23 21:24<br><b>Topic:</b> news-fake-new (Confidence: 0.420)<br><b>Content:</b><br>Thanks to Tim Kennedy and Congressman Cory Mills for a great<br>interview with Laura Ingraham!!!<br><b>Speaker:</b> Donald Trump",
          "<b>Date:</b> 2025-06-23 14:10<br><b>Topic:</b> news-fake-new (Confidence: 0.667)<br><b>Content:</b><br>The sites that we hit in Iran were totally destroyed, and<br>everyone knows it. Only the Fake News would say anything<br>different in order to try and demean, as much as possible —<br>And even they say they we...<br><b>Speaker:</b> Donald Trump",
          "<b>Date:</b> 2025-06-23 09:32<br><b>Topic:</b> news-fake-new (Confidence: 0.775)<br><b>Content:</b><br>Great interview, last night, of Congressman August Pfluger -<br>by Trey Gowdy. Very interesting and insightful!<br><b>Speaker:</b> Donald Trump",
          "<b>Date:</b> 2025-06-21 17:28<br><b>Topic:</b> news-fake-new (Confidence: 0.700)<br><b>Content:</b><br>Only time will tell!<br><b>Speaker:</b> Donald Trump",
          "<b>Date:</b> 2025-06-18 01:35<br><b>Topic:</b> news-fake-new (Confidence: 0.700)<br><b>Content:</b><br>“Great Poll Numbers For Trump!”<br><b>Speaker:</b> Donald Trump",
          "<b>Date:</b> 2025-06-17 05:20<br><b>Topic:</b> news-fake-new (Confidence: 0.544)<br><b>Content:</b><br>I have not reached out to Iran for “Peace Talks” in any way,<br>shape, or form. This is just more HIGHLY FABRICATED, FAKE<br>NEWS! If they want to talk, they know how to reach me. They<br>should have taken the...<br><b>Speaker:</b> Donald Trump",
          "<b>Date:</b> 2025-06-16 19:24<br><b>Topic:</b> news-fake-new (Confidence: 0.522)<br><b>Content:</b><br>AMERICA FIRST means many GREAT things, including the fact<br>that, IRAN CAN NOT HAVE A NUCLEAR WEAPON. MAKE AMERICA GREAT<br>AGAIN!!!<br><b>Speaker:</b> Donald Trump",
          "<b>Date:</b> 2025-06-12 07:34<br><b>Topic:</b> news-fake-new (Confidence: 0.925)<br><b>Content:</b><br>Brian Wilson of The Beach Boys was a true Musical genius,<br>right up there with the greatest, EVER. While Brian is no<br>longer with us, his music will live on forever. Warmest<br>condolences to his family, f...<br><b>Speaker:</b> Donald Trump",
          "<b>Date:</b> 2025-06-11 11:27<br><b>Topic:</b> news-fake-new (Confidence: 0.550)<br><b>Content:</b><br>WE HAVE A GREAT MILITARY…OUR COUNTRY IS BACK—WE’RE REALLY<br>BACK!<br><b>Speaker:</b> Donald Trump",
          "<b>Date:</b> 2025-06-10 09:45<br><b>Topic:</b> news-fake-new (Confidence: 0.568)<br><b>Content:</b><br>If I didn’t “SEND IN THE TROOPS” to Los Angeles the last<br>three nights, that once beautiful and great City would be<br>burning to the ground right now, much like 25,000 houses<br>burned to the ground in L.A....<br><b>Speaker:</b> Donald Trump",
          "<b>Date:</b> 2025-06-10 08:31<br><b>Topic:</b> news-fake-new (Confidence: 0.321)<br><b>Content:</b><br>Will be going to Fort Bragg today. Big speech, amazing<br>crowd! See you later!!! DJT<br><b>Speaker:</b> Donald Trump",
          "<b>Date:</b> 2025-06-09 00:16<br><b>Topic:</b> news-fake-new (Confidence: 0.820)<br><b>Content:</b><br>Looking really bad in L.A. BRING IN THE TROOPS!!!<br><b>Speaker:</b> Donald Trump",
          "<b>Date:</b> 2025-06-08 22:07<br><b>Topic:</b> news-fake-new (Confidence: 0.550)<br><b>Content:</b><br>Paid Insurrectionists!<br><b>Speaker:</b> Donald Trump",
          "<b>Date:</b> 2025-06-06 18:59<br><b>Topic:</b> news-fake-new (Confidence: 0.488)<br><b>Content:</b><br>Big WIN over AP today. They refused to state the facts or<br>the Truth on the GULF OF AMERICA. FAKE NEWS!!!<br><b>Speaker:</b> Donald Trump",
          "<b>Date:</b> 2025-06-06 07:20<br><b>Topic:</b> news-fake-new (Confidence: 0.606)<br><b>Content:</b><br>The Failing New York Times and the Washington ComPost, two<br>“papers” that have ruthlessly fought me for years, have each<br>done Polls where a vast majority of those sampled are<br>Democrats. In other words,...<br><b>Speaker:</b> Donald Trump",
          "<b>Date:</b> 2025-06-05 12:34<br><b>Topic:</b> news-fake-new (Confidence: 0.550)<br><b>Content:</b><br>Below—Regarding my phone call this morning with President<br>Xi…<br><b>Speaker:</b> Donald Trump",
          "<b>Date:</b> 2025-06-02 19:24<br><b>Topic:</b> news-fake-new (Confidence: 0.440)<br><b>Content:</b><br>Michael Wolff, a Third Rate Reporter, who is laughed at even<br>by the scoundrels of the Fake News, recently stated that the<br>only reason I’m “beating up” on Harvard, is because I<br>applied there, and didn’...<br><b>Speaker:</b> Donald Trump",
          "<b>Date:</b> 2025-06-02 18:12<br><b>Topic:</b> news-fake-new (Confidence: 0.581)<br><b>Content:</b><br>Just had a great talk with our Military Leaders. It is the<br>strongest Military we have ever had, including the fact that<br>we are stockpiling weapons at a rate never seen before by<br>our Country. Hopefully...<br><b>Speaker:</b> Donald Trump",
          "<b>Date:</b> 2025-06-02 18:05<br><b>Topic:</b> news-fake-new (Confidence: 0.455)<br><b>Content:</b><br>The AUTOPEN should have stopped Iran a long time ago from<br>“enriching.” Under our potential Agreement — WE WILL NOT<br>ALLOW ANY ENRICHMENT OF URANIUM!<br><b>Speaker:</b> Donald Trump",
          "<b>Date:</b> 2025-05-28 20:23<br><b>Topic:</b> news-fake-new (Confidence: 0.388)<br><b>Content:</b><br>BREAKING! In a major WIN in our powerful lawsuit against the<br>Pulitzer Prize Board regarding the illegal and defamatory<br>“Award” of their once highly respected “Prize,” to fake,<br>malicious stories on the...<br><b>Speaker:</b> Donald Trump",
          "<b>Date:</b> 2025-05-27 18:02<br><b>Topic:</b> news-fake-new (Confidence: 0.292)<br><b>Content:</b><br>As the wonderful people of the Great State of Maine know, I<br>did something for them, in particular the Fishing Industry,<br>which everyone said was virtually impossible to do, or get<br>done. I approved FULL...<br><b>Speaker:</b> Donald Trump",
          "<b>Date:</b> 2025-05-27 11:44<br><b>Topic:</b> news-fake-new (Confidence: 0.539)<br><b>Content:</b><br>What Vladimir Putin doesn’t realize is that if it weren’t<br>for me, lots of really bad things would have already<br>happened to Russia, and I mean REALLY BAD. He’s playing with<br>fire!<br><b>Speaker:</b> Donald Trump",
          "<b>Date:</b> 2025-05-20 08:26<br><b>Topic:</b> news-fake-new (Confidence: 0.850)<br><b>Content:</b><br>Senator Roger Marshall was FANTASTIC this morning on Fox<br>Business, as interviewed by MariaB! The GREAT people of<br>Kansas are lucky to have him!!!<br><b>Speaker:</b> Donald Trump",
          "<b>Date:</b> 2025-05-18 09:57<br><b>Topic:</b> news-fake-new (Confidence: 0.820)<br><b>Content:</b><br>A sick and horrible woman, who also happens to be grossly<br>incompetent!<br><b>Speaker:</b> Donald Trump",
          "<b>Date:</b> 2025-05-17 22:29<br><b>Topic:</b> news-fake-new (Confidence: 0.404)<br><b>Content:</b><br>Why doesn’t Chairman Bob Iger do something about ABC Fake<br>News, especially since I just won $16,000,000 based on the<br>Fake and Defamatory reporting of Liddle’ George<br>Slopadopolus. He was given warnings...<br><b>Speaker:</b> Donald Trump",
          "<b>Date:</b> 2025-05-16 18:55<br><b>Topic:</b> news-fake-new (Confidence: 0.700)<br><b>Content:</b><br>It’s a pretty grueling schedule, people say how the hell do<br>you do it…Genetics!<br><b>Speaker:</b> Donald Trump",
          "<b>Date:</b> 2025-05-13 13:48<br><b>Topic:</b> news-fake-new (Confidence: 0.820)<br><b>Content:</b><br>Will be interviewed tonight by Sean Hannity on FoxNews, 9:00<br>P.M. ENJOY!<br><b>Speaker:</b> Donald Trump",
          "<b>Date:</b> 2025-05-11 20:08<br><b>Topic:</b> news-fake-new (Confidence: 0.702)<br><b>Content:</b><br>So funny to watch old timer Martha Raditz on ABC Fake News<br>(the Slopadopolus show!) this morning, blurt out that,<br>effectively, Pope Leo’s selection had nothing to do with<br>Donald Trump. It came out of ...<br><b>Speaker:</b> Donald Trump",
          "<b>Date:</b> 2025-05-11 14:31<br><b>Topic:</b> news-fake-new (Confidence: 0.367)<br><b>Content:</b><br>My next TRUTH will be one of the most important and<br>impactful I have ever issued. ENJOY!<br><b>Speaker:</b> Donald Trump",
          "<b>Date:</b> 2025-05-10 11:36<br><b>Topic:</b> news-fake-new (Confidence: 0.550)<br><b>Content:</b><br>“From#MeTooCrusader to Cover-up: Letitia James’s Silence on<br>Alleged Serial Predator Ibrahim Khan”<br><b>Speaker:</b> Donald Trump",
          "<b>Date:</b> 2025-05-09 09:33<br><b>Topic:</b> news-fake-new (Confidence: 0.444)<br><b>Content:</b><br>Costs down, NO INFLATION. Very different from what the Fed,<br>and Fake News Media, were hoping for!<br><b>Speaker:</b> Donald Trump",
          "<b>Date:</b> 2025-05-08 05:42<br><b>Topic:</b> news-fake-new (Confidence: 0.398)<br><b>Content:</b><br>This should be a very big and exciting day for the United<br>States of America and the United Kingdom. Press Conference<br>at The Oval Office, 10A.M. Thank you!<br><b>Speaker:</b> Donald Trump",
          "<b>Date:</b> 2025-05-07 21:11<br><b>Topic:</b> news-fake-new (Confidence: 0.367)<br><b>Content:</b><br>RT@KarliBonneExcellent interview of Scott Bessent<br><b>Speaker:</b> Donald Trump",
          "<b>Date:</b> 2025-05-07 09:37<br><b>Topic:</b> news-fake-new (Confidence: 0.462)<br><b>Content:</b><br>The Election Interfering 60 Minutes interview with Kamala<br>Harris, which aired on CBS just before Election Day and deep<br>into Early Voting, turned out to be much worse than<br>expected, with her answers be...<br><b>Speaker:</b> Donald Trump",
          "<b>Date:</b> 2025-05-07 09:33<br><b>Topic:</b> news-fake-new (Confidence: 0.775)<br><b>Content:</b><br>Lawrence Jones is doing a great job on Fox & Friends!<br><b>Speaker:</b> Donald Trump",
          "<b>Date:</b> 2025-05-04 22:31<br><b>Topic:</b> news-fake-new (Confidence: 0.900)<br><b>Content:</b><br>I don’t need to have Karl Rove of FoxNews to tell me what to<br>do. The guy’s a total Loser who’s been wrong about almost<br>everything!<br><b>Speaker:</b> Donald Trump",
          "<b>Date:</b> 2025-05-04 18:41<br><b>Topic:</b> news-fake-new (Confidence: 0.947)<br><b>Content:</b><br>It is time for Howie Kurtz to retire! Every Woke Anchor in<br>the Business, people that no one watched from CNN, MSDNC,<br>and others, are plastered all over his show, with all really<br>negative and fake stat...<br><b>Speaker:</b> Donald Trump",
          "<b>Date:</b> 2025-04-30 09:45<br><b>Topic:</b> news-fake-new (Confidence: 0.511)<br><b>Content:</b><br>The case we have against 60 Minutes, CBS, and Paramount is a<br>true WINNER. They cheated and defrauded the American People<br>at levels never seen before in the Political Arena. Kamala<br>Harris, during Early...<br><b>Speaker:</b> Donald Trump",
          "<b>Date:</b> 2025-04-29 11:59<br><b>Topic:</b> news-fake-new (Confidence: 0.367)<br><b>Content:</b><br>“WE’RE LIVING IN A WHOLE NEW WORLD”<br><b>Speaker:</b> Donald Trump",
          "<b>Date:</b> 2025-04-29 10:49<br><b>Topic:</b> news-fake-new (Confidence: 0.456)<br><b>Content:</b><br>Auto Workers for Trump founder Brian Pannebecker: \"I've been<br>telling people here in the Detroit area...be patient, have<br>faith, and trust Trump. This guy wrote the book on<br>negotiations…”<br><b>Speaker:</b> Donald Trump",
          "<b>Date:</b> 2025-04-29 10:39<br><b>Topic:</b> news-fake-new (Confidence: 0.706)<br><b>Content:</b><br>\"I really love the cabinet meetings. He lets the American<br>people into those rooms. We get to observe the questions and<br>the answers, know what they're doing. It's really a way that<br>he connects with the...<br><b>Speaker:</b> Donald Trump",
          "<b>Date:</b> 2025-04-28 23:43<br><b>Topic:</b> news-fake-new (Confidence: 0.900)<br><b>Content:</b><br>The Polls from the Fake News are, like the News itself,<br>FAKE! We are doing GREAT, better than ever before.<br><b>Speaker:</b> Donald Trump",
          "<b>Date:</b> 2025-04-28 05:41<br><b>Topic:</b> news-fake-new (Confidence: 0.775)<br><b>Content:</b><br>Warren Zeiders is FANTASTIC. Go to his concerts, and ENJOY!<br>DJT<br><b>Speaker:</b> Donald Trump",
          "<b>Date:</b> 2025-04-28 05:32<br><b>Topic:</b> news-fake-new (Confidence: 0.653)<br><b>Content:</b><br>We don’t have a Free and Fair “Press” in this Country<br>anymore. We have a Press that writes BAD STORIES, and<br>CHEATS, BIG, ON POLLS. IT IS COMPROMISED AND CORRUPT. SAD!<br><b>Speaker:</b> Donald Trump",
          "<b>Date:</b> 2025-04-28 05:24<br><b>Topic:</b> news-fake-new (Confidence: 0.507)<br><b>Content:</b><br>Great Pollster John McLaughlin, one of the most highly<br>respected in the industry, has just stated that The Failing<br>New York Times Poll, and the ABC/Washington Post Poll, about<br>a person named DONALD J....<br><b>Speaker:</b> Donald Trump",
          "<b>Date:</b> 2025-04-25 13:51<br><b>Topic:</b> news-fake-new (Confidence: 0.370)<br><b>Content:</b><br>Charles Payne, of Fox, is truly fantastic at what he does.<br>He understands Tariffs, and he understands Life but, most<br>importantly, he has been supportive of “TRUMP” right from<br>the beginning – and I’ll ...<br><b>Speaker:</b> Donald Trump",
          "<b>Date:</b> 2025-04-24 11:51<br><b>Topic:</b> news-fake-new (Confidence: 0.401)<br><b>Content:</b><br>Later today I will be meeting with, of all people, Jeffrey<br>Goldberg, the Editor of The Atlantic, and the person<br>responsible for many fictional stories about me, including<br>the made-up HOAX on “Suckers ...<br><b>Speaker:</b> Donald Trump",
          "<b>Date:</b> 2025-04-23 09:35<br><b>Topic:</b> news-fake-new (Confidence: 0.426)<br><b>Content:</b><br>I’m suing the law firm of Perkins Coie for their egregious<br>and unlawful acts, in particular the conduct of a specific<br>member of this firm, only to find out that the Judge<br>assigned to this case is Bery...<br><b>Speaker:</b> Donald Trump",
          "<b>Date:</b> 2025-04-22 08:46<br><b>Topic:</b> news-fake-new (Confidence: 0.508)<br><b>Content:</b><br>A great new book by Dana Perino, a FoxNews Star and very<br>good person, is called, “I Wish Someone Had Told Me…” The<br>title says it all. Much to be learned about life and<br>success. Get it NOW!!!<br><b>Speaker:</b> Donald Trump",
          "<b>Date:</b> 2025-04-21 18:44<br><b>Topic:</b> news-fake-new (Confidence: 0.806)<br><b>Content:</b><br>This is the man, Kilmar Abrego Garcia, that the Courts are<br>trying to save from being deported? He was supposed to be,<br>according to the Judge and the Democrats, a wonderful father<br>from Maryland, but th...<br><b>Speaker:</b> Donald Trump",
          "<b>Date:</b> 2025-04-21 16:14<br><b>Topic:</b> news-fake-new (Confidence: 0.453)<br><b>Content:</b><br>I agree with the people in Massapequa, Long Island, who are<br>fighting furiously to keep the Massapequa Chiefs logo on<br>their Teams and School. Forcing them to change the name,<br>after all of these years, ...<br><b>Speaker:</b> Donald Trump",
          "<b>Date:</b> 2025-04-20 16:05<br><b>Topic:</b> news-fake-new (Confidence: 0.452)<br><b>Content:</b><br>THE BUSINESSMEN WHO CRITICIZE TARIFFS ARE BAD AT BUSINESS,<br>BUT REALLY BAD AT POLITICS. THEY DON’T UNDERSTAND OR REALIZE<br>THAT I AM THE GREATEST FRIEND THAT AMERICAN CAPITALISM HAS<br>EVER HAD!<br><b>Speaker:</b> Donald Trump",
          "<b>Date:</b> 2025-04-18 08:44<br><b>Topic:</b> news-fake-new (Confidence: 0.639)<br><b>Content:</b><br>Senator Chris Van Hollen of Maryland looked like a fool<br>yesterday standing in El Salvador begging for attention from<br>the Fake News Media, or anyone. GRANDSTANDER!!!<br><b>Speaker:</b> Donald Trump",
          "<b>Date:</b> 2025-04-18 00:20<br><b>Topic:</b> news-fake-new (Confidence: 0.918)<br><b>Content:</b><br>“Turns out you can't have your principal residence in<br>Virginia and be AG of New York. You can’t say your dad’s<br>your husband. Or claim a five-unit is a four. But that’s<br>what Letitia James did—while goi...<br><b>Speaker:</b> Donald Trump",
          "<b>Date:</b> 2025-04-16 23:33<br><b>Topic:</b> news-fake-new (Confidence: 0.614)<br><b>Content:</b><br>These thugs were bad news. They’ll rot in hell.<br><b>Speaker:</b> Donald Trump",
          "<b>Date:</b> 2025-04-15 07:55<br><b>Topic:</b> news-fake-new (Confidence: 0.498)<br><b>Content:</b><br>BORDER CROSSINGS HIT ALL TIME RECORD LOW IN MARCH!!!<br><b>Speaker:</b> Donald Trump",
          "<b>Date:</b> 2025-04-14 10:52<br><b>Topic:</b> news-fake-new (Confidence: 0.550)<br><b>Content:</b><br>“NVIDIA to Manufacture American-Made AI Supercomputers in US<br>for First Time”<br><b>Speaker:</b> Donald Trump",
          "<b>Date:</b> 2025-04-13 23:02<br><b>Topic:</b> news-fake-new (Confidence: 0.671)<br><b>Content:</b><br>Letitia James, a totally corrupt politician, should resign<br>from her position as New York State Attorney General,<br>IMMEDIATELY. Everyone is trying to MAKE NEW YORK GREAT<br>AGAIN, and it can never be done ...<br><b>Speaker:</b> Donald Trump",
          "<b>Date:</b> 2025-04-13 21:13<br><b>Topic:</b> news-fake-new (Confidence: 0.423)<br><b>Content:</b><br>I just finished watching 60 Minutes, the FAKE News Show that<br>was scandalously responsible for REMOVING a terrible and<br>incompetently delivered answer, by failed Presidential<br>Candidate Kamala Harris, to...<br><b>Speaker:</b> Donald Trump",
          "<b>Date:</b> 2025-04-13 21:13<br><b>Topic:</b> news-fake-new (Confidence: 0.288)<br><b>Content:</b><br>Almost every week, 60 Minutes, which is being sued for<br>Billions of Dollars for the fraud they committed in the 2024<br>Presidential Election with their Interview of Failed<br>Presidential Candidate Kamala H...<br><b>Speaker:</b> Donald Trump",
          "<b>Date:</b> 2025-04-11 12:42<br><b>Topic:</b> news-fake-new (Confidence: 0.586)<br><b>Content:</b><br>“Trump’s first three Cabinet meetings feature more press<br>questions and answers than all of Biden’s”<br><b>Speaker:</b> Donald Trump",
          "<b>Date:</b> 2025-04-11 12:39<br><b>Topic:</b> news-fake-new (Confidence: 0.457)<br><b>Content:</b><br>“President Trump Is Saving Social Security and Stopping<br>Fraud – Don’t Believe Media Lies”<br><b>Speaker:</b> Donald Trump",
          "<b>Date:</b> 2025-04-10 18:58<br><b>Topic:</b> news-fake-new (Confidence: 0.474)<br><b>Content:</b><br>Mexico OWES Texas 1.3 million acre-feet of water under the<br>1944 Water Treaty, but Mexico is unfortunately violating<br>their Treaty obligation. This is very unfair, and it is<br>hurting South Texas Farmers ...<br><b>Speaker:</b> Donald Trump",
          "<b>Date:</b> 2025-04-09 09:37<br><b>Topic:</b> news-fake-new (Confidence: 0.775)<br><b>Content:</b><br>THIS IS A GREAT TIME TO BUY!!! DJT<br><b>Speaker:</b> Donald Trump",
          "<b>Date:</b> 2025-04-05 17:27<br><b>Topic:</b> news-fake-new (Confidence: 0.445)<br><b>Content:</b><br>Watch Mark Levin on Trade with China, tonight on FoxNews,<br>8:00. Also, Lara Trump at 9:00. Her new show is doing<br>GREAT!!!<br><b>Speaker:</b> Donald Trump",
          "<b>Date:</b> 2025-03-30 19:37<br><b>Topic:</b> news-fake-new (Confidence: 0.363)<br><b>Content:</b><br>Kristen Welker’s entire first half hour of the Lowly Rated<br>Meet the Fake Press this morning, was devoted to the boring<br>Signal Witch Hunt. She doesn’t want to talk in detail about<br>anything that matters...<br><b>Speaker:</b> Donald Trump",
          "<b>Date:</b> 2025-03-30 16:36<br><b>Topic:</b> news-fake-new (Confidence: 0.335)<br><b>Content:</b><br>A GREAT job by Senator Markwayne Mullin on beating back<br>Kristen Welker’s, and the the Radical Left’s Witch Hunt, on<br>the never ending Signal story. They just don’t stop - Over<br>and over they go! Meet th...<br><b>Speaker:</b> Donald Trump",
          "<b>Date:</b> 2025-03-28 09:38<br><b>Topic:</b> news-fake-new (Confidence: 0.871)<br><b>Content:</b><br>“TRUMP IS ALWAYS RIGHT!” This from the New York Times!<br><b>Speaker:</b> Donald Trump",
          "<b>Date:</b> 2025-03-24 00:06<br><b>Topic:</b> news-fake-new (Confidence: 0.723)<br><b>Content:</b><br>This Judge is almost as conflicted (actually, not even<br>close!) as the Judge whose daughter made Millions of Dollars<br>representing Biden/Harris against me, while her father<br>presided over a Fake Case aga...<br><b>Speaker:</b> Donald Trump",
          "<b>Date:</b> 2025-03-23 21:26<br><b>Topic:</b> news-fake-new (Confidence: 0.974)<br><b>Content:</b><br>The Failing New York Times insists on using Liddle’ Peter<br>Baker, a really bad writer and Obama biographer and<br>sycophant, to write many of the long and boring Fake News<br>hit pieces against me. The only ...<br><b>Speaker:</b> Donald Trump",
          "<b>Date:</b> 2025-03-23 20:49<br><b>Topic:</b> news-fake-new (Confidence: 0.339)<br><b>Content:</b><br>Why would the now highly discredited 60 Minutes be doing a<br>total “puff piece” on George Clooney, a second rate movie<br>“star,” and failed political pundit. He fought hard for<br>Sleepy Joe’s election and t...<br><b>Speaker:</b> Donald Trump",
          "<b>Date:</b> 2025-03-23 20:26<br><b>Topic:</b> news-fake-new (Confidence: 0.388)<br><b>Content:</b><br>Nobody likes a bad picture or painting of themselves, but<br>the one in Colorado, in the State Capitol, put up by the<br>Governor, along with all other Presidents, was purposefully<br>distorted to a level that...<br><b>Speaker:</b> Donald Trump",
          "<b>Date:</b> 2025-03-22 07:39<br><b>Topic:</b> news-fake-new (Confidence: 0.362)<br><b>Content:</b><br>While the State of Maine has apologized for their Governor’s<br>strong, but totally incorrect, statement about men playing<br>in women’s sports while at the White House House Governor’s<br>Conference, we have ...<br><b>Speaker:</b> Donald Trump",
          "<b>Date:</b> 2025-03-21 10:36<br><b>Topic:</b> news-fake-new (Confidence: 0.700)<br><b>Content:</b><br>“AG Letitia James’ Building Permits Raise Serious Questions”<br><b>Speaker:</b> Donald Trump",
          "<b>Date:</b> 2025-03-21 07:26<br><b>Topic:</b> news-fake-new (Confidence: 0.463)<br><b>Content:</b><br>“Elon Musk will be briefed by the Pentagon about the USA’s<br>top secret plans against China should there be a<br>War,”according to the Failing New York Times, one of the<br>worst and most purposely inaccurate...<br><b>Speaker:</b> Donald Trump",
          "<b>Date:</b> 2025-03-20 23:00<br><b>Topic:</b> news-fake-new (Confidence: 0.568)<br><b>Content:</b><br>The Fake News is at it again, this time the Failing New York<br>Times. They said, incorrectly, that Elon Musk is going to<br>the Pentagon tomorrow to be briefed on any potential “war<br>with China.” How ridicu...<br><b>Speaker:</b> Donald Trump",
          "<b>Date:</b> 2025-03-20 18:29<br><b>Topic:</b> news-fake-new (Confidence: 0.918)<br><b>Content:</b><br>Judge James Boasberg is doing everything in his power to<br>usurp the Power of the Presidency. He is a local, unknown<br>Judge, a Grandstander, looking for publicity, and it cannot<br>be for any other reason, ...<br><b>Speaker:</b> Donald Trump",
          "<b>Date:</b> 2025-03-17 18:11<br><b>Topic:</b> news-fake-new (Confidence: 0.451)<br><b>Content:</b><br>Third Rate Magazine, “The Atlantic,” that made up the<br>“Suckers and Losers” Hoax about me and the Military, and<br>refused to even acknowledge the vast horde of people who<br>emphatically denied this FAKE ST...<br><b>Speaker:</b> Donald Trump",
          "<b>Date:</b> 2025-03-17 17:22<br><b>Topic:</b> news-fake-new (Confidence: 0.413)<br><b>Content:</b><br>Completing my list of appointments to the United States<br>Naval Academy, I am happy to announce that the full Board<br>will consist of Sean Spicer, Walt Nauta, Congressman “Doc<br>Ronnie” Jackson, Congressman...<br><b>Speaker:</b> Donald Trump",
          "<b>Date:</b> 2025-03-17 00:21<br><b>Topic:</b> news-fake-new (Confidence: 0.636)<br><b>Content:</b><br>Thank you to my very talented friend, Paul Anka, for doing a<br>new version of “My Way.” What a wonderful guy Paul is!<br><b>Speaker:</b> Donald Trump",
          "<b>Date:</b> 2025-03-13 12:21<br><b>Topic:</b> news-fake-new (Confidence: 0.982)<br><b>Content:</b><br>If New York, Connecticut, and New England had their<br>Pipelines, savings from Heating alone would go down $2,300<br>per family — When you add Air Conditioning, and other<br>things, you would have a $5,000 sav...<br><b>Speaker:</b> Donald Trump",
          "<b>Date:</b> 2025-03-13 07:38<br><b>Topic:</b> news-fake-new (Confidence: 0.552)<br><b>Content:</b><br>Senator Mark Wayne Mullin was great on Fake News CNN. Made<br>Caitlin Collins look like the third rate, low ratings<br>reporter, she is!<br><b>Speaker:</b> Donald Trump",
          "<b>Date:</b> 2025-03-12 15:09<br><b>Topic:</b> news-fake-new (Confidence: 0.700)<br><b>Content:</b><br>A great afternoon at The Capitol attending the Friends of<br>Ireland Luncheon, thank you! 🇺🇸🇮🇪<br><b>Speaker:</b> Donald Trump",
          "<b>Date:</b> 2025-03-10 18:14<br><b>Topic:</b> news-fake-new (Confidence: 0.651)<br><b>Content:</b><br>Back by popular demand, for the first time in 20 years, the<br>Emmy nominated ORIGINAL APPRENTICE STARRING PRESIDENT DONALD<br>TRUMP is back!! Watch Season 1 of The Apprentice, now<br>streaming on Prime Video....<br><b>Speaker:</b> Donald Trump",
          "<b>Date:</b> 2025-03-09 22:02<br><b>Topic:</b> news-fake-new (Confidence: 0.871)<br><b>Content:</b><br>Great job by Congressman Brian Mast on FoxNews. He’s got it<br>together!!! DJT<br><b>Speaker:</b> Donald Trump",
          "<b>Date:</b> 2025-03-09 20:54<br><b>Topic:</b> news-fake-new (Confidence: 0.820)<br><b>Content:</b><br>We're going to become so rich, you're not gonna know where<br>to spend all that money. I'm telling you—just watch!<br><b>Speaker:</b> Donald Trump",
          "<b>Date:</b> 2025-03-09 06:41<br><b>Topic:</b> news-fake-new (Confidence: 0.820)<br><b>Content:</b><br>Will be interviewed by Maria Bartiromo on Sunday Morning<br>Futures at 10:00amET, enjoy!@FoxNews<br><b>Speaker:</b> Donald Trump",
          "<b>Date:</b> 2025-03-08 17:40<br><b>Topic:</b> news-fake-new (Confidence: 0.492)<br><b>Content:</b><br>ELON AND MARCO HAVE A GREAT RELATIONSHIP. ANY STATEMENT<br>OTHER THAN THAT IS FAKE NEWS!!! DJT<br><b>Speaker:</b> Donald Trump",
          "<b>Date:</b> 2025-03-05 23:06<br><b>Topic:</b> news-fake-new (Confidence: 0.464)<br><b>Content:</b><br>The Fake “Play the Ref” News, in order to create a divide<br>between me and our great U.S. Supreme Court, heard me say<br>last night, loudly and openly as I was walking past the<br>Justices on the way to the p...<br><b>Speaker:</b> Donald Trump",
          "<b>Date:</b> 2025-03-05 18:31<br><b>Topic:</b> news-fake-new (Confidence: 0.404)<br><b>Content:</b><br>We have notified the Mayor of Washington, D.C., that she<br>must clean up all of the unsightly homeless encampments in<br>the City, specifically including the ones outside of the<br>State Department, and near ...<br><b>Speaker:</b> Donald Trump",
          "<b>Date:</b> 2025-03-02 21:19<br><b>Topic:</b> news-fake-new (Confidence: 0.775)<br><b>Content:</b><br>H.R. MCMASTER IS A WEAK AND TOTALLY INEFFECTIVE LOSER!<br><b>Speaker:</b> Donald Trump",
          "<b>Date:</b> 2025-03-01 10:42<br><b>Topic:</b> news-fake-new (Confidence: 0.671)<br><b>Content:</b><br>The New York Times: \"During the Biden administration, Mr.<br>Doocy said, he spent a lot of time 'figuring out how to boil<br>a question down into something that’s eight seconds long at<br>the most that I could...<br><b>Speaker:</b> Donald Trump",
          "<b>Date:</b> 2025-02-26 09:03<br><b>Topic:</b> news-fake-new (Confidence: 0.432)<br><b>Content:</b><br>ALL CABINET MEMBERS ARE EXTREMELY HAPPY WITH ELON. The Media<br>will see that at the Cabinet Meeting this morning!!!<br><b>Speaker:</b> Donald Trump",
          "<b>Date:</b> 2025-02-26 07:10<br><b>Topic:</b> news-fake-new (Confidence: 0.426)<br><b>Content:</b><br>As a President who is being given credit for having the Best<br>Opening Month of any President in history, quite naturally,<br>here come the Fake books and stories with the so-called<br>“anonymous,” or “off th...<br><b>Speaker:</b> Donald Trump",
          "<b>Date:</b> 2025-02-25 13:44<br><b>Topic:</b> news-fake-new (Confidence: 0.648)<br><b>Content:</b><br>“Lara Trump's brand new Fox News show shatters records after<br>bombshell debut alongside top MAGA ladies”<br><b>Speaker:</b> Donald Trump",
          "<b>Date:</b> 2025-02-24 00:54<br><b>Topic:</b> news-fake-new (Confidence: 0.921)<br><b>Content:</b><br>RT@realDonaldTrumpSo-called “Author” Michael Wolff’s new<br>book is a total FAKE JOB, just like the other JUNK he wrote.<br>He called me many times trying to set up a meeting, but I<br>never called him back be...<br><b>Speaker:</b> Donald Trump",
          "<b>Date:</b> 2025-02-23 20:02<br><b>Topic:</b> news-fake-new (Confidence: 0.512)<br><b>Content:</b><br>RT@marklevinshowTonight on Life, Liberty & Levin. 8 PM<br>eastern on Fox! You can DVR the show if you can't watch it<br>live! Don’t miss it!<br><b>Speaker:</b> Donald Trump",
          "<b>Date:</b> 2025-02-23 16:04<br><b>Topic:</b> news-fake-new (Confidence: 0.923)<br><b>Content:</b><br>So-called “Author” Michael Wolff’s new book is a total FAKE<br>JOB, just like the other JUNK he wrote. He called me many<br>times trying to set up a meeting, but I never called him<br>back because I didn’t wan...<br><b>Speaker:</b> Donald Trump",
          "<b>Date:</b> 2025-02-22 07:52<br><b>Topic:</b> news-fake-new (Confidence: 0.478)<br><b>Content:</b><br>HIGHEST POLL NUMBERS EVER. I GUESS WE ARE ON THE RIGHT<br>TRACK!!! THANK YOU.<br><b>Speaker:</b> Donald Trump",
          "<b>Date:</b> 2025-02-20 09:16<br><b>Topic:</b> news-fake-new (Confidence: 0.444)<br><b>Content:</b><br>BALANCE BUDGET NOW??? LETS GIVE IT A SHOT. LOTS OF MONEY<br>COMING IN FROM TARIFFS. DO IT! DJT<br><b>Speaker:</b> Donald Trump",
          "<b>Date:</b> 2025-02-20 08:21<br><b>Topic:</b> news-fake-new (Confidence: 0.291)<br><b>Content:</b><br>I’ll be calling our GREAT American Hockey Team this morning<br>to spur them on towards victory tonight against Canada,<br>which with FAR LOWER TAXES AND MUCH STRONGER SECURITY, will<br>someday, maybe soon, bec...<br><b>Speaker:</b> Donald Trump",
          "<b>Date:</b> 2025-02-19 21:11<br><b>Topic:</b> news-fake-new (Confidence: 0.775)<br><b>Content:</b><br>“Donald Trump brings weight of the presidency to Saudis’<br>Miami business conference”<br><b>Speaker:</b> Donald Trump",
          "<b>Date:</b> 2025-02-19 13:58<br><b>Topic:</b> news-fake-new (Confidence: 0.887)<br><b>Content:</b><br>CONGESTION PRICING IS DEAD. Manhattan, and all of New York,<br>is SAVED. LONG LIVE THE KING!<br><b>Speaker:</b> Donald Trump",
          "<b>Date:</b> 2025-02-19 09:04<br><b>Topic:</b> news-fake-new (Confidence: 0.350)<br><b>Content:</b><br>“FACT SHEET: PRESIDENT DONALD J. TRUMP REINS IN INDEPENDENT<br>AGENCIES TO RESTORE A GOVERNMENT THAT ANSWERS TO THE<br>AMERICAN PEOPLE”<br><b>Speaker:</b> Donald Trump",
          "<b>Date:</b> 2025-02-19 09:02<br><b>Topic:</b> news-fake-new (Confidence: 0.550)<br><b>Content:</b><br>“FACT SHEET: PRESIDENT DONALD J. TRUMP EXPANDS ACCESS TO IN<br>VITRO FERTILIZATION (IVF)”<br><b>Speaker:</b> Donald Trump",
          "<b>Date:</b> 2025-02-18 08:04<br><b>Topic:</b> news-fake-new (Confidence: 0.850)<br><b>Content:</b><br>Great interview with Congressman Kevin Hern of Oklahoma,<br>this morning on Fox. Way to go, Kevin!!!<br><b>Speaker:</b> Donald Trump",
          "<b>Date:</b> 2025-02-13 08:49<br><b>Topic:</b> news-fake-new (Confidence: 0.422)<br><b>Content:</b><br>NEWS CONFERENCE ON RECIPROCAL TARIFFS TODAY, 1:00 P.M., THE<br>OVAL OFFICE. MAKE AMERICA GREAT AGAIN!!!<br><b>Speaker:</b> Donald Trump",
          "<b>Date:</b> 2025-02-13 06:40<br><b>Topic:</b> news-fake-new (Confidence: 0.731)<br><b>Content:</b><br>DOGE: Why was Politico paid Millions of Dollars for NOTHING.<br>Buying the press??? PAY BACK THE MONEY TO THE TAXPAYERS! How<br>much has the Failing New York Times paid? Is this the money<br>that is keeping it...<br><b>Speaker:</b> Donald Trump",
          "<b>Date:</b> 2025-02-11 05:58<br><b>Topic:</b> news-fake-new (Confidence: 0.983)<br><b>Content:</b><br>RT@realDonaldTrumpNew York is the most corrupt State in the<br>Union. That is why so many businesses and people are<br>fleeing. We need great Judges and Politicians to help fix<br>New York, and to stop the kin...<br><b>Speaker:</b> Donald Trump",
          "<b>Date:</b> 2025-02-11 05:43<br><b>Topic:</b> news-fake-new (Confidence: 0.984)<br><b>Content:</b><br>New York is the most corrupt State in the Union. That is why<br>so many businesses and people are fleeing. We need great<br>Judges and Politicians to help fix New York, and to stop the<br>kind of Lawfare that ...<br><b>Speaker:</b> Donald Trump",
          "<b>Date:</b> 2025-02-10 13:37<br><b>Topic:</b> news-fake-new (Confidence: 0.700)<br><b>Content:</b><br>RT@marklevinshowEXCLUSIVE: I'LL BE INTERVIEWING PRESIDENT<br>TRUMP THIS EVENING IN HIS FIRST RADIO INTERVIEW SINCE HIS<br>RE-ELECTION!DON'T MISS IT!<br><b>Speaker:</b> Donald Trump",
          "<b>Date:</b> 2025-02-09 23:14<br><b>Topic:</b> news-fake-new (Confidence: 0.850)<br><b>Content:</b><br>The only one that had a tougher night than the Kansas City<br>Chiefs was Taylor Swift. She got BOOED out of the Stadium.<br>MAGA is very unforgiving!<br><b>Speaker:</b> Donald Trump",
          "<b>Date:</b> 2025-02-09 14:58<br><b>Topic:</b> news-fake-new (Confidence: 0.775)<br><b>Content:</b><br>what I got done for California - Reduce Water Bill NOW!<br><b>Speaker:</b> Donald Trump",
          "<b>Date:</b> 2025-02-09 08:50<br><b>Topic:</b> news-fake-new (Confidence: 0.775)<br><b>Content:</b><br>I will be interviewed by Bret Baier, of Fox, prior to the<br>Super Bowl at 3 P.M. EST. Enjoy!<br><b>Speaker:</b> Donald Trump",
          "<b>Date:</b> 2025-02-08 07:16<br><b>Topic:</b> news-fake-new (Confidence: 0.477)<br><b>Content:</b><br>Crooked Joe’s MANDATE, “NO PLASTIC STRAWS, ONLY PAPER,” IS<br>DEAD! Enjoy your next drink without a straw that<br>disgustingly dissolves in your mouth!!!<br><b>Speaker:</b> Donald Trump",
          "<b>Date:</b> 2025-02-07 07:52<br><b>Topic:</b> news-fake-new (Confidence: 0.367)<br><b>Content:</b><br>BALANCED BUDGET!!! DJT<br><b>Speaker:</b> Donald Trump",
          "<b>Date:</b> 2025-02-06 06:47<br><b>Topic:</b> news-fake-new (Confidence: 0.418)<br><b>Content:</b><br>LOOKS LIKE BILLIONS OF DOLLARS HAVE BEEN STOLLEN AT USAID,<br>AND OTHER AGENCIES, MUCH OF IT GOING TO THE FAKE NEWS MEDIA<br>AS A “PAYOFF” FOR CREATING GOOD STORIES ABOUT THE DEMOCRATS.<br>THE LEFT WING “RAG,”...<br><b>Speaker:</b> Donald Trump",
          "<b>Date:</b> 2025-02-05 23:50<br><b>Topic:</b> news-fake-new (Confidence: 0.387)<br><b>Content:</b><br>Jesse Watters: “Wow…we finally got our hands on the raw CBS<br>News interview with Kamala Harris that was deceptively<br>edited. And it did not disappoint…”<br><b>Speaker:</b> Donald Trump",
          "<b>Date:</b> 2025-02-04 09:39<br><b>Topic:</b> news-fake-new (Confidence: 0.479)<br><b>Content:</b><br>20 years ago, Autism in children was 1 in 10,000. NOW IT’S 1<br>in 34. WOW! Something’s really wrong. We need BOBBY!!! Thank<br>You! DJT<br><b>Speaker:</b> Donald Trump",
          "<b>Date:</b> 2025-02-03 18:00<br><b>Topic:</b> news-fake-new (Confidence: 0.519)<br><b>Content:</b><br>The water is flowing in California. These once empty<br>“halfpipes” are now brimming with beautiful, clean water,<br>and heading to farmers throughout the State, and to Los<br>Angeles. Too bad they refused to ...<br><b>Speaker:</b> Donald Trump",
          "<b>Date:</b> 2025-02-02 19:05<br><b>Topic:</b> news-fake-new (Confidence: 0.519)<br><b>Content:</b><br>RT@realDonaldTrumpThe water is flowing in California. These<br>once empty “halfpipes” are now brimming with beautiful,<br>clean water, and heading to farmers throughout the State,<br>and to Los Angeles. Too ba...<br><b>Speaker:</b> Donald Trump",
          "<b>Date:</b> 2025-02-02 18:31<br><b>Topic:</b> news-fake-new (Confidence: 0.519)<br><b>Content:</b><br>The water is flowing in California. These once empty<br>“halfpipes” are now brimming with beautiful, clean water,<br>and heading to farmers throughout the State, and to Los<br>Angeles. Too bad they refused to ...<br><b>Speaker:</b> Donald Trump",
          "<b>Date:</b> 2025-02-02 17:34<br><b>Topic:</b> news-fake-new (Confidence: 0.443)<br><b>Content:</b><br>WATCH MARK LEVIN TONIGHT, on FoxNews, 8 P.M. Eastern. Great<br>Show!<br><b>Speaker:</b> Donald Trump",
          "<b>Date:</b> 2025-02-01 08:01<br><b>Topic:</b> news-fake-new (Confidence: 0.425)<br><b>Content:</b><br>Ellie Cohanim on Israel, and Phill Flynn on Tariffs, were<br>GREAT on Fox & Friends this morning. Real “Pros!” DJT<br><b>Speaker:</b> Donald Trump",
          "<b>Date:</b> 2025-01-31 18:36<br><b>Topic:</b> news-fake-new (Confidence: 0.398)<br><b>Content:</b><br>Photo of beautiful water flow that I just opened in<br>California. Today, 1.6 billion gallons and, in 3 days, it<br>will be 5.2 billion gallons. Everybody should be happy about<br>this long fought Victory! I o...<br><b>Speaker:</b> Donald Trump",
          "<b>Date:</b> 2025-01-28 21:40<br><b>Topic:</b> news-fake-new (Confidence: 0.887)<br><b>Content:</b><br>The water is flowing, big time, in Northern California. The<br>long empty reservoirs will soon be full. Thank you President<br>Trump!!!<br><b>Speaker:</b> Donald Trump",
          "<b>Date:</b> 2025-01-28 10:33<br><b>Topic:</b> news-fake-new (Confidence: 0.387)<br><b>Content:</b><br>Wow, really good news! Jim Acosta, one of the worst and most<br>dishonest reporters in journalistic history, a major<br>sleazebag, has been relegated by CNN Fake News to the<br>Midnight hour, “Death Valley,” b...<br><b>Speaker:</b> Donald Trump",
          "<b>Date:</b> 2025-01-27 23:12<br><b>Topic:</b> news-fake-new (Confidence: 0.936)<br><b>Content:</b><br>The United States Military just entered the Great State of<br>California and, under Emergency Powers, TURNED ON THE WATER<br>flowing abundantly from the Pacific Northwest, and beyond.<br>The days of putting a ...<br><b>Speaker:</b> Donald Trump",
          "<b>Date:</b> 2025-01-26 22:46<br><b>Topic:</b> news-fake-new (Confidence: 0.775)<br><b>Content:</b><br>THE USA HAS A LOT OF WINNING TO DO! DJT<br><b>Speaker:</b> Donald Trump",
          "<b>Date:</b> 2025-01-26 22:42<br><b>Topic:</b> news-fake-new (Confidence: 0.672)<br><b>Content:</b><br>Congratulations to the Kansas City Chiefs. What a GREAT<br>Team, Coach, Quarterback, and virtually everything else,<br>including those fantastic FANS, that voted for me (MAGA!) in<br>record numbers. Likewise, ...<br><b>Speaker:</b> Donald Trump",
          "<b>Date:</b> 2025-01-26 22:23<br><b>Topic:</b> news-fake-new (Confidence: 0.438)<br><b>Content:</b><br>A MUST WATCH, THANK YOU MARK!<br><b>Speaker:</b> Donald Trump",
          "<b>Date:</b> 2025-01-26 20:56<br><b>Topic:</b> news-fake-new (Confidence: 0.677)<br><b>Content:</b><br>Katie Pavlich, of wonderful Town Hall, was fantastic on the<br>Mark Levin show tonight. Likewise Congressman Jim Jordan.<br>What a show!!! I never even got a chance to see much of the<br>football game. Classic...<br><b>Speaker:</b> Donald Trump",
          "<b>Date:</b> 2025-01-26 16:19<br><b>Topic:</b> news-fake-new (Confidence: 0.512)<br><b>Content:</b><br>RT@marklevinshowTonight on Life, Liberty & Levin, 8PM<br>Eastern on Fox. Set your DVR now if you can’t watch live.<br><b>Speaker:</b> Donald Trump",
          "<b>Date:</b> 2025-01-26 15:58<br><b>Topic:</b> news-fake-new (Confidence: 0.471)<br><b>Content:</b><br>The great Sean Hannity in the Oval Office prior to our<br>recent record setting interview!!!<br><b>Speaker:</b> Donald Trump",
          "<b>Date:</b> 2025-01-22 21:32<br><b>Topic:</b> news-fake-new (Confidence: 0.850)<br><b>Content:</b><br>RT@realDonaldTrumpWill be on Fox News with Sean Hannity<br>tonight at 9:00PM EST. Enjoy!<br><b>Speaker:</b> Donald Trump",
          "<b>Date:</b> 2025-01-22 19:30<br><b>Topic:</b> news-fake-new (Confidence: 0.850)<br><b>Content:</b><br>Will be on Fox News with Sean Hannity tonight at 9:00PM EST.<br>Enjoy!<br><b>Speaker:</b> Donald Trump",
          "<b>Date:</b> 2025-01-22 19:02<br><b>Topic:</b> news-fake-new (Confidence: 0.775)<br><b>Content:</b><br>MSDNC is even worse than CNN. They shouldn’t even have a<br>right to broadcast — Only in America!<br><b>Speaker:</b> Donald Trump",
          "<b>Date:</b> 2025-01-18 22:19<br><b>Topic:</b> news-fake-new (Confidence: 0.733)<br><b>Content:</b><br>What is going on with this totally corrupt New York Judge.<br>He was replaced until the “bosses,” who have been after me<br>for years, found out about it? New York Courts must be<br>investigated!<br><b>Speaker:</b> Donald Trump",
          "<b>Date:</b> 2025-01-18 08:45<br><b>Topic:</b> news-fake-new (Confidence: 0.590)<br><b>Content:</b><br>Will Cain, our friend on Fox & Friends (Weekend), will do<br>GREAT on his new show. He has got what it takes for success.<br>Good luck Will!<br><b>Speaker:</b> Donald Trump",
          "<b>Date:</b> 2025-01-14 07:23<br><b>Topic:</b> news-fake-new (Confidence: 0.614)<br><b>Content:</b><br>RELEASE THE WATER, NEWSOM. WHAT IS WRONG WITH YOU? DJT<br><b>Speaker:</b> Donald Trump",
          "<b>Date:</b> 2025-01-11 22:40<br><b>Topic:</b> news-fake-new (Confidence: 0.550)<br><b>Content:</b><br>RT@realDonaldTrump“LAWFARE IS DEAD”<br><b>Speaker:</b> Donald Trump",
          "<b>Date:</b> 2025-01-11 15:38<br><b>Topic:</b> news-fake-new (Confidence: 0.700)<br><b>Content:</b><br>“LAWFARE IS DEAD”<br><b>Speaker:</b> Donald Trump",
          "<b>Date:</b> 2025-01-09 14:36<br><b>Topic:</b> news-fake-new (Confidence: 0.548)<br><b>Content:</b><br>Governor Gavin Newscum should immediately go to Northern<br>California and open up the water main, and let the water<br>flow into his dry, starving, burning State, instead of<br>having it go out into the Pacif...<br><b>Speaker:</b> Donald Trump",
          "<b>Date:</b> 2025-01-08 11:40<br><b>Topic:</b> news-fake-new (Confidence: 0.449)<br><b>Content:</b><br>Governor Gavin Newscum refused to sign the water restoration<br>declaration put before him that would have allowed millions<br>of gallons of water, from excess rain and snow melt from the<br>North, to flow dai...<br><b>Speaker:</b> Donald Trump",
          "<b>Date:</b> 2025-01-06 09:15<br><b>Topic:</b> news-fake-new (Confidence: 0.750)<br><b>Content:</b><br>The story in the Washington Post, quoting so-called<br>anonymous sources, which don't exist, incorrectly states<br>that my tariff policy will be pared back. That is wrong. The<br>Washington Post knows it's wro...<br><b>Speaker:</b> Donald Trump",
          "<b>Date:</b> 2025-01-04 07:29<br><b>Topic:</b> news-fake-new (Confidence: 0.671)<br><b>Content:</b><br>I never falsified business records. It is a fake, made up<br>charge by a corrupt judge who is just doing the work of the<br>Biden/Harris Injustice Department, an attack on their<br>political opponent, ME! He c...<br><b>Speaker:</b> Donald Trump",
          "<b>Date:</b> 2025-01-01 10:48<br><b>Topic:</b> news-fake-new (Confidence: 0.362)<br><b>Content:</b><br>When I said that the criminals coming in are far worse than<br>the criminals we have in our country, that statement was<br>constantly refuted by Democrats and the Fake News Media, but<br>it turned out to be tr...<br><b>Speaker:</b> Donald Trump"
         ],
         "type": "scatter3d",
         "x": {
          "bdata": "CNJAwBksXD9PDEfA/8JdP817ob+kiKA/3qSkP+mtjb8f6I6/rUcTPyThEz+IxGM/kcJjPxqMHD82WsO+poRPP6mlTT8svRA/OUVIwB81OkBCeWg/hiCEPmz2Vz+cV5O/mcAAQBXYkr+0C1A/RogdPyo/TD+zTk4+PHdSP+o7AkAEt609L/n7PebVTT+V+2E/AWGNPQ85oD8m18y+NMyLv5gX276DPpC/iZXNvrk/dT/Q1IS/nf9dP5BZXD9dblY/PpgNvzIRoL/hFRM+nedZP0FQQMBjdgLAyWIaP//1WT+UBk0/VldPP8kmWz+HuUbAiIo5QKJV777Reeq+MI6MP2RT9L5YhJo/uQYdPzPYOEBR51s/fQcZPwrgTT/lyxHApI1YP6mrPkDxrQu/PWauvxWBBUBBKFw/ad8GP3nsuT1ORARAeJAEQBfew764xIW/uy79Pq5DYj86GDlALk9MP6aDAsDFlAS/54pRP5cxDr9MF1M/tlRCwFkyBUAY1ty+cN4aPm8ZYT8051VBVJxXP7nIPsDKCQdAdhEKQK5zOUAEJ66/KVZzP+fEYj9Qe0DAu2cfv503jT93TaA/fg04QDjHgD2ghwhAD4RPPw45Qr/Aolo/Fh4cv13IJ79eoCQ+wnRQPy6dQcAtxYy/e4wAPLsKkb/8GVs/6Y9pP7Jbnz9SRSM/cP0gP/p/Gb/MQ5W/PDASwP/KYj9dUmI/NEQYvzOhNUCcbjdAtsCUP3LyQ8ArdJY/cpAPwG8wOkARJry/Q7NfP7k6Ej/bkkjA5zhWP5xHmj/uF/K+Voc3QD/9IT0N0yY9jwBcP6jAlj9V5WE/cT9iP0LIcz+sXzxAm885QL97A0BlvANAhtFHwGVyRMAOUUnAYAdHwHhMAECCeC9AZeISP0xAJL9ez+U9V/phP1nfRD9eakbA3dNTvrgbQ8AC6FVBg5qYP4J+mD/XnWE/WV5OP8EzlL9zCoa/1rRZPw4UWj8pvD7AZbZFwEcFGj6CnU0/chmGPw==",
          "dtype": "f4"
         },
         "y": {
          "bdata": "evc3wOFPfkAaAjzAQdl8QHv6fb3Esie+bSgSvqLVT70GzL28nI54v+13eL/WCDFAG9gwQBI35j4vOlG/yb0bQAIvkkAT1Hq/nvE6wIOK5j6KbDJAheuVv0+/nEC5ts49uEcywCAR5Lw7aiVAFInlPvt8jEBIlZq/uyQrQCFAM8DKpaG/Ypicv3tyl0Ce9rY+nc2evxpgNb6v7Em/VJUFvazGR79XW1i9ceU4v807UEBfKba9VXG/Ph+mfkC+1X9AKfAuv4kuU71ptJy/5pYcQB8FNsAAZ8A/tcTnPuHHHEC1YJhAk0uYQMllHUARFj7AV8LyPhseR7/Jc06/mN1nQLG9LL/QwWO+1WLlPiqV2j4tln5AVmHtPprPkkC6dOc/EjkdQHHjzz4+G1K/Iz/SvQfXNMCfecA+a2WAv2Odm79RZzPATBw5wCL+Zb8FypK9LbiDv2Bgtj695vE+1j+XQFNzwD+QClC/EcyiQEU6TL97H4hAaDA4wJt0NcBmRkm/haycv8JQMUAA6wNCjf0bQHVcNcCMwTXAdZQ2wDn18j5uVNK93D9LQMaTtT5dJTjAliMbv2AlaEDEUzW+/1bvPvZUn7/QDDbAc1mfQIwu3L5mEX9ABugVv9dDDr9uwJu/3HidQH0gOcDfP1u9ftehvwvjCb1yqX5AohYzQKc7Sb4MnNw+vjfjPqJ4H7+qssK8mC7lP5l5tT4MFS9A6aEkv+ZgGD9ZLuc+jC1ZvsUzPMCWwGa+WqHmP0XmpD7YAyy+6rK6Pvqveb/b7zvAla4bQMURZr5UxFK/zovrPtO2nr9xwZ6/A/x9QMMbgb7aFbc+q6y2PucrTUAlzw8/Iuv0PgsyOMDPOzfA8fg9wPpaO8D4eD/ACdE9wCwZMMDq8BA/x+l4v1tkIL8Urpu/y/q2PoreF0BCvzzAuLazv4z3OcCl6wNC2YtzvjFCdL60Erg+mEiQQOpE+LzUg5i9bK8cQBA5fkB0KTbA4Yk8wOyooL/CgpZAwlZaQA==",
          "dtype": "f4"
         },
         "z": {
          "bdata": "t8pRQCL/00CZKk1AIILUQGvsekB2wLNA1QezQHfsa0A6OmxAD1+SQAx8kkAp9GZA4z9nQNfOL0GKgkRA3cJ/QN0Sw0BW35FA19pLQGHu2T4IEmZAiVyCQF++vUBgdWVA6ggGQEJIb0Cu6XJAEfMvQb6TxUDh/H5Aid9sQOmUBUAt+W9AwW14QGOdwEAqgTlBOxhyQCwNtEDk60VAkSJrQEHTQUCSKm1AxlpAQMvdQkDeK2lAwEk5Qdrk00B1GNNAqmE/QKvreUCSoHpAdPyBQFmWUkBhhF1AvbUvQbjggUBkZ8BAMW7AQHlmgUBxaUxASHXcPjuVNEDAcytAWNVEQB25PEClW7dAfsgvQSGY0j6739NAO5svQVrvwkDfZVxAf1aCQLOCpj6sKyNALliEQPCtB0ClBTlBS9iPQLOjdEAS8AZAhZQBQAxsMkDzAGhAy2yOQAuFOUEzp+I+Z9TAQN+fXkDaTSRA7ey8QKmQJECMAstAfDpRQDuZBkCjRz9AlWh9QBucZkCo12XA+1KCQC97U0AdmghAIt0KQCnO2z4rKoRA7SlLQMCOOUF/D1JALDRCQB5kRkCLIbRA17/vPqh9bkAf8QlAgka7QOJ5SkBFp9NASgpHQFHYRkAnPXxAq2K+QBuSUUBFxWxA6YxsQAFXbkCRrNNAa79kQPU3tUC3OTBBhWswQbR4Q0BfWnBACAlcQJCZOUFSWWhA72A/QL7B0T5vGfM+BkSyQKvTT0AhsbNA4dVcQOCM5z7xJIlAQVU5Qe4rkkDkc0tA6X+CQE9ftkClnC9AOlH4PqO+bkDE0G5A+SPUQIZGt0DZfTlBGoo5QR81SEB+zmo+5kTYPrj/AkAmkQNAFyhMQJCHT0AmskpA3xlNQLs2BEA66gw/+laSQOzbOkDcendA14A5QfFWf0AOmU1AqPt3QOzCUEBr22XAndG2QNzRtkDAhDlBL2fEQPEPcEB7I2hA3/iBQOkz00CaoVNAKddNQEnEdED3IcFAYWFMQA==",
          "dtype": "f4"
         }
        },
        {
         "hoverinfo": "text",
         "hovertemplate": "%{text}<extra></extra>",
         "marker": {
          "color": "rgb(253,180,98)",
          "line": {
           "color": "darkgray",
           "width": 0.5
          },
          "opacity": 0.8,
          "size": 5
         },
         "mode": "markers",
         "name": "Topic 6: good-order-elon",
         "text": [
          "<b>Date:</b> 2025-07-20 15:35<br><b>Topic:</b> good-order-elon (Confidence: 0.771)<br><b>Content:</b><br>My statement on the Washington Redskins has totally blown<br>up, but only in a very positive way. I may put a restriction<br>on them that if they don’t change the name back to the<br>original “Washington Redsk...<br><b>Speaker:</b> Donald Trump",
          "<b>Date:</b> 2025-07-20 10:56<br><b>Topic:</b> good-order-elon (Confidence: 0.363)<br><b>Content:</b><br>“In the months leading up to the November 2016 election, the<br>Intelligence Community agreed that there was no Intelligence<br>that reflected that Russia was trying to hack the<br>election...So it was very st...<br><b>Speaker:</b> Donald Trump",
          "<b>Date:</b> 2025-07-20 10:51<br><b>Topic:</b> good-order-elon (Confidence: 0.820)<br><b>Content:</b><br>“It's worse than even politicization of intelligence; it was<br>manufactured intelligence that sought to achieve President<br>Obama's and his team's objective, which was undermining<br>President Trump.\"<br><b>Speaker:</b> Donald Trump",
          "<b>Date:</b> 2025-07-20 10:17<br><b>Topic:</b> good-order-elon (Confidence: 0.638)<br><b>Content:</b><br>The Washington “Whatever’s” should IMMEDIATELY change their<br>name back to the Washington Redskins Football Team. There is<br>a big clamoring for this. Likewise, the Cleveland Indians,<br>one of the six origi...<br><b>Speaker:</b> Donald Trump",
          "<b>Date:</b> 2025-07-19 19:24<br><b>Topic:</b> good-order-elon (Confidence: 0.499)<br><b>Content:</b><br>“We had, in President Obama and his leadership team, people<br>who did not want to accept the will of the American people<br>in electing Donald Trump in 2016 — and therefore cooked up<br>this treasonous conspi...<br><b>Speaker:</b> Donald Trump",
          "<b>Date:</b> 2025-07-19 18:35<br><b>Topic:</b> good-order-elon (Confidence: 0.736)<br><b>Content:</b><br>Hopefully the very talented John Thune, fresh off our many<br>victories over the past two weeks and, indeed, 6 months,<br>will cancel August recess (and long weekends!), in order to<br>get my incredible nomine...<br><b>Speaker:</b> Donald Trump",
          "<b>Date:</b> 2025-07-11 19:06<br><b>Topic:</b> good-order-elon (Confidence: 0.618)<br><b>Content:</b><br>I HAVE AN OBLIGATION TO DO A GOOD JOB—THE REASON I WAS<br>SAVED, WAS TO SAVE OUR COUNTRY!<br><b>Speaker:</b> Donald Trump",
          "<b>Date:</b> 2025-07-09 16:01<br><b>Topic:</b> good-order-elon (Confidence: 0.525)<br><b>Content:</b><br>“Sharp drop in police killed on duty credited to Trump-<br>driven shift away from anti-police culture”<br><b>Speaker:</b> Donald Trump",
          "<b>Date:</b> 2025-07-06 18:20<br><b>Topic:</b> good-order-elon (Confidence: 0.444)<br><b>Content:</b><br>I am saddened to watch Elon Musk go completely “off the<br>rails,” essentially becoming a TRAIN WRECK over the past<br>five weeks. He even wants to start a Third Political Party,<br>despite the fact that they ...<br><b>Speaker:</b> Donald Trump",
          "<b>Date:</b> 2025-07-04 10:48<br><b>Topic:</b> good-order-elon (Confidence: 0.322)<br><b>Content:</b><br>It was my great honor to welcome Edan Alexander, held<br>hostage by Hamas for 584 days—to the Oval Office with his<br>loved ones. We remain committed to bringing every hostage<br>home!<br><b>Speaker:</b> Donald Trump",
          "<b>Date:</b> 2025-07-04 01:31<br><b>Topic:</b> good-order-elon (Confidence: 0.820)<br><b>Content:</b><br>WOW! 218-2. Has a number like that ever happened before???<br><b>Speaker:</b> Donald Trump",
          "<b>Date:</b> 2025-07-03 09:45<br><b>Topic:</b> good-order-elon (Confidence: 0.459)<br><b>Content:</b><br>“This jobs market is like the Energizer Bunny. Every single<br>time we expect it to run out of steam, it just keeps going<br>and going…”<br><b>Speaker:</b> Donald Trump",
          "<b>Date:</b> 2025-07-01 00:44<br><b>Topic:</b> good-order-elon (Confidence: 0.550)<br><b>Content:</b><br>Elon Musk knew, long before he so strongly Endorsed me for<br>President, that I was strongly against the EV Mandate. It is<br>ridiculous, and was always a major part of my campaign.<br>Electric cars are fine, ...<br><b>Speaker:</b> Donald Trump",
          "<b>Date:</b> 2025-06-30 19:27<br><b>Topic:</b> good-order-elon (Confidence: 0.489)<br><b>Content:</b><br>Trump Fragrances are here. They’re called “Victory 45-47”<br>because they’re all about Winning, Strength, and Success —<br>For men and women. Get yourself a bottle, and don’t forget<br>to get one for your love...<br><b>Speaker:</b> Donald Trump",
          "<b>Date:</b> 2025-06-30 02:23<br><b>Topic:</b> good-order-elon (Confidence: 0.546)<br><b>Content:</b><br>The Trump Administration has gotten costs down, very<br>substantially, for the American Consumer. There has never<br>been anything like this!<br><b>Speaker:</b> Donald Trump",
          "<b>Date:</b> 2025-06-29 13:22<br><b>Topic:</b> good-order-elon (Confidence: 0.765)<br><b>Content:</b><br>The incredible B-2 pilots will be coming to the White<br>House…They hit a target the size of a circle—a little<br>target, they say half the size of a refrigerator door, from<br>50,000 feet up in the air going ...<br><b>Speaker:</b> Donald Trump",
          "<b>Date:</b> 2025-06-29 13:19<br><b>Topic:</b> good-order-elon (Confidence: 0.887)<br><b>Content:</b><br>Regarding Iran's Fordow nuclear facility—They didn't move<br>anything...they didn't think it was going to be actually<br>doable, what we did…<br><b>Speaker:</b> Donald Trump",
          "<b>Date:</b> 2025-06-29 13:15<br><b>Topic:</b> good-order-elon (Confidence: 0.746)<br><b>Content:</b><br>I really think in 6 months, we've taken the Country and<br>turned it around...the numbers are great...it's been an<br>amazing period of time…<br><b>Speaker:</b> Donald Trump",
          "<b>Date:</b> 2025-06-29 01:19<br><b>Topic:</b> good-order-elon (Confidence: 0.775)<br><b>Content:</b><br>MAKE THE DEAL IN GAZA. GET THE HOSTAGES BACK!!! DJT<br><b>Speaker:</b> Donald Trump",
          "<b>Date:</b> 2025-06-28 20:42<br><b>Topic:</b> good-order-elon (Confidence: 0.778)<br><b>Content:</b><br>Jamie: You do such a GREAT job! So tough, so insightful, and<br>so incredible! I watch you all the time, and you just never<br>miss. Jamie, as President, I just wanted to tell you this,<br>and THANK YOU for th...<br><b>Speaker:</b> Donald Trump",
          "<b>Date:</b> 2025-06-28 14:45<br><b>Topic:</b> good-order-elon (Confidence: 0.545)<br><b>Content:</b><br>“In the past 12 days, some of the most consequential<br>decisions in American history, those that will affect<br>generations and leave a substantial impact on our culture,<br>economy, and political alignment, ...<br><b>Speaker:</b> Donald Trump",
          "<b>Date:</b> 2025-06-26 14:52<br><b>Topic:</b> good-order-elon (Confidence: 0.596)<br><b>Content:</b><br>The Democrats are the ones who leaked the information on the<br>PERFECT FLIGHT to the Nuclear Sites in Iran. They should be<br>prosecuted!<br><b>Speaker:</b> Donald Trump",
          "<b>Date:</b> 2025-06-26 14:14<br><b>Topic:</b> good-order-elon (Confidence: 0.529)<br><b>Content:</b><br>“Rand Paul broke with his own party on border security<br>funding. Then his party broke with him.”<br><b>Speaker:</b> Donald Trump",
          "<b>Date:</b> 2025-06-25 11:38<br><b>Topic:</b> good-order-elon (Confidence: 0.572)<br><b>Content:</b><br>We've collected additional intelligence, and we've also<br>spoken to people who have seen the site—and the site is<br>obliterated!<br><b>Speaker:</b> Donald Trump",
          "<b>Date:</b> 2025-06-25 08:30<br><b>Topic:</b> good-order-elon (Confidence: 0.820)<br><b>Content:</b><br>This was an unbelievable hit in Iran by genius pilots and<br>genius people in the military…<br><b>Speaker:</b> Donald Trump",
          "<b>Date:</b> 2025-06-24 07:34<br><b>Topic:</b> good-order-elon (Confidence: 0.700)<br><b>Content:</b><br>IRAN WILL NEVER REBUILD THEIR NUCLEAR FACILITIES!<br><b>Speaker:</b> Donald Trump",
          "<b>Date:</b> 2025-06-23 23:47<br><b>Topic:</b> good-order-elon (Confidence: 0.767)<br><b>Content:</b><br>We couldn’t have made today’s “deal” without the talent and<br>courage of our great B-2 pilots, and all of those associated<br>with that operation. In a certain and very ironic way, that<br>perfect “hit,” late...<br><b>Speaker:</b> Donald Trump",
          "<b>Date:</b> 2025-06-23 11:27<br><b>Topic:</b> good-order-elon (Confidence: 0.463)<br><b>Content:</b><br>Did I hear Former President Medvedev, from Russia, casually<br>throwing around the “N word” (Nuclear!), and saying that he<br>and other Countries would supply Nuclear Warheads to Iran?<br>Did he really say tha...<br><b>Speaker:</b> Donald Trump",
          "<b>Date:</b> 2025-06-22 17:15<br><b>Topic:</b> good-order-elon (Confidence: 0.359)<br><b>Content:</b><br>The GREAT B-2 pilots have just landed, safely, in Missouri.<br>Thank you for a job well done!!! DONALD J. TRUMP, PRESIDENT<br>OF THE UNITED STATES!<br><b>Speaker:</b> Donald Trump",
          "<b>Date:</b> 2025-06-22 16:55<br><b>Topic:</b> good-order-elon (Confidence: 0.600)<br><b>Content:</b><br>It’s not politically correct to use the term, “Regime<br>Change,” but if the current Iranian Regime is unable to MAKE<br>IRAN GREAT AGAIN, why wouldn’t there be a Regime change???<br>MIGA!!!<br><b>Speaker:</b> Donald Trump",
          "<b>Date:</b> 2025-06-22 13:58<br><b>Topic:</b> good-order-elon (Confidence: 0.301)<br><b>Content:</b><br>Congressman Thomas Massie of Kentucky is not MAGA, even<br>though he likes to say he is. Actually, MAGA doesn’t want<br>him, doesn’t know him, and doesn’t respect him. He is a<br>negative force who almost alwa...<br><b>Speaker:</b> Donald Trump",
          "<b>Date:</b> 2025-06-19 20:56<br><b>Topic:</b> good-order-elon (Confidence: 0.480)<br><b>Content:</b><br>Marc Thiessen: “Donald Trump is not an isolationist, but I<br>think some of the Republican isolationists are suddenly<br>discovering that they're out of touch with the MAGA movement<br>and Donald Trump…I have ...<br><b>Speaker:</b> Donald Trump",
          "<b>Date:</b> 2025-06-19 16:14<br><b>Topic:</b> good-order-elon (Confidence: 0.460)<br><b>Content:</b><br>Vice President JD Vance: “I'm proud to announce with HHS<br>Secretary Robert F. Kennedy Jr. and NIH Director Jay<br>Bhattacharya that the Trump Administration is launching a<br>program to study long-term healt...<br><b>Speaker:</b> Donald Trump",
          "<b>Date:</b> 2025-06-19 11:23<br><b>Topic:</b> good-order-elon (Confidence: 0.502)<br><b>Content:</b><br>I’ve just signed the Executive Order extending the Deadline<br>for the TikTok closing for 90 days (September 17, 2025).<br>Thank you for your attention to this matter!<br><b>Speaker:</b> Donald Trump",
          "<b>Date:</b> 2025-06-17 11:55<br><b>Topic:</b> good-order-elon (Confidence: 0.645)<br><b>Content:</b><br>We now have complete and total control of the skies over<br>Iran. Iran had good sky trackers and other defensive<br>equipment, and plenty of it, but it doesn’t compare to<br>American made, conceived, and manuf...<br><b>Speaker:</b> Donald Trump",
          "<b>Date:</b> 2025-06-16 19:18<br><b>Topic:</b> good-order-elon (Confidence: 0.775)<br><b>Content:</b><br>Somebody please explain to kooky Tucker Carlson that,” IRAN<br>CAN NOT HAVE A NUCLEAR WEAPON!”<br><b>Speaker:</b> Donald Trump",
          "<b>Date:</b> 2025-06-16 18:30<br><b>Topic:</b> good-order-elon (Confidence: 0.857)<br><b>Content:</b><br>Iran should have signed the “deal” I told them to sign. What<br>a shame, and waste of human life. Simply stated, IRAN CAN<br>NOT HAVE A NUCLEAR WEAPON. I said it over and over again!<br>Everyone should immedia...<br><b>Speaker:</b> Donald Trump",
          "<b>Date:</b> 2025-06-14 10:28<br><b>Topic:</b> good-order-elon (Confidence: 0.887)<br><b>Content:</b><br>OUR GREAT MILITARY PARADE IS ON, RAIN OR SHINE. REMEMBER, A<br>RAINY DAY PARADE BRINGS GOOD LUCK. I’LL SEE YOU ALL IN D.C.<br><b>Speaker:</b> Donald Trump",
          "<b>Date:</b> 2025-06-10 20:22<br><b>Topic:</b> good-order-elon (Confidence: 0.708)<br><b>Content:</b><br>Generations of Army heroes did not shed their blood on<br>distant shores only to watch our Country be destroyed by<br>invasion and Third World lawlessness here at home, like is<br>happening in California. As C...<br><b>Speaker:</b> Donald Trump",
          "<b>Date:</b> 2025-06-10 19:13<br><b>Topic:</b> good-order-elon (Confidence: 0.477)<br><b>Content:</b><br>For our adversaries, there is no greater fear than the<br>United States Army. But for the American People, there is no<br>greater pride—because YOU are the righteous sword of<br>American Justice, and the ultim...<br><b>Speaker:</b> Donald Trump",
          "<b>Date:</b> 2025-06-09 14:47<br><b>Topic:</b> good-order-elon (Confidence: 0.569)<br><b>Content:</b><br>“If they spit, we will hit.” This is a statement from the<br>President of the United States concerning the catastrophic<br>Gavin Newscum inspired Riots going on in Los Angeles. The<br>Insurrectionists have a t...<br><b>Speaker:</b> Donald Trump",
          "<b>Date:</b> 2025-06-06 17:04<br><b>Topic:</b> good-order-elon (Confidence: 0.850)<br><b>Content:</b><br>RT@RealRogerStoneIT’S TIME TO PUT PRESIDENT TRUMP ON MOUNT<br>RUSHMORE!Congresswoman Anna Paulina Luna has sponsored the<br>legislation to put our 45th & 47th President on this<br>National Memorial.Sign the pe...<br><b>Speaker:</b> Donald Trump",
          "<b>Date:</b> 2025-06-06 12:31<br><b>Topic:</b> good-order-elon (Confidence: 0.474)<br><b>Content:</b><br>Congratulations to Chairman of the Senate Committee on<br>Commerce, Science, and Transportation, Ted Cruz, Chairman of<br>the Senate Armed Services Committee, Roger Wicker, and<br>Chairman of the Senate Republ...<br><b>Speaker:</b> Donald Trump",
          "<b>Date:</b> 2025-06-05 14:37<br><b>Topic:</b> good-order-elon (Confidence: 0.517)<br><b>Content:</b><br>Elon was “wearing thin,” I asked him to leave, I took away<br>his EV Mandate that forced everyone to buy Electric Cars<br>that nobody else wanted (that he knew for months I was going<br>to do!), and he just we...<br><b>Speaker:</b> Donald Trump",
          "<b>Date:</b> 2025-05-30 19:43<br><b>Topic:</b> good-order-elon (Confidence: 0.392)<br><b>Content:</b><br>Thank you, Elon! 🇺🇸🚀<br><b>Speaker:</b> Donald Trump",
          "<b>Date:</b> 2025-05-30 14:50<br><b>Topic:</b> good-order-elon (Confidence: 0.747)<br><b>Content:</b><br>Elon Musk: “This is not the end of DOGE, but really the<br>beginning...The DOGE team will only grow stronger<br>overtime...It is permeating throughout the government, and I<br>am confident that, over time, we ...<br><b>Speaker:</b> Donald Trump",
          "<b>Date:</b> 2025-05-30 14:46<br><b>Topic:</b> good-order-elon (Confidence: 0.660)<br><b>Content:</b><br>Elon has delivered a colossal change in the old ways of<br>doing business in Washington…<br><b>Speaker:</b> Donald Trump",
          "<b>Date:</b> 2025-05-30 09:45<br><b>Topic:</b> good-order-elon (Confidence: 0.900)<br><b>Content:</b><br>CNBC's Rick Santelli: \"The income numbers, really, for the<br>first four months of year — they're stellar ... This<br>administration is criticized for just about everything under<br>the sun ... Why don't we gi...<br><b>Speaker:</b> Donald Trump",
          "<b>Date:</b> 2025-05-29 20:14<br><b>Topic:</b> good-order-elon (Confidence: 0.482)<br><b>Content:</b><br>I am having a Press Conference tomorrow at 1:30 P.M. EST,<br>with Elon Musk, at the Oval Office. This will be his last<br>day, but not really, because he will, always, be with us,<br>helping all the way. Elon ...<br><b>Speaker:</b> Donald Trump",
          "<b>Date:</b> 2025-05-26 09:06<br><b>Topic:</b> good-order-elon (Confidence: 0.664)<br><b>Content:</b><br>I will be making a Memorial Day Speech today at Arlington<br>National Cemetery, 11:00 A.M. ENJOY!!!<br><b>Speaker:</b> Donald Trump",
          "<b>Date:</b> 2025-05-25 19:49<br><b>Topic:</b> good-order-elon (Confidence: 0.532)<br><b>Content:</b><br>Clay Travis has a GREAT new book coming out November 4,<br>2025: “Balls: How Trump, Young Men, and Sports Saved<br>America.” Clay is a highly talented commentator, who is<br>tough, smart, and gifted with COMMO...<br><b>Speaker:</b> Donald Trump",
          "<b>Date:</b> 2025-05-23 18:11<br><b>Topic:</b> good-order-elon (Confidence: 0.452)<br><b>Content:</b><br>REFORMING NUCLEAR REACTOR TESTING AT THE DEPARTMENT OF<br>ENERGY: THE REFORM OF THE NUCLEAR REGULATORY COMMISSION: THE<br>NUCLEAR INDUSTRIAL BASE:<br><b>Speaker:</b> Donald Trump",
          "<b>Date:</b> 2025-05-19 17:09<br><b>Topic:</b> good-order-elon (Confidence: 0.420)<br><b>Content:</b><br>It is my honor to officially sign the 'Take It Down Act'<br>into law...With the rise of AI image generation, countless<br>women have been harassed with deep fakes and other explicit<br>images distributed again...<br><b>Speaker:</b> Donald Trump",
          "<b>Date:</b> 2025-05-12 12:32<br><b>Topic:</b> good-order-elon (Confidence: 0.528)<br><b>Content:</b><br>Starting today, the United States will no longer subsidize<br>the healthcare of foreign countries—and we'll no longer<br>tolerate profiteering and price gouging from Big Pharma.<br>EXECUTIVE ORDER:<br><b>Speaker:</b> Donald Trump",
          "<b>Date:</b> 2025-05-12 12:24<br><b>Topic:</b> good-order-elon (Confidence: 0.729)<br><b>Content:</b><br>Secretary Kennedy: \"We now have a President who is a man of<br>his word, who has the courage... he can't be bought, unlike<br>most of the politicians in this country — and he is standing<br>here for the Americ...<br><b>Speaker:</b> Donald Trump",
          "<b>Date:</b> 2025-05-12 06:21<br><b>Topic:</b> good-order-elon (Confidence: 0.519)<br><b>Content:</b><br>EDAN ALEXANDER, AMERICAN HOSTAGE THOUGHT DEAD, TO BE<br>RELEASED BY HAMAS. GREAT NEWS!<br><b>Speaker:</b> Donald Trump",
          "<b>Date:</b> 2025-05-10 11:34<br><b>Topic:</b> good-order-elon (Confidence: 0.590)<br><b>Content:</b><br>Scott Jennings is a Patriot from the Great State of<br>Kentucky, and has a terrific book coming out called, “A<br>Revolution of Common Sense.” The book was directly inspired<br>by my Inaugural Address, and the...<br><b>Speaker:</b> Donald Trump",
          "<b>Date:</b> 2025-05-09 12:19<br><b>Topic:</b> good-order-elon (Confidence: 0.335)<br><b>Content:</b><br>I just watched an exhausted, highly neurotic Stephanie Ruhle<br>spew LIES about Tariffs, as do many others, in order not to<br>give me the Victory that they all see coming. Few people<br>know Stephanie Ruhle, ...<br><b>Speaker:</b> Donald Trump",
          "<b>Date:</b> 2025-05-09 09:41<br><b>Topic:</b> good-order-elon (Confidence: 0.401)<br><b>Content:</b><br>MSNBC, the worst there is on Television misrepresentation,<br>is so far knowingly off in their statements about me and<br>Tariffs that it should be considered a Major Campaign<br>Violation. They are nothing le...<br><b>Speaker:</b> Donald Trump",
          "<b>Date:</b> 2025-05-05 20:40<br><b>Topic:</b> good-order-elon (Confidence: 0.416)<br><b>Content:</b><br>Secretary Robert F. Kennedy Jr: “What we're cutting is<br>waste, fraud, and abuse. We're streamlining an agency that<br>grew by 38% in the 4 years that President Biden was in the<br>White House...we're not get...<br><b>Speaker:</b> Donald Trump",
          "<b>Date:</b> 2025-05-05 20:38<br><b>Topic:</b> good-order-elon (Confidence: 0.887)<br><b>Content:</b><br>This afternoon I signed an Executive Order protecting<br>Americans from dangerous gain-of-function research.Read more<br>here:<br><b>Speaker:</b> Donald Trump",
          "<b>Date:</b> 2025-05-05 14:10<br><b>Topic:</b> good-order-elon (Confidence: 0.775)<br><b>Content:</b><br>PROMISES MADE, PROMISES KEPT!<br><b>Speaker:</b> Donald Trump",
          "<b>Date:</b> 2025-05-05 14:00<br><b>Topic:</b> good-order-elon (Confidence: 0.550)<br><b>Content:</b><br>The 2027 NFL Draft | Washington, D.C.<br><b>Speaker:</b> Donald Trump",
          "<b>Date:</b> 2025-05-05 13:58<br><b>Topic:</b> good-order-elon (Confidence: 0.700)<br><b>Content:</b><br>The NFL Draft is coming to Washington, D.C. in 2027!<br><b>Speaker:</b> Donald Trump",
          "<b>Date:</b> 2025-05-01 23:41<br><b>Topic:</b> good-order-elon (Confidence: 0.540)<br><b>Content:</b><br>It is my pleasure to announce the appointments of Betty<br>Schwartz, Fred Marcus, Rabbi Pinchos Lipschutz, Sid<br>Rosenberg, Ariel Abergel, Barbara Feingold, Alex Witkoff,<br>and Robert Garson to the United St...<br><b>Speaker:</b> Donald Trump",
          "<b>Date:</b> 2025-05-01 10:05<br><b>Topic:</b> good-order-elon (Confidence: 0.378)<br><b>Content:</b><br>NVIDIA CEO Jensen Huang: \"We're going to build NVIDIA's<br>technology, the next generation of that, all here in the<br>United States. Without the President's leadership, his<br>policies, his support, and very ...<br><b>Speaker:</b> Donald Trump",
          "<b>Date:</b> 2025-04-29 10:43<br><b>Topic:</b> good-order-elon (Confidence: 0.602)<br><b>Content:</b><br>TOM EMMER: “PROMISES MADE, PROMISES KEPT!”<br><b>Speaker:</b> Donald Trump",
          "<b>Date:</b> 2025-04-29 10:32<br><b>Topic:</b> good-order-elon (Confidence: 0.476)<br><b>Content:</b><br>\"We'll look back 20 years from now, 30 years from now and go<br>this man fundamentally changed the way that America works<br>and the relationship that we have with our government...He<br>doesn't stop…”<br><b>Speaker:</b> Donald Trump",
          "<b>Date:</b> 2025-04-29 10:15<br><b>Topic:</b> good-order-elon (Confidence: 0.871)<br><b>Content:</b><br>“TODAY OFFICIALLY MARKS 100 DAYS OF PROMISES MADE AND<br>PROMISES KEPT…”<br><b>Speaker:</b> Donald Trump",
          "<b>Date:</b> 2025-04-29 09:59<br><b>Topic:</b> good-order-elon (Confidence: 0.944)<br><b>Content:</b><br>“In just 100 days, we have witnessed one of the most<br>productive presidential administrations in modern history.<br>Trump has already signed more than 140 executive orders,<br>issued more than 40 proclamatio...<br><b>Speaker:</b> Donald Trump",
          "<b>Date:</b> 2025-04-25 16:52<br><b>Topic:</b> good-order-elon (Confidence: 0.580)<br><b>Content:</b><br>What is wrong with NFL owners, are they STUPID? Deion<br>Sanders was a great college football player, and was even<br>greater in the NFL. He’s also a very good coach, streetwise<br>and smart! Therefore, Shedeu...<br><b>Speaker:</b> Donald Trump",
          "<b>Date:</b> 2025-04-25 06:09<br><b>Topic:</b> good-order-elon (Confidence: 0.636)<br><b>Content:</b><br>“President Trump signs an Executive Order to modernize<br>workforce programs—Preparing Americans for high-paying<br>skilled trade jobs and refocusing youth on career<br>preparation”<br><b>Speaker:</b> Donald Trump",
          "<b>Date:</b> 2025-04-20 15:53<br><b>Topic:</b> good-order-elon (Confidence: 0.820)<br><b>Content:</b><br>“The World will not be destroyed by those who do evil, but<br>rather by those who watch them without doing anything to<br>stop them.”<br><b>Speaker:</b> Donald Trump",
          "<b>Date:</b> 2025-04-18 15:32<br><b>Topic:</b> good-order-elon (Confidence: 0.412)<br><b>Content:</b><br>Following my Day One Executive Order, the Office of<br>Personnel Management will be issuing new Civil Service<br>Regulations for career government employees. Moving forward,<br>career government employees, wor...<br><b>Speaker:</b> Donald Trump",
          "<b>Date:</b> 2025-04-15 23:16<br><b>Topic:</b> good-order-elon (Confidence: 0.510)<br><b>Content:</b><br>Wow! Fake News MSNBC has REALLY BAD RATINGS, in fact, not<br>much better than the broken broadcasting disaster known as<br>CNN. Comcast, which also has the ailing network known as<br>NBC, is trying to stay awa...<br><b>Speaker:</b> Donald Trump",
          "<b>Date:</b> 2025-04-14 10:16<br><b>Topic:</b> good-order-elon (Confidence: 0.501)<br><b>Content:</b><br>Congratulations to Rory, what a great job he did! Tremendous<br>courage and talent was on full display at yesterday’s<br>Masters. What a WIN!!!<br><b>Speaker:</b> Donald Trump",
          "<b>Date:</b> 2025-04-13 15:38<br><b>Topic:</b> good-order-elon (Confidence: 0.370)<br><b>Content:</b><br>Time for the terrorists to hide, but it won’t do them any<br>good. Our Warfighters, the Greatest the World has ever seen,<br>will find them, and bring them to swift Justice. I just got<br>rid of Joe Biden’s da...<br><b>Speaker:</b> Donald Trump",
          "<b>Date:</b> 2025-04-10 15:03<br><b>Topic:</b> good-order-elon (Confidence: 0.393)<br><b>Content:</b><br>It’s so hard to watch as Highly Qualified and Respected<br>Ambassadors, who we desperately need representing our<br>Country in Faraway Lands, are purposefully meant to wait as<br>the Democrat Senators take max...<br><b>Speaker:</b> Donald Trump",
          "<b>Date:</b> 2025-04-07 10:16<br><b>Topic:</b> good-order-elon (Confidence: 0.850)<br><b>Content:</b><br>\"The opportunity is to rebuild the global trading system in<br>a way that works for the United States, which we didn't<br>have.\"<br><b>Speaker:</b> Donald Trump",
          "<b>Date:</b> 2025-04-04 17:40<br><b>Topic:</b> good-order-elon (Confidence: 0.775)<br><b>Content:</b><br>These Houthis gathered for instructions on an attack. Oops,<br>there will be no attack by these Houthis!They will never<br>sink our ships again!<br><b>Speaker:</b> Donald Trump",
          "<b>Date:</b> 2025-03-31 18:59<br><b>Topic:</b> good-order-elon (Confidence: 0.468)<br><b>Content:</b><br>“House GOP campaign chairman says voters will ‘reward us’<br>for the Trump-Musk DOGE cuts”<br><b>Speaker:</b> Donald Trump",
          "<b>Date:</b> 2025-03-31 14:15<br><b>Topic:</b> good-order-elon (Confidence: 0.640)<br><b>Content:</b><br>The Iran-backed Houthi Terrorists have been decimated by the<br>relentless strikes over the past two weeks. Many of their<br>Fighters and Leaders are no longer with us. We hit them<br>every day and night — Har...<br><b>Speaker:</b> Donald Trump",
          "<b>Date:</b> 2025-03-28 13:42<br><b>Topic:</b> good-order-elon (Confidence: 0.684)<br><b>Content:</b><br>\"The University of Michigan ends its DEI programs in the<br>wake of new guidance from the Trump Administration.\"<br><b>Speaker:</b> Donald Trump",
          "<b>Date:</b> 2025-03-27 09:57<br><b>Topic:</b> good-order-elon (Confidence: 0.474)<br><b>Content:</b><br>Whatever happened to the $8,000,000 given by our<br>“government” to Radical Left Politico magazine, or whatever<br>you would call it. Owned by wealthy guys, this money should<br>be taken back by DOGE, ASAP. Al...<br><b>Speaker:</b> Donald Trump",
          "<b>Date:</b> 2025-03-26 11:43<br><b>Topic:</b> good-order-elon (Confidence: 0.624)<br><b>Content:</b><br>Had I not turned away at that very, very, very instant—I<br>wouldn't be sitting here with you...I do feel the support, I<br>really do. Somebody said that God saved me in order to save<br>this Country.<br><b>Speaker:</b> Donald Trump",
          "<b>Date:</b> 2025-03-25 15:59<br><b>Topic:</b> good-order-elon (Confidence: 0.806)<br><b>Content:</b><br>I just signed an Executive Order enabling the U.S. Treasury<br>to modernize its payments system, in order to reduce waste,<br>fraud and abuse…<br><b>Speaker:</b> Donald Trump",
          "<b>Date:</b> 2025-03-25 15:56<br><b>Topic:</b> good-order-elon (Confidence: 0.725)<br><b>Content:</b><br>We believe that this Executive Order is the farthest-<br>reaching executive action taken in the history of the<br>republic to Secure our Elections...<br><b>Speaker:</b> Donald Trump",
          "<b>Date:</b> 2025-03-23 11:31<br><b>Topic:</b> good-order-elon (Confidence: 0.462)<br><b>Content:</b><br>TRUTH (Social) is on “FIRE” (in a positive way, of course!).<br>It is my Voice, and the Real Voice of America. Sign up<br>TODAY, I have never let you down!<br><b>Speaker:</b> Donald Trump",
          "<b>Date:</b> 2025-03-21 07:43<br><b>Topic:</b> good-order-elon (Confidence: 0.428)<br><b>Content:</b><br>I look forward to watching the sick terrorist thugs get 20<br>year jail sentences for what they are doing to Elon Musk and<br>Tesla. Perhaps they could serve them in the prisons of El<br>Salvador, which have b...<br><b>Speaker:</b> Donald Trump",
          "<b>Date:</b> 2025-03-19 14:05<br><b>Topic:</b> good-order-elon (Confidence: 0.670)<br><b>Content:</b><br>Jesse Watters: “When he was first elected, President Trump<br>promised to save the forgotten men and women of America—no<br>matter where they are, in the Rust Belt or outer space…”<br><b>Speaker:</b> Donald Trump",
          "<b>Date:</b> 2025-03-19 12:27<br><b>Topic:</b> good-order-elon (Confidence: 0.691)<br><b>Content:</b><br>Reports are coming in that while Iran has lessened its<br>intensity on Military Equipment and General Support to the<br>Houthis, they are still sending large levels of Supplies.<br>Iran must stop the sending o...<br><b>Speaker:</b> Donald Trump",
          "<b>Date:</b> 2025-03-18 21:43<br><b>Topic:</b> good-order-elon (Confidence: 0.560)<br><b>Content:</b><br>Wow. What a great interview of Elon Musk by Sean Hannity. A<br>must watch. TWO GREAT AMERICANS!!! DJT<br><b>Speaker:</b> Donald Trump",
          "<b>Date:</b> 2025-03-17 14:01<br><b>Topic:</b> good-order-elon (Confidence: 0.535)<br><b>Content:</b><br>I just spoke with the Acting Administrator of NASA, Janet<br>Petro. She is coordinating our Team of highly respected<br>Scientists, Space Engineers, and various other “geniuses,”<br>who has agreed to let our A...<br><b>Speaker:</b> Donald Trump",
          "<b>Date:</b> 2025-03-17 11:29<br><b>Topic:</b> good-order-elon (Confidence: 0.975)<br><b>Content:</b><br>Let nobody be fooled! The hundreds of attacks being made by<br>Houthi, the sinister mobsters and thugs based in Yemen, who<br>are hated by the Yemeni people, all emanate from, and are<br>created by, IRAN. Any ...<br><b>Speaker:</b> Donald Trump",
          "<b>Date:</b> 2025-03-17 01:49<br><b>Topic:</b> good-order-elon (Confidence: 0.392)<br><b>Content:</b><br>“Stranded NASA astronauts thank Musk and Trump”<br><b>Speaker:</b> Donald Trump",
          "<b>Date:</b> 2025-03-17 00:34<br><b>Topic:</b> good-order-elon (Confidence: 0.775)<br><b>Content:</b><br>Great playing with Scott Lombart, a terrific Golfer!<br><b>Speaker:</b> Donald Trump",
          "<b>Date:</b> 2025-03-15 14:29<br><b>Topic:</b> good-order-elon (Confidence: 0.698)<br><b>Content:</b><br>Today, I have ordered the United States Military to launch<br>decisive and powerful Military action against the Houthi<br>terrorists in Yemen. They have waged an unrelenting campaign<br>of piracy, violence, an...<br><b>Speaker:</b> Donald Trump",
          "<b>Date:</b> 2025-03-14 16:43<br><b>Topic:</b> good-order-elon (Confidence: 0.375)<br><b>Content:</b><br>On day one, I signed an executive order banning all<br>government censorship. My administration stripped the<br>security clearances of the disgraced intelligence agents who<br>lied about Hunter Biden's laptop....<br><b>Speaker:</b> Donald Trump",
          "<b>Date:</b> 2025-03-14 16:42<br><b>Topic:</b> good-order-elon (Confidence: 0.385)<br><b>Content:</b><br>We must be honest about the lies and abuses that have<br>occurred within these walls. Unfortunately, in recent years,<br>a corrupt group of hacks and radicals within the ranks of<br>the American government obl...<br><b>Speaker:</b> Donald Trump",
          "<b>Date:</b> 2025-03-12 10:06<br><b>Topic:</b> good-order-elon (Confidence: 0.443)<br><b>Content:</b><br>Wow!!! People are loving Elon, a GREAT PATRIOT. Nice to<br>see!!! DJT<br><b>Speaker:</b> Donald Trump",
          "<b>Date:</b> 2025-03-11 16:10<br><b>Topic:</b> good-order-elon (Confidence: 0.910)<br><b>Content:</b><br>Elon Musk: “As a function of the great policies of President<br>Trump and his administration, and as an act of faith in<br>America, Tesla is going to DOUBLE vehicle output in the<br>United States within the ne...<br><b>Speaker:</b> Donald Trump",
          "<b>Date:</b> 2025-03-11 16:06<br><b>Topic:</b> good-order-elon (Confidence: 0.789)<br><b>Content:</b><br>Number one, it's a great product—as good as it gets—and<br>number two, because Elon has devoted his energy and his life<br>to doing this and I think he has been treated very unfairly…<br><b>Speaker:</b> Donald Trump",
          "<b>Date:</b> 2025-03-11 00:14<br><b>Topic:</b> good-order-elon (Confidence: 0.664)<br><b>Content:</b><br>To Republicans, Conservatives, and all great Americans, Elon<br>Musk is “putting it on the line” in order to help our<br>Nation, and he is doing a FANTASTIC JOB! But the Radical<br>Left Lunatics, as they often...<br><b>Speaker:</b> Donald Trump",
          "<b>Date:</b> 2025-03-09 20:49<br><b>Topic:</b> good-order-elon (Confidence: 0.633)<br><b>Content:</b><br>The Carter Administration gave the Panama Canal to Panama<br>for no reason...It's the most expensive thing we've ever<br>built in the history of our Country.…<br><b>Speaker:</b> Donald Trump",
          "<b>Date:</b> 2025-03-09 20:47<br><b>Topic:</b> good-order-elon (Confidence: 0.871)<br><b>Content:</b><br>I’m not going to touch Social Security—We’re going to get<br>fraud out of there, everybody wants us to get the fraud out!<br><b>Speaker:</b> Donald Trump",
          "<b>Date:</b> 2025-03-06 13:55<br><b>Topic:</b> good-order-elon (Confidence: 0.447)<br><b>Content:</b><br>The Golden Age of America has just begun! Over the past six<br>weeks, our Administration has delivered on promises like no<br>Administration before it, always putting America First! DOGE<br>has been an incredi...<br><b>Speaker:</b> Donald Trump",
          "<b>Date:</b> 2025-03-05 18:27<br><b>Topic:</b> good-order-elon (Confidence: 0.423)<br><b>Content:</b><br>The Democrats should lose the Midterms based on their<br>behavior at last night’s Joint Address to Congress. All<br>Republicans must use their behavior on men in women’s<br>sports, their very dangerous Open Bo...<br><b>Speaker:</b> Donald Trump",
          "<b>Date:</b> 2025-03-05 16:46<br><b>Topic:</b> good-order-elon (Confidence: 0.513)<br><b>Content:</b><br>“Shalom Hamas” means Hello and Goodbye - You can choose.<br>Release all of the Hostages now, not later, and immediately<br>return all of the dead bodies of the people you murdered, or<br>it is OVER for you. On...<br><b>Speaker:</b> Donald Trump",
          "<b>Date:</b> 2025-03-03 14:25<br><b>Topic:</b> good-order-elon (Confidence: 0.700)<br><b>Content:</b><br>Watching our First Lady now, great job!<br><b>Speaker:</b> Donald Trump",
          "<b>Date:</b> 2025-03-03 07:39<br><b>Topic:</b> good-order-elon (Confidence: 0.850)<br><b>Content:</b><br>TOMORROW NIGHT WILL BE BIG. I WILL TELL IT LIKE IT IS!<br><b>Speaker:</b> Donald Trump",
          "<b>Date:</b> 2025-03-02 10:24<br><b>Topic:</b> good-order-elon (Confidence: 0.712)<br><b>Content:</b><br>A U.S. Crypto Reserve will elevate this critical industry<br>after years of corrupt attacks by the Biden Administration,<br>which is why my Executive Order on Digital Assets directed<br>the Presidential Workin...<br><b>Speaker:</b> Donald Trump",
          "<b>Date:</b> 2025-02-28 23:38<br><b>Topic:</b> good-order-elon (Confidence: 0.329)<br><b>Content:</b><br>Major League Baseball didn’t have the courage or decency to<br>put the late, great, Pete Rose, also known as “Charlie<br>Hustle,” into the Baseball Hall of fame. Now he is dead,<br>will never experience the th...<br><b>Speaker:</b> Donald Trump",
          "<b>Date:</b> 2025-02-26 14:32<br><b>Topic:</b> good-order-elon (Confidence: 0.918)<br><b>Content:</b><br>Elon Musk: “President Trump has put together the best<br>Cabinet ever...And I do not give false praise. This is an<br>incredible group of people. I don't think such a talented<br>team has ever been assembled…”<br><b>Speaker:</b> Donald Trump",
          "<b>Date:</b> 2025-02-26 09:17<br><b>Topic:</b> good-order-elon (Confidence: 0.850)<br><b>Content:</b><br>GREAT JOB BY THE SOUTHWEST PILOTS IN CHICAGO. A NEARLY<br>TRAGIC CLOSE CALL. PERHAPS SUSPEND THE PILOTS LICENSE OF THE<br>OTHER PLANE, WHO MUST HAVE BEEN “SLEEPING!”<br><b>Speaker:</b> Donald Trump",
          "<b>Date:</b> 2025-02-26 08:01<br><b>Topic:</b> good-order-elon (Confidence: 0.567)<br><b>Content:</b><br>APPLE SHOULD GET RID OF DEI RULES, NOT JUST MAKE ADJUSTMENTS<br>TO THEM. DEI WAS A HOAX THAT HAS BEEN VERY BAD FOR OUR<br>COUNTRY. DEI IS GONE!!!<br><b>Speaker:</b> Donald Trump",
          "<b>Date:</b> 2025-02-26 06:16<br><b>Topic:</b> good-order-elon (Confidence: 0.616)<br><b>Content:</b><br>thought it would be appropriate to take out my thank you<br>TRUTH to Elon Musk after our (ALL OF US!) big Election Win.<br>Nothing has changed. Run Elon, Run! DJT<br><b>Speaker:</b> Donald Trump",
          "<b>Date:</b> 2025-02-24 16:07<br><b>Topic:</b> good-order-elon (Confidence: 0.729)<br><b>Content:</b><br>I've been elected by the American people to restore common<br>sense to Washington and, indeed, to the world — Under our<br>administration, we're forging a new path that promotes<br>PEACE…<br><b>Speaker:</b> Donald Trump",
          "<b>Date:</b> 2025-02-24 02:58<br><b>Topic:</b> good-order-elon (Confidence: 0.642)<br><b>Content:</b><br>“Donald Trump has done more in his first month than any<br>other President in history. Who do you think was second?<br>George Washington! It is quite amazing what Donald Trump has<br>done.” Bill O’Reilly, No S...<br><b>Speaker:</b> Donald Trump",
          "<b>Date:</b> 2025-02-24 00:55<br><b>Topic:</b> good-order-elon (Confidence: 0.775)<br><b>Content:</b><br>RT@realDonaldTrumpMSNBC, COMMONLY KNOWN AS MSDNC, IS A<br>THREAT TO OUR DEMOCRACY. SUCH LYING AND MISREPRESENTATION.<br>BAD PEOPLE AT THE TOP!<br><b>Speaker:</b> Donald Trump",
          "<b>Date:</b> 2025-02-24 00:55<br><b>Topic:</b> good-order-elon (Confidence: 0.871)<br><b>Content:</b><br>RT@realDonaldTrumpELON IS DOING A GREAT JOB, BUT I WOULD<br>LIKE TO SEE HIM GET MORE AGGRESSIVE. REMEMBER, WE HAVE A<br>COUNTRY TO SAVE, BUT ULTIMATELY, TO MAKE GREATER THAN EVER<br>BEFORE. MAGA!<br><b>Speaker:</b> Donald Trump",
          "<b>Date:</b> 2025-02-24 00:53<br><b>Topic:</b> good-order-elon (Confidence: 0.632)<br><b>Content:</b><br>RT@realDonaldTrumpLowlife Chairman of “Concast,” Brian<br>Roberts, the owner of Ratings Challenged NBC and MSDNC, has<br>finally gotten the nerve up to fire one of the least<br>talented people in television, t...<br><b>Speaker:</b> Donald Trump",
          "<b>Date:</b> 2025-02-23 23:18<br><b>Topic:</b> good-order-elon (Confidence: 0.632)<br><b>Content:</b><br>Lowlife Chairman of “Concast,” Brian Roberts, the owner of<br>Ratings Challenged NBC and MSDNC, has finally gotten the<br>nerve up to fire one of the least talented people in<br>television, the mentally obnoxi...<br><b>Speaker:</b> Donald Trump",
          "<b>Date:</b> 2025-02-23 19:51<br><b>Topic:</b> good-order-elon (Confidence: 0.871)<br><b>Content:</b><br>Sharyl Attkisson is a terrific journalist. No games, she<br>tells it like it is. Her show this week, on the Gulf of<br>America, and Bitcoin, is fantastic. Keep pushing Sharyl!<br><b>Speaker:</b> Donald Trump",
          "<b>Date:</b> 2025-02-22 08:19<br><b>Topic:</b> good-order-elon (Confidence: 0.700)<br><b>Content:</b><br>SIXTH HOSTAGE HAS JUST BEEN RELEASED BY HAMAS!<br><b>Speaker:</b> Donald Trump",
          "<b>Date:</b> 2025-02-22 08:12<br><b>Topic:</b> good-order-elon (Confidence: 0.775)<br><b>Content:</b><br>MSNBC, COMMONLY KNOWN AS MSDNC, IS A THREAT TO OUR<br>DEMOCRACY. SUCH LYING AND MISREPRESENTATION. BAD PEOPLE AT<br>THE TOP!<br><b>Speaker:</b> Donald Trump",
          "<b>Date:</b> 2025-02-22 08:04<br><b>Topic:</b> good-order-elon (Confidence: 0.887)<br><b>Content:</b><br>ELON IS DOING A GREAT JOB, BUT I WOULD LIKE TO SEE HIM GET<br>MORE AGGRESSIVE. REMEMBER, WE HAVE A COUNTRY TO SAVE, BUT<br>ULTIMATELY, TO MAKE GREATER THAN EVER BEFORE. MAGA!<br><b>Speaker:</b> Donald Trump",
          "<b>Date:</b> 2025-02-19 18:12<br><b>Topic:</b> good-order-elon (Confidence: 0.595)<br><b>Content:</b><br>PROMISES MADE, PROMISES KEPT!Examples of the massive fraud,<br>waste and abuse that my administration is CUTTING from the<br>FEDERAL GOVERNMENT…<br><b>Speaker:</b> Donald Trump",
          "<b>Date:</b> 2025-02-18 19:41<br><b>Topic:</b> good-order-elon (Confidence: 0.517)<br><b>Content:</b><br>“TUNE IN: Exclusive Hannity Interview with President Trump<br>and Elon Musk Tonight at 9PM ET”<br><b>Speaker:</b> Donald Trump",
          "<b>Date:</b> 2025-02-15 12:45<br><b>Topic:</b> good-order-elon (Confidence: 0.775)<br><b>Content:</b><br>'Truly providential': Trump made promise to Marc Fogel's<br>mother moments before Butler assassination attempt<br><b>Speaker:</b> Donald Trump",
          "<b>Date:</b> 2025-02-15 07:21<br><b>Topic:</b> good-order-elon (Confidence: 0.422)<br><b>Content:</b><br>“American Hostage thanks President Trump.” Fox News<br><b>Speaker:</b> Donald Trump",
          "<b>Date:</b> 2025-02-15 07:17<br><b>Topic:</b> good-order-elon (Confidence: 0.743)<br><b>Content:</b><br>Hamas has just released three Hostages from GAZA, including<br>an American Citizen. They seem to be in good shape! This<br>differs from their statement last week that they would not<br>release any Hostages. Is...<br><b>Speaker:</b> Donald Trump",
          "<b>Date:</b> 2025-02-13 05:58<br><b>Topic:</b> good-order-elon (Confidence: 0.535)<br><b>Content:</b><br>DOGE: Looks like Radical Left Reuters was paid $9,000,000 by<br>the Department of Defense to study “large scale social<br>deception.” GIVE BACK THE MONEY, NOW!<br><b>Speaker:</b> Donald Trump",
          "<b>Date:</b> 2025-02-12 08:12<br><b>Topic:</b> good-order-elon (Confidence: 0.683)<br><b>Content:</b><br>DOGE has found massive amounts of FRAUD, WASTE,<br>INCOMPETENCE, AND ABUSE, but even knowing this, a highly<br>political, activist Judge wants us to immediately make<br>payment, anyway. In other words pay, eve...<br><b>Speaker:</b> Donald Trump",
          "<b>Date:</b> 2025-02-12 07:58<br><b>Topic:</b> good-order-elon (Confidence: 0.517)<br><b>Content:</b><br>Interest Rates should be lowered, something which would go<br>hand in hand with upcoming Tariffs!!! Lets Rock and Roll,<br>America!!!<br><b>Speaker:</b> Donald Trump",
          "<b>Date:</b> 2025-02-11 10:12<br><b>Topic:</b> good-order-elon (Confidence: 0.601)<br><b>Content:</b><br>DOGE: BILLIONS OF DOLLARS OF WASTE, FRAUD, AND ABUSE BEING<br>FOUND. CAMPAIGN PROMISE. IMPORTANT FOR AMERICA!!!<br><b>Speaker:</b> Donald Trump",
          "<b>Date:</b> 2025-02-07 18:21<br><b>Topic:</b> good-order-elon (Confidence: 0.602)<br><b>Content:</b><br>There is no need for Joe Biden to continue receiving access<br>to classified information. Therefore, we are immediately<br>revoking Joe Biden’s Security Clearances, and stopping his<br>daily Intelligence Brief...<br><b>Speaker:</b> Donald Trump",
          "<b>Date:</b> 2025-02-07 10:12<br><b>Topic:</b> good-order-elon (Confidence: 0.765)<br><b>Content:</b><br>I will be signing an Executive Order next week ending the<br>ridiculous Biden push for Paper Straws, which don’t work.<br>BACK TO PLASTIC!<br><b>Speaker:</b> Donald Trump",
          "<b>Date:</b> 2025-02-07 09:40<br><b>Topic:</b> good-order-elon (Confidence: 0.576)<br><b>Content:</b><br>Eugene Robinson of the Washington Post is INCOMPETENT! So<br>sad to see him trying to justify the waste, fraud, and<br>corruption at USAID with his pathetic Radical Left SPIN. He<br>should be fired immediately...<br><b>Speaker:</b> Donald Trump",
          "<b>Date:</b> 2025-02-06 17:31<br><b>Topic:</b> good-order-elon (Confidence: 0.974)<br><b>Content:</b><br>Exciting news! Due to my Executive Order, which I proudly<br>signed yesterday, the NCAA has officially changed their<br>policy of allowing men in Women’s Sports – IT IS NOW BANNED!<br>This is a great day for w...<br><b>Speaker:</b> Donald Trump",
          "<b>Date:</b> 2025-02-05 21:35<br><b>Topic:</b> good-order-elon (Confidence: 0.555)<br><b>Content:</b><br>NOW ON, WOMEN’S SPORTS WILL BE ONLY FOR WOMEN! By the<br>authority vested in me as President by the Constitution and<br>the laws of the United States of America, and to protect<br>opportunities for women and g...<br><b>Speaker:</b> Donald Trump",
          "<b>Date:</b> 2025-02-05 16:34<br><b>Topic:</b> good-order-elon (Confidence: 0.810)<br><b>Content:</b><br>WITH THIS EXECUTIVE ORDER, THE WAR ON WOMENS SPORTS IS<br>OVER!PROMISES MADE, PROMISES KEPT!!!<br><b>Speaker:</b> Donald Trump",
          "<b>Date:</b> 2025-02-05 16:23<br><b>Topic:</b> good-order-elon (Confidence: 0.543)<br><b>Content:</b><br>We are putting every school receiving taxpayer dollars on<br>notice: If you let men take over women's sports teams or<br>invade your locker rooms, you will be investigated for<br>violations of Title IX and ris...<br><b>Speaker:</b> Donald Trump",
          "<b>Date:</b> 2025-02-05 16:22<br><b>Topic:</b> good-order-elon (Confidence: 0.762)<br><b>Content:</b><br>Under the Trump Administration, we will defend the proud<br>tradition of female athletes. From now on, women's sports<br>will be ONLY FOR WOMEN!<br><b>Speaker:</b> Donald Trump",
          "<b>Date:</b> 2025-02-03 20:45<br><b>Topic:</b> good-order-elon (Confidence: 0.525)<br><b>Content:</b><br>GREAT INTEREST IN TIKTOK! Would be wonderful for China, and<br>all concerned.<br><b>Speaker:</b> Donald Trump",
          "<b>Date:</b> 2025-02-02 21:34<br><b>Topic:</b> good-order-elon (Confidence: 0.609)<br><b>Content:</b><br>RT@RepMTGTomorrow, as promised,<br>President@realDonaldTrumpwill sign a significant number of<br>J6 pardons.Soon the nightmare of the politically weaponized<br>government will end and the healing can begin.<br><b>Speaker:</b> Donald Trump",
          "<b>Date:</b> 2025-02-02 19:04<br><b>Topic:</b> good-order-elon (Confidence: 0.760)<br><b>Content:</b><br>RT@realDonaldTrumpDemocrats are purposefully delaying<br>virtually all of my Nominees. No matter how good and well<br>qualified someone is, they are taking maximum time for<br>approval — and laughing about it....<br><b>Speaker:</b> Donald Trump",
          "<b>Date:</b> 2025-02-02 18:48<br><b>Topic:</b> good-order-elon (Confidence: 0.775)<br><b>Content:</b><br>RT@NewtGingrichAfter reading inaugural addresses by<br>Jefferson, Jackson, and FDR it is clear that the inaugural<br>addresses@callygingrichand i heard in the Rotunda yesterday<br>was the boldest and most deci...<br><b>Speaker:</b> Donald Trump",
          "<b>Date:</b> 2025-02-02 17:56<br><b>Topic:</b> good-order-elon (Confidence: 0.740)<br><b>Content:</b><br>Democrats are purposefully delaying virtually all of my<br>Nominees. No matter how good and well qualified someone is,<br>they are taking maximum time for approval — and laughing<br>about it. They’re having a ...<br><b>Speaker:</b> Donald Trump",
          "<b>Date:</b> 2025-02-01 12:18<br><b>Topic:</b> good-order-elon (Confidence: 0.961)<br><b>Content:</b><br>This morning I ordered precision Military air strikes on the<br>Senior ISIS Attack Planner and other terrorists he recruited<br>and led in Somalia. These killers, who we found hiding in<br>caves, threatened th...<br><b>Speaker:</b> Donald Trump",
          "<b>Date:</b> 2025-02-01 07:57<br><b>Topic:</b> good-order-elon (Confidence: 0.489)<br><b>Content:</b><br>Hostages from Venezuela arrived home last night, in great<br>condition!<br><b>Speaker:</b> Donald Trump",
          "<b>Date:</b> 2025-01-30 00:19<br><b>Topic:</b> good-order-elon (Confidence: 0.950)<br><b>Content:</b><br>The airplane was on a perfect and routine line of approach<br>to the airport. The helicopter was going straight at the<br>airplane for an extended period of time. It is a CLEAR<br>NIGHT, the lights on the plan...<br><b>Speaker:</b> Donald Trump",
          "<b>Date:</b> 2025-01-29 19:27<br><b>Topic:</b> good-order-elon (Confidence: 0.387)<br><b>Content:</b><br>The Golden Age has arrived. We are well on the way to Making<br>America Great Again! My newest book is HOT, and I hope<br>you’ll find time to read it. Have you gotten your copy of<br>SAVE AMERICA yet?<br><b>Speaker:</b> Donald Trump",
          "<b>Date:</b> 2025-01-28 21:04<br><b>Topic:</b> good-order-elon (Confidence: 0.955)<br><b>Content:</b><br>I have just asked Elon Musk and@SpaceXto “go get” the 2<br>brave astronauts who have been virtually abandoned in space<br>by the Biden Administration. They have been waiting for many<br>months on@SpaceStation....<br><b>Speaker:</b> Donald Trump",
          "<b>Date:</b> 2025-01-28 18:53<br><b>Topic:</b> good-order-elon (Confidence: 0.627)<br><b>Content:</b><br>Panama is, with great speed, attempting to take down the 64%<br>of signs which are written in Chinese. They are all over the<br>Zone, because China controls the Panama Canal. PANAMA IS NOT<br>GOING TO GET AWAY...<br><b>Speaker:</b> Donald Trump",
          "<b>Date:</b> 2025-01-28 18:51<br><b>Topic:</b> good-order-elon (Confidence: 0.454)<br><b>Content:</b><br>Today, it was my great honor to sign an Executive Order<br>banning the chemical castration and medical mutilation of<br>innocent children in the United States of America. Our<br>Nation will no longer fund, spo...<br><b>Speaker:</b> Donald Trump",
          "<b>Date:</b> 2025-01-26 13:28<br><b>Topic:</b> good-order-elon (Confidence: 0.373)<br><b>Content:</b><br>I was just informed that two repatriation flights from the<br>United States, with a large number of Illegal Criminals,<br>were not allowed to land in Colombia. This order was given<br>by Colombia’s Socialist P...<br><b>Speaker:</b> Donald Trump",
          "<b>Date:</b> 2025-01-25 20:20<br><b>Topic:</b> good-order-elon (Confidence: 0.571)<br><b>Content:</b><br>Be sure to watch Mark Levin's Show on Fox tonight, and, in<br>particular, Sunday night. He is doing a fantastic job for<br>America!<br><b>Speaker:</b> Donald Trump",
          "<b>Date:</b> 2025-01-25 18:00<br><b>Topic:</b> good-order-elon (Confidence: 0.775)<br><b>Content:</b><br>PROMISES MADE, PROMISES KEPT!<br><b>Speaker:</b> Donald Trump",
          "<b>Date:</b> 2025-01-25 15:12<br><b>Topic:</b> good-order-elon (Confidence: 0.700)<br><b>Content:</b><br>RT@Otisblue1357 going to be great! No nonsense woman<br><b>Speaker:</b> Donald Trump",
          "<b>Date:</b> 2025-01-24 08:15<br><b>Topic:</b> good-order-elon (Confidence: 0.850)<br><b>Content:</b><br>Great job on television by Brian Lanza. Thank you Brian!<br><b>Speaker:</b> Donald Trump",
          "<b>Date:</b> 2025-01-22 00:39<br><b>Topic:</b> good-order-elon (Confidence: 0.406)<br><b>Content:</b><br>The so-called Bishop who spoke at the National Prayer<br>Service on Tuesday morning was a Radical Left hard line<br>Trump hater. She brought her church into the World of<br>politics in a very ungracious way. S...<br><b>Speaker:</b> Donald Trump",
          "<b>Date:</b> 2025-01-21 02:54<br><b>Topic:</b> good-order-elon (Confidence: 0.696)<br><b>Content:</b><br>RT@TeamTrump🚨 President Trump signs an Executive Order to<br>keep TikTok alive so that a deal can be reached<br><b>Speaker:</b> Donald Trump",
          "<b>Date:</b> 2025-01-21 02:54<br><b>Topic:</b> good-order-elon (Confidence: 0.900)<br><b>Content:</b><br>RT@TeamTrump🚨 President Trump signs an Executive Order to<br>hold former government officials accountable for unlawful<br>disclosure of sensitive information<br><b>Speaker:</b> Donald Trump",
          "<b>Date:</b> 2025-01-21 02:54<br><b>Topic:</b> good-order-elon (Confidence: 0.620)<br><b>Content:</b><br>RT@TeamTrump🚨 President Trump signs a declaration of a<br>National Energy Emergency<br><b>Speaker:</b> Donald Trump",
          "<b>Date:</b> 2025-01-21 02:54<br><b>Topic:</b> good-order-elon (Confidence: 0.581)<br><b>Content:</b><br>RT@TeamTrump🚨 President Trump signs an Executive Order to<br>bring reforms to the federal workforce<br><b>Speaker:</b> Donald Trump",
          "<b>Date:</b> 2025-01-21 02:54<br><b>Topic:</b> good-order-elon (Confidence: 0.871)<br><b>Content:</b><br>RT@TeamTrump🚨 President Trump signs an order creating the<br>Department of Government Efficiency, also known as DOGE<br><b>Speaker:</b> Donald Trump",
          "<b>Date:</b> 2025-01-21 02:54<br><b>Topic:</b> good-order-elon (Confidence: 0.456)<br><b>Content:</b><br>RT@TeamTrump🚨 President Trump signs an Executive Order to<br>secure the southern border<br><b>Speaker:</b> Donald Trump",
          "<b>Date:</b> 2025-01-21 00:28<br><b>Topic:</b> good-order-elon (Confidence: 0.699)<br><b>Content:</b><br>Our first day in the White House is not over yet! My<br>Presidential Personnel Office is actively in the process of<br>identifying and removing over a thousand Presidential<br>Appointees from the previous Admi...<br><b>Speaker:</b> Donald Trump",
          "<b>Date:</b> 2025-01-19 23:52<br><b>Topic:</b> good-order-elon (Confidence: 0.850)<br><b>Content:</b><br>RT@TeamTrumpToday, President Donald J. Trump visited<br>Arlington National Cemetery to pay his respects to<br>generations of American heroes.<br><b>Speaker:</b> Donald Trump",
          "<b>Date:</b> 2025-01-19 23:52<br><b>Topic:</b> good-order-elon (Confidence: 0.700)<br><b>Content:</b><br>RT@TeamTrumpPresident Trump delivers remarks during a<br>candlelight dinner at the National Building Museum in<br>Washington, D.C.<br><b>Speaker:</b> Donald Trump",
          "<b>Date:</b> 2025-01-19 10:00<br><b>Topic:</b> good-order-elon (Confidence: 0.880)<br><b>Content:</b><br>I’m asking companies not to let TikTok stay dark! I will<br>issue an executive order on Monday to extend the period of<br>time before the law’s prohibitions take effect, so that we<br>can make a deal to protec...<br><b>Speaker:</b> Donald Trump",
          "<b>Date:</b> 2025-01-19 08:41<br><b>Topic:</b> good-order-elon (Confidence: 0.550)<br><b>Content:</b><br>RT@1776WeThePeople1776TRUTH!!PROMISES MADE!PROMISES<br>KEPT!@realDonaldTrump<br><b>Speaker:</b> Donald Trump",
          "<b>Date:</b> 2025-01-19 07:19<br><b>Topic:</b> good-order-elon (Confidence: 0.871)<br><b>Content:</b><br>Hostages starting to come out today! Three wonderful young<br>women will be first.<br><b>Speaker:</b> Donald Trump",
          "<b>Date:</b> 2025-01-19 07:03<br><b>Topic:</b> good-order-elon (Confidence: 0.700)<br><b>Content:</b><br>SAVE TIKTOK!<br><b>Speaker:</b> Donald Trump",
          "<b>Date:</b> 2025-01-17 23:23<br><b>Topic:</b> good-order-elon (Confidence: 0.466)<br><b>Content:</b><br>Coming up, THE MOST IMPORTANT WEEKEND, PLUS, IN AMERICAN<br>HISTORY. ENJOY! DJT<br><b>Speaker:</b> Donald Trump",
          "<b>Date:</b> 2025-01-17 11:14<br><b>Topic:</b> good-order-elon (Confidence: 0.505)<br><b>Content:</b><br>The Supreme Court decision was expected, and everyone must<br>respect it. My decision on TikTok will be made in the not<br>too distant future, but I must have time to review the<br>situation. Stay tuned!<br><b>Speaker:</b> Donald Trump",
          "<b>Date:</b> 2025-01-16 19:45<br><b>Topic:</b> good-order-elon (Confidence: 0.460)<br><b>Content:</b><br>We demand that the FBI preserve and retain all records,<br>documents, and information on the now closing DEI<br>Office—Never should have been opened and, if it was, should<br>have closed long ago. Why is it th...<br><b>Speaker:</b> Donald Trump",
          "<b>Date:</b> 2025-01-15 20:04<br><b>Topic:</b> good-order-elon (Confidence: 0.508)<br><b>Content:</b><br>As of today, the incoming Trump Administration has hired<br>over 1,000 people for The United States Government. They are<br>outstanding in every way, and you will see the fruits of<br>their labor over the comi...<br><b>Speaker:</b> Donald Trump",
          "<b>Date:</b> 2025-01-14 07:17<br><b>Topic:</b> good-order-elon (Confidence: 0.363)<br><b>Content:</b><br>Pete Hegseth will make a GREAT Secretary of Defense. He has<br>my Complete and Total support. Good luck today, Pete!<br><b>Speaker:</b> Donald Trump",
          "<b>Date:</b> 2025-01-12 13:14<br><b>Topic:</b> good-order-elon (Confidence: 0.550)<br><b>Content:</b><br>SAVE RUDY!!!<br><b>Speaker:</b> Donald Trump",
          "<b>Date:</b> 2025-01-12 00:58<br><b>Topic:</b> good-order-elon (Confidence: 0.700)<br><b>Content:</b><br>RT@breitbartnewsJaw-dropping incompetence and failed<br>leadership.<br><b>Speaker:</b> Donald Trump",
          "<b>Date:</b> 2025-01-07 13:57<br><b>Topic:</b> good-order-elon (Confidence: 0.793)<br><b>Content:</b><br>RT@RealRogerStoneOur First Lady-to-be-<br>again@MelaniaTrumpHonored as STYLE ICON on Roger Stone’s<br>2024 Best Dressed List!🏆America has not had a more stylish,<br>chic, cultured, and well-dressed First Lady s...<br><b>Speaker:</b> Donald Trump",
          "<b>Date:</b> 2025-01-07 09:40<br><b>Topic:</b> good-order-elon (Confidence: 0.503)<br><b>Content:</b><br>Don Jr. and my Reps landing in Greenland. The reception has<br>been great. They, and the Free World, need safety, security,<br>strength, and PEACE! This is a deal that must happen. MAGA.<br>MAKE GREENLAND GREA...<br><b>Speaker:</b> Donald Trump",
          "<b>Date:</b> 2025-01-06 12:30<br><b>Topic:</b> good-order-elon (Confidence: 0.561)<br><b>Content:</b><br>Biden is doing everything possible to make the TRANSITION as<br>difficult as as possible, from Lawfare such as has never<br>been seen before, to costly and ridiculous Executive Orders<br>on the Green New Scam ...<br><b>Speaker:</b> Donald Trump",
          "<b>Date:</b> 2025-01-06 07:24<br><b>Topic:</b> good-order-elon (Confidence: 0.583)<br><b>Content:</b><br>“Had this election not been won by Donald Trump,<br>civilization would be lost.” Elon Musk<br><b>Speaker:</b> Donald Trump",
          "<b>Date:</b> 2025-01-03 18:27<br><b>Topic:</b> good-order-elon (Confidence: 0.577)<br><b>Content:</b><br>Inauguration Day is coming, and only one book captures our<br>first magical four years. Order your copy of OUR JOURNEY<br>TOGETHER, today. Get ready for the next four years — The<br>best is yet to come. MAGA!<br><b>Speaker:</b> Donald Trump",
          "<b>Date:</b> 2025-01-03 00:15<br><b>Topic:</b> good-order-elon (Confidence: 0.775)<br><b>Content:</b><br>Why would I want to get rid of TikTok?<br><b>Speaker:</b> Donald Trump"
         ],
         "type": "scatter3d",
         "x": {
          "bdata": "GWn9vw4KOcAOboXAeKJZPx+P67/QjyjAPjUFwPRkmsC7idK/8hcSwBOChcCpbZY/5+mEP1Zgr7+SPg/A7s8pwLR+gcC+U4DAtzBMwLeMEcDoY/y/uftXwOnCJ8DnLFLAPmeEwP+1F8CTsRLAt/M5wJXU17+qWlXAg4XMv780yr85KaLA64EwwM75KsB+8ErANepLwDXqgcBCO5TAh+OjwLzcoMAV/4bAkEsqwEuJ0L/AKjHAugsRwDf6Tj+o7oHAhD8qwC/ZgMBvCivADzOmwPGu7L+BMoQ/uQSPwOzQ779UGe6/ohbbv/s+3L+BAuy/qQ+CwHGUSsAt5RfAsFcXwPrgmMCs0DfAtk8pwBQBL8DHnILAsIqCwLpLcT+jW4/AIWeFwOPqmMA4qem/TfEqwA2KE8B3LuC/wQCHwBZRTcD/cfi/3vtPP7CMkcB4O+q/CgZ/wMm+ecC3fCPARmjGv3Mx1b/8qgzAvLkpwMzJ77+ceDbA+f2BwD0/McCytEzALKgSwNV9zb/BbVY/Tvasv9cKgsA5gCLAAMrrv8okRT9LsoLAy3s7wLY85r8jl6y/apUZwPHthsDcIlA/fQHBv7yogsADpYfA0h3iv5547b9ZPnXAY/0qwJszTMDitILAZWrtv2AB87/GboLAq1UawCu9S8BHLYLALZcRwNgw779UhUzALiWsv5wRaMBCYdS/HGz6v/hcTz9/TA/AzNXZv3DpcsC2nOC/LDWCwIKxk8Aw03jAdHUSwPSHJsC1yk8/QGxZwEjc/b+igUvAEcD4v5KEgsBbh9W/3ZmCwGGCnT9pBIPAlZtNPy/+mMBZVA3Ap/nzv2SHSsAATRjARHiGwGUq578LYGfAZNOBwMScKsCo0I3AIpyCwIlfNMCPUynAWMaHwCRKE8DvRhvAVO4ZwKyhgsCG+hjAUoiuv1kAzb9dPu2/kohBwP7TqMCkRBrAVIkZwA5bJ8BZbDDAILEqwIEn8b85aSnAVqxNwA==",
          "dtype": "f4"
         },
         "y": {
          "bdata": "eFjuQLL7akBqmvVAIQSFwF9Hpb62yaRAODzAQNc5gECtFPlAiqEwQHyQ9UCxz4vAzcGIwG+C5b39PNdAkyOmQDMMm0A6WZJApiT2QCM8w0Bbce5AeZeCQAxOo0DFj4BAUYz2QMGCxkBOy9ZAWKRtQA/S90BimoFAqQH6QGF8+kCd83NAeGdoQPrIx0D0kPVANQX2QAXDmkCKaoRAtm1xQMRtdkAdQvRAJbGXQJIFt0Bu/WhACn7WQBIFhMA9wZdANumYQEZbkEAjvZdABuBtQBMfkb5Yr4jAUOiHQCc4n75Z0qK+JQz1QPsynL7YTbxAO2+aQI1f9UBpJslAXvbGQPjEgEBgsmpAyhuiQPFaZ0Dl86lAPb6MQGvkhsDEUIhAXNb1QJqGgUBw8p6+jtqXQFxUpkCSe/ZAUED0QKO89kChA+xAuSiEwOUkhkDFf+5AKAqQQBmQjUCv/stA31H7QEXZt0AF8cFA7hOgQMcInr54wWxAiIWMQBQNaUBBY/ZAI0bXQMNT9kBgKoTAPDvuvVJwlUBHjMhAMpbzQF3RgsCVDKlAbL1vQCz/9EAGfsC9upnHQGpT9ECvL4TAVAD4QDtklEDWp/NAsMT1QMqI80B+BY5AR9/GQCg89kDML6pAqzOhvieIlr6V+alA0vXHQLbp9UDAHZpA38/WQEdyn758TPZAHwvWvX0gh0BSovhA/qDwQMyZg8B0FtdAYcW4QIfXikDw7PVAMD2MQOVthUDUUo1A877VQKFByEBZFoTAx+GCQLdE70CryvVADXzvQMRSjEA/4rdAkaKMQHuUjMDx84tA0uqDwA1zgUAHJ9ZAJZCsvhN39UAHM8dA+xPzQDzQ9EAKFYdA2aOXQMpAyEDTeYZAsG+pQKMex0ALHqRAZW/zQBRgyUB6rNtApv/IQM5iqUD+m8dAeHvYvZBjtkA2WJe+NI50QMM7akBRNslAAgLIQMGTyEChOmhAvmiYQNxV8kBRj5pAbuz2QA==",
          "dtype": "f4"
         },
         "z": {
          "bdata": "DovRPq7bG8Bs17y/XEHPP1EanEAukOk/IruAP9VB2L84uRI/ccWCP58nvb/sU7E/ODW+P1akhEBidKY+6K3kPzBVBcAt/O+/4uvzvuvKVT81vdc+xEsPwP9o8z83TBLAqaK4vxqWSD8va6s+Ms4cwBjxFT/X4hDANdwhPwTZID+I2NC/VhclwKiCDD8+Xum+dxXyvniUBMBGcuC/ojPNv6kE0b+eBcS/dEUJQCk4vz8bzyTAHDK2Pm4M0z8qGALA6/MGQH3D678P1glA1hnLv/Txm0DQwb4/mY/nv0QJnUCMrJxALV8JPwV5lkDc1p4/zh8EwAgC574O7Dc/KElHP9pV2b8lkRvAdCXzP+cIJsA4ewrArXLxv371xj/7I+W/0qu8v+bV2r/ED5tAobwJQGVcH0CRHfs+QwrEvxo2/b7zid8+XK/SP0j7478Bjvo+Nu3uv10b/b8PbhE/V54mP0FjuT/m4mg/4WD6P4/onEDcVCHABsPwv28vJcBm5Pe+JgKTPi1BHT+RW9I/AGGEQOA/AMDlISE/CrHaPoek0j/I+AvAlKgdwGNL+z7F94NAqSw/P9W2w79EmdI/1MAvP+CO/78snsa/Gc/7PiBy1j4UJvm/LYsIP5/j874MNAvAbU+cQG44nUBsWwzAmNs9P1NL7L6NBQTAXrymPu7cnEAO5/W+bSGEQN2FB8AeoBE/747EPim60j/VDKo+dT60P+7MAcAFEAA//JDvvzMN4b+X//u/EC6vPiNcGj8TytI/UKoOwB/mxT4kDe++uJnZPrit7b+0jbk/JdDwv1Xoqj8c/e6/PpjTPzY62r/Bs7s+4BGeQGw85r74PUQ//LDCv6aC9T6pnAfARFYCwBqlCj9qGOq/SlgLwGT84z4zkuw/VRLHv18qVj8hT08+QZ81Pz9GC8CfVEA/CoKEQNxKxD8BGpxAVZ4YwEphvr86qjM/UjU8P056Ez9oeyXAK5QHQP+4zz6zPwRABYD/vg==",
          "dtype": "f4"
         }
        },
        {
         "hoverinfo": "text",
         "hovertemplate": "%{text}<extra></extra>",
         "marker": {
          "color": "rgb(179,222,105)",
          "line": {
           "color": "darkgray",
           "width": 0.5
          },
          "opacity": 0.8,
          "size": 5
         },
         "mode": "markers",
         "name": "Topic 7: announce-pleased-pleased announce",
         "text": [
          "<b>Date:</b> 2025-07-20 14:00<br><b>Topic:</b> announce-pleased-pleased announce (Confidence: 0.447)<br><b>Content:</b><br>Congratulations to William J. Pulte, Chairman of Fannie Mae<br>and Freddie Mac, and Director of the Federal Housing Finance<br>Agency, on the outstanding job he is doing. KEEP MOVING<br>FORWARD, WILLIAM, DON’T...<br><b>Speaker:</b> Donald Trump",
          "<b>Date:</b> 2025-07-17 15:50<br><b>Topic:</b> announce-pleased-pleased announce (Confidence: 0.443)<br><b>Content:</b><br>am pleased to announce that Salena just reached NUMBER ONE!<br><b>Speaker:</b> Donald Trump",
          "<b>Date:</b> 2025-07-17 15:50<br><b>Topic:</b> announce-pleased-pleased announce (Confidence: 0.443)<br><b>Content:</b><br>am pleased to announce that Salena just reached NUMBER ONE!<br><b>Speaker:</b> Donald Trump",
          "<b>Date:</b> 2025-07-16 18:49<br><b>Topic:</b> announce-pleased-pleased announce (Confidence: 0.551)<br><b>Content:</b><br>I am pleased to nominate Jennifer Mascott to serve as a<br>Judge on the United States Court of Appeals for the Third<br>Circuit. Jennifer clerked for Justice Clarence Thomas and<br>Justice Brett Kavanaugh, whe...<br><b>Speaker:</b> Donald Trump",
          "<b>Date:</b> 2025-07-16 10:28<br><b>Topic:</b> announce-pleased-pleased announce (Confidence: 0.700)<br><b>Content:</b><br>“President Trump Solidifies U.S. Position as Leader in AI”<br><b>Speaker:</b> Donald Trump",
          "<b>Date:</b> 2025-07-15 16:48<br><b>Topic:</b> announce-pleased-pleased announce (Confidence: 0.443)<br><b>Content:</b><br>am pleased to announce that Salena just reached NUMBER ONE!<br><b>Speaker:</b> Donald Trump",
          "<b>Date:</b> 2025-07-13 19:51<br><b>Topic:</b> announce-pleased-pleased announce (Confidence: 0.360)<br><b>Content:</b><br>In between meetings and phone calls, it was a Great Honor to<br>win the Member-Member Championship, at Trump National,<br>Bedminster (Gross, no strokes), with Tommy Urciuoli as my<br>partner. The many other co...<br><b>Speaker:</b> Donald Trump",
          "<b>Date:</b> 2025-07-10 19:03<br><b>Topic:</b> announce-pleased-pleased announce (Confidence: 0.557)<br><b>Content:</b><br>It is my Great Honor to nominate William W. Mercer to serve<br>as Judge on the United States District Court for the<br>District of Montana! Bill has TREMENDOUS experience,<br>previously serving at the Departme...<br><b>Speaker:</b> Donald Trump",
          "<b>Date:</b> 2025-07-10 17:35<br><b>Topic:</b> announce-pleased-pleased announce (Confidence: 0.764)<br><b>Content:</b><br>I am pleased to announce that Nick Adams will be nominated<br>as the next United States Ambassador to Malaysia. Nick is an<br>incredible Patriot and very successful entrepreneur, whose<br>love of, and devotion...<br><b>Speaker:</b> Donald Trump",
          "<b>Date:</b> 2025-07-10 10:54<br><b>Topic:</b> announce-pleased-pleased announce (Confidence: 0.663)<br><b>Content:</b><br>Gregg Jarrett: “In a blockbuster report, the CIA has<br>belatedly exposed the rank corruption among top intelligence<br>officials who connived to frame President Donald Trump and<br>drive him from office durin...<br><b>Speaker:</b> Donald Trump",
          "<b>Date:</b> 2025-07-09 20:29<br><b>Topic:</b> announce-pleased-pleased announce (Confidence: 0.587)<br><b>Content:</b><br>I am pleased to announce that I am directing our GREAT<br>Secretary of Transportation, Sean Duffy, to be Interim<br>Administrator of NASA. Sean is doing a TREMENDOUS job in<br>handling our Country’s Transporta...<br><b>Speaker:</b> Donald Trump",
          "<b>Date:</b> 2025-07-09 11:36<br><b>Topic:</b> announce-pleased-pleased announce (Confidence: 0.289)<br><b>Content:</b><br>Nevada: On Saturday, July 12th, GET OUT AND VOTE for Michael<br>J. McDonald for Chair of the Republican Party, and the<br>entire Executive Board: Jim Hindle, Barbara Hawn, Kathy<br>Njus, Bruce Parks, and Jesse...<br><b>Speaker:</b> Donald Trump",
          "<b>Date:</b> 2025-07-07 16:26<br><b>Topic:</b> announce-pleased-pleased announce (Confidence: 0.719)<br><b>Content:</b><br>The FBI, under the direction of Director Kash Patel and<br>Deputy Director Dan Bongino, is back to the basics: Locking<br>up criminals, and cleaning up America’s streets. We have the<br>Greatest Law Enforcemen...<br><b>Speaker:</b> Donald Trump",
          "<b>Date:</b> 2025-07-02 17:51<br><b>Topic:</b> announce-pleased-pleased announce (Confidence: 0.429)<br><b>Content:</b><br>I am very pleased to announce the nomination of Eric Tung to<br>serve as Judge on the United States Court of Appeals for the<br>Ninth Circuit. Eric worked for two of our Country’s Greatest<br>Supreme Court Jus...<br><b>Speaker:</b> Donald Trump",
          "<b>Date:</b> 2025-07-02 08:40<br><b>Topic:</b> announce-pleased-pleased announce (Confidence: 0.350)<br><b>Content:</b><br>“FBI blocked probe into alleged 2020 election plot by China<br>because it would ‘contradict Director Wray’s testimony’ to<br>Congress, docs show”<br><b>Speaker:</b> Donald Trump",
          "<b>Date:</b> 2025-07-02 08:37<br><b>Topic:</b> announce-pleased-pleased announce (Confidence: 0.576)<br><b>Content:</b><br>“Air Force and Space Force Hit 2025 Recruiting Goals 3<br>Months Early”<br><b>Speaker:</b> Donald Trump",
          "<b>Date:</b> 2025-07-01 15:06<br><b>Topic:</b> announce-pleased-pleased announce (Confidence: 0.520)<br><b>Content:</b><br>Thank you to the Highly Talented Artist, Vanessa Horabuena,<br>and the incredible people of Colorado — Now on display in<br>the Colorado State Capitol!<br><b>Speaker:</b> Donald Trump",
          "<b>Date:</b> 2025-06-29 10:20<br><b>Topic:</b> announce-pleased-pleased announce (Confidence: 0.432)<br><b>Content:</b><br>Thom Tillis has hurt the great people of North Carolina.<br>Even on the catastrophic flooding, nothing was done to help<br>until I took office. Then a MIRACLE took place! Tillis is a<br>talker and complainer, ...<br><b>Speaker:</b> Donald Trump",
          "<b>Date:</b> 2025-06-28 09:08<br><b>Topic:</b> announce-pleased-pleased announce (Confidence: 0.820)<br><b>Content:</b><br>WHAT GREAT PEOPLE I MET AT NATO, INCLUDING SOME OF THE<br>WORLD’S MOST INCREDIBLE LEADERS!<br><b>Speaker:</b> Donald Trump",
          "<b>Date:</b> 2025-06-23 09:41<br><b>Topic:</b> announce-pleased-pleased announce (Confidence: 0.550)<br><b>Content:</b><br>THIS “BUM” OUT OF OFFICE, ASAP!!!<br><b>Speaker:</b> Donald Trump",
          "<b>Date:</b> 2025-06-23 09:37<br><b>Topic:</b> announce-pleased-pleased announce (Confidence: 0.775)<br><b>Content:</b><br>To The Department of Energy: DRILL, BABY, DRILL!!! And I<br>mean NOW!!!<br><b>Speaker:</b> Donald Trump",
          "<b>Date:</b> 2025-06-20 16:38<br><b>Topic:</b> announce-pleased-pleased announce (Confidence: 0.700)<br><b>Content:</b><br>We had a big victory last night against Gavin Newscum in the<br>Court of Appeals, with respect to Los Angeles—We saved Los<br>Angeles by having the military go in…<br><b>Speaker:</b> Donald Trump",
          "<b>Date:</b> 2025-06-19 23:49<br><b>Topic:</b> announce-pleased-pleased announce (Confidence: 0.462)<br><b>Content:</b><br>BIG WIN in the Ninth Circuit Court of Appeals on the<br>President’s core power to call in the National Guard! The<br>Judges obviously realized that Gavin Newscum is incompetent<br>and ill prepared, but this is...<br><b>Speaker:</b> Donald Trump",
          "<b>Date:</b> 2025-06-19 18:38<br><b>Topic:</b> announce-pleased-pleased announce (Confidence: 0.483)<br><b>Content:</b><br>Just approved storm damage money for the Great State of<br>Tennessee. Alabama, Arkansas, and North Carolina among the<br>other states that were previously approved. My honor to do<br>so! DJT<br><b>Speaker:</b> Donald Trump",
          "<b>Date:</b> 2025-06-18 21:38<br><b>Topic:</b> announce-pleased-pleased announce (Confidence: 0.585)<br><b>Content:</b><br>It is my Great Honor to nominate Chad Meredith to serve as a<br>Judge on the United States District Court for the Eastern<br>District of Kentucky! Chad is highly experienced and well<br>qualified, previously s...<br><b>Speaker:</b> Donald Trump",
          "<b>Date:</b> 2025-06-16 23:50<br><b>Topic:</b> announce-pleased-pleased announce (Confidence: 0.684)<br><b>Content:</b><br>If I didn’t put the National Guard into Los Angeles, the<br>place would be burned down to the ground right now. I did<br>incompetent Governor Gavin Newscum, who doesn’t have a clue,<br>the favor of a lifetime....<br><b>Speaker:</b> Donald Trump",
          "<b>Date:</b> 2025-06-16 19:00<br><b>Topic:</b> announce-pleased-pleased announce (Confidence: 0.503)<br><b>Content:</b><br>RT@WhiteHouse\"The 250th birthday of the U.S. Army was a<br>powerful reminder of America’s enduring strength and<br>sacrifice. Grateful for all who serve and protect our great<br>nation. 🇺🇸\" –First Lady Melania...<br><b>Speaker:</b> Donald Trump",
          "<b>Date:</b> 2025-06-13 06:12<br><b>Topic:</b> announce-pleased-pleased announce (Confidence: 0.964)<br><b>Content:</b><br>The Appeals Court ruled last night that I can use the<br>National Guard to keep our cities, in this case Los Angeles,<br>safe. If I didn’t send the Military into Los Angeles, that<br>city would be burning to t...<br><b>Speaker:</b> Donald Trump",
          "<b>Date:</b> 2025-06-12 19:04<br><b>Topic:</b> announce-pleased-pleased announce (Confidence: 0.953)<br><b>Content:</b><br>Incompetent Gavin Newscum should have been THANKING me for<br>the job we did in Los Angeles, rather than making sad<br>excuses for the poor job he has done. If it weren’t for me<br>getting the National Guard i...<br><b>Speaker:</b> Donald Trump",
          "<b>Date:</b> 2025-06-12 07:10<br><b>Topic:</b> announce-pleased-pleased announce (Confidence: 0.614)<br><b>Content:</b><br>Los Angeles was safe and sound for the last two nights. Our<br>great National Guard, with a little help from the Marines,<br>put the L.A. Police in a position to effectively do their<br>job. They all worked we...<br><b>Speaker:</b> Donald Trump",
          "<b>Date:</b> 2025-06-11 13:01<br><b>Topic:</b> announce-pleased-pleased announce (Confidence: 0.471)<br><b>Content:</b><br>RT@grenellThank God@realDonaldTrumpacted quickly to send in<br>more law enforcement officials to Los Angeles - he saved<br>us.The riots would have gone on for days with hundreds of<br>millions of dollars in da...<br><b>Speaker:</b> Donald Trump",
          "<b>Date:</b> 2025-06-11 08:08<br><b>Topic:</b> announce-pleased-pleased announce (Confidence: 0.784)<br><b>Content:</b><br>If our troops didn’t go into Los Angeles, it would be<br>burning to the ground right now, just like so much of their<br>housing burned to the ground. The great people of Los<br>Angeles are very lucky that I ma...<br><b>Speaker:</b> Donald Trump",
          "<b>Date:</b> 2025-06-10 13:15<br><b>Topic:</b> announce-pleased-pleased announce (Confidence: 0.483)<br><b>Content:</b><br>If we didn't send out the National Guard—Los Angeles would<br>be burning right now!<br><b>Speaker:</b> Donald Trump",
          "<b>Date:</b> 2025-06-09 12:10<br><b>Topic:</b> announce-pleased-pleased announce (Confidence: 0.502)<br><b>Content:</b><br>We made a great decision in sending the National Guard to<br>deal with the violent, instigated riots in California. If we<br>had not done so, Los Angeles would have been completely<br>obliterated. The very inc...<br><b>Speaker:</b> Donald Trump",
          "<b>Date:</b> 2025-06-08 22:03<br><b>Topic:</b> announce-pleased-pleased announce (Confidence: 0.583)<br><b>Content:</b><br>Governor Gavin Newscum and “Mayor” Bass should apologize to<br>the people of Los Angeles for the absolutely horrible job<br>that they have done, and this now includes the ongoing L.A.<br>riots. These are not p...<br><b>Speaker:</b> Donald Trump",
          "<b>Date:</b> 2025-06-08 17:06<br><b>Topic:</b> announce-pleased-pleased announce (Confidence: 0.497)<br><b>Content:</b><br>A once great American City, Los Angeles, has been invaded<br>and occupied by Illegal Aliens and Criminals. Now violent,<br>insurrectionist mobs are swarming and attacking our Federal<br>Agents to try and stop ...<br><b>Speaker:</b> Donald Trump",
          "<b>Date:</b> 2025-06-08 02:41<br><b>Topic:</b> announce-pleased-pleased announce (Confidence: 0.514)<br><b>Content:</b><br>Great job by the National Guard in Los Angeles after two<br>days of violence, clashes and unrest. We have an incompetent<br>Governor (Newscum) and Mayor (Bass) who were, as usual (just<br>look at how they hand...<br><b>Speaker:</b> Donald Trump",
          "<b>Date:</b> 2025-06-07 20:25<br><b>Topic:</b> announce-pleased-pleased announce (Confidence: 0.704)<br><b>Content:</b><br>If Governor Gavin Newscum, of California, and Mayor Karen<br>Bass, of Los Angeles, can’t do their jobs, which everyone<br>knows they can’t, then the Federal Government will step in<br>and solve the problem, RI...<br><b>Speaker:</b> Donald Trump",
          "<b>Date:</b> 2025-06-07 12:38<br><b>Topic:</b> announce-pleased-pleased announce (Confidence: 0.784)<br><b>Content:</b><br>“The committee is looking closely at FBI Special Agent<br>Walter Giardina, who played key roles in investigating and<br>prosecuting Peter Navarro, Arctic Frost, Crossfire<br>Hurricane, the Mueller investigatio...<br><b>Speaker:</b> Donald Trump",
          "<b>Date:</b> 2025-06-03 00:56<br><b>Topic:</b> announce-pleased-pleased announce (Confidence: 0.498)<br><b>Content:</b><br>A Biological Male competed in California Girls State Finals,<br>WINNING BIG, despite the fact that they were warned by me<br>not to do so. As Governor Gavin Newscum fully understands,<br>large scale fines will...<br><b>Speaker:</b> Donald Trump",
          "<b>Date:</b> 2025-06-01 11:51<br><b>Topic:</b> announce-pleased-pleased announce (Confidence: 0.436)<br><b>Content:</b><br>United States Attorney Bill Essayli Announces Criminal Task<br>Force to Investigate Fraud and Corruption Involving<br>Homelessness Funds:<br><b>Speaker:</b> Donald Trump",
          "<b>Date:</b> 2025-06-01 00:37<br><b>Topic:</b> announce-pleased-pleased announce (Confidence: 0.534)<br><b>Content:</b><br>Great playwright and filmmaker, DAVID MAMET, just wrote an<br>incredible new book,“The Disenlightenment, Politics, Horror,<br>and Entertainment.” David is a special man and talent. Get<br>his book, NOW!<br><b>Speaker:</b> Donald Trump",
          "<b>Date:</b> 2025-05-30 19:39<br><b>Topic:</b> announce-pleased-pleased announce (Confidence: 0.315)<br><b>Content:</b><br>My friend, Conservative Lieutenant Governor Dan Patrick, and<br>the Texas Senate, passed a strong 287(g) Bill to give local<br>Texas Law Enforcement FULL AUTHORITY to assist the Federal<br>Government in arrest...<br><b>Speaker:</b> Donald Trump",
          "<b>Date:</b> 2025-05-30 14:01<br><b>Topic:</b> announce-pleased-pleased announce (Confidence: 0.700)<br><b>Content:</b><br>Join me with Elon—live in The Oval Office!<br><b>Speaker:</b> Donald Trump",
          "<b>Date:</b> 2025-05-29 18:25<br><b>Topic:</b> announce-pleased-pleased announce (Confidence: 0.655)<br><b>Content:</b><br>I am pleased to nominate Paul Ingrassia to head the United<br>States Office of Special Counsel (OSC). Paul is a highly<br>respected attorney, writer, and Constitutional Scholar, who<br>has done a tremendous jo...<br><b>Speaker:</b> Donald Trump",
          "<b>Date:</b> 2025-05-28 16:55<br><b>Topic:</b> announce-pleased-pleased announce (Confidence: 0.577)<br><b>Content:</b><br>I am honored to nominate Jordan E. Pratt to serve as Judge<br>on the United States District Court for the Middle District<br>of Florida. Jordan is a true Legal Champion, who currently<br>serves as a Judge on F...<br><b>Speaker:</b> Donald Trump",
          "<b>Date:</b> 2025-05-28 16:55<br><b>Topic:</b> announce-pleased-pleased announce (Confidence: 0.467)<br><b>Content:</b><br>It is my honor to nominate John Guard to serve as Judge on<br>the United States District Court for the Middle District of<br>Florida! John has passionately served the Great State of<br>Florida, as the State’s ...<br><b>Speaker:</b> Donald Trump",
          "<b>Date:</b> 2025-05-28 14:50<br><b>Topic:</b> announce-pleased-pleased announce (Confidence: 0.423)<br><b>Content:</b><br>I am pleased to announce that our United States Ambassador<br>to Turkey, Tom Barrack, will be serving as our Envoy to<br>Syria. Tom understands there is great potential in working<br>with Syria to stop Radical...<br><b>Speaker:</b> Donald Trump",
          "<b>Date:</b> 2025-05-27 18:25<br><b>Topic:</b> announce-pleased-pleased announce (Confidence: 0.484)<br><b>Content:</b><br>Our great Mortgage Agencies, Fannie Mae and Freddie Mac,<br>provide a vital service to our Nation by helping hardworking<br>Americans reach the American Dream — Home Ownership. I am<br>working on TAKING THESE ...<br><b>Speaker:</b> Donald Trump",
          "<b>Date:</b> 2025-05-22 18:36<br><b>Topic:</b> announce-pleased-pleased announce (Confidence: 0.915)<br><b>Content:</b><br>I am pleased to announce that Bernie Navarro will serve as<br>the next Ambassador to the Republic of Peru. Bernie is a<br>Highly Respected Leader in Real Estate Finance and Economic<br>Recovery. Bernie is also...<br><b>Speaker:</b> Donald Trump",
          "<b>Date:</b> 2025-05-21 18:13<br><b>Topic:</b> announce-pleased-pleased announce (Confidence: 0.335)<br><b>Content:</b><br>Congratulations to the 2025 NCAA Men's Basketball<br>Champions—the Florida Gators!<br><b>Speaker:</b> Donald Trump",
          "<b>Date:</b> 2025-05-20 19:17<br><b>Topic:</b> announce-pleased-pleased announce (Confidence: 0.823)<br><b>Content:</b><br>I am pleased to announce that Darryl Nirenberg will serve as<br>the next United States Ambassador to Romania. Darryl has 40<br>years of Foreign Policy experience, including as Counsel to<br>the Senate Foreign ...<br><b>Speaker:</b> Donald Trump",
          "<b>Date:</b> 2025-05-16 18:53<br><b>Topic:</b> announce-pleased-pleased announce (Confidence: 0.900)<br><b>Content:</b><br>Air Force One is 42 years old—The plane is not for me, it<br>goes to the United States Air Force, for whoever is<br>president…<br><b>Speaker:</b> Donald Trump",
          "<b>Date:</b> 2025-05-15 05:25<br><b>Topic:</b> announce-pleased-pleased announce (Confidence: 0.700)<br><b>Content:</b><br>Getting ready to speak at the magnificent Al Udeid Air Base<br>in Qatar!<br><b>Speaker:</b> Donald Trump",
          "<b>Date:</b> 2025-05-13 23:53<br><b>Topic:</b> announce-pleased-pleased announce (Confidence: 0.550)<br><b>Content:</b><br>RT@IStandWithTrump47I’m so proud of my<br>President!!!#Truth#MAGA❤️🇺🇸🇸🇦<br><b>Speaker:</b> Donald Trump",
          "<b>Date:</b> 2025-05-12 20:25<br><b>Topic:</b> announce-pleased-pleased announce (Confidence: 0.488)<br><b>Content:</b><br>On Peace Officers Memorial Day and during Police Week, we<br>honor our brave officers who serve on the front lines to<br>protect our families, safeguard our communities, and<br>shoulder a burden of responsibil...<br><b>Speaker:</b> Donald Trump",
          "<b>Date:</b> 2025-05-11 20:42<br><b>Topic:</b> announce-pleased-pleased announce (Confidence: 0.397)<br><b>Content:</b><br>So the fact that the Defense Department is getting a GIFT,<br>FREE OF CHARGE, of a 747 aircraft to replace the 40 year old<br>Air Force One, temporarily, in a very public and transparent<br>transaction, so bot...<br><b>Speaker:</b> Donald Trump",
          "<b>Date:</b> 2025-05-08 19:17<br><b>Topic:</b> announce-pleased-pleased announce (Confidence: 0.511)<br><b>Content:</b><br>Ed Martin has done an AMAZING job as interim U.S. Attorney,<br>and will be moving to the Department of Justice as the new<br>Director of the Weaponization Working Group, Associate<br>Deputy Attorney General, a...<br><b>Speaker:</b> Donald Trump",
          "<b>Date:</b> 2025-05-08 18:32<br><b>Topic:</b> announce-pleased-pleased announce (Confidence: 0.435)<br><b>Content:</b><br>I am pleased to announce that Judge Jeanine Pirro will be<br>appointed interim United States Attorney for the District of<br>Columbia. Jeanine was Assistant District Attorney for<br>Westchester County, New Yor...<br><b>Speaker:</b> Donald Trump",
          "<b>Date:</b> 2025-05-07 16:45<br><b>Topic:</b> announce-pleased-pleased announce (Confidence: 0.444)<br><b>Content:</b><br>I am pleased to announce that Dr. Casey Means, will be<br>nominated as our next Surgeon General of the United States<br>of America. Casey has impeccable “MAHA” credentials, and<br>will work closely with our wo...<br><b>Speaker:</b> Donald Trump",
          "<b>Date:</b> 2025-05-07 15:43<br><b>Topic:</b> announce-pleased-pleased announce (Confidence: 0.683)<br><b>Content:</b><br>Congratulations to our new Ambassador to China, David<br>Perdue!<br><b>Speaker:</b> Donald Trump",
          "<b>Date:</b> 2025-05-06 19:56<br><b>Topic:</b> announce-pleased-pleased announce (Confidence: 0.682)<br><b>Content:</b><br>I am pleased to announce that the Board of the Holocaust<br>Memorial Council has been completely formed: Siggy Flicker,<br>Tila Falic, Jackie Zeckman, Rabbi Nate Segal, Jonathan<br>Burkan, Lee Lipton, Betty Sc...<br><b>Speaker:</b> Donald Trump",
          "<b>Date:</b> 2025-05-06 16:53<br><b>Topic:</b> announce-pleased-pleased announce (Confidence: 0.575)<br><b>Content:</b><br>I am pleased to nominate Cristian Stevens, a Great Patriot,<br>to serve on the United States District Court for the Eastern<br>District of Missouri. Cristian is currently a Judge on the<br>Missouri Court of Ap...<br><b>Speaker:</b> Donald Trump",
          "<b>Date:</b> 2025-05-06 15:22<br><b>Topic:</b> announce-pleased-pleased announce (Confidence: 0.974)<br><b>Content:</b><br>I am proud to announce the appointment of Andrew Giuliani as<br>the Executive Director of the President’s Task Force on the<br>2026 FIFA World Cup. During my First Term, Andrew served as<br>a Special Assistant...<br><b>Speaker:</b> Donald Trump",
          "<b>Date:</b> 2025-05-05 20:20<br><b>Topic:</b> announce-pleased-pleased announce (Confidence: 0.658)<br><b>Content:</b><br>I am pleased to announce the 2027 NFL Draft will take place<br>here in the Nation’s Capital on the National Mall…<br><b>Speaker:</b> Donald Trump",
          "<b>Date:</b> 2025-05-05 10:49<br><b>Topic:</b> announce-pleased-pleased announce (Confidence: 0.420)<br><b>Content:</b><br>BILL ACKMAN ON HARVARD AND UNIVERSITY FUNDING, THIS MORNING<br>ON SQUAWK BOX…<br><b>Speaker:</b> Donald Trump",
          "<b>Date:</b> 2025-05-02 08:52<br><b>Topic:</b> announce-pleased-pleased announce (Confidence: 0.477)<br><b>Content:</b><br>Loved being at the University of Alabama last night. What<br>GREAT people!!!<br><b>Speaker:</b> Donald Trump",
          "<b>Date:</b> 2025-05-01 23:42<br><b>Topic:</b> announce-pleased-pleased announce (Confidence: 0.487)<br><b>Content:</b><br>I am pleased to announce the nomination of Whitney<br>Hermandorfer to serve as a Judge on the United States Court<br>of Appeals for the Sixth Circuit. Whitney has been serving<br>the Great People of Tennessee,...<br><b>Speaker:</b> Donald Trump",
          "<b>Date:</b> 2025-05-01 14:16<br><b>Topic:</b> announce-pleased-pleased announce (Confidence: 0.626)<br><b>Content:</b><br>I am pleased to announce that I will be nominating Mike<br>Waltz to be the next United States Ambassador to the United<br>Nations. From his time in uniform on the battlefield, in<br>Congress and, as my Nationa...<br><b>Speaker:</b> Donald Trump",
          "<b>Date:</b> 2025-04-30 21:15<br><b>Topic:</b> announce-pleased-pleased announce (Confidence: 0.715)<br><b>Content:</b><br>I am pleased to announce that I will be nominating Anthony<br>Lomangino to join the United States Postal Service Board of<br>Governors. Anthony is a fantastic businessman and reformer,<br>who built one of the ...<br><b>Speaker:</b> Donald Trump",
          "<b>Date:</b> 2025-04-29 11:06<br><b>Topic:</b> announce-pleased-pleased announce (Confidence: 0.373)<br><b>Content:</b><br>VA Secretary Doug Collins: “The first 100 days of the second<br>Trump Administration have been full of great news for<br>America’s Veterans. Under POTUS’ leadership, we are putting<br>Veterans first!”<br><b>Speaker:</b> Donald Trump",
          "<b>Date:</b> 2025-04-28 19:40<br><b>Topic:</b> announce-pleased-pleased announce (Confidence: 0.900)<br><b>Content:</b><br>“STRENGTHENING AND UNLEASHING AMERICA’S LAW ENFORCEMENT TO<br>PURSUE CRIMINALS AND PROTECT INNOCENT CITIZENS”<br><b>Speaker:</b> Donald Trump",
          "<b>Date:</b> 2025-04-28 17:16<br><b>Topic:</b> announce-pleased-pleased announce (Confidence: 0.463)<br><b>Content:</b><br>As we reach our Historic First 100 Days, I am proud to<br>announce that the Presidential Personnel Office has<br>surpassed 80% of all Political Hires across our largest<br>Departments, including the United Sta...<br><b>Speaker:</b> Donald Trump",
          "<b>Date:</b> 2025-04-28 17:16<br><b>Topic:</b> announce-pleased-pleased announce (Confidence: 0.463)<br><b>Content:</b><br>As we reach our Historic First 100 Days, I am proud to<br>announce that the Presidential Personnel Office has<br>surpassed 80% of all Political Hires across our largest<br>Departments, including the United Sta...<br><b>Speaker:</b> Donald Trump",
          "<b>Date:</b> 2025-04-28 15:52<br><b>Topic:</b> announce-pleased-pleased announce (Confidence: 0.785)<br><b>Content:</b><br>I am proud to announce the formation of the FEMA Review<br>Council, comprised of Top Experts in their fields, who are<br>Highly Respected by their peers. It is my Great Honor to<br>appoint to the Council, Secr...<br><b>Speaker:</b> Donald Trump",
          "<b>Date:</b> 2025-04-21 11:27<br><b>Topic:</b> announce-pleased-pleased announce (Confidence: 0.449)<br><b>Content:</b><br>As a mark of respect for the memory of His Holiness Pope<br>Francis, by the authority vested in me as President of the<br>United States by the Constitution and the laws of the United<br>States of America, I he...<br><b>Speaker:</b> Donald Trump",
          "<b>Date:</b> 2025-04-17 18:17<br><b>Topic:</b> announce-pleased-pleased announce (Confidence: 0.645)<br><b>Content:</b><br>I am proud to announce the formation of my revamped Homeland<br>Security Advisory Council (HSAC), which is comprised of Top<br>Experts in their field, who are highly respected by their<br>peers. It is a big ho...<br><b>Speaker:</b> Donald Trump",
          "<b>Date:</b> 2025-04-16 18:10<br><b>Topic:</b> announce-pleased-pleased announce (Confidence: 0.478)<br><b>Content:</b><br>I am pleased to announce that Jay Clayton will serve as the<br>Interim United States Attorney for the Southern District of<br>New York. During my First Term, Jay served with great<br>distinction as the Chair o...<br><b>Speaker:</b> Donald Trump",
          "<b>Date:</b> 2025-04-10 18:57<br><b>Topic:</b> announce-pleased-pleased announce (Confidence: 0.731)<br><b>Content:</b><br>I am pleased to announce that William \"Billy\" Marshall III,<br>of the Great State of West Virginia, a State I love and won<br>SIX times, as the next Director of the Bureau of Prisons.<br>Billy has a distinguis...<br><b>Speaker:</b> Donald Trump",
          "<b>Date:</b> 2025-04-10 18:33<br><b>Topic:</b> announce-pleased-pleased announce (Confidence: 0.771)<br><b>Content:</b><br>I am pleased to announce that former Congressman Mark<br>Walker, of North Carolina, a place I love and won SIX times,<br>will be the United States Ambassador-at-Large for<br>International Religious Freedom.A f...<br><b>Speaker:</b> Donald Trump",
          "<b>Date:</b> 2025-04-10 09:35<br><b>Topic:</b> announce-pleased-pleased announce (Confidence: 0.461)<br><b>Content:</b><br>No more Sanctuary Cities! They protect the Criminals, not<br>the Victims. They are disgracing our Country, and are being<br>mocked all over the World. Working on papers to withhold all<br>Federal Funding for a...<br><b>Speaker:</b> Donald Trump",
          "<b>Date:</b> 2025-04-10 00:16<br><b>Topic:</b> announce-pleased-pleased announce (Confidence: 0.637)<br><b>Content:</b><br>“EXCLUSIVE: NY Attorney General Letitia James Declares<br>Virginia Home Her ‘Principal Residence’”<br><b>Speaker:</b> Donald Trump",
          "<b>Date:</b> 2025-04-09 15:30<br><b>Topic:</b> announce-pleased-pleased announce (Confidence: 0.550)<br><b>Content:</b><br>CONGRATULATIONS!<br><b>Speaker:</b> Donald Trump",
          "<b>Date:</b> 2025-04-07 09:33<br><b>Topic:</b> announce-pleased-pleased announce (Confidence: 0.381)<br><b>Content:</b><br>Seeing the World Champion Los Angeles Dodgers at 11:00 A.M.<br>Exciting!!! DJT<br><b>Speaker:</b> Donald Trump",
          "<b>Date:</b> 2025-03-28 15:17<br><b>Topic:</b> announce-pleased-pleased announce (Confidence: 0.922)<br><b>Content:</b><br>I am pleased to announce that Mark Brnovich will be our next<br>United States Ambassador to Serbia. Mark is a proud Veteran<br>of the Army National Guard, and previously served as<br>Attorney General for the G...<br><b>Speaker:</b> Donald Trump",
          "<b>Date:</b> 2025-03-28 15:17<br><b>Topic:</b> announce-pleased-pleased announce (Confidence: 0.567)<br><b>Content:</b><br>It is my great honor to announce Sara Carter as our next<br>Director of the Office of National Drug Control Policy<br>(ONDCP). Sara is an Award Winning Journalist, who has been<br>on the front lines of this In...<br><b>Speaker:</b> Donald Trump",
          "<b>Date:</b> 2025-03-27 11:25<br><b>Topic:</b> announce-pleased-pleased announce (Confidence: 0.628)<br><b>Content:</b><br>RT@OANEPA ADMINISTRATOR LEE ZELDIN GIVES THE MATT GAETZ SHOW<br>A PREVIEW OF THE CUTS AND SAVINGS THE TRUMP ADMINISTRATION<br>IS MAKING WHILE ENSURING WE HAVE CLEAN AIR AND CLEAN WATER<br><b>Speaker:</b> Donald Trump",
          "<b>Date:</b> 2025-03-26 20:22<br><b>Topic:</b> announce-pleased-pleased announce (Confidence: 0.415)<br><b>Content:</b><br>I am pleased to announce that Brent Bozell will be our next<br>United States Ambassador to South Africa. Brent is the<br>Founder of the Media Research Center, which has exposed Fake<br>News hypocrites for many...<br><b>Speaker:</b> Donald Trump",
          "<b>Date:</b> 2025-03-26 19:40<br><b>Topic:</b> announce-pleased-pleased announce (Confidence: 0.550)<br><b>Content:</b><br>I am pleased to announce the appointment of Brandon Beach as<br>the next Treasurer of the United States. Brandon helped us<br>secure a Massive and Historic Victory for our Movement in<br>the Great State of Geo...<br><b>Speaker:</b> Donald Trump",
          "<b>Date:</b> 2025-03-26 11:45<br><b>Topic:</b> announce-pleased-pleased announce (Confidence: 0.775)<br><b>Content:</b><br>“TRUMP VOWS TO PROTECT SOCIAL SECURITY & MEDICARE BENEFITS”<br><b>Speaker:</b> Donald Trump",
          "<b>Date:</b> 2025-03-25 10:27<br><b>Topic:</b> announce-pleased-pleased announce (Confidence: 0.384)<br><b>Content:</b><br>U.S. CENTRAL COMMAND: “This Medal of Honor Day, we salute<br>those military service members who distinguished themselves<br>conspicuously by gallantry and intrepidity at the risk of<br>their life above and bey...<br><b>Speaker:</b> Donald Trump",
          "<b>Date:</b> 2025-03-24 16:12<br><b>Topic:</b> announce-pleased-pleased announce (Confidence: 0.568)<br><b>Content:</b><br>I am proud to announce that Dr. Susan Monarez is my Nominee<br>to serve as the next Director of the Centers for Disease<br>Control and Prevention (CDC). Dr. Monarez brings decades of<br>experience championing ...<br><b>Speaker:</b> Donald Trump",
          "<b>Date:</b> 2025-03-24 10:49<br><b>Topic:</b> announce-pleased-pleased announce (Confidence: 0.550)<br><b>Content:</b><br>CONGRATULATIONS🇺🇸<br><b>Speaker:</b> Donald Trump",
          "<b>Date:</b> 2025-03-18 22:32<br><b>Topic:</b> announce-pleased-pleased announce (Confidence: 0.612)<br><b>Content:</b><br>“Secretary Rollins Highlights President Trump’s Proclamation<br>on National Agriculture”<br><b>Speaker:</b> Donald Trump",
          "<b>Date:</b> 2025-03-18 21:21<br><b>Topic:</b> announce-pleased-pleased announce (Confidence: 0.609)<br><b>Content:</b><br>RT@RealRogerStoneDo federal judges have the authority to<br>overrule the American people and President@realDonaldTrump’s<br>reform agenda?Trump impeachment lawyer David Schoen joins<br>The StoneZONE on 77WABC ...<br><b>Speaker:</b> Donald Trump",
          "<b>Date:</b> 2025-03-17 17:29<br><b>Topic:</b> announce-pleased-pleased announce (Confidence: 0.742)<br><b>Content:</b><br>I am pleased to announce a new Board of Visitors for our<br>Nation’s oldest Military Academy, West Point. Major General<br>David Bellavia, Lieutenant General Dan Walrath, General<br>Michael Flynn, Congressman ...<br><b>Speaker:</b> Donald Trump",
          "<b>Date:</b> 2025-03-17 17:20<br><b>Topic:</b> announce-pleased-pleased announce (Confidence: 0.602)<br><b>Content:</b><br>Our Great United States Air Force Academy will soon have an<br>incredible Board of Visitors, composed of Doug Nikolai, Dan<br>Clark, Senator Tommy Tuberville, Charlie Kirk, and Dina<br>Powell. Congratulations ...<br><b>Speaker:</b> Donald Trump",
          "<b>Date:</b> 2025-03-17 17:19<br><b>Topic:</b> announce-pleased-pleased announce (Confidence: 0.806)<br><b>Content:</b><br>I am pleased to announce the nomination of Bryan Bedford to<br>serve as Administrator of the Federal Aviation<br>Administration (FAA). As the former President and CEO of<br>Republic Airways, Mesaba Airlines, a...<br><b>Speaker:</b> Donald Trump",
          "<b>Date:</b> 2025-03-17 16:49<br><b>Topic:</b> announce-pleased-pleased announce (Confidence: 0.564)<br><b>Content:</b><br>I am pleased to announce that Michelle “Miki” Bowman will be<br>the Federal Reserve’s new Vice Chair of Supervision. Miki<br>has been serving honorably on the Fed’s Board of Governors<br>since 2018, and has gr...<br><b>Speaker:</b> Donald Trump",
          "<b>Date:</b> 2025-03-16 17:31<br><b>Topic:</b> announce-pleased-pleased announce (Confidence: 0.346)<br><b>Content:</b><br>We are actively monitoring the severe tornadoes and storms<br>that have impacted many States across the South and Midwest<br>— 36 innocent lives have been lost, and many more<br>devastated. The National Guard ...<br><b>Speaker:</b> Donald Trump",
          "<b>Date:</b> 2025-03-16 14:52<br><b>Topic:</b> announce-pleased-pleased announce (Confidence: 0.366)<br><b>Content:</b><br>I just won the Golf Club Championship, probably my last, at<br>Trump International Golf Club, in Palm Beach County,<br>Florida. Such a great honor! The Awards dinner is tonight,<br>at the Club. I want to thank...<br><b>Speaker:</b> Donald Trump",
          "<b>Date:</b> 2025-03-14 16:52<br><b>Topic:</b> announce-pleased-pleased announce (Confidence: 0.517)<br><b>Content:</b><br>TO THE HEROIC MEN AND WOMEN OF LAW ENFORCEMENT…<br><b>Speaker:</b> Donald Trump",
          "<b>Date:</b> 2025-03-14 16:48<br><b>Topic:</b> announce-pleased-pleased announce (Confidence: 0.547)<br><b>Content:</b><br>We're joined today by dozens of police officers, Sheriffs,<br>and Sheriff's Deputies from all across the Country. My<br>message to these law enforcement heroes is simple: With me<br>in the White House, you onc...<br><b>Speaker:</b> Donald Trump",
          "<b>Date:</b> 2025-03-14 16:41<br><b>Topic:</b> announce-pleased-pleased announce (Confidence: 0.456)<br><b>Content:</b><br>Our predecessors turned the Department of Justice into the<br>Department of INJUSTICE—But I stand before you today to<br>declare that those days are over!<br><b>Speaker:</b> Donald Trump",
          "<b>Date:</b> 2025-03-14 16:38<br><b>Topic:</b> announce-pleased-pleased announce (Confidence: 0.644)<br><b>Content:</b><br>For generations, the Federal Department of Justice was one<br>of America's most revered institutions...This department<br>commanded the respect and admiration of the entire world...<br><b>Speaker:</b> Donald Trump",
          "<b>Date:</b> 2025-03-11 17:42<br><b>Topic:</b> announce-pleased-pleased announce (Confidence: 0.622)<br><b>Content:</b><br>I am pleased to announce that I am appointing Paolo Zampolli<br>as Special Envoy for Global Partnerships. With his extensive<br>experience working with the United Nations, the Kennedy<br>Center, and various In...<br><b>Speaker:</b> Donald Trump",
          "<b>Date:</b> 2025-03-11 17:42<br><b>Topic:</b> announce-pleased-pleased announce (Confidence: 0.528)<br><b>Content:</b><br>I am happy to announce that Dr. Anji Sinha will be the next<br>United States Ambassador to Singapore. Anji is a highly<br>respected entrepreneur, with an incredible family! The<br>United States’ relationship w...<br><b>Speaker:</b> Donald Trump",
          "<b>Date:</b> 2025-03-11 17:42<br><b>Topic:</b> announce-pleased-pleased announce (Confidence: 0.457)<br><b>Content:</b><br>I am pleased to announce that Dearborn Heights Mayor Bill<br>Bazzi will be the next United States Ambassador to the<br>Republic of Tunisia. Bazzi is a decorated U.S. Marine, who<br>honorably served our Country...<br><b>Speaker:</b> Donald Trump",
          "<b>Date:</b> 2025-03-11 16:20<br><b>Topic:</b> announce-pleased-pleased announce (Confidence: 0.777)<br><b>Content:</b><br>I am pleased to announce that Ambassador Michael George<br>DeSombre will be nominated as the next United States<br>Assistant Secretary of State for East Asia and the Pacific.<br>During my First Term, Michael s...<br><b>Speaker:</b> Donald Trump",
          "<b>Date:</b> 2025-03-10 18:05<br><b>Topic:</b> announce-pleased-pleased announce (Confidence: 0.620)<br><b>Content:</b><br>“President Trump came through for Los Angeles”<br><b>Speaker:</b> Donald Trump",
          "<b>Date:</b> 2025-03-10 13:05<br><b>Topic:</b> announce-pleased-pleased announce (Confidence: 0.329)<br><b>Content:</b><br>Following my previously signed Executive Orders, ICE proudly<br>apprehended and detained Mahmoud Khalil, a Radical Foreign<br>Pro-Hamas Student on the campus of Columbia University. This<br>is the first arrest...<br><b>Speaker:</b> Donald Trump",
          "<b>Date:</b> 2025-03-07 21:41<br><b>Topic:</b> announce-pleased-pleased announce (Confidence: 0.819)<br><b>Content:</b><br>Our GREAT United States Naval Academy needs a new Board of<br>Visitors. I am pleased to announce that an incredible group<br>of Patriots will serve on the Board— Walt Nauta, Sean<br>Spicer, “Doc Ronnie” Jackso...<br><b>Speaker:</b> Donald Trump",
          "<b>Date:</b> 2025-03-07 19:51<br><b>Topic:</b> announce-pleased-pleased announce (Confidence: 0.691)<br><b>Content:</b><br>I am proud to appoint Michel Issa as our United States<br>Ambassador to Lebanon. Michel is an outstanding businessman,<br>a financial expert, and a leader with a remarkable career in<br>Banking, Entrepreneursh...<br><b>Speaker:</b> Donald Trump",
          "<b>Date:</b> 2025-03-07 19:51<br><b>Topic:</b> announce-pleased-pleased announce (Confidence: 0.806)<br><b>Content:</b><br>I am pleased to announce Lynda Blanchard will be the next<br>United States Ambassador for the Food and Agriculture<br>Organization of the United Nations in Rome, Italy. During my<br>First Term, Lynda did a gre...<br><b>Speaker:</b> Donald Trump",
          "<b>Date:</b> 2025-03-07 19:50<br><b>Topic:</b> announce-pleased-pleased announce (Confidence: 0.661)<br><b>Content:</b><br>I am pleased to announce that Duke Buchan III will serve as<br>the United States Ambassador to the Kingdom of Morocco. Duke<br>will play a pivotal role as we strengthen Peace, Freedom,<br>and Prosperity for bo...<br><b>Speaker:</b> Donald Trump",
          "<b>Date:</b> 2025-03-07 19:50<br><b>Topic:</b> announce-pleased-pleased announce (Confidence: 0.735)<br><b>Content:</b><br>I am pleased to announce that Amer Ghalib will be the next<br>United States Ambassador to Kuwait. As the Mayor of the City<br>of Hamtramck, Michigan, Amer worked hard to help us secure a<br>Historic Victory in...<br><b>Speaker:</b> Donald Trump",
          "<b>Date:</b> 2025-03-01 12:01<br><b>Topic:</b> announce-pleased-pleased announce (Confidence: 0.525)<br><b>Content:</b><br>“The Rise of Young Republicans on America's College<br>Campuses”<br><b>Speaker:</b> Donald Trump",
          "<b>Date:</b> 2025-02-27 21:36<br><b>Topic:</b> announce-pleased-pleased announce (Confidence: 0.722)<br><b>Content:</b><br>I am pleased to announce that Hung Cao will be our next<br>United States Under Secretary of the Navy. Hung is the<br>embodiment of the American Dream. As a refugee to our Great<br>Nation, Hung worked tirelessl...<br><b>Speaker:</b> Donald Trump",
          "<b>Date:</b> 2025-02-27 21:36<br><b>Topic:</b> announce-pleased-pleased announce (Confidence: 0.392)<br><b>Content:</b><br>I am pleased to nominate Paul Dabbar to be United States<br>Deputy Secretary of Commerce. Paul will work closely with<br>our Great Secretary of Commerce, Howard Lutnick, to bring<br>back American Leadership in...<br><b>Speaker:</b> Donald Trump",
          "<b>Date:</b> 2025-02-26 16:27<br><b>Topic:</b> announce-pleased-pleased announce (Confidence: 0.820)<br><b>Content:</b><br>“Trump Nominates Dan 'Razin' Caine to be Joint Chiefs<br>Chairman”<br><b>Speaker:</b> Donald Trump",
          "<b>Date:</b> 2025-02-26 14:43<br><b>Topic:</b> announce-pleased-pleased announce (Confidence: 0.497)<br><b>Content:</b><br>Secretary of Defense, Pete Hegseth: “We're doing a complete<br>review of every single aspect of what happened with the<br>botched withdrawal of Afghanistan and plan to have full<br>accountability.\"<br><b>Speaker:</b> Donald Trump",
          "<b>Date:</b> 2025-02-26 07:23<br><b>Topic:</b> announce-pleased-pleased announce (Confidence: 0.351)<br><b>Content:</b><br>Mark Levin’s last two shows, Saturday and Sunday, were<br>incredible, a MUST SEE. I think we’re going to have to open<br>a beautiful MUSEUM to honor the words and wisdom of “The<br>Great One,” Mark Levin!!!<br><b>Speaker:</b> Donald Trump",
          "<b>Date:</b> 2025-02-25 10:12<br><b>Topic:</b> announce-pleased-pleased announce (Confidence: 0.525)<br><b>Content:</b><br>A must watch with Mark Levin and Victor Davis Hanson…<br><b>Speaker:</b> Donald Trump",
          "<b>Date:</b> 2025-02-24 18:28<br><b>Topic:</b> announce-pleased-pleased announce (Confidence: 0.700)<br><b>Content:</b><br>February 22, 2025 | The National Governors Association<br>Dinner and Reception…<br><b>Speaker:</b> Donald Trump",
          "<b>Date:</b> 2025-02-24 00:53<br><b>Topic:</b> announce-pleased-pleased announce (Confidence: 0.931)<br><b>Content:</b><br>RT@realDonaldTrumpAnother aspect of the life of Dan Bongino<br>that I think is very important. He has a great wife, Paula,<br>and two wonderful daughters who truly love their dad. What<br>an incredible job Dan...<br><b>Speaker:</b> Donald Trump",
          "<b>Date:</b> 2025-02-24 00:53<br><b>Topic:</b> announce-pleased-pleased announce (Confidence: 0.563)<br><b>Content:</b><br>RT@realDonaldTrumpGreat news for Law Enforcement and<br>American Justice! Dan Bongino, a man of incredible love and<br>passion for our Country, has just been named the next DEPUTY<br>DIRECTOR OF THE FBI, by th...<br><b>Speaker:</b> Donald Trump",
          "<b>Date:</b> 2025-02-23 20:50<br><b>Topic:</b> announce-pleased-pleased announce (Confidence: 0.931)<br><b>Content:</b><br>Another aspect of the life of Dan Bongino that I think is<br>very important. He has a great wife, Paula, and two<br>wonderful daughters who truly love their dad. What an<br>incredible job Dan will do!!!<br><b>Speaker:</b> Donald Trump",
          "<b>Date:</b> 2025-02-23 20:41<br><b>Topic:</b> announce-pleased-pleased announce (Confidence: 0.563)<br><b>Content:</b><br>Great news for Law Enforcement and American Justice! Dan<br>Bongino, a man of incredible love and passion for our<br>Country, has just been named the next DEPUTY DIRECTOR OF THE<br>FBI, by the man who will be ...<br><b>Speaker:</b> Donald Trump",
          "<b>Date:</b> 2025-02-21 19:30<br><b>Topic:</b> announce-pleased-pleased announce (Confidence: 0.480)<br><b>Content:</b><br>I want to thank General Charles “CQ” Brown for his over 40<br>years of service to our country, including as our current<br>Chairman of the Joint Chiefs of Staff. He is a fine<br>gentleman and an outstanding le...<br><b>Speaker:</b> Donald Trump",
          "<b>Date:</b> 2025-02-20 11:05<br><b>Topic:</b> announce-pleased-pleased announce (Confidence: 0.550)<br><b>Content:</b><br>“COMMENCING THE REDUCTION OF THE FEDERAL BUREAUCRACY”<br><b>Speaker:</b> Donald Trump",
          "<b>Date:</b> 2025-02-20 11:03<br><b>Topic:</b> announce-pleased-pleased announce (Confidence: 0.550)<br><b>Content:</b><br>“PRESIDENT DONALD J. TRUMP REDUCES THE FEDERAL BUREAUCRACY”<br><b>Speaker:</b> Donald Trump",
          "<b>Date:</b> 2025-02-17 22:27<br><b>Topic:</b> announce-pleased-pleased announce (Confidence: 0.478)<br><b>Content:</b><br>US forces conducted a precision airstrike against a member<br>of al-Qaeda in Syria this weekend. The terrorist leader was<br>working with al-Qaeda across the region. Congratulations to<br>CENTCOM Commander Gen...<br><b>Speaker:</b> Donald Trump",
          "<b>Date:</b> 2025-02-17 08:38<br><b>Topic:</b> announce-pleased-pleased announce (Confidence: 0.516)<br><b>Content:</b><br>It is my honor to nominate highly respected Edward R.<br>Martin, Jr., for the full and permanent term of United<br>States Attorney for the District of Columbia.Ed has led a<br>distinguished career of service, ...<br><b>Speaker:</b> Donald Trump",
          "<b>Date:</b> 2025-02-16 14:13<br><b>Topic:</b> announce-pleased-pleased announce (Confidence: 0.751)<br><b>Content:</b><br>I am proud to nominate John Jovanovic to serve as the<br>Chairman and Chief Executive Officer of the Export-Import<br>Bank of the United States (EXIM). John will utilize his<br>extensive experience in finance,...<br><b>Speaker:</b> Donald Trump",
          "<b>Date:</b> 2025-02-16 14:12<br><b>Topic:</b> announce-pleased-pleased announce (Confidence: 0.663)<br><b>Content:</b><br>I am pleased to announce that Jim Byron will be serving as<br>Senior Advisor to our Acting Archivist, United States<br>Secretary of State Marco Rubio, at the National Archives and<br>Records Administration (NA...<br><b>Speaker:</b> Donald Trump",
          "<b>Date:</b> 2025-02-16 14:12<br><b>Topic:</b> announce-pleased-pleased announce (Confidence: 0.541)<br><b>Content:</b><br>It is my honor to nominate Judge Jason Reding Quiñones as<br>the next United States Attorney for the Southern District of<br>Florida.A former Federal prosecutor and Justice Department<br>National Security Offi...<br><b>Speaker:</b> Donald Trump",
          "<b>Date:</b> 2025-02-15 12:53<br><b>Topic:</b> announce-pleased-pleased announce (Confidence: 0.394)<br><b>Content:</b><br>He who saves his Country does not violate any Law.<br><b>Speaker:</b> Donald Trump",
          "<b>Date:</b> 2025-02-11 11:51<br><b>Topic:</b> announce-pleased-pleased announce (Confidence: 0.978)<br><b>Content:</b><br>I am pleased to announce that Terry Cole will be the next<br>Drug Enforcement Administration (DEA) Administrator. Terry<br>is a DEA Veteran of 21 years, with tours in Colombia,<br>Afghanistan, and Mexico City,...<br><b>Speaker:</b> Donald Trump",
          "<b>Date:</b> 2025-02-10 17:09<br><b>Topic:</b> announce-pleased-pleased announce (Confidence: 0.377)<br><b>Content:</b><br>I am pleased to announce that Ric Grenell will serve as the<br>Interim Executive Director of The Kennedy Center. Ric shares<br>my Vision for a GOLDEN AGE of American Arts and Culture, and<br>will be overseeing...<br><b>Speaker:</b> Donald Trump",
          "<b>Date:</b> 2025-02-10 09:16<br><b>Topic:</b> announce-pleased-pleased announce (Confidence: 0.656)<br><b>Content:</b><br>I am pleased to announce that Howard Brodie will be the next<br>United States Ambassador to Finland. Howard is a<br>distinguished attorney, investor, and businessman, who<br>currently serves as Co-President an...<br><b>Speaker:</b> Donald Trump",
          "<b>Date:</b> 2025-02-10 09:16<br><b>Topic:</b> announce-pleased-pleased announce (Confidence: 0.533)<br><b>Content:</b><br>Our Service Academies have been infiltrated by Woke Leftist<br>Ideologues over the last four years. I have ordered the<br>immediate dismissal of the Board of Visitors for the Army,<br>Air Force, Navy, and Coas...<br><b>Speaker:</b> Donald Trump",
          "<b>Date:</b> 2025-02-06 18:01<br><b>Topic:</b> announce-pleased-pleased announce (Confidence: 0.769)<br><b>Content:</b><br>I am pleased to announce that Nicholas Merrick will serve as<br>the next United States Ambassador to the Czech<br>Republic.Nicholas is a highly respected businessman and<br>teacher, who leads Kenny and Lisa Tr...<br><b>Speaker:</b> Donald Trump",
          "<b>Date:</b> 2025-02-06 18:01<br><b>Topic:</b> announce-pleased-pleased announce (Confidence: 0.786)<br><b>Content:</b><br>I am pleased to announce that Melinda Hildebrand will serve<br>as the next United States Ambassador to Costa Rica.Melinda<br>is an incredibly successful businesswoman and<br>philanthropist, who serves as the V...<br><b>Speaker:</b> Donald Trump",
          "<b>Date:</b> 2025-02-06 17:59<br><b>Topic:</b> announce-pleased-pleased announce (Confidence: 0.924)<br><b>Content:</b><br>I am pleased to announce that Michael E. Kavoukjian will<br>serve as the next United States Ambassador to the Kingdom of<br>Norway.Michael is a brilliant attorney, who currently serves<br>as a Senior Partner a...<br><b>Speaker:</b> Donald Trump",
          "<b>Date:</b> 2025-02-06 17:48<br><b>Topic:</b> announce-pleased-pleased announce (Confidence: 0.700)<br><b>Content:</b><br>I am pleased to announce that Thomas Rose will serve as the<br>next United States Ambassador to Poland.Thomas is a highly<br>respected businessman and commentator, who had a successful<br>radio show on Sirius ...<br><b>Speaker:</b> Donald Trump",
          "<b>Date:</b> 2025-02-06 17:48<br><b>Topic:</b> announce-pleased-pleased announce (Confidence: 0.731)<br><b>Content:</b><br>I am pleased to announce that Gadyaces “Gady” Serralta will<br>serve as the next Director of the United States Marshals<br>Service.Gady is a lifelong public servant, with 34 years of<br>Law Enforcement experie...<br><b>Speaker:</b> Donald Trump",
          "<b>Date:</b> 2025-02-03 18:40<br><b>Topic:</b> announce-pleased-pleased announce (Confidence: 0.660)<br><b>Content:</b><br>I am pleased to announce that Sean Parnell will be the<br>Assistant to the Secretary of Defense for Public Affairs,<br>and Chief Pentagon Spokesman.A Great American Patriot, Sean<br>is a fearless Combat Vetera...<br><b>Speaker:</b> Donald Trump",
          "<b>Date:</b> 2025-02-03 17:31<br><b>Topic:</b> announce-pleased-pleased announce (Confidence: 0.649)<br><b>Content:</b><br>I am pleased to announce the appointment of Michael Ellis to<br>serve as Deputy Director of the Central Intelligence<br>Agency.During my First Term, Michael served at the White<br>House National Security Counc...<br><b>Speaker:</b> Donald Trump",
          "<b>Date:</b> 2025-02-02 19:04<br><b>Topic:</b> announce-pleased-pleased announce (Confidence: 0.517)<br><b>Content:</b><br>RT@realDonaldTrumpWATCH MARK LEVIN TONIGHT, on FoxNews, 8<br>P.M. Eastern. Great Show!<br><b>Speaker:</b> Donald Trump",
          "<b>Date:</b> 2025-01-31 18:52<br><b>Topic:</b> announce-pleased-pleased announce (Confidence: 0.931)<br><b>Content:</b><br>I am pleased to nominate Benjamin Black to serve as the<br>Chief Executive Officer of the United States International<br>Development Finance Corporation (DFC). Ben will use his<br>financial acumen and broad de...<br><b>Speaker:</b> Donald Trump",
          "<b>Date:</b> 2025-01-26 20:02<br><b>Topic:</b> announce-pleased-pleased announce (Confidence: 0.525)<br><b>Content:</b><br>Watch Mark Levin, on now!!!<br><b>Speaker:</b> Donald Trump",
          "<b>Date:</b> 2025-01-25 19:43<br><b>Topic:</b> announce-pleased-pleased announce (Confidence: 0.550)<br><b>Content:</b><br>RT@bkilmeade@realDonaldTrumplisten up..big show on FOX!!…9pm<br>eastern!!<br><b>Speaker:</b> Donald Trump",
          "<b>Date:</b> 2025-01-24 21:59<br><b>Topic:</b> announce-pleased-pleased announce (Confidence: 0.820)<br><b>Content:</b><br>Congratulations to Pete Hegseth. He will make a great<br>Secretary of Defense!<br><b>Speaker:</b> Donald Trump",
          "<b>Date:</b> 2025-01-24 16:23<br><b>Topic:</b> announce-pleased-pleased announce (Confidence: 0.950)<br><b>Content:</b><br>I am pleased to announce that Jared Novelly will serve as<br>the next United States Ambassador to New Zealand and the<br>Independent State of Samoa.Jared is a highly respected<br>philanthropist, and Chairman o...<br><b>Speaker:</b> Donald Trump",
          "<b>Date:</b> 2025-01-24 11:27<br><b>Topic:</b> announce-pleased-pleased announce (Confidence: 0.820)<br><b>Content:</b><br>Just landed in the Great State of North Carolina!<br><b>Speaker:</b> Donald Trump",
          "<b>Date:</b> 2025-01-24 11:26<br><b>Topic:</b> announce-pleased-pleased announce (Confidence: 0.503)<br><b>Content:</b><br>Departing the White House and headed to North Carolina and<br>California…<br><b>Speaker:</b> Donald Trump",
          "<b>Date:</b> 2025-01-22 19:22<br><b>Topic:</b> announce-pleased-pleased announce (Confidence: 0.661)<br><b>Content:</b><br>It is my great honor to appoint Sean Curran as the next<br>Director of the United States Secret Service. Sean is a<br>Great Patriot, who has protected my family over the past few<br>years, and that is why I tr...<br><b>Speaker:</b> Donald Trump",
          "<b>Date:</b> 2025-01-22 19:03<br><b>Topic:</b> announce-pleased-pleased announce (Confidence: 0.530)<br><b>Content:</b><br>I am pleased to announce that Andrew F. Puzder will serve as<br>the next United States Ambassador to the European Union.<br>Andy is a successful attorney, businessman, economic<br>commentator, and author. In 2...<br><b>Speaker:</b> Donald Trump",
          "<b>Date:</b> 2025-01-22 19:03<br><b>Topic:</b> announce-pleased-pleased announce (Confidence: 0.357)<br><b>Content:</b><br>I am pleased to announce that L. Brent Bozell III will serve<br>as the next CEO of the United States Agency for Global<br>Media.As Founder and President of the Media Research Center<br>for 38 years, few unders...<br><b>Speaker:</b> Donald Trump",
          "<b>Date:</b> 2025-01-19 14:33<br><b>Topic:</b> announce-pleased-pleased announce (Confidence: 0.550)<br><b>Content:</b><br>RT@TeamTrumpPresident Trump and Vice President-elect Vance<br>arrive at Arlington National Cemetery to lay wreaths at the<br>Tomb of the Unknown Solider.<br><b>Speaker:</b> Donald Trump",
          "<b>Date:</b> 2025-01-18 08:29<br><b>Topic:</b> announce-pleased-pleased announce (Confidence: 0.604)<br><b>Content:</b><br>I am pleased to announce that Penny Schwinn will be our next<br>United States Deputy Secretary of Education.Penny has a<br>strong record of delivering results for children and<br>families. She previously serve...<br><b>Speaker:</b> Donald Trump",
          "<b>Date:</b> 2025-01-17 20:10<br><b>Topic:</b> announce-pleased-pleased announce (Confidence: 0.819)<br><b>Content:</b><br>I am pleased to announce that Lieutenant Colonel Matthew<br>Lohmeier will be the next United States Under Secretary of<br>the Air Force.Matt is a former fighter pilot, and Space<br>Force Squadron Commander, wh...<br><b>Speaker:</b> Donald Trump",
          "<b>Date:</b> 2025-01-17 08:40<br><b>Topic:</b> announce-pleased-pleased announce (Confidence: 0.497)<br><b>Content:</b><br>RT@justthenewsTrump demands FBI retain all information on<br>the shuttering of its DEI office, alleges corruption<br><b>Speaker:</b> Donald Trump",
          "<b>Date:</b> 2025-01-16 17:28<br><b>Topic:</b> announce-pleased-pleased announce (Confidence: 0.851)<br><b>Content:</b><br>I am pleased to announce that Michael Boren will serve as<br>the United States Under Secretary for Natural Resources and<br>Environment at the Department of Agriculture.Michael is a<br>successful businessman, ...<br><b>Speaker:</b> Donald Trump",
          "<b>Date:</b> 2025-01-16 17:28<br><b>Topic:</b> announce-pleased-pleased announce (Confidence: 0.688)<br><b>Content:</b><br>I am pleased to announce that Richard Fordyce will be the<br>next United States Under Secretary for Farm Production and<br>Conservation at the Department of Agriculture.Richard is a<br>proud fourth generation ...<br><b>Speaker:</b> Donald Trump",
          "<b>Date:</b> 2025-01-16 14:58<br><b>Topic:</b> announce-pleased-pleased announce (Confidence: 0.837)<br><b>Content:</b><br>I am pleased to announce that Dudley Hoskins will be the<br>United States Under Secretary for Marketing and Regulator<br>Programs at the Department of Agriculture.Dudley currently<br>serves as Counsel on the S...<br><b>Speaker:</b> Donald Trump",
          "<b>Date:</b> 2025-01-16 14:58<br><b>Topic:</b> announce-pleased-pleased announce (Confidence: 0.970)<br><b>Content:</b><br>I am pleased to announce that Dr. Troy Meink will be the<br>next United States Secretary of the Air Force.Troy currently<br>serves as the Principal Deputy Director of the National<br>Reconnaissance Office, and...<br><b>Speaker:</b> Donald Trump",
          "<b>Date:</b> 2025-01-16 14:58<br><b>Topic:</b> announce-pleased-pleased announce (Confidence: 0.622)<br><b>Content:</b><br>I am pleased to announce that Olivia Trusty will serve as a<br>Commissioner on the Federal Communications Commission<br>(FCC).Olivia is currently the Policy Director on the United<br>States Senate Committee on...<br><b>Speaker:</b> Donald Trump",
          "<b>Date:</b> 2025-01-16 14:58<br><b>Topic:</b> announce-pleased-pleased announce (Confidence: 0.666)<br><b>Content:</b><br>I am pleased to announce Luke Lindberg will serve as the<br>next United States Under Secretary for Trade and Foreign<br>Agriculture Affairs at the Department of Agriculture.During<br>my First Term, Luke served...<br><b>Speaker:</b> Donald Trump",
          "<b>Date:</b> 2025-01-16 14:58<br><b>Topic:</b> announce-pleased-pleased announce (Confidence: 0.511)<br><b>Content:</b><br>I am pleased to announce that Chris Stallings will be the<br>United States Assistant Administrator for Disaster Recovery<br>and Resilience of the Small Business Administration.Chris<br>Stallings currently serv...<br><b>Speaker:</b> Donald Trump",
          "<b>Date:</b> 2025-01-16 11:12<br><b>Topic:</b> announce-pleased-pleased announce (Confidence: 0.739)<br><b>Content:</b><br>I am pleased to announce that former Congressman Brandon<br>Williams will serve as the next Under Secretary for Nuclear<br>Security and the Administrator of the National Nuclear<br>Security Administration at t...<br><b>Speaker:</b> Donald Trump",
          "<b>Date:</b> 2025-01-16 11:12<br><b>Topic:</b> announce-pleased-pleased announce (Confidence: 0.820)<br><b>Content:</b><br>I am pleased to announce that Dr. Darío Gil will be the next<br>Under Secretary for Science and Innovation at the United<br>States Department of Energy.Darío is a brilliant businessman<br>and scientist, with a...<br><b>Speaker:</b> Donald Trump",
          "<b>Date:</b> 2025-01-16 11:12<br><b>Topic:</b> announce-pleased-pleased announce (Confidence: 0.864)<br><b>Content:</b><br>I am pleased to announce that Bill Pulte will serve as the<br>next Director of the Federal Housing Finance Agency.Bill<br>needs no formal introduction to the Great Citizens of our<br>Country, because they have...<br><b>Speaker:</b> Donald Trump",
          "<b>Date:</b> 2025-01-16 11:11<br><b>Topic:</b> announce-pleased-pleased announce (Confidence: 0.834)<br><b>Content:</b><br>It is my honor to announce that Wells Griffith will be the<br>next Under Secretary of Energy at the United States<br>Department of Energy.During my First Term, Wells served as<br>the Senior Advisor to the CEO ...<br><b>Speaker:</b> Donald Trump",
          "<b>Date:</b> 2025-01-15 13:45<br><b>Topic:</b> announce-pleased-pleased announce (Confidence: 0.700)<br><b>Content:</b><br>RT@realDonaldTrumpThank you, and congratulations, to the<br>International Longshoremen's Association!<br><b>Speaker:</b> Donald Trump",
          "<b>Date:</b> 2025-01-15 11:01<br><b>Topic:</b> announce-pleased-pleased announce (Confidence: 0.775)<br><b>Content:</b><br>Thank you, and congratulations, to the International<br>Longshoremen's Association!<br><b>Speaker:</b> Donald Trump",
          "<b>Date:</b> 2025-01-15 07:27<br><b>Topic:</b> announce-pleased-pleased announce (Confidence: 0.469)<br><b>Content:</b><br>“David Schoen has ‘never seen an FBI like this before’ —<br>Politics has ‘infected’ the agency”<br><b>Speaker:</b> Donald Trump",
          "<b>Date:</b> 2025-01-14 23:39<br><b>Topic:</b> announce-pleased-pleased announce (Confidence: 0.868)<br><b>Content:</b><br>I am pleased to announce that Keith Sonderling will serve as<br>the next United States Deputy Secretary of Labor. Keith will<br>work with our great Nominee for Secretary of Labor, Lori<br>Chavez-Deremer, to pu...<br><b>Speaker:</b> Donald Trump",
          "<b>Date:</b> 2025-01-13 14:12<br><b>Topic:</b> announce-pleased-pleased announce (Confidence: 0.479)<br><b>Content:</b><br>Mark Levin: “Trump's felony case will be remembered as an<br>absolute injustice”<br><b>Speaker:</b> Donald Trump",
          "<b>Date:</b> 2025-01-13 14:12<br><b>Topic:</b> announce-pleased-pleased announce (Confidence: 0.525)<br><b>Content:</b><br>Mark Levin: “This was a judicial abomination!”<br><b>Speaker:</b> Donald Trump",
          "<b>Date:</b> 2025-01-13 11:35<br><b>Topic:</b> announce-pleased-pleased announce (Confidence: 0.601)<br><b>Content:</b><br>Andrew McKenna will not be invited to join the Trump<br>Administration as Secretary of the Air Force, or anything<br>else. That is Fake News put out by Politico!<br><b>Speaker:</b> Donald Trump",
          "<b>Date:</b> 2025-01-12 00:58<br><b>Topic:</b> announce-pleased-pleased announce (Confidence: 0.517)<br><b>Content:</b><br>RT@marklevinshowI’ll see you Sunday on Life, Liberty and<br>Levin, 8 PM Eastern on Fox. Set your DVR now!<br><b>Speaker:</b> Donald Trump",
          "<b>Date:</b> 2025-01-11 15:56<br><b>Topic:</b> announce-pleased-pleased announce (Confidence: 0.792)<br><b>Content:</b><br>I am pleased to announce that David Fotouhi will serve as<br>the next Deputy Administrator of the Environmental<br>Protection Agency.David worked at the EPA for the entirety<br>of my First Term, concluding his...<br><b>Speaker:</b> Donald Trump",
          "<b>Date:</b> 2025-01-11 15:22<br><b>Topic:</b> announce-pleased-pleased announce (Confidence: 0.533)<br><b>Content:</b><br>I am pleased to announce that Paul R. Lawrence, Ph.D., will<br>serve as the next Deputy Secretary Of Veterans Affairs.Paul<br>was a great VA Under Secretary of Benefits in my First Term,<br>implementing Legisl...<br><b>Speaker:</b> Donald Trump",
          "<b>Date:</b> 2025-01-11 15:22<br><b>Topic:</b> announce-pleased-pleased announce (Confidence: 0.556)<br><b>Content:</b><br>I am pleased to announce that Casey B. Mulligan will serve<br>as the Chief Counsel for Advocacy at the United States Small<br>Business Administration.Casey is a fantastic Economist from<br>the University of Ch...<br><b>Speaker:</b> Donald Trump",
          "<b>Date:</b> 2025-01-11 15:22<br><b>Topic:</b> announce-pleased-pleased announce (Confidence: 0.969)<br><b>Content:</b><br>I am pleased to announce that James P. Danly will be our<br>next United States Deputy Secretary of Energy.James is a<br>retired U.S. Army Officer, who served for two tours in Iraq,<br>where he earned the Bronz...<br><b>Speaker:</b> Donald Trump",
          "<b>Date:</b> 2025-01-11 15:08<br><b>Topic:</b> announce-pleased-pleased announce (Confidence: 0.955)<br><b>Content:</b><br>I am pleased to announce that Katharine MacGregor will serve<br>as the next United States Deputy Secretary of the<br>Interior.Katharine is currently Vice President of<br>Environmental Services at NextEra Energ...<br><b>Speaker:</b> Donald Trump",
          "<b>Date:</b> 2025-01-11 15:08<br><b>Topic:</b> announce-pleased-pleased announce (Confidence: 0.708)<br><b>Content:</b><br>I am pleased to announce that Steven Gill Bradbury will be<br>the next United States Deputy Secretary of<br>Transportation.For the entirety of my First Term, Steven<br>served as the General Counsel of the Depa...<br><b>Speaker:</b> Donald Trump",
          "<b>Date:</b> 2025-01-10 18:49<br><b>Topic:</b> announce-pleased-pleased announce (Confidence: 0.547)<br><b>Content:</b><br>I am pleased to announce that Bill Briggs will serve as the<br>next Deputy Administrator of the U.S. Small Business<br>Administration.Bill is a successful businessman who served<br>in my First Term as the Acti...<br><b>Speaker:</b> Donald Trump",
          "<b>Date:</b> 2025-01-10 18:39<br><b>Topic:</b> announce-pleased-pleased announce (Confidence: 0.506)<br><b>Content:</b><br>I am pleased to announce that Ed Russo, an Environmental<br>Expert, will lead our Environmental Advisory Task Force,<br>which will advise my Administration on initiatives to create<br>great jobs and protect ou...<br><b>Speaker:</b> Donald Trump",
          "<b>Date:</b> 2025-01-09 19:20<br><b>Topic:</b> announce-pleased-pleased announce (Confidence: 0.707)<br><b>Content:</b><br>I am pleased to announce that Sam Brown of Nevada will serve<br>as the next Under Secretary for Memorial Affairs at the<br>Department of Veterans Affairs.Sam is an American HERO, a<br>Purple Heart recipient, a...<br><b>Speaker:</b> Donald Trump",
          "<b>Date:</b> 2025-01-09 18:38<br><b>Topic:</b> announce-pleased-pleased announce (Confidence: 0.980)<br><b>Content:</b><br>I am pleased to announce that Leo Terrell will be Senior<br>Counsel to the Assistant Attorney General for Civil Rights<br>in the United States Department of Justice. He will work<br>alongside Harmeet K. Dhillo...<br><b>Speaker:</b> Donald Trump",
          "<b>Date:</b> 2025-01-09 18:38<br><b>Topic:</b> announce-pleased-pleased announce (Confidence: 0.862)<br><b>Content:</b><br>I am pleased to announce that Christine Jack Toretti will<br>serve as the next United States Ambassador to<br>Sweden.Christine is an incredible businesswoman,<br>philanthropist, public servant, and RNC Committ...<br><b>Speaker:</b> Donald Trump",
          "<b>Date:</b> 2025-01-08 23:40<br><b>Topic:</b> announce-pleased-pleased announce (Confidence: 0.586)<br><b>Content:</b><br>One of the best and most beautiful parts of the United<br>States of America is burning down to the ground. It’s ashes,<br>and Gavin Newscum should resign. This is all his fault!!!<br><b>Speaker:</b> Donald Trump",
          "<b>Date:</b> 2025-01-08 14:09<br><b>Topic:</b> announce-pleased-pleased announce (Confidence: 0.564)<br><b>Content:</b><br>As of this moment, Gavin Newscum and his Los Angeles crew<br>have contained exactly ZERO percent of the fire. It is<br>burning at levels that even surpass last night. This is not<br>Government. I can’t wait ti...<br><b>Speaker:</b> Donald Trump",
          "<b>Date:</b> 2025-01-06 20:10<br><b>Topic:</b> announce-pleased-pleased announce (Confidence: 0.435)<br><b>Content:</b><br>It is my great honor to announce that Joseph Nocella, Jr.,<br>will be the next United States Attorney for the Eastern<br>District of New York.Judge Nocella has a strong record of<br>bringing Law and Order to t...<br><b>Speaker:</b> Donald Trump",
          "<b>Date:</b> 2025-01-03 19:26<br><b>Topic:</b> announce-pleased-pleased announce (Confidence: 0.414)<br><b>Content:</b><br>It is my great honor to announce that Tammy Bruce will be<br>joining our incredible Nominee for United States Secretary<br>of State, Marco Rubio, as Spokesperson for the U.S.<br>Department of State.Tammy is a ...<br><b>Speaker:</b> Donald Trump",
          "<b>Date:</b> 2025-01-03 18:27<br><b>Topic:</b> announce-pleased-pleased announce (Confidence: 0.661)<br><b>Content:</b><br>I am pleased to announce the nomination of Roman Pipko to<br>serve as the next United States Ambassador to the Republic<br>of Estonia.Roman was born and raised in Estonia. He has<br>extensive experience in dea...<br><b>Speaker:</b> Donald Trump",
          "<b>Date:</b> 2025-01-02 19:34<br><b>Topic:</b> announce-pleased-pleased announce (Confidence: 0.831)<br><b>Content:</b><br>I am pleased to announce the amazing Team that will be<br>working in conjunction with our United States Secretary of<br>the Treasury Nominee, Scott Bessent. All of them are<br>incredible, hardworking Patriots,...<br><b>Speaker:</b> Donald Trump",
          "<b>Date:</b> 2025-01-02 19:34<br><b>Topic:</b> announce-pleased-pleased announce (Confidence: 0.910)<br><b>Content:</b><br>….Cora Alvi will serve as Deputy Chief of Staff. Cora most<br>recently worked as the National Deputy Finance Director for<br>Donald J. Trump for President Inc.Congratulations to all!<br><b>Speaker:</b> Donald Trump",
          "<b>Date:</b> 2025-01-02 19:33<br><b>Topic:</b> announce-pleased-pleased announce (Confidence: 0.602)<br><b>Content:</b><br>I am pleased to announce that Benjamin Leon Jr. will serve<br>as the next United States Ambassador to Spain.Benjamin is a<br>highly successful entrepreneur, equestrian, and<br>philanthropist. He came to the U....<br><b>Speaker:</b> Donald Trump",
          "<b>Date:</b> 2025-01-02 19:33<br><b>Topic:</b> announce-pleased-pleased announce (Confidence: 0.556)<br><b>Content:</b><br>I am pleased to announce that Joe Popolo will serve as the<br>next United States Ambassador to the Netherlands.Joe is a<br>successful businessman and philanthropist across many<br>different sectors. For over 2...<br><b>Speaker:</b> Donald Trump"
         ],
         "type": "scatter3d",
         "x": {
          "bdata": "NCcHvvSgt8BEWLfAxZGSvgZS2MAy0bbA92WtwEH1670HQ7PAOaSkvn27rMAaara+kCirwGQTF75Nc428sKGrwKvAkcBscanAl/7bwP3XzsBt+9vA64arvu6jM70Y4EfAI4hIvoWQs8AOTm7A47O0wCZss8Bl3LzAHkecvjmTw8CokbjA9qKZwNNUksCFgrnA73GBveBOuMAyBKrAypyyvo7ikL4BdpHA7PKzwLzl18BKWL3AZLJ1vhM4a77f/G7AznWowIGPscAIVqvA8MTMwOFDtMCk5djAaIDQwDodq8AakbjA1722wPDS3roY6XDA7yaqwNOquMDJli++xqqzwJJTqMAt8bPAg1iswEuUfr6TuKDAYrzVwKZ/q8DG8rTAHDagwGTGn8BgRLXAzUu2wA9dv8Ar7bjAhhvBwP/FxMAsmLnASzG7wDQCz8AGj6DAiQaxwLFfu8CNCNfAqdGkwNiUpsCABtzAdpK3wIzLrcCNt87APQDXwD2mqMBwDNbAiLK9wCsYusA+B9fAkFAnvqU4+jtcgqvAJC23wCX/tcCjB63AMO7BwLtJcMBor6jAPparwNZIvsBvTanAlWG3wDyhncAvZKrAfOyawA6NqMCyQaS+yGaewIudq8Cx5NvAFs2swCWbqsA3rJLA/svXwNlntMCjCrrA8bS0wLQFucAgPaLAE87OwI3gzsBljbTA33BtvjMpuMBoj5rA4kdmvWMeqcDA2LTAvYe6wDsBmsDHR9bAVxivwP/EqsDtRLLAPR6swDwqu8CeML3A+R26wPfpkcBEubXAWdKSwHYFz8BUz9vAWo6zwNqR3MBgr7XAjLDAwICNyMAy16jA9DjPwN62usAxm7zAWTWqwJnP2MDjvMvA/hvYwN9KtMDLeMvAwGGawNponcAvv8HANqjPwNLazsDgYc7A/tbXwNf828CJErjAYs6vwMHk1sAMsJ6+W6uSwFFAksA0G83Aly2pwOkLocB7j7TAkTK1wBpnwsCIeqDAa2vGwHgdxcAtuLPAb7W6wHuTucANzbrAxXkQPGvJJb7KmNbA+s3ZwBXMs8Ac/MDAwamkwA==",
          "dtype": "f4"
         },
         "y": {
          "bdata": "9FLhQD82Pr9mT0K/bm3kQBvIVr8iyD6/SHtZQKZd4EBVGIS/RB/lQCU5YEA6utVAQxDFv5mM4UDSRd5AMcljQLbAMsCuR2hAdIa3v3WWFL9Uz7W/hWnlQJ5r3kAZNDzAMy3iQPggs78yZoW+4+eUvwhSl7+UwqO+imXkQP2dAb8RKka+WjkUvxBPM8BMTaa+0VzfQJjAor8gaWC/M/DlQGD+40CmfDTAV3Zdv+V4Ub9/NGC/LX/jQAoS4kARcE++eqjQvy5Yqb/QwGJAx3Qqv0B8ob/PH1O/60wfv5p8XUCnfFK+VHFJv4HC3ECPklS+oUzGv+wwYL+IqOFAj0iSv+ujz7/mLlS/9i1hQIKi40C1sDK//hmLv/lHZUAf356/r9T5v+3O+782KaK/gh9Zv5tnyb7+rmO/4ksRv2TyRr/3eci+bNRgv8CAEr8eXgDAaXKGv6o/kb4zfo2/95z4vxWH2r8JF7a/ESVPv8lLX0AJKQ+/nxuKv9zvdb+wYnK/DXhWv1Dic7/YBo2/SxHiQNv+20Dhx2JA/w5Vvyu3a79YYF9AsMsLvxhPj757n4+/4PZhv5tkxL543GdAvjCjv6UoJr9oZca/P4ocv9WxzL/HauVA1R0pvzTkXUB1Jre/dEVhQExuZUDIlDLAZ0BPv8dto79dXWW/ZTSgv1oRZL/JLRK/qagRvxspE79duFK/6ObiQJSJhr/vCRm/w8HeQNt+aEAeqpW/hsZ2vs/lFb/1Io+/gqZ7v5CpxL9sdom/jL6Dv5N6Y78+KFy/NbVevw6QNMBYaZy/EFAywIJxDr9ku7a/UO6Yv9RZub8Wy1S/SHBMv5NwHb9/1WNAB/8Svz/jX79RqGC/vchnQDAkkL9YlCi/7iiOv7YJl78Lrim/iqcYv6iUBMDsnUa/2gwmv2WQJr/G7Si/DetUv0leur+Kwye+PoCfv6R+kr+JQ+VALKYywClgM8Agci6/GUpoQKRY/L8pU5K/o6aVvxoz774yFvu/FVZAvwC0SL/G35C/w3Rzv0oGX7/O7mm+UpbcQBUs4kBJEo2/0VqSv743nL8ZSv2+C6kxvw==",
          "dtype": "f4"
         },
         "z": {
          "bdata": "dS/OQIVeyT/aO8w/upDQQNvMnj7k8dA/kxu7v4XNzUBKXSs+dKLRQF0swL+g5q9ANpPbPlCqz0B+s8xAL0zBv18jxT854Mi/RytPvfcQ8D5M1y69UNbRQBk9z0BWO0xAh7HPQOSPlj5R9k6+SBCgPQQiLjzWS+w+OBvQQDND2j5o1wQ/UVtiPMqswj9QVu4+qVfNQDBFfz5UF6U9kBvOQA2y0EB4f8Y/1cvVPwkPpz5XqGs/VTzQQDbhzUAGFty940YsPyRYbT65w76/hZMZP5BLe72WwKY+iVzkPmNmxb85m9c+nGTSPw/kzkCFSYC+GdznPh4yLz0GgM9ASe6LPaHX/T62Hes/h8W/v4vP0EAFQhM+K9EXPksFvr/vnke9rD4GP0BxEj9cbj4+YVqHP15i5z5XL7g/sPDTPnxeTD8tnxI/PQyjP1zV8j4dMho/+6AxPZ7m9z61fvU9UaQtPy1ODz/zwC69KzbHP7jgub+uHf0+g/sOPtE86D2OuGY+JCWWP8thDT1oqOw9HnzOQESbz0CfxcG/SnXMP+4+wT+Ekb6/82G4PhvKYL5qVFY+womOPaCU6j4b78a/mijoPRaeUz2gmes+igcVPTU18j7t2dFAjRhnPWmawb/e4U69jtm8v2I+w7+S4MA/GWStPpTtVr0VF7E/hUu1vFk5tj+LHwQ+22PxPjfb8j4TGeY/TejPQKA0CD8zMw496zPQQFeMxr/2U5M9dQQDP3AwzTwFZco9Cd08PXYn6D5qUAc9HgYQPmf1nz+BoYg/oXurPxxYxD+1nfk9JU3AP0Of4D4y8UG9SdmIPLHgXr248Ng/lcDcPadpET/cV8i/zYTxPs3WpD/sDXc9i2bHv8Zz/T31Sxw/1hwBPtfEjj3oiCI/FEjNPP1PEj/hvCw+ZN/6Pj12CD92mBE/hQKhPohPQb2VDRA/xEZoPsQRqj2ErtFAWwvBP4oHwz+ZJBo/MsLGvy9jED9WuoU9+BCnPV8k9j48NBI/vglPP74yOz9SScg9PWgnPTxvsj/LdQg/ttHOQLX1zkAmuvQ9XMQAPseQp7wB8vc+L33pPQ==",
          "dtype": "f4"
         }
        },
        {
         "hoverinfo": "text",
         "hovertemplate": "%{text}<extra></extra>",
         "marker": {
          "color": "rgb(252,205,229)",
          "line": {
           "color": "darkgray",
           "width": 0.5
          },
          "opacity": 0.8,
          "size": 5
         },
         "mode": "markers",
         "name": "Topic 8: house-white-white house",
         "text": [
          "<b>Date:</b> 2025-07-18 09:30<br><b>Topic:</b> house-white-white house (Confidence: 0.367)<br><b>Content:</b><br>Big signing at 2:30 in the White House. Congratulations to<br>our GREAT REPUBLICANS for being able to accomplish so much,<br>a record, in so short a period of time. All the Democrats do<br>is complain and crit...<br><b>Speaker:</b> Donald Trump",
          "<b>Date:</b> 2025-07-18 09:30<br><b>Topic:</b> house-white-white house (Confidence: 0.367)<br><b>Content:</b><br>Big signing at 2:30 in the White House. Congratulations to<br>our GREAT REPUBLICANS for being able to accomplish so much,<br>a record, in so short a period of time. All the Democrats do<br>is complain and crit...<br><b>Speaker:</b> Donald Trump",
          "<b>Date:</b> 2025-07-17 21:07<br><b>Topic:</b> house-white-white house (Confidence: 0.456)<br><b>Content:</b><br>Based on the ridiculous amount of publicity given to Jeffrey<br>Epstein, I have asked Attorney General Pam Bondi to produce<br>any and all pertinent Grand Jury testimony, subject to Court<br>approval. This SCA...<br><b>Speaker:</b> Donald Trump",
          "<b>Date:</b> 2025-07-17 21:07<br><b>Topic:</b> house-white-white house (Confidence: 0.456)<br><b>Content:</b><br>Based on the ridiculous amount of publicity given to Jeffrey<br>Epstein, I have asked Attorney General Pam Bondi to produce<br>any and all pertinent Grand Jury testimony, subject to Court<br>approval. This SCA...<br><b>Speaker:</b> Donald Trump",
          "<b>Date:</b> 2025-07-16 22:12<br><b>Topic:</b> house-white-white house (Confidence: 0.481)<br><b>Content:</b><br>Tom Homan: “President Trump secured this border, the highest<br>level EVER-/in seven weeks…he took the most unsecure border<br>we’ve ever seen…and secured it in seven weeks.”<br><b>Speaker:</b> Donald Trump",
          "<b>Date:</b> 2025-07-16 18:47<br><b>Topic:</b> house-white-white house (Confidence: 0.936)<br><b>Content:</b><br>It was my Great Honor to welcome the Prime Minister and<br>Crown Prince of Bahrain today at the White House. We have<br>had a tremendous relationship with Bahrain over the<br>years—and they have been a fantast...<br><b>Speaker:</b> Donald Trump",
          "<b>Date:</b> 2025-07-16 10:39<br><b>Topic:</b> house-white-white house (Confidence: 0.591)<br><b>Content:</b><br>Secretary of Energy, Chris Wright: “President Trump has<br>TRANSFORMED the American energy landscape. You're going to<br>see a lot more of big, beautiful, clean coal!”<br><b>Speaker:</b> Donald Trump",
          "<b>Date:</b> 2025-07-15 20:43<br><b>Topic:</b> house-white-white house (Confidence: 0.509)<br><b>Content:</b><br>I am in the Oval Office with 11 of the 12 Congressmen/women<br>necessary to pass the GENIUS Act and, after a short<br>discussion, they have all agreed to vote tomorrow morning in<br>favor of the Rule. Speaker ...<br><b>Speaker:</b> Donald Trump",
          "<b>Date:</b> 2025-07-15 11:29<br><b>Topic:</b> house-white-white house (Confidence: 0.620)<br><b>Content:</b><br>HAPPY CRYPTO WEEK! The House will soon VOTE on a tremendous<br>Bill to Make America the UNDISPUTED, NUMBER ONE LEADER in<br>Digital Assets - Nobody does it better! The GENIUS Act is<br>going to put our Great N...<br><b>Speaker:</b> Donald Trump",
          "<b>Date:</b> 2025-07-15 10:59<br><b>Topic:</b> house-white-white house (Confidence: 0.850)<br><b>Content:</b><br>“America has the power to lead the AI revolution and the<br>leadership to make it happen—President brings industry<br>leaders to Pittsburgh to leverage natural gas for powering<br>the next tech revolution”<br><b>Speaker:</b> Donald Trump",
          "<b>Date:</b> 2025-07-14 19:46<br><b>Topic:</b> house-white-white house (Confidence: 0.410)<br><b>Content:</b><br>The United States Supreme Court has handed a Major Victory<br>to Parents and Students across the Country, by declaring the<br>Trump Administration may proceed on returning the functions<br>of the Department of...<br><b>Speaker:</b> Donald Trump",
          "<b>Date:</b> 2025-07-11 21:00<br><b>Topic:</b> house-white-white house (Confidence: 0.967)<br><b>Content:</b><br>Salena Zito has written a powerful new Book, “BUTLER: The<br>Untold Story of the Near Assassination of Donald Trump and<br>the Fight for America’s Heartland.” Salena was an eyewitness<br>to that terrible day, ...<br><b>Speaker:</b> Donald Trump",
          "<b>Date:</b> 2025-07-11 10:47<br><b>Topic:</b> house-white-white house (Confidence: 0.564)<br><b>Content:</b><br>Tom Homan and Kristi Noem are doing a FANTASTIC job. Thank<br>you both! DJT<br><b>Speaker:</b> Donald Trump",
          "<b>Date:</b> 2025-07-09 13:48<br><b>Topic:</b> house-white-white house (Confidence: 0.850)<br><b>Content:</b><br>RT@rapidresponse47President Trump welcomes leaders of Gabon,<br>Guinea-Bissau, Liberia, Mauritania, and Senegal to the White<br>House 🇺🇸🇬🇦🇬🇼🇱🇷🇲🇷🇸🇳<br><b>Speaker:</b> Donald Trump",
          "<b>Date:</b> 2025-07-04 17:02<br><b>Topic:</b> house-white-white house (Confidence: 0.517)<br><b>Content:</b><br>JOIN ME LIVE AT THE WHITE HOUSE!<br><b>Speaker:</b> Donald Trump",
          "<b>Date:</b> 2025-07-04 10:23<br><b>Topic:</b> house-white-white house (Confidence: 0.506)<br><b>Content:</b><br>The wonderful Newt Gingrich has just written a book that is<br>the talk of D.C. It’s called, “TRUMP’S TRIUMPH, America’s<br>Greatest Comeback.” Word is that it’s Fantastic, but I<br>haven’t read it yet - I’ve ...<br><b>Speaker:</b> Donald Trump",
          "<b>Date:</b> 2025-07-03 19:19<br><b>Topic:</b> house-white-white house (Confidence: 0.953)<br><b>Content:</b><br>Very proud of Senate Majority Leader John Thune, who worked<br>around the clock to get the “ONE BIG BEAUTIFUL BILL ACT”<br>approved in the Senate. He is tough, smart, and knows how to<br>GET THE JOB DONE. Than...<br><b>Speaker:</b> Donald Trump",
          "<b>Date:</b> 2025-07-03 19:13<br><b>Topic:</b> house-white-white house (Confidence: 0.961)<br><b>Content:</b><br>Great job by the Speaker of the House, Mike Johnson, who<br>spearheaded the drive in Congress for the approval of the<br>“ONE BIG BEAUTIFUL BILL ACT.” He has Great Strength and<br>Wisdom, and will go down as o...<br><b>Speaker:</b> Donald Trump",
          "<b>Date:</b> 2025-07-03 18:51<br><b>Topic:</b> house-white-white house (Confidence: 0.776)<br><b>Content:</b><br>Louisiana: You have an incredible Congressman in Steve<br>Scalise! As House Majority Leader, he fought hard to help us<br>secure the Votes for the “ONE BIG BEAUTIFUL BILL ACT” — A<br>HISTORIC WIN for our Count...<br><b>Speaker:</b> Donald Trump",
          "<b>Date:</b> 2025-07-03 18:29<br><b>Topic:</b> house-white-white house (Confidence: 0.953)<br><b>Content:</b><br>Minnesota: You have a GREAT Congressman in Tom Emmer. As<br>Majority Whip, he was instrumental in helping us get the<br>“ONE BIG BEAUTIFUL BILL ACT,” the BIGGEST OF ITS KIND ever<br>approved in Congress. He is...<br><b>Speaker:</b> Donald Trump",
          "<b>Date:</b> 2025-07-03 18:15<br><b>Topic:</b> house-white-white house (Confidence: 0.981)<br><b>Content:</b><br>The Republicans in the House of Representatives have just<br>passed the “ONE BIG BEAUTIFUL BILL ACT.” Our Party is UNITED<br>like never before and, our Country is “HOT.” We are going to<br>have a Signing Celeb...<br><b>Speaker:</b> Donald Trump",
          "<b>Date:</b> 2025-07-03 17:43<br><b>Topic:</b> house-white-white house (Confidence: 0.753)<br><b>Content:</b><br>RT@RSBNWATCH: President Trump's First Comments After Speaker<br>Mike Johnson Signs the Biggest Bill Ever. \"It's the biggest<br>bill ever signed of this Country!\" - 7/3/25<br><b>Speaker:</b> Donald Trump",
          "<b>Date:</b> 2025-07-02 21:12<br><b>Topic:</b> house-white-white house (Confidence: 0.453)<br><b>Content:</b><br>It looks like the House is ready to vote tonight. We had<br>GREAT conversations all day, and the Republican House<br>Majority is UNITED, for the Good of our Country, delivering<br>the Biggest Tax Cuts in Histo...<br><b>Speaker:</b> Donald Trump",
          "<b>Date:</b> 2025-07-02 08:13<br><b>Topic:</b> house-white-white house (Confidence: 0.455)<br><b>Content:</b><br>Speaker Johnson: “We are at the 1-yard line. We are going to<br>run it right up the middle and score for the American<br>people. Everyone is going to benefit from this bill. It’s<br>the most conservative piece...<br><b>Speaker:</b> Donald Trump",
          "<b>Date:</b> 2025-07-01 20:40<br><b>Topic:</b> house-white-white house (Confidence: 0.564)<br><b>Content:</b><br>Very sad, Jimmy Swaggart passed away today! He was an<br>incredible Man of Faith and, as our Nation’s longest serving<br>Televangelist, inspired millions with his Great Love of God<br>and Country. Our hearts a...<br><b>Speaker:</b> Donald Trump",
          "<b>Date:</b> 2025-07-01 14:29<br><b>Topic:</b> house-white-white house (Confidence: 0.398)<br><b>Content:</b><br>Almost all of our Great Republicans in the United States<br>Senate have passed our “ONE, BIG, BEAUTIFUL BILL.” It is no<br>longer a “House Bill” or a “Senate Bill”. It is everyone’s<br>Bill. There is so much t...<br><b>Speaker:</b> Donald Trump",
          "<b>Date:</b> 2025-07-01 13:30<br><b>Topic:</b> house-white-white house (Confidence: 0.775)<br><b>Content:</b><br>RT@realamericasvoice👏 ROOM ERUPTS WITH APPLAUSE THE MOMENT<br>POTUS LEARNS THE OBB HAS PASSED THE SENATE FROM RAV'S@BRIAN!<br><b>Speaker:</b> Donald Trump",
          "<b>Date:</b> 2025-07-01 07:35<br><b>Topic:</b> house-white-white house (Confidence: 0.850)<br><b>Content:</b><br>“TRUMP’S AGENDA IS IN THE BIG BEAUTIFUL BILL”<br><b>Speaker:</b> Donald Trump",
          "<b>Date:</b> 2025-06-29 13:36<br><b>Topic:</b> house-white-white house (Confidence: 0.512)<br><b>Content:</b><br>It was my Great Honor to pardon Michael Flynn, a FEARLESS<br>Patriot and Decorated General, who was savagely attacked by<br>the Biden/Obama Deep State, which has now been completely<br>exposed for the FRAUD it...<br><b>Speaker:</b> Donald Trump",
          "<b>Date:</b> 2025-06-27 14:01<br><b>Topic:</b> house-white-white house (Confidence: 0.300)<br><b>Content:</b><br>The Great Republicans in the U.S. Senate are working all<br>weekend to finish our “ONE, BIG, BEAUTIFUL BILL.” We are on<br>the precipice of delivering Massive General Tax Cuts, NO TAX<br>ON TIPS, NO TAX ON OVE...<br><b>Speaker:</b> Donald Trump",
          "<b>Date:</b> 2025-06-27 10:52<br><b>Topic:</b> house-white-white house (Confidence: 0.732)<br><b>Content:</b><br>GIANT WIN in the United States Supreme Court! Even the<br>Birthright Citizenship Hoax has been, indirectly, hit hard.<br>It had to do with the babies of slaves (same year!), not the<br>SCAMMING of our Immigrat...<br><b>Speaker:</b> Donald Trump",
          "<b>Date:</b> 2025-06-26 17:52<br><b>Topic:</b> house-white-white house (Confidence: 0.329)<br><b>Content:</b><br>Tom Homan: “The Big Beautiful Bill should be<br>nonpartisan...if we get this bill passed, we got more agents<br>on the road, we buy more beds, we get more transportation<br>flights—More agents means more bad g...<br><b>Speaker:</b> Donald Trump",
          "<b>Date:</b> 2025-06-26 17:50<br><b>Topic:</b> house-white-white house (Confidence: 0.715)<br><b>Content:</b><br>The One Big Beautiful Bill is also an incredible victory for<br>America's Great Farmers…<br><b>Speaker:</b> Donald Trump",
          "<b>Date:</b> 2025-06-26 09:21<br><b>Topic:</b> house-white-white house (Confidence: 0.443)<br><b>Content:</b><br>The NATO Summit yesterday was GREAT, the most unified and<br>productive in history. A wonderful day with incredible and<br>caring Leaders. The Agreed to 5% gives NATO real power!<br><b>Speaker:</b> Donald Trump",
          "<b>Date:</b> 2025-06-25 03:38<br><b>Topic:</b> house-white-white house (Confidence: 0.496)<br><b>Content:</b><br>The day begins in the beautiful Netherlands. The King and<br>Queen are beautiful and spectacular people. Our breakfast<br>meeting was great! Now it’s off to the very important NATO<br>Meetings. The USA will be...<br><b>Speaker:</b> Donald Trump",
          "<b>Date:</b> 2025-06-24 10:38<br><b>Topic:</b> house-white-white house (Confidence: 0.398)<br><b>Content:</b><br>Mike Huckabee has been a GREAT Ambassador to Israel. Thank<br>you Mike!<br><b>Speaker:</b> Donald Trump",
          "<b>Date:</b> 2025-06-24 10:07<br><b>Topic:</b> house-white-white house (Confidence: 0.575)<br><b>Content:</b><br>Now that we have made PEACE abroad, we must finish the job<br>here at home by passing “THE GREAT, BIG, BEAUTIFUL BILL,”<br>and getting the Bill to my desk, ASAP. It will be a Historic<br>Present for THE GREAT ...<br><b>Speaker:</b> Donald Trump",
          "<b>Date:</b> 2025-06-21 17:43<br><b>Topic:</b> house-white-white house (Confidence: 0.700)<br><b>Content:</b><br>Thank you President Trump!“Belarus opposition leader Siarhei<br>Tsikhanouski freed from jail after rare visit by top US<br>envoy”<br><b>Speaker:</b> Donald Trump",
          "<b>Date:</b> 2025-06-20 18:38<br><b>Topic:</b> house-white-white house (Confidence: 0.967)<br><b>Content:</b><br>Salena Zito has written a powerful new Book, “BUTLER: The<br>Untold Story of the Near Assassination of Donald Trump and<br>the Fight for America’s Heartland.” Salena was an eyewitness<br>to that terrible day, ...<br><b>Speaker:</b> Donald Trump",
          "<b>Date:</b> 2025-06-19 17:56<br><b>Topic:</b> house-white-white house (Confidence: 0.700)<br><b>Content:</b><br>Congratulations to Mya Lesnar on the WIN — Great Genetics!<br><b>Speaker:</b> Donald Trump",
          "<b>Date:</b> 2025-06-18 20:01<br><b>Topic:</b> house-white-white house (Confidence: 0.965)<br><b>Content:</b><br>The Senate just passed an incredible Bill that is going to<br>make America the UNDISPUTED Leader in Digital Assets —<br>Nobody will do it better, it is pure GENIUS! Digital Assets<br>are the future, and our Na...<br><b>Speaker:</b> Donald Trump",
          "<b>Date:</b> 2025-06-17 20:20<br><b>Topic:</b> house-white-white house (Confidence: 0.550)<br><b>Content:</b><br>It is my Great Honor to announce that I will be putting up<br>two beautiful Flag Poles on both sides of the White House,<br>North and South Lawns. It is a GIFT from me of something<br>which was always missing ...<br><b>Speaker:</b> Donald Trump",
          "<b>Date:</b> 2025-06-17 10:07<br><b>Topic:</b> house-white-white house (Confidence: 0.439)<br><b>Content:</b><br>Tom Homan: “I really, truly believe President Trump is doing<br>the right thing for the American People…THE BIG BEAUTIFUL<br>BILL, we need the Senate to get off their butts, and pass<br>this Bill. More money m...<br><b>Speaker:</b> Donald Trump",
          "<b>Date:</b> 2025-06-14 09:48<br><b>Topic:</b> house-white-white house (Confidence: 0.505)<br><b>Content:</b><br>This is a big day for America!!! DJT<br><b>Speaker:</b> Donald Trump",
          "<b>Date:</b> 2025-06-12 08:52<br><b>Topic:</b> house-white-white house (Confidence: 0.669)<br><b>Content:</b><br>Of course Senator Rand Paul and his beautiful wife and<br>family are invited to the BIG White House Party tonight.<br>He’s the toughest vote in the history of the U.S. Senate,<br>but why wouldn’t he be? Beside...<br><b>Speaker:</b> Donald Trump",
          "<b>Date:</b> 2025-06-09 21:56<br><b>Topic:</b> house-white-white house (Confidence: 0.967)<br><b>Content:</b><br>Salena Zito has written a powerful new Book, “BUTLER: The<br>Untold Story of the Near Assassination of Donald Trump and<br>the Fight for America’s Heartland.” Salena was an eyewitness<br>to that terrible day, ...<br><b>Speaker:</b> Donald Trump",
          "<b>Date:</b> 2025-06-09 13:24<br><b>Topic:</b> house-white-white house (Confidence: 0.574)<br><b>Content:</b><br>A true champion, Kayla Harrison, who will soon be coming to<br>the White House to get a special award!<br><b>Speaker:</b> Donald Trump",
          "<b>Date:</b> 2025-06-06 14:29<br><b>Topic:</b> house-white-white house (Confidence: 0.417)<br><b>Content:</b><br>Just inspected the site of the new Ballroom that will be<br>built, compliments of a man known as Donald J. Trump, at the<br>White House. For 150 years, Presidents, and many others,<br>have wanted a beautiful B...<br><b>Speaker:</b> Donald Trump",
          "<b>Date:</b> 2025-06-05 12:28<br><b>Topic:</b> house-white-white house (Confidence: 0.850)<br><b>Content:</b><br>honor to welcome Friedrich Merz, the Chancellor of Germany<br>to the White House…<br><b>Speaker:</b> Donald Trump",
          "<b>Date:</b> 2025-06-03 00:44<br><b>Topic:</b> house-white-white house (Confidence: 0.620)<br><b>Content:</b><br>“TRUMP ALLY WINS IN POLAND, SHOCKING ALL IN EUROPE.”<br>NewsMax. Congratulations Poland, you picked a WINNER!<br><b>Speaker:</b> Donald Trump",
          "<b>Date:</b> 2025-06-01 10:35<br><b>Topic:</b> house-white-white house (Confidence: 0.967)<br><b>Content:</b><br>Salena Zito has written a powerful new Book, “BUTLER: The<br>Untold Story of the Near Assassination of Donald Trump and<br>the Fight for America’s Heartland.” Salena was an eyewitness<br>to that terrible day, ...<br><b>Speaker:</b> Donald Trump",
          "<b>Date:</b> 2025-05-31 18:38<br><b>Topic:</b> house-white-white house (Confidence: 0.820)<br><b>Content:</b><br>to ALL on a job well done. Proud of you! Hopefully the<br>Senate will be there with you! DONALD J. TRUMP, PRESIDENT<br><b>Speaker:</b> Donald Trump",
          "<b>Date:</b> 2025-05-30 16:21<br><b>Topic:</b> house-white-white house (Confidence: 0.967)<br><b>Content:</b><br>Salena Zito has written a powerful new Book, “BUTLER: The<br>Untold Story of the Near Assassination of Donald Trump and<br>the Fight for America’s Heartland.” Salena was an eyewitness<br>to that terrible day, ...<br><b>Speaker:</b> Donald Trump",
          "<b>Date:</b> 2025-05-25 19:49<br><b>Topic:</b> house-white-white house (Confidence: 0.545)<br><b>Content:</b><br>Joe Concha has written an incredible new book, “THE GREATEST<br>COMEBACK EVER: Inside Trump’s Big Beautiful Campaign.” Joe<br>has been studying our Movement from the very beginning and<br>understands, far bett...<br><b>Speaker:</b> Donald Trump",
          "<b>Date:</b> 2025-05-22 08:23<br><b>Topic:</b> house-white-white house (Confidence: 0.270)<br><b>Content:</b><br>“THE ONE, BIG, BEAUTIFUL BILL” has PASSED the House of<br>Representatives! This is arguably the most significant piece<br>of Legislation that will ever be signed in the History of<br>our Country! The Bill incl...<br><b>Speaker:</b> Donald Trump",
          "<b>Date:</b> 2025-05-20 15:55<br><b>Topic:</b> house-white-white house (Confidence: 0.606)<br><b>Content:</b><br>We must maintain our status as the Worldwide Leader in WiFi,<br>5G, and 6G, connecting every American to the World’s BEST<br>Networks, while also keeping everyone safe. We can do both<br>at the same time. Bott...<br><b>Speaker:</b> Donald Trump",
          "<b>Date:</b> 2025-05-19 17:05<br><b>Topic:</b> house-white-white house (Confidence: 0.417)<br><b>Content:</b><br>First Lady@MelaniaTrump: “This legislation (‘Take It Down<br>Act') is a powerful step forward in our efforts to ensure<br>that every American, especially young people, can feel<br>better protected from their i...<br><b>Speaker:</b> Donald Trump",
          "<b>Date:</b> 2025-05-19 00:42<br><b>Topic:</b> house-white-white house (Confidence: 0.700)<br><b>Content:</b><br>CONGRATULATIONS REPUBLICANS!!! MAKE AMERICA GREAT AGAIN!!!<br><b>Speaker:</b> Donald Trump",
          "<b>Date:</b> 2025-05-13 23:59<br><b>Topic:</b> house-white-white house (Confidence: 0.620)<br><b>Content:</b><br>RT@FLPatriot2627To everyone complaining about this gift: How<br>about the Resolute Desk aka Hayes Desk that was gifted to<br>President Hayes from Queen Victoria in 1880?What about the<br>Statue of Liberty whic...<br><b>Speaker:</b> Donald Trump",
          "<b>Date:</b> 2025-05-12 22:08<br><b>Topic:</b> house-white-white house (Confidence: 0.545)<br><b>Content:</b><br>Joe Concha has written an incredible new book, “THE GREATEST<br>COMEBACK EVER: Inside Trump’s Big Beautiful Campaign.” Joe<br>has been studying our Movement from the very beginning and<br>understands, far bett...<br><b>Speaker:</b> Donald Trump",
          "<b>Date:</b> 2025-05-12 12:21<br><b>Topic:</b> house-white-white house (Confidence: 0.678)<br><b>Content:</b><br>Edan Alexander, the last living American hostage, is being<br>sreleased. Congratulations to his wonderful parents, family,<br>and friends!<br><b>Speaker:</b> Donald Trump",
          "<b>Date:</b> 2025-05-08 13:25<br><b>Topic:</b> house-white-white house (Confidence: 0.429)<br><b>Content:</b><br>Congratulations to Cardinal Robert Francis Prevost, who was<br>just named Pope. It is such an honor to realize that he is<br>the first American Pope. What excitement, and what a Great<br>Honor for our Country....<br><b>Speaker:</b> Donald Trump",
          "<b>Date:</b> 2025-05-06 18:53<br><b>Topic:</b> house-white-white house (Confidence: 0.802)<br><b>Content:</b><br>It was a great honor welcoming Prime Minister Mark Carney to<br>the White House today.<br><b>Speaker:</b> Donald Trump",
          "<b>Date:</b> 2025-05-06 10:20<br><b>Topic:</b> house-white-white house (Confidence: 0.287)<br><b>Content:</b><br>Eli Lilly CEO Dave Ricks: \"We were at the White House last<br>week to talk about, with other industries as well as many<br>pharma companies, the expansion of manufacturing in the U.S.<br>It was good to see yes...<br><b>Speaker:</b> Donald Trump",
          "<b>Date:</b> 2025-05-05 11:52<br><b>Topic:</b> house-white-white house (Confidence: 0.850)<br><b>Content:</b><br>This was so wonderful, 9 years ago today!<br><b>Speaker:</b> Donald Trump",
          "<b>Date:</b> 2025-05-04 18:41<br><b>Topic:</b> house-white-white house (Confidence: 0.545)<br><b>Content:</b><br>Joe Concha has written an incredible new book, “THE GREATEST<br>COMEBACK EVER: Inside Trump’s Big Beautiful Campaign.” Joe<br>has been studying our Movement from the very beginning and<br>understands, far bett...<br><b>Speaker:</b> Donald Trump",
          "<b>Date:</b> 2025-05-01 10:10<br><b>Topic:</b> house-white-white house (Confidence: 0.510)<br><b>Content:</b><br>It was my great honor to recognize some of the businesses<br>making massive new investments right here in the United<br>States of America—Hyundai, CMA CGM, Worldwide Amazon Stores,<br>Venture Global LNG, Sieme...<br><b>Speaker:</b> Donald Trump",
          "<b>Date:</b> 2025-04-29 11:38<br><b>Topic:</b> house-white-white house (Confidence: 0.478)<br><b>Content:</b><br>“After just 100 days in office, the president has inspired a<br>spiritual revival in our nation. He’s reminding Americans<br>that our rights come from God, not government, and he’s<br>unafraid to lead with Bib...<br><b>Speaker:</b> Donald Trump",
          "<b>Date:</b> 2025-04-29 11:30<br><b>Topic:</b> house-white-white house (Confidence: 0.563)<br><b>Content:</b><br>“President Trump is back, and in his first 100 days in his<br>second term, he has delivered once again. The American<br>people returned him to the White House — and gave the<br>Republican Party majorities in b...<br><b>Speaker:</b> Donald Trump",
          "<b>Date:</b> 2025-04-29 11:21<br><b>Topic:</b> house-white-white house (Confidence: 0.384)<br><b>Content:</b><br>“One hundred days ago, President Donald J. Trump returned to<br>the White House with a clear mandate from the American<br>people: restore American greatness, secure our borders,<br>unleash our economy, defend ...<br><b>Speaker:</b> Donald Trump",
          "<b>Date:</b> 2025-04-29 11:02<br><b>Topic:</b> house-white-white house (Confidence: 0.474)<br><b>Content:</b><br>“In the first 100 days of the Trump-Vance Administration,<br>the U.S. Department of Education has advanced President<br>Trump’s goal to return education to states by empowering<br>parents to make decisions in ...<br><b>Speaker:</b> Donald Trump",
          "<b>Date:</b> 2025-04-29 10:06<br><b>Topic:</b> house-white-white house (Confidence: 0.820)<br><b>Content:</b><br>SPEAKER JOHNSON: “100 DAYS AGO, PRESIDENT TRUMP STOOD UNDER<br>THE CAPITOL ROTUNDA…”<br><b>Speaker:</b> Donald Trump",
          "<b>Date:</b> 2025-04-28 13:59<br><b>Topic:</b> house-white-white house (Confidence: 0.290)<br><b>Content:</b><br>I am thrilled to announce that the Washington Football Team<br>will be returning to our Nation’s Capital! The new Stadium<br>Deal is a HUGE WIN for Washington, D.C., and for the Team’s<br>incredible fan base. ...<br><b>Speaker:</b> Donald Trump",
          "<b>Date:</b> 2025-04-25 06:07<br><b>Topic:</b> house-white-white house (Confidence: 0.550)<br><b>Content:</b><br>“UNLEASHING AMERICA’S OFFSHORE CRITICAL MINERALS AND<br>RESOURCES”<br><b>Speaker:</b> Donald Trump",
          "<b>Date:</b> 2025-04-22 13:01<br><b>Topic:</b> house-white-white house (Confidence: 0.717)<br><b>Content:</b><br>Deeply disturbing news out of Kashmir. The United States<br>stands strong with India against Terrorism. We pray for the<br>souls of those lost, and for the recovery of the injured.<br>Prime Minister Modi, and ...<br><b>Speaker:</b> Donald Trump",
          "<b>Date:</b> 2025-04-20 16:25<br><b>Topic:</b> house-white-white house (Confidence: 0.555)<br><b>Content:</b><br>Tomorrow morning is the BIG Easter Egg Hunt at the White<br>House. 40,000 people expected. I’ll be there! Gates open at<br>6:30 A.M., close at 5:30 P.M. ALL FUNDS, EVERY DIME, GO<br>DIRECTLY TO THE WHITE HOUSE...<br><b>Speaker:</b> Donald Trump",
          "<b>Date:</b> 2025-04-18 08:48<br><b>Topic:</b> house-white-white house (Confidence: 0.452)<br><b>Content:</b><br>Prime Minister Georgia Meloni of Italy was great yesterday<br>in her visit to the White House. She loves her country, and<br>the impression she left on everyone was FANTASTIC!!! DJT<br><b>Speaker:</b> Donald Trump",
          "<b>Date:</b> 2025-04-17 12:23<br><b>Topic:</b> house-white-white house (Confidence: 0.900)<br><b>Content:</b><br>My Great Honor to welcome Italy Prime Minister Giorgia<br>Meloni to the White House!<br><b>Speaker:</b> Donald Trump",
          "<b>Date:</b> 2025-04-17 09:10<br><b>Topic:</b> house-white-white house (Confidence: 0.641)<br><b>Content:</b><br>Congratulations to my friends, Governor Greg Abbott,<br>Lieutenant Governor Dan Patrick, and Speaker Dustin Burrows,<br>along with Texas Legislators, for finally passing SCHOOL<br>CHOICE, which I strongly endo...<br><b>Speaker:</b> Donald Trump",
          "<b>Date:</b> 2025-04-16 11:54<br><b>Topic:</b> house-white-white house (Confidence: 0.619)<br><b>Content:</b><br>“Tom Homan rips Democrats seeking to aid deported MS-13<br>suspect: 'Disgusting'”<br><b>Speaker:</b> Donald Trump",
          "<b>Date:</b> 2025-04-14 09:51<br><b>Topic:</b> house-white-white house (Confidence: 0.820)<br><b>Content:</b><br>Congratulations to Daniel Noboa, who will be a great leader<br>for the wonderful people of Ecuador. He will not let you<br>down!<br><b>Speaker:</b> Donald Trump",
          "<b>Date:</b> 2025-04-14 09:32<br><b>Topic:</b> house-white-white house (Confidence: 0.494)<br><b>Content:</b><br>THE BEST DEFINITION OF INTELLIGENCE IS THE ABILITY TO<br>PREDICT THE FUTURE!!!<br><b>Speaker:</b> Donald Trump",
          "<b>Date:</b> 2025-04-12 08:03<br><b>Topic:</b> house-white-white house (Confidence: 0.550)<br><b>Content:</b><br>RT@realDonaldTrumpGlad to have you back home.<br><b>Speaker:</b> Donald Trump",
          "<b>Date:</b> 2025-04-11 19:21<br><b>Topic:</b> house-white-white house (Confidence: 0.524)<br><b>Content:</b><br>My friend, Douglas Murray, just released a new book, “On<br>Democracies and Death Cults,” and it is quickly becoming a<br>Best Seller! Based on his firsthand reporting, Douglas<br>documents the barbarity of Ha...<br><b>Speaker:</b> Donald Trump",
          "<b>Date:</b> 2025-04-11 09:52<br><b>Topic:</b> house-white-white house (Confidence: 0.490)<br><b>Content:</b><br>The House and Senate should push hard for more Daylight at<br>the end of a day. Very popular and, most importantly, no<br>more changing of the clocks, a big inconvenience and, for<br>our government, A VERY COS...<br><b>Speaker:</b> Donald Trump",
          "<b>Date:</b> 2025-04-11 08:12<br><b>Topic:</b> house-white-white house (Confidence: 0.550)<br><b>Content:</b><br>Glad to have you back home.<br><b>Speaker:</b> Donald Trump",
          "<b>Date:</b> 2025-04-09 18:30<br><b>Topic:</b> house-white-white house (Confidence: 0.549)<br><b>Content:</b><br>It was my Great Honor to welcome the North Dakota State<br>University, 2025 Division 1 Football Champions—to the White<br>House this evening. CONGRATULATIONS!<br><b>Speaker:</b> Donald Trump",
          "<b>Date:</b> 2025-04-09 17:44<br><b>Topic:</b> house-white-white house (Confidence: 0.757)<br><b>Content:</b><br>We are taking historic action to help American workers,<br>miners, families, and consumers. We're ending Joe Biden's<br>war on beautiful, clean coal once and for all, and we're<br>gonna put the miners back to ...<br><b>Speaker:</b> Donald Trump",
          "<b>Date:</b> 2025-04-09 07:58<br><b>Topic:</b> house-white-white house (Confidence: 0.887)<br><b>Content:</b><br>Republicans, it is more important now, than ever, that we<br>pass THE ONE, BIG, BEAUTIFUL BILL. The USA will Soar like<br>never before!!!<br><b>Speaker:</b> Donald Trump",
          "<b>Date:</b> 2025-04-08 21:35<br><b>Topic:</b> house-white-white house (Confidence: 0.529)<br><b>Content:</b><br>“Reinvigorating America’s Beautiful Clean Coal Industry and<br>Amending Executive Order 14241”<br><b>Speaker:</b> Donald Trump",
          "<b>Date:</b> 2025-04-08 18:11<br><b>Topic:</b> house-white-white house (Confidence: 0.501)<br><b>Content:</b><br>I had a very good meeting today with the Speaker of the<br>House and some of our more Conservative Members, all great<br>people. I let them know that, I AM FOR MAJOR SPENDING CUTS!<br>WE ARE GOING TO DO REDUCT...<br><b>Speaker:</b> Donald Trump",
          "<b>Date:</b> 2025-04-08 17:31<br><b>Topic:</b> house-white-white house (Confidence: 0.680)<br><b>Content:</b><br>we took historic action to help American workers, miners,<br>families and consumers. We're ending Joe Biden's war on<br>beautiful, clean coal once and for all, and we're going to<br>put the miners back to work...<br><b>Speaker:</b> Donald Trump",
          "<b>Date:</b> 2025-04-07 18:09<br><b>Topic:</b> house-white-white house (Confidence: 0.480)<br><b>Content:</b><br>The Budget Plan just passed by the United States Senate has<br>my Complete and Total Endorsement and Support. All of the<br>elements we need to secure the Border, enact Historic<br>Spending Cuts, and make Tax ...<br><b>Speaker:</b> Donald Trump",
          "<b>Date:</b> 2025-04-04 19:33<br><b>Topic:</b> house-white-white house (Confidence: 0.465)<br><b>Content:</b><br>Big business is not worried about the Tariffs, because they<br>know they are here to stay, but they are focused on the BIG,<br>BEAUTIFUL DEAL, which will SUPERCHARGE our Economy. Very<br>important. Going on ri...<br><b>Speaker:</b> Donald Trump",
          "<b>Date:</b> 2025-04-02 17:40<br><b>Topic:</b> house-white-white house (Confidence: 0.566)<br><b>Content:</b><br>Speaker of the House Mike Johnson and Senate Majority Leader<br>John Thune have been working tirelessly on taking the next<br>step to pass the plan for our ONE, BIG, BEAUTIFUL BILL, as<br>it is known, as well ...<br><b>Speaker:</b> Donald Trump",
          "<b>Date:</b> 2025-04-01 19:41<br><b>Topic:</b> house-white-white house (Confidence: 0.620)<br><b>Content:</b><br>Congratulations Randy, a great WIN against a massive CASH<br>AVALANCHE.DONALD J. TRUMP, PRESIDENT<br><b>Speaker:</b> Donald Trump",
          "<b>Date:</b> 2025-03-30 16:12<br><b>Topic:</b> house-white-white house (Confidence: 0.567)<br><b>Content:</b><br>Working together with a fantastic and very talented<br>Executive Residence Staff, along with the wonderful people<br>at the National Park Service, we are making tremendous<br>enhancements to the White House, t...<br><b>Speaker:</b> Donald Trump",
          "<b>Date:</b> 2025-03-28 10:04<br><b>Topic:</b> house-white-white house (Confidence: 0.491)<br><b>Content:</b><br>Washington, D.C., must become CLEAN and SAFE again! We need<br>our Great Police back on the street, with no excuses from<br>the Mayor, or anyone else. The House should take up the D.C.<br>funding “fix” that th...<br><b>Speaker:</b> Donald Trump",
          "<b>Date:</b> 2025-03-27 11:30<br><b>Topic:</b> house-white-white house (Confidence: 0.707)<br><b>Content:</b><br>Pam Bondi, Attorney General: “Early this morning, one of the<br>top leaders of MS-13 was apprehended. He was the leader for<br>the East Coast, one of the top three in the entire country,<br>right here in Virgi...<br><b>Speaker:</b> Donald Trump",
          "<b>Date:</b> 2025-03-27 11:29<br><b>Topic:</b> house-white-white house (Confidence: 0.754)<br><b>Content:</b><br>Pam Bondi, Attorney General: “America is safer today because<br>one of the top domestic terrorists in MS-13, he is off the<br>streets. This has been an ongoing directive of President<br>Trump. His directive to...<br><b>Speaker:</b> Donald Trump",
          "<b>Date:</b> 2025-03-27 11:26<br><b>Topic:</b> house-white-white house (Confidence: 0.678)<br><b>Content:</b><br>Pam Bondi, Attorney General: “From the second Donald Trump<br>took office, he said he is going to make America safe. He<br>shut down our borders and now it's our job to get these<br>people out of our country.....<br><b>Speaker:</b> Donald Trump",
          "<b>Date:</b> 2025-03-27 08:28<br><b>Topic:</b> house-white-white house (Confidence: 0.826)<br><b>Content:</b><br>Great job by Pam Bondi,@FBIDirectorKash, Tom HOMAN, and<br>Kristi N, on the capture of MS13 leader - A big deal!<br><b>Speaker:</b> Donald Trump",
          "<b>Date:</b> 2025-03-27 07:43<br><b>Topic:</b> house-white-white house (Confidence: 0.850)<br><b>Content:</b><br>Just captured a major leader of MS13. Tom HOMAN is a<br>superstar!<br><b>Speaker:</b> Donald Trump",
          "<b>Date:</b> 2025-03-26 11:39<br><b>Topic:</b> house-white-white house (Confidence: 0.887)<br><b>Content:</b><br>“U.S. natural gas production is at an all-time high<br>today...I was down a few weeks ago at a brand-new LNG export<br>terminal in Louisiana coming online—We've approved four more<br>within the first 100 days ...<br><b>Speaker:</b> Donald Trump",
          "<b>Date:</b> 2025-03-25 16:03<br><b>Topic:</b> house-white-white house (Confidence: 0.525)<br><b>Content:</b><br>On National Medal of Honor Day, it was my Great Honor to<br>recognize our Nation’s BRAVEST HEROES and incredible<br>PATRIOTS who have been awarded the military's highest honor.<br>Thank you!<br><b>Speaker:</b> Donald Trump",
          "<b>Date:</b> 2025-03-25 11:28<br><b>Topic:</b> house-white-white house (Confidence: 0.850)<br><b>Content:</b><br>It was my Great Honor to welcome Medal of Honor recipients<br>this morning at the White House—HEROES!<br><b>Speaker:</b> Donald Trump",
          "<b>Date:</b> 2025-03-25 10:29<br><b>Topic:</b> house-white-white house (Confidence: 0.500)<br><b>Content:</b><br>U.S. DEPARTMENT OF VETERANS AFFAIRS: “Today we celebrate<br>National Medal of Honor Day to recognize the bravery and<br>sacrifice of Medal of Honor recipients. There have been<br>3,528 recipients of our nation...<br><b>Speaker:</b> Donald Trump",
          "<b>Date:</b> 2025-03-24 21:48<br><b>Topic:</b> house-white-white house (Confidence: 0.775)<br><b>Content:</b><br>FIGHT, FIGHT, FIGHT!!!<br><b>Speaker:</b> Donald Trump",
          "<b>Date:</b> 2025-03-24 20:38<br><b>Topic:</b> house-white-white house (Confidence: 0.448)<br><b>Content:</b><br>“UAE commits to $1.4 trillion US investment, White House<br>says”<br><b>Speaker:</b> Donald Trump",
          "<b>Date:</b> 2025-03-24 10:37<br><b>Topic:</b> house-white-white house (Confidence: 0.349)<br><b>Content:</b><br>It is with great pleasure that I am announcing Alina Habba,<br>Esq., who is currently serving as Counselor to the<br>President, and has represented me for a long time, will be<br>our interim U.S. Attorney for ...<br><b>Speaker:</b> Donald Trump",
          "<b>Date:</b> 2025-03-24 06:21<br><b>Topic:</b> house-white-white house (Confidence: 0.319)<br><b>Content:</b><br>Tom Homan, Border Czar: “We're actually using the laws on<br>the books to enforce immigration law and secure the border<br>(DOWN 96% UNDER TRUMP!)….We're not making this up.<br>Everything we've done is based o...<br><b>Speaker:</b> Donald Trump",
          "<b>Date:</b> 2025-03-24 05:58<br><b>Topic:</b> house-white-white house (Confidence: 0.600)<br><b>Content:</b><br>“He is still six weeks away from the traditional 100-day<br>mark when the achievements of a new administration are<br>graded, but President Donald Trump has already done more<br>than most White Houses do in 50...<br><b>Speaker:</b> Donald Trump",
          "<b>Date:</b> 2025-03-24 01:22<br><b>Topic:</b> house-white-white house (Confidence: 0.775)<br><b>Content:</b><br>“A HISTORIC MOMENT FOR THE BOOKS”<br><b>Speaker:</b> Donald Trump",
          "<b>Date:</b> 2025-03-23 11:33<br><b>Topic:</b> house-white-white house (Confidence: 0.700)<br><b>Content:</b><br>I LOVE $TRUMP — SO COOL!!! The Greatest of them<br>all!!!!!!!!!!!!!!!!<br><b>Speaker:</b> Donald Trump",
          "<b>Date:</b> 2025-03-20 17:22<br><b>Topic:</b> house-white-white house (Confidence: 0.367)<br><b>Content:</b><br>“Improving Education Outcomes by Empowering Parents, States,<br>and Communities”<br><b>Speaker:</b> Donald Trump",
          "<b>Date:</b> 2025-03-19 20:46<br><b>Topic:</b> house-white-white house (Confidence: 0.700)<br><b>Content:</b><br>WELCOME TO THE OVAL OFFICE🇺🇸<br><b>Speaker:</b> Donald Trump",
          "<b>Date:</b> 2025-03-19 15:13<br><b>Topic:</b> house-white-white house (Confidence: 0.519)<br><b>Content:</b><br>I watched Jacqui Heinrich from Fox over the weekend and I<br>thought she was absolutely terrible. She should be working<br>for CNN, not Fox. Not surprisingly, I later found out that<br>she’s a fan of the White...<br><b>Speaker:</b> Donald Trump",
          "<b>Date:</b> 2025-03-19 13:55<br><b>Topic:</b> house-white-white house (Confidence: 0.550)<br><b>Content:</b><br>The CBP Home App is now available across all mobile App<br>Stores!<br><b>Speaker:</b> Donald Trump",
          "<b>Date:</b> 2025-03-14 22:12<br><b>Topic:</b> house-white-white house (Confidence: 0.537)<br><b>Content:</b><br>Today the fugitive leader of ISIS in Iraq was killed. He was<br>relentlessly hunted down by our intrepid warfighters. His<br>miserable life was terminated, along with another member of<br>ISIS, in coordination...<br><b>Speaker:</b> Donald Trump",
          "<b>Date:</b> 2025-03-14 16:46<br><b>Topic:</b> house-white-white house (Confidence: 0.593)<br><b>Content:</b><br>In everything we do, we're restoring law, restoring order<br>and restoring public safety in America...and we're bringing<br>honor and integrity and accountability back to the highest<br>levels of the FBI, DOJ,...<br><b>Speaker:</b> Donald Trump",
          "<b>Date:</b> 2025-03-14 09:29<br><b>Topic:</b> house-white-white house (Confidence: 0.368)<br><b>Content:</b><br>Congratulations to Chuck Schumer for doing the right thing —<br>Took “guts” and courage! The big Tax Cuts, L.A. fire fix,<br>Debt Ceiling Bill, and so much more, is coming. We should<br>all work together on th...<br><b>Speaker:</b> Donald Trump",
          "<b>Date:</b> 2025-03-12 14:53<br><b>Topic:</b> house-white-white house (Confidence: 0.871)<br><b>Content:</b><br>It was my Great Honor to welcome Taoiseach Micheál Martin to<br>the White House today🇺🇸🇮🇪<br><b>Speaker:</b> Donald Trump",
          "<b>Date:</b> 2025-03-09 19:28<br><b>Topic:</b> house-white-white house (Confidence: 0.554)<br><b>Content:</b><br>As I made clear during my Joint Address to Congress, the<br>United States strongly supports the people of Greenland’s<br>right to determine their own future. We will continue to<br>KEEP YOU SAFE, as we have si...<br><b>Speaker:</b> Donald Trump",
          "<b>Date:</b> 2025-03-08 13:25<br><b>Topic:</b> house-white-white house (Confidence: 0.457)<br><b>Content:</b><br>The House and Senate have put together, under the<br>circumstances, a very good funding Bill (“CR”)! All<br>Republicans should vote (Please!) YES next week. Great<br>things are coming for America, and I am ask...<br><b>Speaker:</b> Donald Trump",
          "<b>Date:</b> 2025-03-05 19:20<br><b>Topic:</b> house-white-white house (Confidence: 0.544)<br><b>Content:</b><br>Government funding runs out next week, and Democrats are<br>threatening to shut down the Government - But I am working<br>with the GREAT House Republicans on a Continuing Resolution<br>to fund the Government u...<br><b>Speaker:</b> Donald Trump",
          "<b>Date:</b> 2025-03-02 12:11<br><b>Topic:</b> house-white-white house (Confidence: 0.465)<br><b>Content:</b><br>obviously, BTC and ETH, as other valuable Cryptocurrencies,<br>will be the heart of the Reserve. I also love Bitcoin and<br>Ethereum!<br><b>Speaker:</b> Donald Trump",
          "<b>Date:</b> 2025-02-27 21:43<br><b>Topic:</b> house-white-white house (Confidence: 0.504)<br><b>Content:</b><br>As usual, Sleepy Joe Biden left us a total MESS. The Budget<br>from last YEAR is still not done. We are working very hard<br>with the House and Senate to pass a clean, temporary<br>government funding Bill (“CR...<br><b>Speaker:</b> Donald Trump",
          "<b>Date:</b> 2025-02-27 14:43<br><b>Topic:</b> house-white-white house (Confidence: 0.700)<br><b>Content:</b><br>A GREAT HONOR, THANK YOU!<br><b>Speaker:</b> Donald Trump",
          "<b>Date:</b> 2025-02-26 09:06<br><b>Topic:</b> house-white-white house (Confidence: 0.692)<br><b>Content:</b><br>Big First Step Win for Speaker Mike Johnson, and AMERICA.<br>Now let’s start to BALANCE THE BUDGET. IT CAN BE DONE!!! DJT<br><b>Speaker:</b> Donald Trump",
          "<b>Date:</b> 2025-02-26 07:31<br><b>Topic:</b> house-white-white house (Confidence: 0.820)<br><b>Content:</b><br>AMERICA LOVES TOM HOMAN!!!<br><b>Speaker:</b> Donald Trump",
          "<b>Date:</b> 2025-02-25 22:33<br><b>Topic:</b> house-white-white house (Confidence: 0.910)<br><b>Content:</b><br>Congratulations to Coach Tommy Tuberville and family on the<br>birth of a very special and beautiful granddaughter, Rosie<br>Grace Tuberville. Tommy was a Great Coach, is a spectacular<br>Senator, loves our Co...<br><b>Speaker:</b> Donald Trump",
          "<b>Date:</b> 2025-02-25 22:32<br><b>Topic:</b> house-white-white house (Confidence: 0.947)<br><b>Content:</b><br>Our Great Senator from North Dakota, Senator Kevin Cramer,<br>just recently slipped on ice, and hit his head, causing<br>quite an injury. He is now resting comfortably, but went<br>through a lot. His wonderful...<br><b>Speaker:</b> Donald Trump",
          "<b>Date:</b> 2025-02-25 16:49<br><b>Topic:</b> house-white-white house (Confidence: 0.550)<br><b>Content:</b><br>“TRUMP WAS RIGHT ABOUT EVERYTHING”<br><b>Speaker:</b> Donald Trump",
          "<b>Date:</b> 2025-02-24 16:09<br><b>Topic:</b> house-white-white house (Confidence: 0.528)<br><b>Content:</b><br>France is America's oldest ally. Our cherished partnership<br>has been a force for FREEDOM, PROSPERITY, and PEACE from the<br>very beginning…<br><b>Speaker:</b> Donald Trump",
          "<b>Date:</b> 2025-02-22 18:22<br><b>Topic:</b> house-white-white house (Confidence: 0.433)<br><b>Content:</b><br>Melania and I are looking forward to dinner tonight, at the<br>White House, with our Nation’s Governors, both Republican<br>and Democrat. Maybe this will be the start of UNITY for our<br>Nation. It will be int...<br><b>Speaker:</b> Donald Trump",
          "<b>Date:</b> 2025-02-22 07:53<br><b>Topic:</b> house-white-white house (Confidence: 0.700)<br><b>Content:</b><br>SEE YOU AT CPAC TODAY. BIG CROWD!!!<br><b>Speaker:</b> Donald Trump",
          "<b>Date:</b> 2025-02-20 21:52<br><b>Topic:</b> house-white-white house (Confidence: 0.550)<br><b>Content:</b><br>AMERICA'S DECLINE IS OVER🇺🇸🦅<br><b>Speaker:</b> Donald Trump",
          "<b>Date:</b> 2025-02-20 18:09<br><b>Topic:</b> house-white-white house (Confidence: 0.610)<br><b>Content:</b><br>Thank you to Majority Leader John Thune, and the Republican<br>Senate, for working so hard on funding the Trump Border<br>Agenda. We are setting records, the likes of which have<br>never been seen before, on s...<br><b>Speaker:</b> Donald Trump",
          "<b>Date:</b> 2025-02-20 08:01<br><b>Topic:</b> house-white-white house (Confidence: 0.550)<br><b>Content:</b><br>Great Job on Fox yesterday by Senate Majority Leader John<br>Thune in explaining how far Republican Senators have come,<br>in working with Speaker Johnson and the Republican House, on<br>TAX CUTS, THE BORDER, ...<br><b>Speaker:</b> Donald Trump",
          "<b>Date:</b> 2025-02-19 21:36<br><b>Topic:</b> house-white-white house (Confidence: 0.700)<br><b>Content:</b><br>A President, after election, gets a choice of 1 in 7 desks.<br>This desk, the “C&O,” which is also very well-known and was<br>used by President George H.W. Bush and others, has been<br>temporarily installed in...<br><b>Speaker:</b> Donald Trump",
          "<b>Date:</b> 2025-02-19 09:26<br><b>Topic:</b> house-white-white house (Confidence: 0.802)<br><b>Content:</b><br>The House and Senate are doing a SPECTACULAR job of working<br>together as one unified, and unbeatable, TEAM, however,<br>unlike the Lindsey Graham version of the very important<br>Legislation currently being ...<br><b>Speaker:</b> Donald Trump",
          "<b>Date:</b> 2025-02-18 18:11<br><b>Topic:</b> house-white-white house (Confidence: 0.369)<br><b>Content:</b><br>Over the past four years, the Department of Justice has been<br>politicized like never before. Therefore, I have instructed<br>the termination of ALL remaining “Biden Era” U.S. Attorneys.<br>We must “clean hou...<br><b>Speaker:</b> Donald Trump",
          "<b>Date:</b> 2025-02-17 10:47<br><b>Topic:</b> house-white-white house (Confidence: 0.479)<br><b>Content:</b><br>Who is running the Country right now? In his new book,<br>“American Leviathan: The Birth of the Administrative State<br>and Progressive Authoritarianism,” Ned Ryun reveals the<br>History of the Deep State, whi...<br><b>Speaker:</b> Donald Trump",
          "<b>Date:</b> 2025-02-16 16:02<br><b>Topic:</b> house-white-white house (Confidence: 0.918)<br><b>Content:</b><br>More copies of my newest book, SAVE AMERICA, just arrived!<br>This is a wonderful Best Seller, and I hope you’ll get your<br>copy today. Signed Editions are also available. Get yours<br>today at<br><b>Speaker:</b> Donald Trump",
          "<b>Date:</b> 2025-02-16 16:01<br><b>Topic:</b> house-white-white house (Confidence: 0.668)<br><b>Content:</b><br>Congratulations to Patriot Senator Bo Biteman, of the Great<br>State of Wyoming, for working to pass SCHOOL CHOICE, a top<br>priority of my Administration, putting power where it<br>belongs – PARENTS. This wou...<br><b>Speaker:</b> Donald Trump",
          "<b>Date:</b> 2025-02-16 16:01<br><b>Topic:</b> house-white-white house (Confidence: 0.404)<br><b>Content:</b><br>Congratulations to Governor Brad Little, and Idaho<br>Legislators, who are fighting to bring School Choice to<br>their beautiful State. $50 Million Dollars to empower<br>parents to provide the very best Educat...<br><b>Speaker:</b> Donald Trump",
          "<b>Date:</b> 2025-02-14 12:56<br><b>Topic:</b> house-white-white house (Confidence: 0.720)<br><b>Content:</b><br>TOM HOMAN: “I WORKED FOR SIX PRESIDENTS—I THINK PRESIDENT<br>TRUMP IS THE GREATEST PRESIDENT OF MY LIFETIME, HE PROVES IT<br>EVERY DAY…BORDER NUMBERS ARE DOWN OVER 90% IN THREE WEEKS…”<br><b>Speaker:</b> Donald Trump",
          "<b>Date:</b> 2025-02-13 06:46<br><b>Topic:</b> house-white-white house (Confidence: 0.499)<br><b>Content:</b><br>THREE GREAT WEEKS, PERHAPS THE BEST EVER, BUT TODAY IS THE<br>BIG ONE: RECIPROCAL TARIFFS!!! MAKE AMERICA GREAT AGAIN!!!<br><b>Speaker:</b> Donald Trump",
          "<b>Date:</b> 2025-02-11 23:17<br><b>Topic:</b> house-white-white house (Confidence: 0.700)<br><b>Content:</b><br>WELCOME HOME, MARC FOGEL🇺🇸<br><b>Speaker:</b> Donald Trump",
          "<b>Date:</b> 2025-02-08 13:50<br><b>Topic:</b> house-white-white house (Confidence: 0.531)<br><b>Content:</b><br>Congratulations to my friend, Lieutenant Governor Dan<br>Patrick, for the biggest launch of a School Choice program<br>in American History, with $1 Billion Dollars for 100,000<br>students in Texas. Senator Bra...<br><b>Speaker:</b> Donald Trump",
          "<b>Date:</b> 2025-02-06 12:10<br><b>Topic:</b> house-white-white house (Confidence: 0.486)<br><b>Content:</b><br>From the very beginning of our republic, America has always<br>been a nation founded by people of faith, strengthened by<br>the power of prayer, and united by four simple but very<br>beautiful words: In God We...<br><b>Speaker:</b> Donald Trump",
          "<b>Date:</b> 2025-02-06 00:40<br><b>Topic:</b> house-white-white house (Confidence: 0.745)<br><b>Content:</b><br>Congratulations to the Chiefs GREAT Quarterback, Patrick<br>Mahomes, and his very beautiful and BRILLIANT wife,<br>Brittany, on the birth of their new baby daughter, Golden<br>Raye. This is what I call a baby ...<br><b>Speaker:</b> Donald Trump",
          "<b>Date:</b> 2025-02-05 11:54<br><b>Topic:</b> house-white-white house (Confidence: 0.425)<br><b>Content:</b><br>Pam was a career prosecutor for nearly 20 years and was one<br>of the toughest, smartest, best, and most successful<br>Attorney Generals in the history of Florida—and I think<br>she's going to end up going dow...<br><b>Speaker:</b> Donald Trump",
          "<b>Date:</b> 2025-02-05 11:53<br><b>Topic:</b> house-white-white house (Confidence: 0.910)<br><b>Content:</b><br>A Great Honor—I’m thrilled to be here today with our<br>nation’s next incredible Attorney General of the United<br>States, Pam Bondi…<br><b>Speaker:</b> Donald Trump",
          "<b>Date:</b> 2025-02-05 05:55<br><b>Topic:</b> house-white-white house (Confidence: 0.962)<br><b>Content:</b><br>Congratulations to our wonderful and very talented United<br>States Attorney General, Pam Bondi, who gets sworn in today<br>amid tremendous support, and the respect of ALL! I know Pam<br>well, it was an honor ...<br><b>Speaker:</b> Donald Trump",
          "<b>Date:</b> 2025-02-05 05:39<br><b>Topic:</b> house-white-white house (Confidence: 0.582)<br><b>Content:</b><br>Hard working Congressman Derrick Van Orden was great on Fox<br>today. Keep pushing Derrick!!!<br><b>Speaker:</b> Donald Trump",
          "<b>Date:</b> 2025-02-03 21:00<br><b>Topic:</b> house-white-white house (Confidence: 0.676)<br><b>Content:</b><br>It was my great honor to host the 2024 Stanley Cup Champion<br>Florida Panthers at the White House today. Congratulations!<br><b>Speaker:</b> Donald Trump",
          "<b>Date:</b> 2025-02-02 18:52<br><b>Topic:</b> house-white-white house (Confidence: 0.550)<br><b>Content:</b><br>RT@CharliekirkThis photo needs to be in the Smithsonian.<br><b>Speaker:</b> Donald Trump",
          "<b>Date:</b> 2025-02-02 18:47<br><b>Topic:</b> house-white-white house (Confidence: 0.416)<br><b>Content:</b><br>RT@PaulIngrassiaHonored and Blessed to serve as the White<br>House Liaison in President Trump's newly overhauled Justice<br>Department.Thrilled to start working with Attorney<br>General@pambondiand her excepti...<br><b>Speaker:</b> Donald Trump",
          "<b>Date:</b> 2025-01-31 08:00<br><b>Topic:</b> house-white-white house (Confidence: 0.775)<br><b>Content:</b><br>Biden’s choice to lead FAA…<br><b>Speaker:</b> Donald Trump",
          "<b>Date:</b> 2025-01-30 12:07<br><b>Topic:</b> house-white-white house (Confidence: 0.850)<br><b>Content:</b><br>My administration will set the highest possible bar for<br>aviation safety…<br><b>Speaker:</b> Donald Trump",
          "<b>Date:</b> 2025-01-30 12:04<br><b>Topic:</b> house-white-white house (Confidence: 0.415)<br><b>Content:</b><br>I speak to you this morning in an hour of anguish for our<br>nation...<br><b>Speaker:</b> Donald Trump",
          "<b>Date:</b> 2025-01-28 14:30<br><b>Topic:</b> house-white-white house (Confidence: 0.950)<br><b>Content:</b><br>Congratulations to Tennessee Legislators who are working<br>hard to pass School Choice this week, which I totally<br>support. We will very soon be sending Education BACK TO THE<br>STATES, where it belongs. It ...<br><b>Speaker:</b> Donald Trump",
          "<b>Date:</b> 2025-01-25 09:51<br><b>Topic:</b> house-white-white house (Confidence: 0.525)<br><b>Content:</b><br>a beautiful car. Congratulations to GM!<br><b>Speaker:</b> Donald Trump",
          "<b>Date:</b> 2025-01-23 09:23<br><b>Topic:</b> house-white-white house (Confidence: 0.702)<br><b>Content:</b><br>A special thank you to great New Jersey Congressman Jeff Van<br>Drew for his fight against a large scale Windmill DISASTER<br>off the coast of Southern New Jersey. It needed MASSIVE<br>GOVERNMENT SUBSIDY that ...<br><b>Speaker:</b> Donald Trump",
          "<b>Date:</b> 2025-01-19 23:52<br><b>Topic:</b> house-white-white house (Confidence: 0.550)<br><b>Content:</b><br>RT@TeamTrumpThe sacrifice of these American heroes must<br>never be forgotten — and will never be forgotten.<br><b>Speaker:</b> Donald Trump",
          "<b>Date:</b> 2025-01-13 16:48<br><b>Topic:</b> house-white-white house (Confidence: 0.700)<br><b>Content:</b><br>Thanks Mike!<br><b>Speaker:</b> Donald Trump",
          "<b>Date:</b> 2025-01-11 22:40<br><b>Topic:</b> house-white-white house (Confidence: 0.550)<br><b>Content:</b><br>RT@realDonaldTrump“VICTORY OVER LAWFARE”<br><b>Speaker:</b> Donald Trump",
          "<b>Date:</b> 2025-01-11 15:41<br><b>Topic:</b> house-white-white house (Confidence: 0.700)<br><b>Content:</b><br>“VICTORY OVER LAWFARE”<br><b>Speaker:</b> Donald Trump",
          "<b>Date:</b> 2025-01-08 18:10<br><b>Topic:</b> house-white-white house (Confidence: 0.478)<br><b>Content:</b><br>John Nolte, a Pro, was right!<br><b>Speaker:</b> Donald Trump",
          "<b>Date:</b> 2025-01-06 08:34<br><b>Topic:</b> house-white-white house (Confidence: 0.460)<br><b>Content:</b><br>CONGRESS CERTIFIES OUR GREAT ELECTION VICTORY TODAY — A BIG<br>MOMENT IN HISTORY. MAGA!<br><b>Speaker:</b> Donald Trump",
          "<b>Date:</b> 2025-01-03 14:59<br><b>Topic:</b> house-white-white house (Confidence: 0.603)<br><b>Content:</b><br>Congratulations to Speaker Mike Johnson for receiving an<br>unprecedented Vote of Confidence in Congress. Mike will be a<br>Great Speaker, and our Country will be the beneficiary. The<br>People of America have...<br><b>Speaker:</b> Donald Trump",
          "<b>Date:</b> 2025-01-03 08:18<br><b>Topic:</b> house-white-white house (Confidence: 0.418)<br><b>Content:</b><br>Good luck today for Speaker Mike Johnson, a fine man of<br>great ability, who is very close to having 100% support. A<br>win for Mike today will be a big win for the Republican<br>Party, and yet another acknow...<br><b>Speaker:</b> Donald Trump",
          "<b>Date:</b> 2025-01-02 00:08<br><b>Topic:</b> house-white-white house (Confidence: 0.550)<br><b>Content:</b><br>TRUMP WAS RIGHT ABOUT EVERYTHING!<br><b>Speaker:</b> Donald Trump"
         ],
         "type": "scatter3d",
         "x": {
          "bdata": "pZBEvwuCRb/BpVK/PwxVv166AcCM+kfAtYcqwP49HsAHUzPA2SVTwEcz6b+FmT3AN2EqwOsLVMCKaRzAhWgSwIUCRsAO3D3AOFkpwIugQ8ClUzzAdLc/wKKf6z/fop+/gLAxwKcnLsAdqj/APXFTwCJth7+6OO4/Zs8XwNbXMEC9HynAgQsZwFr6GcAUxBjALJcuwKSgLsBWVT3AQ5ouwJtaPsDDTx3AeIwAwHEWHcDfYTHAuiM6wBMRNMDRqyHAarxTwDBo4D+s/DzATlZHwF6FPMAQkZi/mQ/+v4X36z+o9ibANeIuwOkpMcALpZm/Dbg/wFYcFMDcyT/A+qgrwIG4U8CxMJi/mj86wJOFF8DfKYy/ifouwPn/ssD4I0fAQQEEwPn7H8B3UjvAFEUzwM3K+L8H9GXAgoswwJykoL/iBEfAtlswwBlYH8A3jxjAVO4dwPI8HcDY7LLAcwUywJtvZMCujS/ARXDtP1diMMBaVyrAyDAxwOE75z/cvCrAWaEYwNSmE8AYxBLAf/Y1wK5OD8BUeDrAWJdRwAcnZcCayrLAA+NVwFxes8CJYz/Ar40AQDTrs8DxHPg/d8wxwCz0P8Bdyy/AmoLwv372L8Dv1BTAuEAfwMpRGsDGVbLAZNn7P5ncXMAVqOE/+Yo0wMSNrr8GiBXAQAXwvyukLcAbZzfAi25FwG1naMD4QEXAbloewM+dHcBjBB/Aq9IuwH6eIcDFWALAHbDzP5zZnr8dpzrASf+zwKSPX7+bLGfA1ys/wLOyKMDC8EHAb7ktwHcXL8BO1CfAQGAkwCJuM8BEsRS/y0ZpwMKYPsD2JyHAkcMpwACuIMDto7HANbw+wAUWU8CkHhfAcmtFwPQaM8CkVDDA1RMewImgLsDsvh3AJyIvwBNx8D/t+xa/W+oxwGrFRL/Jyx7A",
          "dtype": "f4"
         },
         "y": {
          "bdata": "YkbQQCFG0ECAR9BA/OfPQAWMtEB4YC5A2XmfQMEfIUD2iy1A8I3MQICvtkBs0ydA/NqeQJ0mzEA81iFAL5PoP1hELECGcyhAaJChQHPaLEBG2iVAQt88QJVzSEB55MlAcOcyQJrfLEANJMlAik/MQK+izUC5rUdAb/S1QAEPYD+2lKFAUJQgQBoJIUDF/R1AdQArQNkKvkC0AydAShO+QDuDJkAAZCFANeezQOiRAEBX1i1A59UjQMU8L0BRMyZAv4PMQG+hTEC2qiRAGOvKQDeWJkCKEMxAkIC0QAKNSkCmBydAsOq9QGGTLUBWDcxA8/s4QFzmIkAPjyhA+UOQQB0EzEBkFMxAQbE4QBLhH0CWx8xAC16UQAZ8Ub8C18pA/1rHP7MVt0CQ6cdAQi0vQMA9tkC/xMJA3UwYQNFXy0AYwspAQzSOQN27tkCy7x5AXh8hQKiEtkByR1K/KtYrQPcExECXc49A+ipJQISPLUDpeZtAwMgqQEwmTEDN3J5A2Gm0QG3t6j+J8LVAlk8rQH3LtUD0viZA+hbNQHEBxECrQFO/rRPLQM5xUb/nB8lAEZZIQIG/V7/9qFBAD1eMQEoryUBWor5Aal61QH3HvkABUu0/b+C2QFj8H0CZ5Ey/hWhJQKUZyECThUtAdV4vQOlGyEDui+8/QSi2QO5vvUCXQCBAx4PKQKhjwUAwnStAIVu2QMKtIUCL2iBA/iS+QNAauEAwurVAFHNKQGb/ykCRxSpAMPRdv7i9zkAObMFAhsEqQOgkmkAYbDpAKcIqQGktvkB06w1AfWUbQLnkG0CggdJA7wDBQMvZKECtaQZArFKgQO7dtkAc4kW/g6vIQM2OzUD2AiBAmYctQHmwLUAUkCxAnlO3QJYCvkBpRbZAAVW+QJWzSkD0mNFAJueMQC100EAQerZA",
          "dtype": "f4"
         },
         "z": {
          "bdata": "xtGYQFq3mECda5lAVdmYQLhaRkCuokxAj5JaQPrpsz+O/yJAv8asQFqKOECMbT5ATIpaQPOZrEDCALM/UTNcQDq1SEDqQkBAGAZdQCi9RUA8Lz1ATKw8QPjkOL2hEpRAkO4HQHenHUB6GqNAtcysQGV4mECuMUy9iiNpQBlniz50yVxAQXipP89/qT9RQaI/qFMPQG59iEARDUBAKqSIQGN5QUCVv7Q/m6JBQPPMVUBA7gZA/aw9QNDWJECYxtM/5g6tQOZ+vTwMe0BA0ginQGFFP0CI25ZA/W9IQDjecrwM5Oc//RCIQKmXB0Cj1JZAsxk+QDtpkz/WD0NAvkgIQF8grUDq2pZAeFs1QFWmoD8YH5hA2gYtQE3A9T8O66ZAlKtdQBOaeEC7HaBAK24eQCCNQUCf2q1A0L9IQDv1lUC50aZA+ZoaQK4md0CyG6Q/15e8P1HbdED+QfY/xS0MQL4grkBpRRlAVl8zvTpyBECtp1JAQGoYQAiD47t1J1lA3PRmQIWyW0A5AGJA960mQHpnXEAu5DhAAyusQCRorkBj+PY/ISiuQCbi8j+Y5qJAW0XDvFC24j/EG74+hc4cQD8zo0CWNYlAIUc8QGtQiUDIuFtAXNN3QN9tqz+z+/g/0FRbvblIrkAe2JE6QWQgQIgXkkA5L1pArEg8QMULiEDHq0BAsAemQFNbrUDbXUpAKtB1QDxWtD8WI8I/ALWIQBLNe0DB8klA9OmfvFadlUAn3TRAswPlP0VMmkD7dq1AhsQ/QI/vTkAZvT9Aq9IDQMu9iEAmEE9A8ML9P0FuSEDaNKlA4a+uQOvcQEBtbFJANj1bQLXzd0ADgv0/XZyiQPJirUBF2p4/w3xIQNlRIUDaIQRAk452QGB9iEA06XVAS8aIQPqrhrwfvZxANpkdQIkpmUASv3ZA",
          "dtype": "f4"
         }
        },
        {
         "hoverinfo": "text",
         "hovertemplate": "%{text}<extra></extra>",
         "marker": {
          "color": "rgb(217,217,217)",
          "line": {
           "color": "darkgray",
           "width": 0.5
          },
          "opacity": 0.8,
          "size": 5
         },
         "mode": "markers",
         "name": "Topic 9: biden-border-joe",
         "text": [
          "<b>Date:</b> 2025-07-20 20:53<br><b>Topic:</b> biden-border-joe (Confidence: 0.363)<br><b>Content:</b><br>Adam “Shifty” Schiff is in BIG TROUBLE! He falsified Loan<br>Documents. He once said my son would go to prison on a SCAM<br>that Schiff, along with other Crooked Dems, illegally<br>“manufactured” in order to s...<br><b>Speaker:</b> Donald Trump",
          "<b>Date:</b> 2025-07-20 15:31<br><b>Topic:</b> biden-border-joe (Confidence: 0.542)<br><b>Content:</b><br>Last night, in New York City, an incredible CBP Officer was<br>shot in the face by an Illegal Alien Monster freed into the<br>Country under Joe Biden. He was apprehended at the Border in<br>April 2023 but, ins...<br><b>Speaker:</b> Donald Trump",
          "<b>Date:</b> 2025-07-15 11:11<br><b>Topic:</b> biden-border-joe (Confidence: 0.378)<br><b>Content:</b><br>Just spoke to our Great Congressmen and women of Texas. One<br>of them sent me my Results in Texas, and even I didn’t know<br>how well I did, but here they are — Won by one and a half<br>million Votes, and alm...<br><b>Speaker:</b> Donald Trump",
          "<b>Date:</b> 2025-07-11 19:32<br><b>Topic:</b> biden-border-joe (Confidence: 0.442)<br><b>Content:</b><br>I am on my way back from Texas, and watched in disbelief as<br>THUGS were violently throwing rocks and bricks at ICE<br>Officers while they were moving down a roadway in their car<br>and/or official vehicle. T...<br><b>Speaker:</b> Donald Trump",
          "<b>Date:</b> 2025-07-10 10:41<br><b>Topic:</b> biden-border-joe (Confidence: 0.525)<br><b>Content:</b><br>“VIOLENT RHETORIC AGAINST ICE AGENTS…”<br><b>Speaker:</b> Donald Trump",
          "<b>Date:</b> 2025-07-05 12:50<br><b>Topic:</b> biden-border-joe (Confidence: 0.505)<br><b>Content:</b><br>This July 4th weekend I want to give a big “THANK YOU!” to<br>the Heroic ICE Officers fighting every day to reclaim our<br>Sovereignty and Freedom. One of the most exciting parts of<br>the “ONE BIG BEAUTIFUL B...<br><b>Speaker:</b> Donald Trump",
          "<b>Date:</b> 2025-07-02 18:44<br><b>Topic:</b> biden-border-joe (Confidence: 0.679)<br><b>Content:</b><br>CONGRATULATIONS AMERICA! The June Border Statistics are in<br>and, once again, they are the LOWEST RECORDED NUMBERS IN<br>UNITED STATES HISTORY. The U.S. Border Patrol reported ZERO<br>releases of Illegal Alie...<br><b>Speaker:</b> Donald Trump",
          "<b>Date:</b> 2025-07-01 14:30<br><b>Topic:</b> biden-border-joe (Confidence: 0.765)<br><b>Content:</b><br>Because of the Violence and Criminality I have seen due to<br>the Open Border Policy of Sleepy Joe Biden, in particular<br>allowing millions of people into our Country who shouldn’t<br>be here, I wanted someth...<br><b>Speaker:</b> Donald Trump",
          "<b>Date:</b> 2025-06-29 13:29<br><b>Topic:</b> biden-border-joe (Confidence: 0.588)<br><b>Content:</b><br>If you look at what Biden did to the border, it was SO<br>BAD—Last month, we had NO PEOPLE COMING IN, but the bad part<br>is—BIDEN LET IN 21 million people and we have to check those<br>people…<br><b>Speaker:</b> Donald Trump",
          "<b>Date:</b> 2025-06-28 18:57<br><b>Topic:</b> biden-border-joe (Confidence: 0.369)<br><b>Content:</b><br>It is terrible what they are doing in Israel to Bibi<br>Netanyahu. He is a War Hero, and a Prime Minister who did a<br>fabulous job working with the United States to bring Great<br>Success in getting rid of th...<br><b>Speaker:</b> Donald Trump",
          "<b>Date:</b> 2025-06-27 12:00<br><b>Topic:</b> biden-border-joe (Confidence: 0.887)<br><b>Content:</b><br>Jonathan Turley: \"Here the Supreme Court is agreeing with<br>the Trump Administration that these judges are well past<br>their authority.\"<br><b>Speaker:</b> Donald Trump",
          "<b>Date:</b> 2025-06-27 11:57<br><b>Topic:</b> biden-border-joe (Confidence: 0.365)<br><b>Content:</b><br>This morning, the Supreme Court has delivered a monumental<br>victory for the Constitution…<br><b>Speaker:</b> Donald Trump",
          "<b>Date:</b> 2025-06-24 11:49<br><b>Topic:</b> biden-border-joe (Confidence: 0.550)<br><b>Content:</b><br>WHAT BIDEN DID TO THIS COUNTRY SHOULD NEVER BE FORGOTTEN!<br><b>Speaker:</b> Donald Trump",
          "<b>Date:</b> 2025-06-23 09:35<br><b>Topic:</b> biden-border-joe (Confidence: 0.471)<br><b>Content:</b><br>EVERYONE, KEEP OIL PRICES DOWN. I’M WATCHING! YOU’RE PLAYING<br>RIGHT INTO THE HANDS OF THE ENEMY. DON’T DO IT!<br><b>Speaker:</b> Donald Trump",
          "<b>Date:</b> 2025-06-20 18:34<br><b>Topic:</b> biden-border-joe (Confidence: 0.345)<br><b>Content:</b><br>Why does Fox News allow failed TV personality Jessica Tarlov<br>to “soil” The Five? Her voice, her manner, and above all<br>else, what she says, are a disgrace to television<br>broadcasting. I’ve had the best ...<br><b>Speaker:</b> Donald Trump",
          "<b>Date:</b> 2025-06-20 09:34<br><b>Topic:</b> biden-border-joe (Confidence: 0.643)<br><b>Content:</b><br>Zero Border crossings for the month for TRUMP, verses 60,000<br>for Sleepy, Crooked Joe Biden, a man who lost the 2020<br>Presidential Election by a “LANDSLIDE!” Biden was grossly<br>incompetent, and the 2020 ...<br><b>Speaker:</b> Donald Trump",
          "<b>Date:</b> 2025-06-20 08:38<br><b>Topic:</b> biden-border-joe (Confidence: 0.525)<br><b>Content:</b><br>“FBI emails revealed to The Post expose Biden DOJ’s<br>obsession with piling on Trump charges”<br><b>Speaker:</b> Donald Trump",
          "<b>Date:</b> 2025-06-20 08:35<br><b>Topic:</b> biden-border-joe (Confidence: 0.700)<br><b>Content:</b><br>“INTERNAL FBI EMAILS REVEAL BIDEN DOJ’S OBSESSION WITH<br>TARGETING TRUMP”<br><b>Speaker:</b> Donald Trump",
          "<b>Date:</b> 2025-06-19 09:02<br><b>Topic:</b> biden-border-joe (Confidence: 0.545)<br><b>Content:</b><br>The Crooked FoxNews Polls got the Election WRONG, I won by<br>much more than they said I would, and have been biased<br>against me for years. They are always wrong and negative.<br>It’s why MAGA HATES FoxNews,...<br><b>Speaker:</b> Donald Trump",
          "<b>Date:</b> 2025-06-18 17:38<br><b>Topic:</b> biden-border-joe (Confidence: 0.588)<br><b>Content:</b><br>From The National Border Patrol Council:“In May of 2024, the<br>Biden Administration released 62,000 illegal aliens into the<br>United States. One year later, and only five months under<br>the extraordinary le...<br><b>Speaker:</b> Donald Trump",
          "<b>Date:</b> 2025-06-18 17:13<br><b>Topic:</b> biden-border-joe (Confidence: 0.627)<br><b>Content:</b><br>Chief of U.S. Border Patrol, Michael Banks: “We are breaking<br>record numbers in the right direction now….”“CBP’S 0<br>RELEASES IN MAY DOWN FROM 62,000 UNDER BIDEN”<br><b>Speaker:</b> Donald Trump",
          "<b>Date:</b> 2025-06-17 16:50<br><b>Topic:</b> biden-border-joe (Confidence: 0.810)<br><b>Content:</b><br>“FBI asked spy agencies to destroy intel on alleged China<br>plot to aid Joe Biden in 2020 election”<br><b>Speaker:</b> Donald Trump",
          "<b>Date:</b> 2025-06-17 10:07<br><b>Topic:</b> biden-border-joe (Confidence: 0.598)<br><b>Content:</b><br>Tom Homan: “When they double down, we triple down! So, the<br>Men and Women of ICE are going to keep standing up, they’re<br>going to keep doing the job. They’re working for the<br>Greatest President in my Lif...<br><b>Speaker:</b> Donald Trump",
          "<b>Date:</b> 2025-06-15 20:43<br><b>Topic:</b> biden-border-joe (Confidence: 0.596)<br><b>Content:</b><br>Our Nation’s ICE Officers have shown incredible strength,<br>determination, and courage as they facilitate a very<br>important mission, the largest Mass Deportation Operation of<br>Illegal Aliens in History. E...<br><b>Speaker:</b> Donald Trump",
          "<b>Date:</b> 2025-06-12 18:45<br><b>Topic:</b> biden-border-joe (Confidence: 0.606)<br><b>Content:</b><br>The Biden Administration and Governor Newscum flooded<br>America with 21 Million Illegal Aliens, destroying Schools,<br>Hospitals and Communities, and consuming untold Billions of<br>Dollars in Free Welfare. A...<br><b>Speaker:</b> Donald Trump",
          "<b>Date:</b> 2025-06-12 14:03<br><b>Topic:</b> biden-border-joe (Confidence: 0.669)<br><b>Content:</b><br>Biden let 21 Million Unvetted, Illegal Aliens flood into the<br>Country from some of the most dangerous and dysfunctional<br>Nations on Earth — Many of them Rapists, Murderers, and<br>Terrorists. This tsunami ...<br><b>Speaker:</b> Donald Trump",
          "<b>Date:</b> 2025-06-12 09:43<br><b>Topic:</b> biden-border-joe (Confidence: 0.495)<br><b>Content:</b><br>Our great Farmers and people in the Hotel and Leisure<br>business have been stating that our very aggressive policy<br>on immigration is taking very good, long time workers away<br>from them, with those jobs b...<br><b>Speaker:</b> Donald Trump",
          "<b>Date:</b> 2025-06-11 06:52<br><b>Topic:</b> biden-border-joe (Confidence: 0.503)<br><b>Content:</b><br>The INCOMPETENT Governor of California was unable to provide<br>protection in a timely manner when our Ice Officers, GREAT<br>Patriots they are, were attacked by an out of control mob of<br>agitators, troublem...<br><b>Speaker:</b> Donald Trump",
          "<b>Date:</b> 2025-06-10 12:39<br><b>Topic:</b> biden-border-joe (Confidence: 0.620)<br><b>Content:</b><br>If there's an insurrection, I would certainly invoke it...If<br>we didn't get involved, right now Los Angeles would be<br>burning just like it was burning a number of months ago...We<br>are not playing around…<br><b>Speaker:</b> Donald Trump",
          "<b>Date:</b> 2025-06-09 00:14<br><b>Topic:</b> biden-border-joe (Confidence: 0.553)<br><b>Content:</b><br>Jim McDonnell, the highly respected LAPD Chief, just stated<br>that the protesters are getting very much more aggressive,<br>and that he would “have to reassess the situation,” as it<br>pertains to bringing in...<br><b>Speaker:</b> Donald Trump",
          "<b>Date:</b> 2025-06-06 08:58<br><b>Topic:</b> biden-border-joe (Confidence: 0.498)<br><b>Content:</b><br>AMERICA IS HOT! SIX MONTHS AGO IT WAS COLD AS ICE! BORDER IS<br>CLOSED, PRICES ARE DOWN. WAGES ARE UP!<br><b>Speaker:</b> Donald Trump",
          "<b>Date:</b> 2025-06-04 20:11<br><b>Topic:</b> biden-border-joe (Confidence: 0.550)<br><b>Content:</b><br>We cannot have open migration from any country where we<br>cannot safely and reliably vet and screen….<br><b>Speaker:</b> Donald Trump",
          "<b>Date:</b> 2025-06-02 12:24<br><b>Topic:</b> biden-border-joe (Confidence: 0.677)<br><b>Content:</b><br>Yesterday’s horrific attack in Boulder, Colorado, WILL NOT<br>BE TOLERATED in the United States of America. He came in<br>through Biden’s ridiculous Open Border Policy, which has<br>hurt our Country so badly. ...<br><b>Speaker:</b> Donald Trump",
          "<b>Date:</b> 2025-05-27 13:48<br><b>Topic:</b> biden-border-joe (Confidence: 0.505)<br><b>Content:</b><br>I have just signed a Proclamation for the United States<br>Border Patrol, celebrating their 101st Anniversary.<br>Shockingly, President Biden and the democrats refused to<br>celebrate and honor them, and there...<br><b>Speaker:</b> Donald Trump",
          "<b>Date:</b> 2025-05-26 07:22<br><b>Topic:</b> biden-border-joe (Confidence: 0.534)<br><b>Content:</b><br>HAPPY MEMORIAL DAY TO ALL, INCLUDING THE SCUM THAT SPENT THE<br>LAST FOUR YEARS TRYING TO DESTROY OUR COUNTRY THROUGH WARPED<br>RADICAL LEFT MINDS, WHO ALLOWED 21,000,000 MILLION PEOPLE TO<br>ILLEGALLY ENTER O...<br><b>Speaker:</b> Donald Trump",
          "<b>Date:</b> 2025-05-25 10:57<br><b>Topic:</b> biden-border-joe (Confidence: 0.326)<br><b>Content:</b><br>I always said golf can be a dangerous sport! My friend being<br>bit at Bedminster.<br><b>Speaker:</b> Donald Trump",
          "<b>Date:</b> 2025-05-22 13:33<br><b>Topic:</b> biden-border-joe (Confidence: 0.983)<br><b>Content:</b><br>A Federal Judge in Boston, who knew absolutely nothing about<br>the situation, or anything else, has ordered that EIGHT of<br>the most violent criminals on Earth curtail their journey to<br>South Sudan, and in...<br><b>Speaker:</b> Donald Trump",
          "<b>Date:</b> 2025-05-20 15:55<br><b>Topic:</b> biden-border-joe (Confidence: 0.870)<br><b>Content:</b><br>Joe Biden was not for Open Borders, he never talked about<br>Open Borders, where criminals of all kinds, shapes, and<br>sizes, can flow into our Country at will. It wasn’t his idea<br>to Open the Border, and a...<br><b>Speaker:</b> Donald Trump",
          "<b>Date:</b> 2025-05-18 00:23<br><b>Topic:</b> biden-border-joe (Confidence: 0.944)<br><b>Content:</b><br>RT@mrddmiaFrom first arrest to its ruling, it took the<br>Supreme Court over 30,000 hours to provide relief to January<br>6th defendants persecuted by Biden.From habeas petition to<br>its ruling, it took the S...<br><b>Speaker:</b> Donald Trump",
          "<b>Date:</b> 2025-05-17 12:14<br><b>Topic:</b> biden-border-joe (Confidence: 0.820)<br><b>Content:</b><br>Supreme Court must come to the RESCUE OF AMERICA.<br><b>Speaker:</b> Donald Trump",
          "<b>Date:</b> 2025-05-17 12:14<br><b>Topic:</b> biden-border-joe (Confidence: 0.546)<br><b>Content:</b><br>RT@mrddmiaThe Supreme Court still has an illegal injunction<br>on the President of the United States, preventing him from<br>commanding military operations to expel these foreign<br>terrorists.The President sh...<br><b>Speaker:</b> Donald Trump",
          "<b>Date:</b> 2025-05-16 17:59<br><b>Topic:</b> biden-border-joe (Confidence: 0.853)<br><b>Content:</b><br>The Supreme Court has just ruled that the worst murderers,<br>drug dealers, gang members, and even those who are mentally<br>insane, who came into our Country illegally, are not allowed<br>to be forced out wit...<br><b>Speaker:</b> Donald Trump",
          "<b>Date:</b> 2025-05-16 17:12<br><b>Topic:</b> biden-border-joe (Confidence: 0.725)<br><b>Content:</b><br>THE SUPREME COURT WON’T ALLOW US TO GET CRIMINALS OUT OF OUR<br>COUNTRY!<br><b>Speaker:</b> Donald Trump",
          "<b>Date:</b> 2025-05-16 10:07<br><b>Topic:</b> biden-border-joe (Confidence: 0.308)<br><b>Content:</b><br>Republicans MUST UNITE behind, “THE ONE, BIG BEAUTIFUL<br>BILL!” Not only does it cut Taxes for ALL Americans, but it<br>will kick millions of Illegal Aliens off of Medicaid to<br>PROTECT it for those who are ...<br><b>Speaker:</b> Donald Trump",
          "<b>Date:</b> 2025-05-16 10:07<br><b>Topic:</b> biden-border-joe (Confidence: 0.661)<br><b>Content:</b><br>I see that Highly Overrated Bruce Springsteen goes to a<br>Foreign Country to speak badly about the President of the<br>United States. Never liked him, never liked his music, or<br>his Radical Left Politics an...<br><b>Speaker:</b> Donald Trump",
          "<b>Date:</b> 2025-05-16 09:35<br><b>Topic:</b> biden-border-joe (Confidence: 0.551)<br><b>Content:</b><br>THE SUPREME COURT IS BEING PLAYED BY THE RADICAL LEFT<br>LOSERS, WHO HAVE NO SUPPORT, THE PUBLIC HATES THEM, AND<br>THEIR ONLY HOPE IS THE INTIMIDATION OF THE COURT, ITSELF. WE<br>CAN’T LET THAT HAPPEN TO OUR ...<br><b>Speaker:</b> Donald Trump",
          "<b>Date:</b> 2025-05-16 09:21<br><b>Topic:</b> biden-border-joe (Confidence: 0.775)<br><b>Content:</b><br>Has anyone noticed that, since I said “I HATE TAYLOR SWIFT,”<br>she’s no longer “HOT?”<br><b>Speaker:</b> Donald Trump",
          "<b>Date:</b> 2025-05-13 23:58<br><b>Topic:</b> biden-border-joe (Confidence: 0.440)<br><b>Content:</b><br>RT@IStandWithTrump47You are absolutely right Sir!The Media<br>and the left never have a problem with America giving<br>billions of taxpayers dollars to foreign countries,but<br>apparently getting a gift from a...<br><b>Speaker:</b> Donald Trump",
          "<b>Date:</b> 2025-05-12 17:23<br><b>Topic:</b> biden-border-joe (Confidence: 0.557)<br><b>Content:</b><br>If we’re not allowed to send the murderers and other<br>criminals of every type, size, and shape, IMMEDIATELY out of<br>our Country, we aren’t going to have a Country anymore.<br>Radical Left Judges and politi...<br><b>Speaker:</b> Donald Trump",
          "<b>Date:</b> 2025-05-11 13:03<br><b>Topic:</b> biden-border-joe (Confidence: 0.551)<br><b>Content:</b><br>Our Country has been INVADED by 21,000,000 Illegal Aliens,<br>many of whom are Murderers and Criminals of the Highest<br>Order, and if we aren’t allowed to remove them because of a<br>radicalized and incompete...<br><b>Speaker:</b> Donald Trump",
          "<b>Date:</b> 2025-05-09 21:02<br><b>Topic:</b> biden-border-joe (Confidence: 0.557)<br><b>Content:</b><br>Today, I signed an Executive Order to launch the first-ever<br>self-deportation program. Illegal aliens who stay in America<br>face punishments, including—sudden deportation, in a place<br>and manner solely of...<br><b>Speaker:</b> Donald Trump",
          "<b>Date:</b> 2025-05-08 06:38<br><b>Topic:</b> biden-border-joe (Confidence: 0.398)<br><b>Content:</b><br>Air Traffic problems caused by the incompetent Biden<br>Administration, as headed by, in this case, a total novice<br>and political hack, Pete B. I WILL FIX IT!!!<br><b>Speaker:</b> Donald Trump",
          "<b>Date:</b> 2025-05-07 15:51<br><b>Topic:</b> biden-border-joe (Confidence: 0.871)<br><b>Content:</b><br>“Largest Fentanyl Bust in DEA History: Authorities Seize<br>Over 400 Kilograms of Fentanyl in Record-Shattering<br>Operation”<br><b>Speaker:</b> Donald Trump",
          "<b>Date:</b> 2025-05-07 09:49<br><b>Topic:</b> biden-border-joe (Confidence: 0.918)<br><b>Content:</b><br>Our Court System is not letting me do the job I was Elected<br>to do. Activist judges must let the Trump Administration<br>deport murderers, and other criminals who have come into our<br>Country illegally, WIT...<br><b>Speaker:</b> Donald Trump",
          "<b>Date:</b> 2025-05-06 15:33<br><b>Topic:</b> biden-border-joe (Confidence: 0.591)<br><b>Content:</b><br>“Supreme Court Lets Trump's Ban on Transgender Military<br>Service Take Effect”<br><b>Speaker:</b> Donald Trump",
          "<b>Date:</b> 2025-05-06 11:23<br><b>Topic:</b> biden-border-joe (Confidence: 0.369)<br><b>Content:</b><br>I look forward to meeting the new Prime Minister of Canada,<br>Mark Carney. I very much want to work with him, but cannot<br>understand one simple TRUTH — Why is America subsidizing<br>Canada by $200 Billion D...<br><b>Speaker:</b> Donald Trump",
          "<b>Date:</b> 2025-05-05 20:51<br><b>Topic:</b> biden-border-joe (Confidence: 0.871)<br><b>Content:</b><br>“𝐏𝐑𝐄𝐒𝐈𝐃𝐄𝐍𝐓 𝐓𝐑𝐔𝐌𝐏 𝐖𝐀𝐍𝐓𝐒 𝐓𝐎 𝐑𝐄𝐎𝐏𝐄𝐍 𝐀𝐋𝐂𝐀𝐓𝐑𝐀𝐙”Stephen Miller:<br>\"There are people in this country, as President Trump has<br>said, who will do nothing with their lives but rape, maim,<br>and murder. They cannot b...<br><b>Speaker:</b> Donald Trump",
          "<b>Date:</b> 2025-05-04 18:55<br><b>Topic:</b> biden-border-joe (Confidence: 0.585)<br><b>Content:</b><br>REBUILD, AND OPEN ALCATRAZ! For too long, America has been<br>plagued by vicious, violent, and repeat Criminal Offenders,<br>the dregs of society, who will never contribute anything<br>other than Misery and Su...<br><b>Speaker:</b> Donald Trump",
          "<b>Date:</b> 2025-05-04 13:28<br><b>Topic:</b> biden-border-joe (Confidence: 0.775)<br><b>Content:</b><br>“Border crossings are at their lowest level ever recorded…”<br><b>Speaker:</b> Donald Trump",
          "<b>Date:</b> 2025-05-04 13:13<br><b>Topic:</b> biden-border-joe (Confidence: 0.550)<br><b>Content:</b><br>“Border crossings have PLUNGED under Trump…”<br><b>Speaker:</b> Donald Trump",
          "<b>Date:</b> 2025-05-03 01:47<br><b>Topic:</b> biden-border-joe (Confidence: 0.490)<br><b>Content:</b><br>Can it be so that Judges aren’t allowing the USA to Deport<br>Criminals, including Murderers, out of our Country and back<br>to where they came from? If this is so, our Country, as we<br>know it, is finished! ...<br><b>Speaker:</b> Donald Trump",
          "<b>Date:</b> 2025-04-30 09:13<br><b>Topic:</b> biden-border-joe (Confidence: 0.654)<br><b>Content:</b><br>This is Biden’s Stock Market, not Trump’s. I didn’t take<br>over until January 20th. Tariffs will soon start kicking in,<br>and companies are starting to move into the USA in record<br>numbers. Our Country wil...<br><b>Speaker:</b> Donald Trump",
          "<b>Date:</b> 2025-04-29 17:21<br><b>Topic:</b> biden-border-joe (Confidence: 0.492)<br><b>Content:</b><br>Secretary of Defense, Pete Hegseth: \"All I ever wanted when<br>I was in combat was to know that my Commander had my back no<br>matter what. Donald J. Trump, that Commander, has your back<br>and that means some...<br><b>Speaker:</b> Donald Trump",
          "<b>Date:</b> 2025-04-29 11:27<br><b>Topic:</b> biden-border-joe (Confidence: 0.501)<br><b>Content:</b><br>“In just 100 days, President Donald Trump has reignited a<br>movement and reset the trajectory of the United States. He<br>is a leader who is doing exactly what he promised on the<br>campaign trail, and the ea...<br><b>Speaker:</b> Donald Trump",
          "<b>Date:</b> 2025-04-29 11:19<br><b>Topic:</b> biden-border-joe (Confidence: 0.517)<br><b>Content:</b><br>“President Trump has answered the biggest question on<br>immigration as he hits the 100-day mark: You can shut down<br>the border through sheer willpower. Illegal crossings are at<br>the lowest level ever dete...<br><b>Speaker:</b> Donald Trump",
          "<b>Date:</b> 2025-04-29 10:26<br><b>Topic:</b> biden-border-joe (Confidence: 0.552)<br><b>Content:</b><br>Maria Bartiromo: \"There's no other way to look at this first<br>100 days other than a huge success...Look at the President's<br>two top issues: immigration and inflation. Border crossings<br>are down 99%...”<br><b>Speaker:</b> Donald Trump",
          "<b>Date:</b> 2025-04-29 07:46<br><b>Topic:</b> biden-border-joe (Confidence: 0.470)<br><b>Content:</b><br>100 VERY SPECIAL DAYS. MAKE AMERICA GREAT AGAIN!!!Danielle<br>Alvarez of the RNC, and Paul Perez of Border Patrol, were<br>GREAT on Fox & Friends (First). Thank you both! DJT<br><b>Speaker:</b> Donald Trump",
          "<b>Date:</b> 2025-04-28 23:41<br><b>Topic:</b> biden-border-joe (Confidence: 0.408)<br><b>Content:</b><br>The USA lost Billions of Dollars A DAY in International<br>Trade under Sleepy Joe Biden. I have now stemmed that tide,<br>and will be making a fortune, very soon. Stay tuned as we<br>MAKE AMERICA GREAT AGAIN!!...<br><b>Speaker:</b> Donald Trump",
          "<b>Date:</b> 2025-04-27 18:59<br><b>Topic:</b> biden-border-joe (Confidence: 0.793)<br><b>Content:</b><br>big Raid last night on some of the worst people illegally in<br>our Country — Drug Dealers, Murderers, and other Violent<br>Criminals, of all shapes and sizes, and Judges don’t want to<br>send them back to whe...<br><b>Speaker:</b> Donald Trump",
          "<b>Date:</b> 2025-04-27 14:20<br><b>Topic:</b> biden-border-joe (Confidence: 0.561)<br><b>Content:</b><br>Hopefully ACTBLUE, the Democrats ILLEGAL SCAM used to raise<br>money, including from not allowed “foreign contributions,”<br>is being looked at by authorities. The Dems only know how to<br>win by CHEATING, som...<br><b>Speaker:</b> Donald Trump",
          "<b>Date:</b> 2025-04-27 08:57<br><b>Topic:</b> biden-border-joe (Confidence: 0.498)<br><b>Content:</b><br>JUST RELEASED: 99.9% at the Border. Best number ever<br>recorded. 3 people got in, versus hundreds of thousands in<br>last Administration. There has NEVER been such a difference<br>before. Congratulations Amer...<br><b>Speaker:</b> Donald Trump",
          "<b>Date:</b> 2025-04-26 16:37<br><b>Topic:</b> biden-border-joe (Confidence: 0.973)<br><b>Content:</b><br>We need Courageous JUSTICE in our Country. If the Courts<br>don’t allow what we have been allowed to do for 250 years,<br>America can no longer be the same. Crooked Joe Biden will<br>have destroyed our Country...<br><b>Speaker:</b> Donald Trump",
          "<b>Date:</b> 2025-04-24 07:34<br><b>Topic:</b> biden-border-joe (Confidence: 0.488)<br><b>Content:</b><br>THE DEMOCRATS ARE FIGHTING LIKE HELL TO KEEP MURDERERS, AND<br>ALL OTHER TYPE OF CRIMINALS, SOLIDLY IN THE UNITED STATES OF<br>AMERICA. THEY HAVE GONE CRAZY, AND ARE ONLY GETTING WORSE!!!<br><b>Speaker:</b> Donald Trump",
          "<b>Date:</b> 2025-04-21 18:30<br><b>Topic:</b> biden-border-joe (Confidence: 0.576)<br><b>Content:</b><br>How can Biden let Millions of Criminals into our Country,<br>totally unchecked and unvetted, with no Legal authority to<br>do so, yet I, in order to make up for this assault to our<br>Nation, am expected to go...<br><b>Speaker:</b> Donald Trump",
          "<b>Date:</b> 2025-04-21 17:08<br><b>Topic:</b> biden-border-joe (Confidence: 0.822)<br><b>Content:</b><br>I’m doing what I was elected to do, remove criminals from<br>our Country, but the Courts don’t seem to want me to do<br>that. My team is fantastic, doing an incredible job,<br>however, they are being stymied a...<br><b>Speaker:</b> Donald Trump",
          "<b>Date:</b> 2025-04-20 17:12<br><b>Topic:</b> biden-border-joe (Confidence: 0.428)<br><b>Content:</b><br>Radical Lunatic Democrats and their Comrades in the Fake<br>News Media are falsely making Kilmar Armando Abrego Garcia<br>out to be a very sweet and innocent person, which is a<br>total, blatant, and dangerous...<br><b>Speaker:</b> Donald Trump",
          "<b>Date:</b> 2025-04-20 08:46<br><b>Topic:</b> biden-border-joe (Confidence: 0.542)<br><b>Content:</b><br>Happy Easter to all, including the Radical Left Lunatics who<br>are fighting and scheming so hard to bring Murderers, Drug<br>Lords, Dangerous Prisoners, the Mentally Insane, and well<br>known MS-13 Gang Membe...<br><b>Speaker:</b> Donald Trump",
          "<b>Date:</b> 2025-04-18 18:00<br><b>Topic:</b> biden-border-joe (Confidence: 0.447)<br><b>Content:</b><br>This is the hand of the man that the Democrats feel should<br>be brought back to the United States, because he is such “a<br>fine and innocent person.” They said he is not a member of<br>MS-13, even though he’...<br><b>Speaker:</b> Donald Trump",
          "<b>Date:</b> 2025-04-16 17:56<br><b>Topic:</b> biden-border-joe (Confidence: 0.704)<br><b>Content:</b><br>Can you believe it? A Judge ruled against us on 530,000<br>Illegal Migrants (that Joe Biden flew over the Border in his<br>program to transport Illegals into the Country by airplane)<br>saying that they can’t ...<br><b>Speaker:</b> Donald Trump",
          "<b>Date:</b> 2025-04-16 10:57<br><b>Topic:</b> biden-border-joe (Confidence: 0.605)<br><b>Content:</b><br>U.S. Border Patrol Chief Mike Banks: \"The Border Patrol<br>morale is going through the roof. We've had the handcuffs<br>taken off. We're allowed to actually do our job which is to<br>go out and enforce the law...<br><b>Speaker:</b> Donald Trump",
          "<b>Date:</b> 2025-04-16 07:26<br><b>Topic:</b> biden-border-joe (Confidence: 0.879)<br><b>Content:</b><br>Sleepy Joe Biden, THE WORST PRESIDENT IN THE HISTORY OF THE<br>UNITED STATES, has allowed millions and millions of<br>Criminals, many of them murderers, drug dealers, and people<br>released from prisons and me...<br><b>Speaker:</b> Donald Trump",
          "<b>Date:</b> 2025-04-14 19:08<br><b>Topic:</b> biden-border-joe (Confidence: 0.684)<br><b>Content:</b><br>Moments ago, the Illegal Criminal, who was allowed into our<br>Country by Crooked Joe Biden, was convicted of the heinous<br>murder of Rachel Morin. Rachel was a beautiful mother of<br>five from Maryland, and ...<br><b>Speaker:</b> Donald Trump",
          "<b>Date:</b> 2025-04-14 17:12<br><b>Topic:</b> biden-border-joe (Confidence: 0.950)<br><b>Content:</b><br>Thank you very much to all of the Record Setting Attendees!<br>We are spending a lot of time, effort, and money on making<br>The Kennedy Center the spectacular venue that it was<br>originally meant to be. Bear...<br><b>Speaker:</b> Donald Trump",
          "<b>Date:</b> 2025-04-09 07:44<br><b>Topic:</b> biden-border-joe (Confidence: 0.594)<br><b>Content:</b><br>This is a GREAT time to move your COMPANY into the United<br>States of America, like Apple, and so many others, in record<br>numbers, are doing. ZERO TARIFFS, and almost immediate<br>Electrical/Energy hook ups...<br><b>Speaker:</b> Donald Trump",
          "<b>Date:</b> 2025-04-08 21:38<br><b>Topic:</b> biden-border-joe (Confidence: 0.925)<br><b>Content:</b><br>Last month, we officially designated Tren de Aragua, MS-13<br>and the Mexican drug cartels as foreign terrorist<br>organizations—and thanks to the Supreme Court yesterday...we<br>will continue to deport these ...<br><b>Speaker:</b> Donald Trump",
          "<b>Date:</b> 2025-04-08 09:05<br><b>Topic:</b> biden-border-joe (Confidence: 0.479)<br><b>Content:</b><br>\"Border Patrol agents sign up to do Border Patrol work, and<br>the fact that they're actually getting out there and<br>patrolling...I think that makes a lot of folks in our<br>organization very, very happy.\"<br><b>Speaker:</b> Donald Trump",
          "<b>Date:</b> 2025-03-31 14:09<br><b>Topic:</b> biden-border-joe (Confidence: 0.944)<br><b>Content:</b><br>Thank you President Bukele, of El Salvador, for taking the<br>criminals that were so stupidly allowed, by the Crooked Joe<br>Biden Administration, to enter our Country, and giving them<br>such a wonderful plac...<br><b>Speaker:</b> Donald Trump",
          "<b>Date:</b> 2025-03-31 12:47<br><b>Topic:</b> biden-border-joe (Confidence: 0.537)<br><b>Content:</b><br>In two months, there has been more Private Investment spoken<br>for, and/or committed to, than in four years of the Sleepy<br>Joe Biden Administration — A fact that the Fake News hates<br>talking about!<br><b>Speaker:</b> Donald Trump",
          "<b>Date:</b> 2025-03-31 12:47<br><b>Topic:</b> biden-border-joe (Confidence: 0.653)<br><b>Content:</b><br>There will never have been a transformation of a Country<br>like the transformation that is happening, for all to see,<br>in the United States of America. Companies are pouring into<br>our Country at levels ne...<br><b>Speaker:</b> Donald Trump",
          "<b>Date:</b> 2025-03-30 19:37<br><b>Topic:</b> biden-border-joe (Confidence: 0.864)<br><b>Content:</b><br>I was just informed by Prime Minister Starmer of the United<br>Kingdom, that they caught the terrorists who attacked the<br>beautiful Turnberry, in Scotland. They did serious damage,<br>and will hopefully be t...<br><b>Speaker:</b> Donald Trump",
          "<b>Date:</b> 2025-03-30 11:00<br><b>Topic:</b> biden-border-joe (Confidence: 0.643)<br><b>Content:</b><br>FREE ENTERPRISE!!Winston Churchill: \"Socialism is the<br>Philosophy of Failure, the Creed of Ignorance, and the<br>Gospel of Envy...The inherent Virtue of Socialism is the<br>Equal Sharing of Miseries.\"Ronald ...<br><b>Speaker:</b> Donald Trump",
          "<b>Date:</b> 2025-03-30 09:53<br><b>Topic:</b> biden-border-joe (Confidence: 0.734)<br><b>Content:</b><br>People are shocked by what is going on with the Court<br>System. I was elected for many reasons, but a principal one<br>was LAW AND ORDER, a big part of which is QUICKLY removing a<br>vast Criminal Network of ...<br><b>Speaker:</b> Donald Trump",
          "<b>Date:</b> 2025-03-27 11:27<br><b>Topic:</b> biden-border-joe (Confidence: 0.417)<br><b>Content:</b><br>Kash Patel, FBI Director: \"This task force is going to go<br>everywhere as needed, across the United States to bring the<br>form of justice and measured security and safety that our<br>American citizens deserv...<br><b>Speaker:</b> Donald Trump",
          "<b>Date:</b> 2025-03-27 11:24<br><b>Topic:</b> biden-border-joe (Confidence: 0.548)<br><b>Content:</b><br>Auto Workers for Trump founder Brian Pannebacker on<br>President Trump's auto tariffs: \"To hear an announcement<br>like this that's going to force the auto companies to build<br>their assembly plants in the Un...<br><b>Speaker:</b> Donald Trump",
          "<b>Date:</b> 2025-03-27 09:51<br><b>Topic:</b> biden-border-joe (Confidence: 0.775)<br><b>Content:</b><br>“Gregg Jarrett slams judge for blocking deportations: 'He<br>has no authority for that'”<br><b>Speaker:</b> Donald Trump",
          "<b>Date:</b> 2025-03-25 16:11<br><b>Topic:</b> biden-border-joe (Confidence: 0.729)<br><b>Content:</b><br>“NASA spokeswoman Bethany Stevens credited President Donald<br>Trump for securing the return of two astronauts stranded for<br>more than nine months on the International Space<br>Station…’This is a huge win fo...<br><b>Speaker:</b> Donald Trump",
          "<b>Date:</b> 2025-03-24 10:37<br><b>Topic:</b> biden-border-joe (Confidence: 0.422)<br><b>Content:</b><br>President Donald J. Trump announced today that the United<br>States of America will be putting what is known as a<br>Secondary Tariff on the Country of Venezuela, for numerous<br>reasons, including the fact th...<br><b>Speaker:</b> Donald Trump",
          "<b>Date:</b> 2025-03-21 10:06<br><b>Topic:</b> biden-border-joe (Confidence: 0.775)<br><b>Content:</b><br>WE WANT VIOLENT CRIMINALS OUT OF OUR COUNTRY!<br><b>Speaker:</b> Donald Trump",
          "<b>Date:</b> 2025-03-20 18:22<br><b>Topic:</b> biden-border-joe (Confidence: 0.470)<br><b>Content:</b><br>Unlawful Nationwide Injunctions by Radical Left Judges could<br>very well lead to the destruction of our Country! These<br>people are Lunatics, who do not care, even a little bit,<br>about the repercussions fr...<br><b>Speaker:</b> Donald Trump",
          "<b>Date:</b> 2025-03-20 11:14<br><b>Topic:</b> biden-border-joe (Confidence: 0.627)<br><b>Content:</b><br>Tom Homan: “In four weeks, we arrested more criminal aliens<br>in the interior of the United States than Joe Biden did in a<br>year...Border numbers right now are down 96%...We did in six<br>weeks what Joe Bid...<br><b>Speaker:</b> Donald Trump",
          "<b>Date:</b> 2025-03-19 16:08<br><b>Topic:</b> biden-border-joe (Confidence: 0.775)<br><b>Content:</b><br>YOU HAVE A SITUATION (RUSSIA-UKRAINE) WHERE YOU HAVE A LOT<br>OF GUNS POINTING AT EACH OTHER, FOOLISHLY—BECAUSE IT WOULD<br>HAVE NEVER HAPPENED IF I WAS PRESIDENT…<br><b>Speaker:</b> Donald Trump",
          "<b>Date:</b> 2025-03-19 14:01<br><b>Topic:</b> biden-border-joe (Confidence: 0.700)<br><b>Content:</b><br>“ILLEGAL BORDER CROSSINGS PLUMMET UNDER TRUMP”<br><b>Speaker:</b> Donald Trump",
          "<b>Date:</b> 2025-03-19 13:45<br><b>Topic:</b> biden-border-joe (Confidence: 0.392)<br><b>Content:</b><br>“All energy that's affordable, reliable, and secure is a<br>part of the Trump administration and nuclear absolutely<br>falls in that category.\"<br><b>Speaker:</b> Donald Trump",
          "<b>Date:</b> 2025-03-18 21:26<br><b>Topic:</b> biden-border-joe (Confidence: 0.531)<br><b>Content:</b><br>“U.S. Industrial Production Surges in February to Record<br>Level, Led by Manufacturing and Autos”<br><b>Speaker:</b> Donald Trump",
          "<b>Date:</b> 2025-03-18 09:05<br><b>Topic:</b> biden-border-joe (Confidence: 0.549)<br><b>Content:</b><br>This Radical Left Lunatic of a Judge, a troublemaker and<br>agitator who was sadly appointed by Barack Hussein Obama,<br>was not elected President - He didn’t WIN the popular VOTE<br>(by a lot!), he didn’t WIN...<br><b>Speaker:</b> Donald Trump",
          "<b>Date:</b> 2025-03-17 10:13<br><b>Topic:</b> biden-border-joe (Confidence: 0.660)<br><b>Content:</b><br>Border Patrol Council President Paul Perez: \"It's amazing<br>what the policies of President Trump have done. Remain-in-<br>Mexico, ending catch-and-release — it's something President<br>Biden could have done. H...<br><b>Speaker:</b> Donald Trump",
          "<b>Date:</b> 2025-03-16 15:54<br><b>Topic:</b> biden-border-joe (Confidence: 0.670)<br><b>Content:</b><br>These are the monsters sent into our Country by Crooked Joe<br>Biden and the Radical Left Democrats. How dare they! Thank<br>you to El Salvador and, in particular, President Bukele, for<br>your understanding o...<br><b>Speaker:</b> Donald Trump",
          "<b>Date:</b> 2025-03-14 16:45<br><b>Topic:</b> biden-border-joe (Confidence: 0.810)<br><b>Content:</b><br>Crooked Joe Biden got us into a real mess with Russia and<br>everything else he did…<br><b>Speaker:</b> Donald Trump",
          "<b>Date:</b> 2025-03-14 16:37<br><b>Topic:</b> biden-border-joe (Confidence: 0.547)<br><b>Content:</b><br>As we begin a proud new chapter in the chronicles of<br>American Justice, we're turning the page on four long years<br>of corruption, weaponization, and surrender to violent<br>criminals...<br><b>Speaker:</b> Donald Trump",
          "<b>Date:</b> 2025-03-14 07:29<br><b>Topic:</b> biden-border-joe (Confidence: 0.640)<br><b>Content:</b><br>Crooked Joe Biden got us into a real “mess” with Russia (and<br>EVERYTHING ELSE!), but I’m going to get us out. Millions of<br>people are needlessly dead, never to be seen again…and there<br>will be many more ...<br><b>Speaker:</b> Donald Trump",
          "<b>Date:</b> 2025-03-12 16:08<br><b>Topic:</b> biden-border-joe (Confidence: 0.563)<br><b>Content:</b><br>Cleveland-Cliffs CEO Lourenco Goncalves: “This is the right<br>moment, the right time—manufacturing is BACK…We're going to<br>build in America. We're going to produce things here, employ<br>Americans.\"<br><b>Speaker:</b> Donald Trump",
          "<b>Date:</b> 2025-03-12 15:04<br><b>Topic:</b> biden-border-joe (Confidence: 0.673)<br><b>Content:</b><br>The United States of America is going to take back a lot of<br>what was stolen from it by other countries and, frankly, by<br>incompetent U.S. leadership. We're going to take back our<br>wealth and we're take ...<br><b>Speaker:</b> Donald Trump",
          "<b>Date:</b> 2025-03-07 19:51<br><b>Topic:</b> biden-border-joe (Confidence: 0.346)<br><b>Content:</b><br>I am thrilled to announce that Laura Ingraham and Maria<br>Bartiromo will be joining our Kennedy Center Board - This<br>completes our selection. We look forward to restoring the<br>Center to Greatness, and ush...<br><b>Speaker:</b> Donald Trump",
          "<b>Date:</b> 2025-03-06 10:48<br><b>Topic:</b> biden-border-joe (Confidence: 0.533)<br><b>Content:</b><br>Believe it or not, despite the terrible job he’s done for<br>Canada, I think that Justin Trudeau is using the Tariff<br>problem, which he has largely caused, in order to run again<br>for Prime Minister. So muc...<br><b>Speaker:</b> Donald Trump",
          "<b>Date:</b> 2025-03-06 10:09<br><b>Topic:</b> biden-border-joe (Confidence: 0.541)<br><b>Content:</b><br>Massive Trade Deficit with the World, just announced,<br>compliments of Sleepy Joe Biden! I will change that!!!<br><b>Speaker:</b> Donald Trump",
          "<b>Date:</b> 2025-03-05 13:10<br><b>Topic:</b> biden-border-joe (Confidence: 0.632)<br><b>Content:</b><br>For anyone who is interested, I also told Governor Justin<br>Trudeau of Canada that he largely caused the problems we<br>have with them because of his Weak Border Policies, which<br>allowed tremendous amounts ...<br><b>Speaker:</b> Donald Trump",
          "<b>Date:</b> 2025-03-02 21:19<br><b>Topic:</b> biden-border-joe (Confidence: 0.526)<br><b>Content:</b><br>We should spend less time worrying about Putin, and more<br>time worrying about migrant rape gangs, drug lords,<br>murderers, and people from mental institutions entering our<br>Country - So that we don’t end ...<br><b>Speaker:</b> Donald Trump",
          "<b>Date:</b> 2025-03-02 16:06<br><b>Topic:</b> biden-border-joe (Confidence: 0.850)<br><b>Content:</b><br>ILLEGAL BORDER CROSSINGS LAST MONTH WERE THE LOWEST EVER<br>RECORDED. THANK YOU!!!<br><b>Speaker:</b> Donald Trump",
          "<b>Date:</b> 2025-03-01 13:22<br><b>Topic:</b> biden-border-joe (Confidence: 0.873)<br><b>Content:</b><br>The month of February, my first full month in Office, had<br>the LOWEST number of Illegal Immigrants trying to enter our<br>Country in History – BY FAR! There were only 8,326<br>apprehensions of Illegals by Bo...<br><b>Speaker:</b> Donald Trump",
          "<b>Date:</b> 2025-02-26 14:42<br><b>Topic:</b> biden-border-joe (Confidence: 0.795)<br><b>Content:</b><br>I'm very disappointed...four bodies came in today...We got a<br>lot of hostages back, but it's very sad what happened to<br>those people...This is a vicious group of people, and<br>Israel's going to have to de...<br><b>Speaker:</b> Donald Trump",
          "<b>Date:</b> 2025-02-26 14:28<br><b>Topic:</b> biden-border-joe (Confidence: 0.633)<br><b>Content:</b><br>In just over one month, illegal border crossings have<br>plummeted by numbers nobody has ever actually seen<br>before—We've unleashed American energy...We're fighting<br>every day to get the prices down...<br><b>Speaker:</b> Donald Trump",
          "<b>Date:</b> 2025-02-26 14:12<br><b>Topic:</b> biden-border-joe (Confidence: 0.584)<br><b>Content:</b><br>We are hereby reversing the concessions that Crooked Joe<br>Biden gave to Nicolás Maduro, of Venezuela, on the oil<br>transaction agreement, dated November 26, 2022, and also<br>having to do with Electoral con...<br><b>Speaker:</b> Donald Trump",
          "<b>Date:</b> 2025-02-26 08:20<br><b>Topic:</b> biden-border-joe (Confidence: 0.900)<br><b>Content:</b><br>“President Trump made a promise to the American people that<br>he's going to make their communities safer—For those<br>sanctuary cities that want to push back and impede us, we'll<br>double the man force there...<br><b>Speaker:</b> Donald Trump",
          "<b>Date:</b> 2025-02-24 20:00<br><b>Topic:</b> biden-border-joe (Confidence: 0.511)<br><b>Content:</b><br>Our Country’s doing really well, and today, I was just<br>thinking, that the company building the Keystone XL Pipeline<br>that was viciously jettisoned by the incompetent Biden<br>Administration should come ba...<br><b>Speaker:</b> Donald Trump",
          "<b>Date:</b> 2025-02-21 12:27<br><b>Topic:</b> biden-border-joe (Confidence: 0.527)<br><b>Content:</b><br>“The number of border crossings have dropped so much under<br>Trump, that federal agents now outnumber illegal crossers…”<br><b>Speaker:</b> Donald Trump",
          "<b>Date:</b> 2025-02-20 22:54<br><b>Topic:</b> biden-border-joe (Confidence: 0.820)<br><b>Content:</b><br>Jesse Watters: “The America we knew under Joe Biden has<br>vanished.”<br><b>Speaker:</b> Donald Trump",
          "<b>Date:</b> 2025-02-20 11:03<br><b>Topic:</b> biden-border-joe (Confidence: 0.674)<br><b>Content:</b><br>“PRESIDENT DONALD J. TRUMP ENDS TAXPAYER SUBSIDIZATION OF<br>OPEN BORDERS”<br><b>Speaker:</b> Donald Trump",
          "<b>Date:</b> 2025-02-18 18:11<br><b>Topic:</b> biden-border-joe (Confidence: 0.496)<br><b>Content:</b><br>Biden gave Bennie Thompson and Liz Cheney a Medal for the<br>job they did on the Unselect Committee, but the only thing<br>that I see they did is get information, and then destroy and<br>delete ALL of it, beca...<br><b>Speaker:</b> Donald Trump",
          "<b>Date:</b> 2025-02-13 15:38<br><b>Topic:</b> biden-border-joe (Confidence: 0.700)<br><b>Content:</b><br>So sad how people have been tormented by this horrible<br>group!<br><b>Speaker:</b> Donald Trump",
          "<b>Date:</b> 2025-02-12 14:41<br><b>Topic:</b> biden-border-joe (Confidence: 0.601)<br><b>Content:</b><br>President Donald J. Trump was just unanimously elected<br>Chairman of the Board of the prestigious Kennedy Center in<br>Washington, D.C. The President stated, “It is a Great Honor<br>to be Chairman of The Kenn...<br><b>Speaker:</b> Donald Trump",
          "<b>Date:</b> 2025-02-11 06:57<br><b>Topic:</b> biden-border-joe (Confidence: 0.476)<br><b>Content:</b><br>I am hereby instructing Secretary Lee Zeldin to immediately<br>go back to my Environmental Orders, which were terminated by<br>Crooked Joe Biden, on Water Standards and Flow pertaining to<br>SINKS, SHOWERS, TO...<br><b>Speaker:</b> Donald Trump",
          "<b>Date:</b> 2025-02-07 23:39<br><b>Topic:</b> biden-border-joe (Confidence: 0.517)<br><b>Content:</b><br>Welcome to the New Kennedy Center!<br><b>Speaker:</b> Donald Trump",
          "<b>Date:</b> 2025-02-07 17:27<br><b>Topic:</b> biden-border-joe (Confidence: 0.576)<br><b>Content:</b><br>At my direction, we are going to make the Kennedy Center in<br>Washington D.C., GREAT AGAIN. I have decided to immediately<br>terminate multiple individuals from the Board of Trustees,<br>including the Chairma...<br><b>Speaker:</b> Donald Trump",
          "<b>Date:</b> 2025-02-07 09:28<br><b>Topic:</b> biden-border-joe (Confidence: 0.550)<br><b>Content:</b><br>“THIS IS THE REASON THE TRUMP REVOLUTION WAS SO<br>REVOLUTIONARY”<br><b>Speaker:</b> Donald Trump",
          "<b>Date:</b> 2025-02-03 18:40<br><b>Topic:</b> biden-border-joe (Confidence: 0.452)<br><b>Content:</b><br>It is my pleasure to nominate Joe Kent as the Director of<br>the National Counter Terrorism Center. As a Soldier, Green<br>Beret, and CIA Officer, Joe has hunted down terrorists and<br>criminals his entire adu...<br><b>Speaker:</b> Donald Trump",
          "<b>Date:</b> 2025-02-03 16:57<br><b>Topic:</b> biden-border-joe (Confidence: 0.449)<br><b>Content:</b><br>Canada has agreed to ensure we have a secure Northern<br>Border, and to finally end the deadly scourge of drugs like<br>Fentanyl that have been pouring into our Country, killing<br>hundreds of thousands of Ame...<br><b>Speaker:</b> Donald Trump",
          "<b>Date:</b> 2025-02-03 09:09<br><b>Topic:</b> biden-border-joe (Confidence: 0.520)<br><b>Content:</b><br>Canada doesn’t even allow U.S. Banks to open or do business<br>there. What’s that all about? Many such things, but it’s<br>also a DRUG WAR, and hundreds of thousands of people have<br>died in the U.S. from dru...<br><b>Speaker:</b> Donald Trump",
          "<b>Date:</b> 2025-02-01 17:42<br><b>Topic:</b> biden-border-joe (Confidence: 0.589)<br><b>Content:</b><br>Today, I have implemented a 25% Tariff on Imports from<br>Mexico and Canada (10% on Canadian Energy), and a 10%<br>additional Tariff on China. This was done through the<br>International Emergency Economic Powe...<br><b>Speaker:</b> Donald Trump",
          "<b>Date:</b> 2025-02-01 10:43<br><b>Topic:</b> biden-border-joe (Confidence: 0.975)<br><b>Content:</b><br>It is so good to have the Venezuela Hostages back home and,<br>very important to note, that Venezuela has agreed to<br>receive, back into their Country, all Venezuela illegal<br>aliens who were encamped in the...<br><b>Speaker:</b> Donald Trump",
          "<b>Date:</b> 2025-01-31 19:29<br><b>Topic:</b> biden-border-joe (Confidence: 0.900)<br><b>Content:</b><br>Just been informed that we are bringing six hostages home<br>from Venezuela. Thank you to Ric Grenell and my entire<br>staff. Great job!<br><b>Speaker:</b> Donald Trump",
          "<b>Date:</b> 2025-01-31 07:38<br><b>Topic:</b> biden-border-joe (Confidence: 0.418)<br><b>Content:</b><br>This is just one reason why our Country WAS going to hell!!!<br><b>Speaker:</b> Donald Trump",
          "<b>Date:</b> 2025-01-25 17:46<br><b>Topic:</b> biden-border-joe (Confidence: 0.447)<br><b>Content:</b><br>A lot of things that were ordered and paid for by Israel,<br>but have not been sent by Biden, are now on their way!<br><b>Speaker:</b> Donald Trump",
          "<b>Date:</b> 2025-01-09 17:14<br><b>Topic:</b> biden-border-joe (Confidence: 0.405)<br><b>Content:</b><br>Venezuelan democracy activist Maria Corina Machado and<br>President-elect Gonzalez are peacefully expressing the<br>voices and the WILL of the Venezuelan people with hundreds<br>of thousands of people demonstr...<br><b>Speaker:</b> Donald Trump",
          "<b>Date:</b> 2025-01-08 15:03<br><b>Topic:</b> biden-border-joe (Confidence: 0.437)<br><b>Content:</b><br>The fires in Los Angeles may go down, in dollar amount, as<br>the worst in the History of our Country. In many circles,<br>they’re doubting whether insurance companies will even have<br>enough money to pay for...<br><b>Speaker:</b> Donald Trump",
          "<b>Date:</b> 2025-01-08 14:25<br><b>Topic:</b> biden-border-joe (Confidence: 0.887)<br><b>Content:</b><br>NO WATER IN THE FIRE HYDRANTS, NO MONEY IN FEMA. THIS IS<br>WHAT JOE BIDEN IS LEAVING ME. THANKS JOE!<br><b>Speaker:</b> Donald Trump",
          "<b>Date:</b> 2025-01-03 13:25<br><b>Topic:</b> biden-border-joe (Confidence: 0.413)<br><b>Content:</b><br>Biden gave Liz Cheney a Medal yesterday, even though she has<br>proven to be totally corrupt. She, “Bennie” Thompson, and<br>the rest of the Unselect Committee, destroyed and deleted<br>all evidence from their...<br><b>Speaker:</b> Donald Trump",
          "<b>Date:</b> 2025-01-02 09:08<br><b>Topic:</b> biden-border-joe (Confidence: 0.599)<br><b>Content:</b><br>With the Biden “Open Border’s Policy” I said, many times<br>during Rallies, and elsewhere, that Radical Islamic<br>Terrorism, and other forms of violent crime, will become so<br>bad in America that it will bec...<br><b>Speaker:</b> Donald Trump"
         ],
         "type": "scatter3d",
         "x": {
          "bdata": "MUm0P2JPcD+0+4g/MXTbvVyxoD+pweu/k+qDP52t0D72rrW/+n2sP6lEBD8LZNE/wdR2P9L3Hz87T4c/AkGwP7ZRtz9lG2k/1vZzPwTGsb8cGDG81jCjPrdlwb82BIY/LbqYP3HQmj/Nkhs/cQIcvrrxur2sYgO9/u8LP991dT98i54/UyC7v71DpT+3rLS/t0yyPnoofj9jjro+3eU8P2ERur+hNYM/v3CdPsgNwD+t6G0/z3K5P09rWD90+qI/cHOrPzlctz+Co7C/Bx1uP0jcFD/1G80+yyuiPwzyHD+sYwg/DCAqPS/SWz8dwHA/pa/RP94i0j5SH8O91ygPP0NNs7+T4Lm/uoh0Px1lPT81o40/htywP5A+x7/ZFqI+ssWCP18Fsz8iDig/IviKPxtUsD+JgbQ/ezitP5/vmz/Ti9c+1ViHP4S2rD6V7e8+wR7MPuykyz65/pc+cV57P20tmT/EG38/Cb1nP0/foj8EhOW/ukQPP+V7YT9wDI0/0hWPPgnnXD/s3MA/HD7gv8WGXj+G42U/Wvm0v8ftAD9XRcM/qc6wvxF3rj/WQcY++H/kv1H7aj6xw/c+9imuPku37D47Cas/SbYHP/aP3T4s6fA+ttcaP7FP2z6JNdc+tg6CP3HniT0YXwA/4o8MP5NC0b1hY0M/EvOPP2YnzD+GV3Q/tpbWvbo1YD7OF+C/zWYbvTCseD8xPOW/ZaPjPovd6z7zFgM/35afPu9W8z6wnXI/jhpzP3FYv79hDOy9FOAFP5upxb9ACoE/",
          "dtype": "f4"
         },
         "y": {
          "bdata": "syCUQHSIVUBeUWNAL8kvQDNtW0AbbbZA01SHQEY2SUCiQ7FA5B+UQPQGWUBMPKRAUQR9QNJzu8Ccc2BAcS2VQGJSl0CKMXtACnFSQL1lsEDYKjpACdtJQKFHsUCLJIZAeoBdQNBeXUD+rrrAmMAvQGZjNEAl1TVAd4u8wEfyfUC65Y5AOVCyQD6IkUDQ/rBADAhNQLsga0D2UE5AcVZqQFbDsEDDC4RAq9RIQFnYS0CHE19ABM+XQDUNd0CJo1tAE6GTQE3rl0BB4q9AxxlQQIFbXkDfK1FAxwRbQKdAu8C6tVtAq3U6QAeRd0DCXH9AMSykQAxnvsB4ajFAYlq8wKrcsEBTV7JAMwxVQDUFP0Ae+odAc/aUQGMaskCgFExAosViQIqVlUC93XdAMvNpQKr/lEBgzpZAPsWTQMgxXUAkxFtAmCBkQGZuTUCMWb3AZAlRQLrrQECgb0xAcCdZQL5/XUAjamlA2fRXQE08kEBSg7ZASYG8wA0Ud0DKNohA0tQ/QFp1d0BoRJxAtXe1QJJjd0AF3npA6FGxQEesvMAQXJ1AZSiwQMdvlEByYEtA5yu2QC9SOUCueb3AYNe/wEOFucAKK5NAaey8wIQDvsAVPkJAdVdhQAxoVUBog0tAO+1dQJQ0L0Ce51dAgVq8wDAuMkA4Q21ArNFeQFuHoUDZ8H1Ary8yQGPtO0AN47RARwQ1QA/zfkAyIbZArh9GQJ0QvcCjy73Ah1VKQOTuVUBLP1FA5oxVQJi8s0D8vTFADa1ZQM3itEC0ioBA",
          "dtype": "f4"
         },
         "z": {
          "bdata": "bb1GQPK0N0CjO0RAXiipP4Qzsz/TsjlAxocaQO3nvD9GbOo/fL46QKlI5T9W3FxAGpAEQM4Znb8JwERAVVM/QKQ+QkCtVwNAeTU+QMA97T9wfcY/hv/WP1hpF0BXXhtA+DK+P5MGvD9bSJ+/UAC4P07Kvj8lQ7g/hXumvw6sBUBIJi9AwUnxP7lINUDFi9s/CfjhPyDI4z8gM98/jgbzP6muBkD39xZAQlDWPzFJYD+CBSlATAs/QIUg/T/sf8A/AOE6QIeDQ0AYUfU/WSxEQEMh7T+94OA/S9KxPxyVnr/zDOk/4NLGP83t/z/FawZAfPlcQNVptr/iz7I/Or6kv/TE7T/c6uU/A1w7QImLdT+ILiFAujI/QI27FUAmXt8/xho7QHzfO0AsNP8/cXBBQPtSO0B0yEBAeAM7QJPXuj/Jweo/sqfmP3+E4D/mMK+/TcHhP18Hiz9FSt8/wUomQIbnuz/I++I/usYpQNZTNEBJrjZAsf2kv5zM/j9vlx9ASU22P7Jv/z8bnUxA4NAxQHzk/j++lwNAaBnqP5Yuq79aWk9AAeXvPxwxPECewMU/qJk1QOcWfD+e562/eRK/v3+pq7/eCDtAcnSov9vzs7+HKpI/fVDtP9Qf8T9dPb0/rJvIP07dRD+f3OQ/DA2mvy1Auj8GcvU/QCbFP/gEWEA/yQVA2vW5P0lvfD9AkjJAIN69P+PyBUDNKjZAMWazPx0EsL+Hc6q/ES3WP5UX3z8vl0BAAz44QIVZ2D8zkbw/ig3mP7ASyz8mXhtA",
          "dtype": "f4"
         }
        },
        {
         "hoverinfo": "text",
         "hovertemplate": "%{text}<extra></extra>",
         "marker": {
          "color": "rgb(188,128,189)",
          "line": {
           "color": "darkgray",
           "width": 0.5
          },
          "opacity": 0.8,
          "size": 5
         },
         "mode": "markers",
         "name": "Topic 10: republican-democrat-judge",
         "text": [
          "<b>Date:</b> 2025-07-20 14:03<br><b>Topic:</b> republican-democrat-judge (Confidence: 0.850)<br><b>Content:</b><br>Adam Schiff is a THIEF! He should be prosecuted, just like<br>they tried to prosecute me, and everyone else — The only<br>difference is, WE WERE TOTALLY INNOCENT, IT WAS ALL A GIANT<br>HOAX!<br><b>Speaker:</b> Donald Trump",
          "<b>Date:</b> 2025-07-20 08:07<br><b>Topic:</b> republican-democrat-judge (Confidence: 0.714)<br><b>Content:</b><br>My Poll Numbers within the Republican Party, and MAGA, have<br>gone up, significantly, since the Jeffrey Epstein Hoax was<br>exposed by the Radical Left Democrats and, just plain<br>“troublemakers.” They have ...<br><b>Speaker:</b> Donald Trump",
          "<b>Date:</b> 2025-07-19 19:15<br><b>Topic:</b> republican-democrat-judge (Confidence: 0.675)<br><b>Content:</b><br>Great job by young and talented Harrison Fields on FoxNews.<br>The Panel was fantastic on prosecuting Obama and the “thugs”<br>who have just been unequivocally exposed on highest level<br>Election Fraud. Congr...<br><b>Speaker:</b> Donald Trump",
          "<b>Date:</b> 2025-07-19 09:13<br><b>Topic:</b> republican-democrat-judge (Confidence: 0.571)<br><b>Content:</b><br>I have asked the Justice Department to release all Grand<br>Jury testimony with respect to Jeffrey Epstein, subject only<br>to Court Approval. With that being said, and even if the<br>Court gave its full and u...<br><b>Speaker:</b> Donald Trump",
          "<b>Date:</b> 2025-07-18 08:04<br><b>Topic:</b> republican-democrat-judge (Confidence: 0.521)<br><b>Content:</b><br>If there was a “smoking gun” on Epstein, why didn’t the<br>Dems, who controlled the “files” for four years, and had<br>Garland and Comey in charge, use it? BECAUSE THEY HAD<br>NOTHING!!!<br><b>Speaker:</b> Donald Trump",
          "<b>Date:</b> 2025-07-18 08:04<br><b>Topic:</b> republican-democrat-judge (Confidence: 0.521)<br><b>Content:</b><br>If there was a “smoking gun” on Epstein, why didn’t the<br>Dems, who controlled the “files” for four years, and had<br>Garland and Comey in charge, use it? BECAUSE THEY HAD<br>NOTHING!!!<br><b>Speaker:</b> Donald Trump",
          "<b>Date:</b> 2025-07-16 19:29<br><b>Topic:</b> republican-democrat-judge (Confidence: 0.424)<br><b>Content:</b><br>Americans know we need a better Healthcare System to<br>properly serve our Great Communities that were abandoned by<br>the Radical Left Democrats. That is why Republicans included<br>$50 Billion Dollars in the...<br><b>Speaker:</b> Donald Trump",
          "<b>Date:</b> 2025-07-16 09:43<br><b>Topic:</b> republican-democrat-judge (Confidence: 0.349)<br><b>Content:</b><br>The Radical Left Democrats have hit pay dirt, again! Just<br>like with the FAKE and fully discredited Steele Dossier, the<br>lying 51 “Intelligence” Agents, the Laptop from Hell, which<br>the Dems swore had co...<br><b>Speaker:</b> Donald Trump",
          "<b>Date:</b> 2025-07-15 18:15<br><b>Topic:</b> republican-democrat-judge (Confidence: 0.541)<br><b>Content:</b><br>BIG WIN today in Florida State Court for powerhouse TRUTH<br>Social! Fake claims against the Company, and your favorite<br>President, ME, were dismissed in a thoughtful and smart<br>opinion. TRUTH is “hotter” ...<br><b>Speaker:</b> Donald Trump",
          "<b>Date:</b> 2025-07-15 14:09<br><b>Topic:</b> republican-democrat-judge (Confidence: 0.472)<br><b>Content:</b><br>To the many Great Americans enjoying their Summer Vacations<br>in Atlantic City, Wildwood, and Cape May, in the wonderful<br>State of New Jersey, overlooking the Atlantic Ocean:<br>Remember that your Republica...<br><b>Speaker:</b> Donald Trump",
          "<b>Date:</b> 2025-07-15 10:20<br><b>Topic:</b> republican-democrat-judge (Confidence: 0.511)<br><b>Content:</b><br>I have always suspected Shifty Adam Schiff was a scam<br>artist. And now I learn that Fannie Mae’s Financial Crimes<br>Division have concluded that Adam Schiff has engaged in a<br>sustained pattern of possible...<br><b>Speaker:</b> Donald Trump",
          "<b>Date:</b> 2025-07-12 17:21<br><b>Topic:</b> republican-democrat-judge (Confidence: 0.304)<br><b>Content:</b><br>What’s going on with my “boys” and, in some cases, “gals?”<br>They’re all going after Attorney General Pam Bondi, who is<br>doing a FANTASTIC JOB! We’re on one Team, MAGA, and I don’t<br>like what’s happening....<br><b>Speaker:</b> Donald Trump",
          "<b>Date:</b> 2025-07-12 15:57<br><b>Topic:</b> republican-democrat-judge (Confidence: 0.700)<br><b>Content:</b><br>They haven’t lost since they saw me in the Oval. 8 wins in a<br>row!<br><b>Speaker:</b> Donald Trump",
          "<b>Date:</b> 2025-07-10 09:13<br><b>Topic:</b> republican-democrat-judge (Confidence: 0.408)<br><b>Content:</b><br>The GREAT Gregg Jarrett: “It’s clear Trump was framed. The<br>collusion narrative was a conspiracy itself. The<br>collaborators knew it was a lie, but they manipulated the<br>Dossier and the CIA to peddle thei...<br><b>Speaker:</b> Donald Trump",
          "<b>Date:</b> 2025-07-09 20:13<br><b>Topic:</b> republican-democrat-judge (Confidence: 0.283)<br><b>Content:</b><br>HAPPY BIRTHDAY TO SENATOR LINDSEY GRAHAM! He is always there<br>when I need him, and I hope everyone in the Great State of<br>South Carolina will help Lindsey have a BIG WIN in his Re-<br>Election bid next year...<br><b>Speaker:</b> Donald Trump",
          "<b>Date:</b> 2025-07-09 10:09<br><b>Topic:</b> republican-democrat-judge (Confidence: 0.559)<br><b>Content:</b><br>RT@realDonaldTrumpBrazil is doing a terrible thing on their<br>treatment of former President Jair Bolsonaro. I have<br>watched, as has the World, as they have done nothing but<br>come after him, day after day,...<br><b>Speaker:</b> Donald Trump",
          "<b>Date:</b> 2025-07-08 22:27<br><b>Topic:</b> republican-democrat-judge (Confidence: 0.441)<br><b>Content:</b><br>I brought down costs more than any President in recorded<br>history. The Crooked Democrats are using the opposite<br>narrative, even though they know it is a total LIE. Remember<br>this when you hear their pho...<br><b>Speaker:</b> Donald Trump",
          "<b>Date:</b> 2025-07-08 22:18<br><b>Topic:</b> republican-democrat-judge (Confidence: 0.775)<br><b>Content:</b><br>the Great Former President of Brazil alone. WITCH HUNT!!!<br><b>Speaker:</b> Donald Trump",
          "<b>Date:</b> 2025-07-08 20:59<br><b>Topic:</b> republican-democrat-judge (Confidence: 0.611)<br><b>Content:</b><br>It has been brought to my attention that the Great State of<br>Florida, which I won BIG three times, and where I am a proud<br>Resident, has renamed an important four-mile stretch of<br>Southern Boulevard, in ...<br><b>Speaker:</b> Donald Trump",
          "<b>Date:</b> 2025-07-07 10:46<br><b>Topic:</b> republican-democrat-judge (Confidence: 0.559)<br><b>Content:</b><br>Brazil is doing a terrible thing on their treatment of<br>former President Jair Bolsonaro. I have watched, as has the<br>World, as they have done nothing but come after him, day<br>after day, night after night...<br><b>Speaker:</b> Donald Trump",
          "<b>Date:</b> 2025-07-03 23:41<br><b>Topic:</b> republican-democrat-judge (Confidence: 0.607)<br><b>Content:</b><br>Kentucky 4th Congressional District—Republican Primary Poll<br>Summary…<br><b>Speaker:</b> Donald Trump",
          "<b>Date:</b> 2025-07-03 00:45<br><b>Topic:</b> republican-democrat-judge (Confidence: 0.775)<br><b>Content:</b><br>FOR REPUBLICANS, THIS SHOULD BE AN EASY YES VOTE.<br>RIDICULOUS!!!<br><b>Speaker:</b> Donald Trump",
          "<b>Date:</b> 2025-07-02 17:50<br><b>Topic:</b> republican-democrat-judge (Confidence: 0.554)<br><b>Content:</b><br>It is my Great Honor to nominate Joshua D. Dunlap, of the<br>Great State of Maine, to serve as a Judge on the United<br>States Court of Appeals for the First Circuit. Joshua is a<br>seasoned litigator, with a ...<br><b>Speaker:</b> Donald Trump",
          "<b>Date:</b> 2025-06-29 13:08<br><b>Topic:</b> republican-democrat-judge (Confidence: 0.775)<br><b>Content:</b><br>“RECORD WEEK OF WINS!”<br><b>Speaker:</b> Donald Trump",
          "<b>Date:</b> 2025-06-28 22:10<br><b>Topic:</b> republican-democrat-judge (Confidence: 0.414)<br><b>Content:</b><br>Republicans must remember that they are fighting against a<br>very evil, corrupt and, in many ways, incompetent<br>(Policywise!) group of people, who would rather see our<br>Country “go down in flames” than do...<br><b>Speaker:</b> Donald Trump",
          "<b>Date:</b> 2025-06-28 09:05<br><b>Topic:</b> republican-democrat-judge (Confidence: 0.550)<br><b>Content:</b><br>WHY ARE THE DEMOCRATS ALWAYS ROOTING AGAINST AMERICA???<br><b>Speaker:</b> Donald Trump",
          "<b>Date:</b> 2025-06-27 15:17<br><b>Topic:</b> republican-democrat-judge (Confidence: 0.700)<br><b>Content:</b><br>This is such a BIG DAY—A very MONUMENTAL decision!<br><b>Speaker:</b> Donald Trump",
          "<b>Date:</b> 2025-06-27 15:12<br><b>Topic:</b> republican-democrat-judge (Confidence: 0.556)<br><b>Content:</b><br>John Yoo: \"This is a REALLY BIG WIN for the<br>presidency…because what the court has also respected here is<br>that the President is elected by the American people to<br>carry out an agenda, and it's important...<br><b>Speaker:</b> Donald Trump",
          "<b>Date:</b> 2025-06-25 18:27<br><b>Topic:</b> republican-democrat-judge (Confidence: 0.401)<br><b>Content:</b><br>BREAKING NEWS…I was shocked to hear that the State of<br>Israel, which has just had one of its Greatest Moments in<br>History, and is strongly led by Bibi Netanyahu, is<br>continuing its ridiculous Witch Hunt ...<br><b>Speaker:</b> Donald Trump",
          "<b>Date:</b> 2025-06-25 15:13<br><b>Topic:</b> republican-democrat-judge (Confidence: 0.552)<br><b>Content:</b><br>I have an idea for the Democrats to bring them back into<br>“play.” After years of being left out in the cold, including<br>suffering one of the Greatest Losses in History, the 2024<br>Presidential Election, t...<br><b>Speaker:</b> Donald Trump",
          "<b>Date:</b> 2025-06-25 15:10<br><b>Topic:</b> republican-democrat-judge (Confidence: 0.645)<br><b>Content:</b><br>It’s finally happened, the Democrats have crossed the line.<br>Zohran Mamdani, a 100% Communist Lunatic, has just won the<br>Dem Primary, and is on his way to becoming Mayor. We’ve had<br>Radical Lefties befor...<br><b>Speaker:</b> Donald Trump",
          "<b>Date:</b> 2025-06-25 14:40<br><b>Topic:</b> republican-democrat-judge (Confidence: 0.910)<br><b>Content:</b><br>Why would a Republican want Democrat “mouthpiece,” Voice of<br>America (VOA), to continue? It’s a TOTAL, LEFTWING DISASTER<br>— No Republican should vote for its survival. KILL IT!<br><b>Speaker:</b> Donald Trump",
          "<b>Date:</b> 2025-06-25 08:26<br><b>Topic:</b> republican-democrat-judge (Confidence: 0.525)<br><b>Content:</b><br>“TRUMP’S GETTING RESULTS”<br><b>Speaker:</b> Donald Trump",
          "<b>Date:</b> 2025-06-24 09:56<br><b>Topic:</b> republican-democrat-judge (Confidence: 0.455)<br><b>Content:</b><br>Stupid AOC, Alexandria Ocasio-Cortez, one of the “dumbest”<br>people in Congress, is now calling for my Impeachment,<br>despite the fact that the Crooked and Corrupt Democrats have<br>already done that twice b...<br><b>Speaker:</b> Donald Trump",
          "<b>Date:</b> 2025-06-22 11:28<br><b>Topic:</b> republican-democrat-judge (Confidence: 0.573)<br><b>Content:</b><br>Great unity in the Republican Party, perhaps unity like we<br>have never seen before. Now let’s get the Great, Big,<br>Beautiful Bill done. Our Country is doing GREAT. MAGA!<br><b>Speaker:</b> Donald Trump",
          "<b>Date:</b> 2025-06-19 19:07<br><b>Topic:</b> republican-democrat-judge (Confidence: 0.496)<br><b>Content:</b><br>so much, but the Republicans have a GREAT Party. They are<br>working hard to Make America Great Again!<br><b>Speaker:</b> Donald Trump",
          "<b>Date:</b> 2025-06-19 16:37<br><b>Topic:</b> republican-democrat-judge (Confidence: 0.550)<br><b>Content:</b><br>“Trump Admin Moves To Bulldoze Biden-Era Mining Rule”<br><b>Speaker:</b> Donald Trump",
          "<b>Date:</b> 2025-06-17 08:49<br><b>Topic:</b> republican-democrat-judge (Confidence: 0.420)<br><b>Content:</b><br>From Mike Huckabee, a Pastor, Politician, Ambassador, and<br>Great Person!<br><b>Speaker:</b> Donald Trump",
          "<b>Date:</b> 2025-06-12 08:01<br><b>Topic:</b> republican-democrat-judge (Confidence: 0.550)<br><b>Content:</b><br>IN A LANDSLIDE!!!<br><b>Speaker:</b> Donald Trump",
          "<b>Date:</b> 2025-06-11 06:43<br><b>Topic:</b> republican-democrat-judge (Confidence: 0.474)<br><b>Content:</b><br>A Federal Appeals Court has just ruled that the United<br>States can use TARIFFS to protect itself against other<br>countries. A great and important win for the U.S.<br><b>Speaker:</b> Donald Trump",
          "<b>Date:</b> 2025-06-09 21:00<br><b>Topic:</b> republican-democrat-judge (Confidence: 0.850)<br><b>Content:</b><br>RT@StephenMThe single most successful 100 days in<br>presidential history!!!<br><b>Speaker:</b> Donald Trump",
          "<b>Date:</b> 2025-06-07 14:46<br><b>Topic:</b> republican-democrat-judge (Confidence: 0.830)<br><b>Content:</b><br>The Great State of New Jersey has a very important Primary<br>coming up on Tuesday. Get Out and Vote for Jack Ciattarelli,<br>who has my Complete and Total Endorsement! His Opponents are<br>going around saying...<br><b>Speaker:</b> Donald Trump",
          "<b>Date:</b> 2025-06-06 17:04<br><b>Topic:</b> republican-democrat-judge (Confidence: 0.395)<br><b>Content:</b><br>RT@RealRogerStoneThe new presidential portrait of one of the<br>most consequential presidents in world history.The greatest<br>single title that history can bestow is that of peacemaker.<br>The American people...<br><b>Speaker:</b> Donald Trump",
          "<b>Date:</b> 2025-06-04 13:59<br><b>Topic:</b> republican-democrat-judge (Confidence: 0.612)<br><b>Content:</b><br>Tough guys. The Courts must let me do the job.<br><b>Speaker:</b> Donald Trump",
          "<b>Date:</b> 2025-06-04 13:25<br><b>Topic:</b> republican-democrat-judge (Confidence: 0.372)<br><b>Content:</b><br>I am very pleased to announce that, after all of these<br>years, I agree with Senator Elizabeth Warren on SOMETHING.<br>The Debt Limit should be entirely scrapped to prevent an<br>Economic catastrophe. It is t...<br><b>Speaker:</b> Donald Trump",
          "<b>Date:</b> 2025-06-04 02:28<br><b>Topic:</b> republican-democrat-judge (Confidence: 0.887)<br><b>Content:</b><br>With the exception of the RIGGED PRESIDENTIAL ELECTION OF<br>2020, THE AUTOPEN IS THE BIGGEST POLITICAL SCANDAL IN<br>AMERICAN HISTORY!!!<br><b>Speaker:</b> Donald Trump",
          "<b>Date:</b> 2025-06-03 09:23<br><b>Topic:</b> republican-democrat-judge (Confidence: 0.668)<br><b>Content:</b><br>Rand votes NO on everything, but never has any practical or<br>constructive ideas. His ideas are actually crazy (losers!).<br>The people of Kentucky can’t stand him. This is a BIG GROWTH<br>BILL!<br><b>Speaker:</b> Donald Trump",
          "<b>Date:</b> 2025-06-03 09:18<br><b>Topic:</b> republican-democrat-judge (Confidence: 0.508)<br><b>Content:</b><br>Rand Paul has very little understanding of the BBB,<br>especially the tremendous GROWTH that is coming. He loves<br>voting “NO” on everything, he thinks it’s good politics, but<br>it’s not. The BBB is a big WI...<br><b>Speaker:</b> Donald Trump",
          "<b>Date:</b> 2025-06-02 18:48<br><b>Topic:</b> republican-democrat-judge (Confidence: 0.649)<br><b>Content:</b><br>So many false statements are being made about “THE ONE, BIG,<br>BEAUTIFUL BILL,” but what nobody understands is that it’s<br>the single biggest Spending Cut in History, by far! But<br>there will be NO CUTS to ...<br><b>Speaker:</b> Donald Trump",
          "<b>Date:</b> 2025-05-31 15:52<br><b>Topic:</b> republican-democrat-judge (Confidence: 0.358)<br><b>Content:</b><br>(1)Congratulations to Paul Ingrassia, Esq., on being named<br>to head the Office of Special Counsel. (2)The Great Tom<br>Homan just stated that “WE NOW HAVE THE MOST SECURE BORDER<br>IN USA HISTORY.” (3)THE S&...<br><b>Speaker:</b> Donald Trump",
          "<b>Date:</b> 2025-05-31 10:27<br><b>Topic:</b> republican-democrat-judge (Confidence: 0.447)<br><b>Content:</b><br>RT@RealRogerStoneBIG TISH busted for MORE Fraud. A story<br>inspired by Bernie Kerik, who knew.<br><b>Speaker:</b> Donald Trump",
          "<b>Date:</b> 2025-05-29 22:39<br><b>Topic:</b> republican-democrat-judge (Confidence: 0.525)<br><b>Content:</b><br>“NEWLY REVEALED FBI DOCUMENT FROM 2019 SHOWS NELLIE OHR LIED<br>TO CONGRESS ABOUT THE STEELE DOSSIER”<br><b>Speaker:</b> Donald Trump",
          "<b>Date:</b> 2025-05-29 20:10<br><b>Topic:</b> republican-democrat-judge (Confidence: 0.401)<br><b>Content:</b><br>The U.S. Court of International Trade incredibly ruled<br>against the United States of America on desperately needed<br>Tariffs but, fortunately, the full 11 Judge Panel on the<br>U.S. Court of Appeals for the...<br><b>Speaker:</b> Donald Trump",
          "<b>Date:</b> 2025-05-28 16:55<br><b>Topic:</b> republican-democrat-judge (Confidence: 0.732)<br><b>Content:</b><br>I am pleased to nominate Ed Artau to serve as Judge on the<br>United States District Court for the Southern District of<br>Florida. He is currently a Judge on Florida’s Fourth<br>District Court of Appeal, prev...<br><b>Speaker:</b> Donald Trump",
          "<b>Date:</b> 2025-05-28 16:54<br><b>Topic:</b> republican-democrat-judge (Confidence: 0.707)<br><b>Content:</b><br>I am pleased to announce the nomination of Anne-Leigh<br>Gaylord Moe to serve as Judge on the United States District<br>Court for the Middle District of Florida. Anne-Leigh has<br>fiercely advocated for Sunshi...<br><b>Speaker:</b> Donald Trump",
          "<b>Date:</b> 2025-05-28 16:54<br><b>Topic:</b> republican-democrat-judge (Confidence: 0.530)<br><b>Content:</b><br>I am pleased to announce the nomination of Kyle Dudek to<br>serve as Judge on the United States District Court for the<br>Middle District of Florida. Kyle earned his J.D., Magna Cum<br>Laude, from the Antonin ...<br><b>Speaker:</b> Donald Trump",
          "<b>Date:</b> 2025-05-28 15:03<br><b>Topic:</b> republican-democrat-judge (Confidence: 0.530)<br><b>Content:</b><br>It is my great honor to nominate Emil Bove to serve as a<br>Judge on the United States Court of Appeals for the Third<br>Circuit. Emil is a distinguished graduate of Georgetown Law,<br>and served as Assistant ...<br><b>Speaker:</b> Donald Trump",
          "<b>Date:</b> 2025-05-27 18:02<br><b>Topic:</b> republican-democrat-judge (Confidence: 0.496)<br><b>Content:</b><br>Other than the Rigged Presidential Election of 2020, the<br>Biggest Scandal in American History is the “AUTOPEN!”<br>Whoever used it was usurping the power of the Presidency,<br>and it should be very easy to f...<br><b>Speaker:</b> Donald Trump",
          "<b>Date:</b> 2025-05-27 09:07<br><b>Topic:</b> republican-democrat-judge (Confidence: 0.388)<br><b>Content:</b><br>California, under the leadership of Radical Left Democrat<br>Gavin Newscum, continues to ILLEGALLY allow “MEN TO PLAY IN<br>WOMEN’S SPORTS.” This week a transitioned Male athlete, at a<br>major event, won “eve...<br><b>Speaker:</b> Donald Trump",
          "<b>Date:</b> 2025-05-26 15:19<br><b>Topic:</b> republican-democrat-judge (Confidence: 0.545)<br><b>Content:</b><br>Sheriff Scott Jenkins, his wife Patricia, and their family<br>have been dragged through HELL by a Corrupt and Weaponized<br>Biden DOJ. In fact, during his trial, when Sheriff Jenkins<br>tried to offer exculpat...<br><b>Speaker:</b> Donald Trump",
          "<b>Date:</b> 2025-05-24 11:33<br><b>Topic:</b> republican-democrat-judge (Confidence: 0.700)<br><b>Content:</b><br>Every cadet on the field before me should savor this<br>morning—because this is a day you will never forget….<br><b>Speaker:</b> Donald Trump",
          "<b>Date:</b> 2025-05-22 17:20<br><b>Topic:</b> republican-democrat-judge (Confidence: 0.667)<br><b>Content:</b><br>Heading to the Crypto Dinner in Loudon County, Virginia, in<br>a little while. The U.S.A. is DOMINATING in Crypto, Bitcoin,<br>etc., and we are going to keep it that way!<br><b>Speaker:</b> Donald Trump",
          "<b>Date:</b> 2025-05-22 14:28<br><b>Topic:</b> republican-democrat-judge (Confidence: 0.976)<br><b>Content:</b><br>Another very big and successful week of WINS for Republicans<br>in Florida, a State that I love, and WON BIG, in 2016, 2020,<br>and 2024. The Republican Party of Florida’s Voter<br>Registration lead over Democ...<br><b>Speaker:</b> Donald Trump",
          "<b>Date:</b> 2025-05-19 09:11<br><b>Topic:</b> republican-democrat-judge (Confidence: 0.244)<br><b>Content:</b><br>According to news reports, Beyoncé was paid $11,000,000 to<br>walk onto a stage, quickly ENDORSE KAMALA, and walk off to<br>loud booing for never having performed, NOT EVEN ONE SONG!<br>Remember, the Democrats...<br><b>Speaker:</b> Donald Trump",
          "<b>Date:</b> 2025-05-17 08:34<br><b>Topic:</b> republican-democrat-judge (Confidence: 0.701)<br><b>Content:</b><br>Whoever had control of the “AUTOPEN” is looking to be a<br>bigger and bigger scandal by the moment. It is a major part<br>of the real crime, THAT THE PRESIDENTIAL ELECTION OF 2020<br>WAS RIGGED AND STOLEN! Mil...<br><b>Speaker:</b> Donald Trump",
          "<b>Date:</b> 2025-05-16 00:26<br><b>Topic:</b> republican-democrat-judge (Confidence: 0.535)<br><b>Content:</b><br>The Radical Left SleazeBags, which has no cards remaining in<br>its illegal bag of tricks, is, in a very coordinated manner,<br>PLAYING THE REF with regard to the United States Supreme<br>Court. They lost the ...<br><b>Speaker:</b> Donald Trump",
          "<b>Date:</b> 2025-05-13 23:58<br><b>Topic:</b> republican-democrat-judge (Confidence: 0.550)<br><b>Content:</b><br>RT@IStandWithTrump47The American people are winning every<br>day!#MAGA#AmericaFirst🇺🇸<br><b>Speaker:</b> Donald Trump",
          "<b>Date:</b> 2025-05-11 14:26<br><b>Topic:</b> republican-democrat-judge (Confidence: 0.455)<br><b>Content:</b><br>IN JUST THREE MONTHS, TRILLIONS OF DOLLARS (and therefore,<br>record numbers of JOBS!) HAVE BEEN POURING INTO THE USA.<br>THIS IS BECAUSE OF MY TARIFF POLICY, and our great November<br>5th Election WIN! The ve...<br><b>Speaker:</b> Donald Trump",
          "<b>Date:</b> 2025-05-09 07:44<br><b>Topic:</b> republican-democrat-judge (Confidence: 0.662)<br><b>Content:</b><br>The problem with even a “TINY” tax increase for the RICH,<br>which I and all others would graciously accept in order to<br>help the lower and middle income workers, is that the<br>Radical Left Democrat Lunatic...<br><b>Speaker:</b> Donald Trump",
          "<b>Date:</b> 2025-05-06 16:53<br><b>Topic:</b> republican-democrat-judge (Confidence: 0.467)<br><b>Content:</b><br>I am proud to nominate Edward Aloysius O’Connell to serve as<br>Associate Judge on the Superior Court of the District of<br>Columbia. Eddie will help fix Violent Crime in the City by<br>restoring the RULE OF L...<br><b>Speaker:</b> Donald Trump",
          "<b>Date:</b> 2025-05-06 16:52<br><b>Topic:</b> republican-democrat-judge (Confidence: 0.595)<br><b>Content:</b><br>I am proud to announce my nomination of Zachary Bluestone to<br>serve as Judge on the United States District Court for the<br>Eastern District of Missouri. Zack is a True Legal Warrior.<br>He is currently Appe...<br><b>Speaker:</b> Donald Trump",
          "<b>Date:</b> 2025-05-06 16:52<br><b>Topic:</b> republican-democrat-judge (Confidence: 0.505)<br><b>Content:</b><br>It is my honor to nominate Joshua Divine to serve as Judge<br>on the United States District Court for the Eastern and<br>Western Districts of Missouri. Joshua has devoutly served<br>the Great State of Missouri...<br><b>Speaker:</b> Donald Trump",
          "<b>Date:</b> 2025-05-06 16:52<br><b>Topic:</b> republican-democrat-judge (Confidence: 0.539)<br><b>Content:</b><br>I am honored to nominate Maria Lanahan to serve as Judge on<br>the United States District Court for the Eastern District of<br>Missouri. Maria is a true Patriot, who currently serves as<br>the Principal Deputy...<br><b>Speaker:</b> Donald Trump",
          "<b>Date:</b> 2025-05-05 20:13<br><b>Topic:</b> republican-democrat-judge (Confidence: 0.269)<br><b>Content:</b><br>Ed Martin is going through the approval process to be U.S.<br>Attorney in the District of Columbia. According to many but,<br>in particular, Robert F. Kennedy, Jr., his approval is<br>IMPERATIVE in terms of do...<br><b>Speaker:</b> Donald Trump",
          "<b>Date:</b> 2025-05-05 20:12<br><b>Topic:</b> republican-democrat-judge (Confidence: 0.618)<br><b>Content:</b><br>Radical Left Colorado Attorney General Phil Weiser ignores<br>Illegals committing Violent Crimes like Rape and Murder in<br>his State and, instead, jailed Tina Peters, a 69-year-old<br>Gold Star mother who wor...<br><b>Speaker:</b> Donald Trump",
          "<b>Date:</b> 2025-05-04 13:25<br><b>Topic:</b> republican-democrat-judge (Confidence: 0.700)<br><b>Content:</b><br>I have been investigated more than any person in the history<br>of the United States of America…<br><b>Speaker:</b> Donald Trump",
          "<b>Date:</b> 2025-05-04 13:19<br><b>Topic:</b> republican-democrat-judge (Confidence: 0.700)<br><b>Content:</b><br>THE DEMOCRATS ARE IN TOTAL DISARRAY!<br><b>Speaker:</b> Donald Trump",
          "<b>Date:</b> 2025-05-01 23:36<br><b>Topic:</b> republican-democrat-judge (Confidence: 0.698)<br><b>Content:</b><br>The Democrats are really out of control. They have lost<br>everything, especially their minds! These Radical Left<br>Lunatics are into the “Impeachment thing” again. They have<br>already got two “No Name,” lit...<br><b>Speaker:</b> Donald Trump",
          "<b>Date:</b> 2025-04-29 10:21<br><b>Topic:</b> republican-democrat-judge (Confidence: 0.367)<br><b>Content:</b><br>“PRESIDENT TRUMP’S FIRST 100 DAYS—WIN AFTER WIN FOR<br>AMERICA…”<br><b>Speaker:</b> Donald Trump",
          "<b>Date:</b> 2025-04-27 18:52<br><b>Topic:</b> republican-democrat-judge (Confidence: 0.813)<br><b>Content:</b><br>The Radical Left Democrats are paying a fortune to have<br>people infiltrate the Town Halls of Republican<br>Congressmen/women and Senators. These Great Patriot<br>Politicians should not treat them nicely. Hav...<br><b>Speaker:</b> Donald Trump",
          "<b>Date:</b> 2025-04-21 17:07<br><b>Topic:</b> republican-democrat-judge (Confidence: 0.900)<br><b>Content:</b><br>The Radical Left is only good at “playing the Ref,” they are<br>always threatening our Judges. This is Judicial<br>Intimidation, and should be AGAINST THE LAW!<br><b>Speaker:</b> Donald Trump",
          "<b>Date:</b> 2025-04-20 17:10<br><b>Topic:</b> republican-democrat-judge (Confidence: 0.460)<br><b>Content:</b><br>“Grassley Challenges Senate Democrats’ Promotion of<br>Unchecked Judicial Power, Vows to Take Legislative Action”<br><b>Speaker:</b> Donald Trump",
          "<b>Date:</b> 2025-04-20 17:09<br><b>Topic:</b> republican-democrat-judge (Confidence: 0.511)<br><b>Content:</b><br>RT@mrddmia🚨Senate Judiciary Chairman Chuck Grassley is<br>drafting crucial legislation to rein in activist judges<br>sabotaging the presidency:“The President of the United<br>States shouldn’t have to ask permi...<br><b>Speaker:</b> Donald Trump",
          "<b>Date:</b> 2025-04-19 19:36<br><b>Topic:</b> republican-democrat-judge (Confidence: 0.514)<br><b>Content:</b><br>RANKED-CHOICE VOTING IS ONE OF THE GREATEST THREATS TO<br>DEMOCRACY. It is a total, and very fraudulent, JOKE!<br><b>Speaker:</b> Donald Trump",
          "<b>Date:</b> 2025-04-07 19:52<br><b>Topic:</b> republican-democrat-judge (Confidence: 0.427)<br><b>Content:</b><br>The Supreme Court has upheld the Rule of Law in our Nation<br>by allowing a President, whoever that may be, to be able to<br>secure our Borders, and protect our families and our<br>Country, itself. A GREAT DAY...<br><b>Speaker:</b> Donald Trump",
          "<b>Date:</b> 2025-04-03 22:53<br><b>Topic:</b> republican-democrat-judge (Confidence: 0.631)<br><b>Content:</b><br>The Witch Hunt against Marine Le Pen is another example of<br>European Leftists using Lawfare to silence Free Speech, and<br>censor their Political Opponent, this time going so far as<br>to put that Opponent i...<br><b>Speaker:</b> Donald Trump",
          "<b>Date:</b> 2025-04-02 00:58<br><b>Topic:</b> republican-democrat-judge (Confidence: 0.322)<br><b>Content:</b><br>Mitch McConnell of Kentucky, Susan Collins of Maine, Lisa<br>Murkowski of Alaska, and Rand Paul, also of Kentucky, will<br>hopefully get on the Republican bandwagon, for a change, and<br>fight the Democrats wi...<br><b>Speaker:</b> Donald Trump",
          "<b>Date:</b> 2025-04-01 22:23<br><b>Topic:</b> republican-democrat-judge (Confidence: 0.705)<br><b>Content:</b><br>VOTER I.D. JUST APPROVED IN WISCONSIN ELECTION. Democrats<br>fought hard against this, presumably so they can CHEAT. This<br>is a BIG WIN FOR REPUBLICANS, MAYBE THE BIGGEST WIN OF THE<br>NIGHT. IT SHOULD ALLOW...<br><b>Speaker:</b> Donald Trump",
          "<b>Date:</b> 2025-04-01 20:17<br><b>Topic:</b> republican-democrat-judge (Confidence: 0.476)<br><b>Content:</b><br>BOTH FLORIDA HOUSE SEATS HAVE BEEN WON, BIG, BY THE<br>REPUBLICAN CANDIDATE. THE TRUMP ENDORSEMENT, AS ALWAYS,<br>PROVED FAR GREATER THAN THE DEMOCRATS FORCES OF EVIL.<br>CONGRATULATIONS TO AMERICA!!!<br><b>Speaker:</b> Donald Trump",
          "<b>Date:</b> 2025-04-01 19:20<br><b>Topic:</b> republican-democrat-judge (Confidence: 0.504)<br><b>Content:</b><br>“Judges are just pretending to be Judges! They are making<br>the law instead of deciding the law!” — Elon Musk. In other<br>words, they are totally out of control, in complete<br>violation of our Constitution....<br><b>Speaker:</b> Donald Trump",
          "<b>Date:</b> 2025-04-01 16:59<br><b>Topic:</b> republican-democrat-judge (Confidence: 0.525)<br><b>Content:</b><br>“COMBATING UNFAIR PRACTICES IN THE LIVE ENTERTAINMENT<br>MARKET”EXECUTIVE ORDER:<br><b>Speaker:</b> Donald Trump",
          "<b>Date:</b> 2025-04-01 16:17<br><b>Topic:</b> republican-democrat-judge (Confidence: 0.887)<br><b>Content:</b><br>REPUBLICANS MUST DEFUND AND TOTALLY DISASSOCIATE THEMSELVES<br>FROM NPR & PBS, THE RADICAL LEFT “MONSTERS” THAT SO BADLY<br>HURT OUR COUNTRY!<br><b>Speaker:</b> Donald Trump",
          "<b>Date:</b> 2025-04-01 11:40<br><b>Topic:</b> republican-democrat-judge (Confidence: 0.325)<br><b>Content:</b><br>Senator Tim Kaine, who ran against me with Crooked Hillary<br>in 2016, is trying to halt our critical Tariffs on deadly<br>Fentanyl coming in from Canada. We are making progress to<br>end this terrible Fentany...<br><b>Speaker:</b> Donald Trump",
          "<b>Date:</b> 2025-04-01 09:56<br><b>Topic:</b> republican-democrat-judge (Confidence: 0.474)<br><b>Content:</b><br>WISCONSIN: There is a very important Referendum (Question 1)<br>on the Ballot to amend the State Constitution to require<br>VOTER ID. This, and other Election Integrity measures,<br>including banning Drop Boxe...<br><b>Speaker:</b> Donald Trump",
          "<b>Date:</b> 2025-03-31 12:48<br><b>Topic:</b> republican-democrat-judge (Confidence: 0.448)<br><b>Content:</b><br>WISCONSIN: There is a very important Referendum (Question 1)<br>on the April 1st Ballot to amend the State Constitution to<br>require VOTER ID. This, and other Election Integrity<br>measures, including banning...<br><b>Speaker:</b> Donald Trump",
          "<b>Date:</b> 2025-03-30 18:48<br><b>Topic:</b> republican-democrat-judge (Confidence: 0.529)<br><b>Content:</b><br>Brad Schimel’s Opponent, Susan Crawford, is a DISASTER! She<br>is so Far Left that even her own Party, the Radical<br>Democrats, don’t want ANYTHING to do with her. Wisconsin<br>Values are perfectly represente...<br><b>Speaker:</b> Donald Trump",
          "<b>Date:</b> 2025-03-30 10:17<br><b>Topic:</b> republican-democrat-judge (Confidence: 0.367)<br><b>Content:</b><br>RT@mrddmiaDear President Trump:Please revoke Judge<br>Boasberg's security clearance.He has demonstrated he cannot<br>be trusted with keeping secrets.<br><b>Speaker:</b> Donald Trump",
          "<b>Date:</b> 2025-03-27 01:31<br><b>Topic:</b> republican-democrat-judge (Confidence: 0.530)<br><b>Content:</b><br>NPR and PBS, two horrible and completely biased platforms<br>(Networks!), should be DEFUNDED by Congress, IMMEDIATELY.<br>Republicans, don’t miss this opportunity to rid our Country<br>of this giant SCAM, both...<br><b>Speaker:</b> Donald Trump",
          "<b>Date:</b> 2025-03-27 01:13<br><b>Topic:</b> republican-democrat-judge (Confidence: 0.578)<br><b>Content:</b><br>How disgraceful is it that “Judge” James Boasberg has just<br>been given a fourth “Trump Case,” something which is,<br>statistically, IMPOSSIBLE. There is no way for a Republican,<br>especially a TRUMP REPUBLI...<br><b>Speaker:</b> Donald Trump",
          "<b>Date:</b> 2025-03-25 15:51<br><b>Topic:</b> republican-democrat-judge (Confidence: 0.391)<br><b>Content:</b><br>Today, I declassified all FBI files related to the Corrupt<br>Crossfire Hurricane Investigation…<br><b>Speaker:</b> Donald Trump",
          "<b>Date:</b> 2025-03-23 13:34<br><b>Topic:</b> republican-democrat-judge (Confidence: 0.586)<br><b>Content:</b><br>But he doesn’t mind if criminals come into our Country. He<br>is a Constitutional disaster! DJT<br><b>Speaker:</b> Donald Trump",
          "<b>Date:</b> 2025-03-23 11:56<br><b>Topic:</b> republican-democrat-judge (Confidence: 0.441)<br><b>Content:</b><br>I just watched our GREAT Republican Congressman from North<br>Carolina, CHUCK EDWARDS, hold a Town Hall in Asheville. He<br>was a total gentleman, but the room was “littered” with<br>Radical Left Lunatics, mos...<br><b>Speaker:</b> Donald Trump",
          "<b>Date:</b> 2025-03-23 11:24<br><b>Topic:</b> republican-democrat-judge (Confidence: 0.425)<br><b>Content:</b><br>In the Great State of Wisconsin, a Radical Left Democrat,<br>one who is insistent on bringing hardened CRIMINALS, that we<br>removed to far away places, back into our Country, allowing<br>men into women’s spor...<br><b>Speaker:</b> Donald Trump",
          "<b>Date:</b> 2025-03-22 06:46<br><b>Topic:</b> republican-democrat-judge (Confidence: 0.623)<br><b>Content:</b><br>George Foreman is dead. What a GREAT FIGHTER!!! He had,<br>without question, the heaviest and biggest punch in the<br>history of boxing. With the exception of Ali, when you got<br>hit, you went down. He was so...<br><b>Speaker:</b> Donald Trump",
          "<b>Date:</b> 2025-03-21 21:48<br><b>Topic:</b> republican-democrat-judge (Confidence: 0.532)<br><b>Content:</b><br>WISCONSIN: There is a very important Election for State<br>Supreme Court on April 1st, and Early Voting is now<br>underway.Brad Schimel is running against Radical Left<br>Liberal Susan Crawford, who has repeat...<br><b>Speaker:</b> Donald Trump",
          "<b>Date:</b> 2025-03-21 18:34<br><b>Topic:</b> republican-democrat-judge (Confidence: 0.775)<br><b>Content:</b><br>RT@mrddmia🚨 Newly Filed Motion To Disqualify Radical Obama<br>Judge Beryl Howell From Trump CaseRead More:<br><b>Speaker:</b> Donald Trump",
          "<b>Date:</b> 2025-03-21 07:50<br><b>Topic:</b> republican-democrat-judge (Confidence: 0.887)<br><b>Content:</b><br>No District Court Judge, or any Judge, can assume the duties<br>of the President of the United States. Only Crime and Chaos<br>would result. MAKE AMERICA GREAT AGAIN!<br><b>Speaker:</b> Donald Trump",
          "<b>Date:</b> 2025-03-20 19:04<br><b>Topic:</b> republican-democrat-judge (Confidence: 0.511)<br><b>Content:</b><br>Great Article by the wonderful Miranda Devine of The New<br>York Post – A MUST READ on one, of many, out of control,<br>Radical Left Judges!<br><b>Speaker:</b> Donald Trump",
          "<b>Date:</b> 2025-03-19 00:08<br><b>Topic:</b> republican-democrat-judge (Confidence: 0.454)<br><b>Content:</b><br>If a President doesn’t have the right to throw murderers,<br>and other criminals, out of our Country because a Radical<br>Left Lunatic Judge wants to assume the role of President,<br>then our Country is in ver...<br><b>Speaker:</b> Donald Trump",
          "<b>Date:</b> 2025-03-17 00:35<br><b>Topic:</b> republican-democrat-judge (Confidence: 0.498)<br><b>Content:</b><br>The “Pardons” that Sleepy Joe Biden gave to the Unselect<br>Committee of Political Thugs, and many others, are hereby<br>declared VOID, VACANT, AND OF NO FURTHER FORCE OR EFFECT,<br>because of the fact that th...<br><b>Speaker:</b> Donald Trump",
          "<b>Date:</b> 2025-03-14 20:11<br><b>Topic:</b> republican-democrat-judge (Confidence: 0.494)<br><b>Content:</b><br>The person who was the real President during the Biden years<br>was the person who controlled the Autopen!<br><b>Speaker:</b> Donald Trump",
          "<b>Date:</b> 2025-03-12 14:04<br><b>Topic:</b> republican-democrat-judge (Confidence: 0.550)<br><b>Content:</b><br>BILL O’REILLY: “TRUMP HAS BEEN VERY CLEAR ABOUT WHERE HE<br>STANDS…”<br><b>Speaker:</b> Donald Trump",
          "<b>Date:</b> 2025-03-12 01:23<br><b>Topic:</b> republican-democrat-judge (Confidence: 0.482)<br><b>Content:</b><br>So Massie can vote for Debt Ceiling AND Budget to be put<br>into the Trump Administration, making them both the<br>Republicans problem and responsibility, but can’t give us a<br>simple Continuing Resolution vo...<br><b>Speaker:</b> Donald Trump",
          "<b>Date:</b> 2025-03-11 19:25<br><b>Topic:</b> republican-democrat-judge (Confidence: 0.632)<br><b>Content:</b><br>Big WIN for Republicans, and America, tonight.<br>Congratulations to ALL!!! DJT<br><b>Speaker:</b> Donald Trump",
          "<b>Date:</b> 2025-03-11 13:08<br><b>Topic:</b> republican-democrat-judge (Confidence: 0.647)<br><b>Content:</b><br>“Congressman” Thomas Massie voted to delay the Debt Ceiling<br>Bill from the Biden Administration to the Trump<br>Administration (from September before the Election, to June<br>after the Election!), without ge...<br><b>Speaker:</b> Donald Trump",
          "<b>Date:</b> 2025-03-11 11:27<br><b>Topic:</b> republican-democrat-judge (Confidence: 0.420)<br><b>Content:</b><br>Why would our Country allow another Country to supply us<br>with electricity, even for a small area? Who made these<br>decisions, and why? And can you imagine Canada stooping so<br>low as to use ELECTRICITY, t...<br><b>Speaker:</b> Donald Trump",
          "<b>Date:</b> 2025-03-10 22:53<br><b>Topic:</b> republican-democrat-judge (Confidence: 0.481)<br><b>Content:</b><br>Thank you to the House Freedom Caucus for just delivering a<br>big blow to the Radical Left Democrats and their desire to<br>raise Taxes and SHUT OUR COUNTRY DOWN! They hate America and<br>all it stands for. T...<br><b>Speaker:</b> Donald Trump",
          "<b>Date:</b> 2025-03-10 18:11<br><b>Topic:</b> republican-democrat-judge (Confidence: 0.550)<br><b>Content:</b><br>“A Trump Win on the Panama Canal”<br><b>Speaker:</b> Donald Trump",
          "<b>Date:</b> 2025-03-09 20:53<br><b>Topic:</b> republican-democrat-judge (Confidence: 0.775)<br><b>Content:</b><br>Democrats are out of control—They've lost their minds…<br><b>Speaker:</b> Donald Trump",
          "<b>Date:</b> 2025-03-07 09:58<br><b>Topic:</b> republican-democrat-judge (Confidence: 0.480)<br><b>Content:</b><br>The head of the United Autoworkers of America just stated<br>that TARIFFS ARE NECESSARY to correct years of abuse of the<br>USA by other countries and companies. We have lost 90,000<br>factories and plants sin...<br><b>Speaker:</b> Donald Trump",
          "<b>Date:</b> 2025-03-03 09:38<br><b>Topic:</b> republican-democrat-judge (Confidence: 0.732)<br><b>Content:</b><br>Paid “troublemakers” are attending Republican Town Hall<br>Meetings. It is all part of the game for the Democrats, but<br>just like our big LANDSLIDE ELECTION, it’s not going to work<br>for them!<br><b>Speaker:</b> Donald Trump",
          "<b>Date:</b> 2025-02-28 19:02<br><b>Topic:</b> republican-democrat-judge (Confidence: 0.770)<br><b>Content:</b><br>The Department of Justice has just returned the boxes that<br>Deranged Jack Smith made such a big deal about. They are<br>being brought down to Florida and will someday be part of<br>the Trump Presidential Lib...<br><b>Speaker:</b> Donald Trump",
          "<b>Date:</b> 2025-02-26 14:38<br><b>Topic:</b> republican-democrat-judge (Confidence: 0.488)<br><b>Content:</b><br>Since the election, the CONFIDENCE in our nation...the<br>CONFIDENCE in business, the CONFIDENCE in the Country has<br>reached an ALL-TIME HIGH. We have never reached levels like<br>we are right now…<br><b>Speaker:</b> Donald Trump",
          "<b>Date:</b> 2025-02-26 07:29<br><b>Topic:</b> republican-democrat-judge (Confidence: 0.373)<br><b>Content:</b><br>Congratulations to the U.S. Dockworkers on your great new<br>deal. Also, thank you for your overwhelming support in the<br>Presidential Election. Slowing down automation, just a<br>little bit, is an OK thing t...<br><b>Speaker:</b> Donald Trump",
          "<b>Date:</b> 2025-02-25 20:41<br><b>Topic:</b> republican-democrat-judge (Confidence: 0.820)<br><b>Content:</b><br>“The Deranged Jack Smith Signing”<br><b>Speaker:</b> Donald Trump",
          "<b>Date:</b> 2025-02-24 11:49<br><b>Topic:</b> republican-democrat-judge (Confidence: 0.450)<br><b>Content:</b><br>Elon Musk: \"7 out of 10 voters want $1T removed from federal<br>spending.\"<br><b>Speaker:</b> Donald Trump",
          "<b>Date:</b> 2025-02-24 00:54<br><b>Topic:</b> republican-democrat-judge (Confidence: 0.959)<br><b>Content:</b><br>RT@realDonaldTrumpLOOKS LIKE THE CONSERVATIVE PARTY IN<br>GERMANY HAS WON THE VERY BIG AND HIGHLY ANTICIPATED<br>ELECTION. MUCH LIKE THE USA, THE PEOPLE OF GERMANY GOT TIRED<br>OF THE NO COMMON SENSE AGENDA, E...<br><b>Speaker:</b> Donald Trump",
          "<b>Date:</b> 2025-02-23 13:51<br><b>Topic:</b> republican-democrat-judge (Confidence: 0.961)<br><b>Content:</b><br>LOOKS LIKE THE CONSERVATIVE PARTY IN GERMANY HAS WON THE<br>VERY BIG AND HIGHLY ANTICIPATED ELECTION. MUCH LIKE THE USA,<br>THE PEOPLE OF GERMANY GOT TIRED OF THE NO COMMON SENSE<br>AGENDA, ESPECIALLY ON ENERG...<br><b>Speaker:</b> Donald Trump",
          "<b>Date:</b> 2025-02-22 18:12<br><b>Topic:</b> republican-democrat-judge (Confidence: 0.427)<br><b>Content:</b><br>Remember, LARA TRUMP opens her big new show tonight at 9:00<br>P.M., on FoxNews. I may be slightly prejudiced, because Lara<br>is my wonderful daughter-in-law, the wife of my equally<br>wonderful son, Eric, bu...<br><b>Speaker:</b> Donald Trump",
          "<b>Date:</b> 2025-02-21 09:32<br><b>Topic:</b> republican-democrat-judge (Confidence: 0.973)<br><b>Content:</b><br>I won the Presidential Election in a landslide, won ALL<br>SEVEN SWING STATES, THE POPULAR VOTE, AND ALL FIFTY STATES<br>SHIFTED REPUBLICAN, a record, and now I have the best<br>polling numbers I’ve ever had. ...<br><b>Speaker:</b> Donald Trump",
          "<b>Date:</b> 2025-02-19 21:13<br><b>Topic:</b> republican-democrat-judge (Confidence: 0.820)<br><b>Content:</b><br>“How America voted, which counties shifted toward Trump and<br>a look at voter turnout”<br><b>Speaker:</b> Donald Trump",
          "<b>Date:</b> 2025-02-15 12:44<br><b>Topic:</b> republican-democrat-judge (Confidence: 0.550)<br><b>Content:</b><br>Just before Election!<br><b>Speaker:</b> Donald Trump",
          "<b>Date:</b> 2025-02-11 13:32<br><b>Topic:</b> republican-democrat-judge (Confidence: 0.550)<br><b>Content:</b><br>A BULLY IS THE WEAKEST PERSON…<br><b>Speaker:</b> Donald Trump",
          "<b>Date:</b> 2025-02-11 07:47<br><b>Topic:</b> republican-democrat-judge (Confidence: 0.516)<br><b>Content:</b><br>Billions of Dollars of FRAUD, WASTE, AND ABUSE, has already<br>been found in the investigation of our incompetently run<br>Government. Now certain activists and highly political<br>judges want us to slow down,...<br><b>Speaker:</b> Donald Trump",
          "<b>Date:</b> 2025-02-11 06:07<br><b>Topic:</b> republican-democrat-judge (Confidence: 0.673)<br><b>Content:</b><br>California just stopped counting their votes on the 2024<br>Presidential Election. VOTER I.D. IS TOTALLY BARRED! IN<br>FACT, IT IS ILLEGAL FOR VOTING OFFICIALS TO EVEN ASK TO SEE<br>A PERSONS IDENTIFICATION. T...<br><b>Speaker:</b> Donald Trump",
          "<b>Date:</b> 2025-02-11 05:49<br><b>Topic:</b> republican-democrat-judge (Confidence: 0.525)<br><b>Content:</b><br>RT@IStandWithTrump47With voting for President Trump, I voted<br>for all of them! Team America!<br>🇺🇸#Truth#Trump47#GoldenAge#SaveAmerica#AmericaFirst<br><b>Speaker:</b> Donald Trump",
          "<b>Date:</b> 2025-02-10 15:05<br><b>Topic:</b> republican-democrat-judge (Confidence: 0.682)<br><b>Content:</b><br>On Tuesday, February 11th, there is an important Special<br>Election for Westchester County Executive in New York!<br>Democrats have made Westchester County a “Sanctuary County”<br>protecting criminal illegals...<br><b>Speaker:</b> Donald Trump",
          "<b>Date:</b> 2025-02-09 23:15<br><b>Topic:</b> republican-democrat-judge (Confidence: 0.544)<br><b>Content:</b><br>The worst part of the Super Bowl, by far, was watching the<br>Kickoff where, as the ball is sailing through the air, the<br>entire field is frozen, stiff. College Football does not do<br>it, and won’t! Whose i...<br><b>Speaker:</b> Donald Trump",
          "<b>Date:</b> 2025-02-07 09:31<br><b>Topic:</b> republican-democrat-judge (Confidence: 0.580)<br><b>Content:</b><br>USAID IS DRIVING THE RADICAL LEFT CRAZY, AND THERE IS<br>NOTHING THEY CAN DO ABOUT IT BECAUSE THE WAY IN WHICH THE<br>MONEY HAS BEEN SPENT, SO MUCH OF IT FRAUDULENTLY, IS TOTALLY<br>UNEXPLAINABLE. THE CORRUPTI...<br><b>Speaker:</b> Donald Trump",
          "<b>Date:</b> 2025-02-03 20:02<br><b>Topic:</b> republican-democrat-judge (Confidence: 0.599)<br><b>Content:</b><br>Another very big and successful week of WINS for Republicans<br>in the Great State of Florida! Florida’s third largest<br>County, Hillsborough, has FLIPPED RED to a Republican<br>Majority in Voter Registration...<br><b>Speaker:</b> Donald Trump",
          "<b>Date:</b> 2025-01-29 13:22<br><b>Topic:</b> republican-democrat-judge (Confidence: 0.598)<br><b>Content:</b><br>It is great to see that the Department of Justice has<br>dropped the Witch Hunt against former Congressman Jeff<br>Fortenberry, a longtime proud and highly respected American<br>public servant. Jeff and his fa...<br><b>Speaker:</b> Donald Trump",
          "<b>Date:</b> 2025-01-27 21:31<br><b>Topic:</b> republican-democrat-judge (Confidence: 0.540)<br><b>Content:</b><br>Wow! In Nevada, a State I love and WON BIG in 2024,<br>Republicans now lead Democrats in Voter Registration for the<br>first time since 2007. Thank you to Chairman Michael<br>McDonald, Governor Joe Lombardo, a...<br><b>Speaker:</b> Donald Trump",
          "<b>Date:</b> 2025-01-26 22:50<br><b>Topic:</b> republican-democrat-judge (Confidence: 0.850)<br><b>Content:</b><br>There is a bright light over the USA and, indeed, the entire<br>World, ever since the Presidential Election of 2024.<br><b>Speaker:</b> Donald Trump",
          "<b>Date:</b> 2025-01-25 19:41<br><b>Topic:</b> republican-democrat-judge (Confidence: 0.413)<br><b>Content:</b><br>Congratulations to Chairwoman Gina Swoboda, who I strongly<br>endorsed, for being Re-Elected to another term leading the<br>GREAT Arizona GOP! She was a key part of our HISTORIC<br>VICTORY in 2024. Gina is MAG...<br><b>Speaker:</b> Donald Trump",
          "<b>Date:</b> 2025-01-21 19:12<br><b>Topic:</b> republican-democrat-judge (Confidence: 0.545)<br><b>Content:</b><br>I just called the mother of Ross William Ulbricht to let her<br>know that in honor of her and the Libertarian Movement,<br>which supported me so strongly, it was my pleasure to have<br>just signed a full and u...<br><b>Speaker:</b> Donald Trump",
          "<b>Date:</b> 2025-01-21 18:18<br><b>Topic:</b> republican-democrat-judge (Confidence: 0.619)<br><b>Content:</b><br>RT@realDonaldTrumpMy NEW Official Trump Meme is HERE! It’s<br>time to celebrate everything we stand for: WINNING! Join my<br>very special Trump Community. GET YOUR $TRUMP NOW. Go to<br>Have Fun!<br><b>Speaker:</b> Donald Trump",
          "<b>Date:</b> 2025-01-21 02:53<br><b>Topic:</b> republican-democrat-judge (Confidence: 0.367)<br><b>Content:</b><br>RT@TeamTrumpThanks to President Trump, American women are<br>hereby protected from radical gender ideology 🔥<br><b>Speaker:</b> Donald Trump",
          "<b>Date:</b> 2025-01-19 08:41<br><b>Topic:</b> republican-democrat-judge (Confidence: 0.550)<br><b>Content:</b><br>RT@Deb37214We are truly blessed Mr.President 🤜🏻🤛🏻🇺🇸<br><b>Speaker:</b> Donald Trump",
          "<b>Date:</b> 2025-01-17 21:00<br><b>Topic:</b> republican-democrat-judge (Confidence: 0.619)<br><b>Content:</b><br>My NEW Official Trump Meme is HERE! It’s time to celebrate<br>everything we stand for: WINNING! Join my very special Trump<br>Community. GET YOUR $TRUMP NOW. Go to Have Fun!<br><b>Speaker:</b> Donald Trump",
          "<b>Date:</b> 2025-01-17 08:39<br><b>Topic:</b> republican-democrat-judge (Confidence: 0.367)<br><b>Content:</b><br>RT@MTG🔥🔥🔥Vote Republican California!!!<br><b>Speaker:</b> Donald Trump",
          "<b>Date:</b> 2025-01-15 07:27<br><b>Topic:</b> republican-democrat-judge (Confidence: 0.420)<br><b>Content:</b><br>“Jack Smith has 'no standing' in Trump case anymore, David<br>Schoen says PUT BOTH UP!”<br><b>Speaker:</b> Donald Trump",
          "<b>Date:</b> 2025-01-14 01:52<br><b>Topic:</b> republican-democrat-judge (Confidence: 0.477)<br><b>Content:</b><br>To show you how desperate Deranged Jack Smith is, he<br>released his Fake findings at 1:00 A.M. in the morning. Did<br>he say that the Unselect Committee illegally destroyed and<br>deleted all of the evidence.<br><b>Speaker:</b> Donald Trump",
          "<b>Date:</b> 2025-01-14 01:41<br><b>Topic:</b> republican-democrat-judge (Confidence: 0.707)<br><b>Content:</b><br>Deranged Jack Smith was unable to successfully prosecute the<br>Political Opponent of his “boss,” Crooked Joe Biden, so he<br>ends up writing yet another “Report” based on information<br>that the Unselect Comm...<br><b>Speaker:</b> Donald Trump",
          "<b>Date:</b> 2025-01-14 01:24<br><b>Topic:</b> republican-democrat-judge (Confidence: 0.482)<br><b>Content:</b><br>How bad is Seth Meyers on NBC, a “network” run by a truly<br>bad group of people - Remember, they also run MSDNC. I got<br>stuck watching Marble Mouth Meyers the other night, the<br>first time in months, and e...<br><b>Speaker:</b> Donald Trump",
          "<b>Date:</b> 2025-01-13 11:27<br><b>Topic:</b> republican-democrat-judge (Confidence: 0.550)<br><b>Content:</b><br>RT@1776WeThePeople1776TOTAL DEEP STATE<br>SCUMBAG!@realDonaldTrump<br><b>Speaker:</b> Donald Trump",
          "<b>Date:</b> 2025-01-12 15:30<br><b>Topic:</b> republican-democrat-judge (Confidence: 0.730)<br><b>Content:</b><br>Why would Deranged Jack Smith be allowed to issue a “report”<br>on a complete and total Witch Hunt against me, strictly for<br>political purposes, when he was thrown off the case and<br>ultimately dismissed by...<br><b>Speaker:</b> Donald Trump",
          "<b>Date:</b> 2025-01-12 07:43<br><b>Topic:</b> republican-democrat-judge (Confidence: 0.953)<br><b>Content:</b><br>The Stench of Deranged Jack Smith and his thugs is GONE.<br>They were sent packing after spending over $100,000,000,<br>destroying the lives of many people and families, who will<br>never be the same again. De...<br><b>Speaker:</b> Donald Trump",
          "<b>Date:</b> 2025-01-12 01:14<br><b>Topic:</b> republican-democrat-judge (Confidence: 0.777)<br><b>Content:</b><br>Deranged Jack Smith was fired today by the DOJ. He is a<br>disgrace to himself, his family, and his Country. After<br>spending over $100,000,000 on the Witch Hunt against TRUMP,<br>he left town empty handed!<br><b>Speaker:</b> Donald Trump",
          "<b>Date:</b> 2025-01-12 01:00<br><b>Topic:</b> republican-democrat-judge (Confidence: 0.655)<br><b>Content:</b><br>RT@MTGState legislators and the GA GOP got involved and<br>changed our laws to protect elections in Georgia.They did a<br>great job and it’s why President Trump won GA in 2024.But I<br>think we can go even fur...<br><b>Speaker:</b> Donald Trump",
          "<b>Date:</b> 2025-01-12 01:00<br><b>Topic:</b> republican-democrat-judge (Confidence: 0.700)<br><b>Content:</b><br>RT@MTGIt’s beautiful!And the add the Panama Canal, which we<br>should have NEVER lost in the first place!!!Oh and we love<br>Greenland!!<br><b>Speaker:</b> Donald Trump",
          "<b>Date:</b> 2025-01-11 15:40<br><b>Topic:</b> republican-democrat-judge (Confidence: 0.683)<br><b>Content:</b><br>“DEMS LOST PATHETIC WITCH HUNT”<br><b>Speaker:</b> Donald Trump",
          "<b>Date:</b> 2025-01-10 10:28<br><b>Topic:</b> republican-democrat-judge (Confidence: 0.664)<br><b>Content:</b><br>The Radical Democrats have lost another pathetic, unAmerican<br>Witch Hunt. After spending tens of millions of dollars,<br>wasting over 6 years of obsessive work that should have been<br>spent on protecting Ne...<br><b>Speaker:</b> Donald Trump",
          "<b>Date:</b> 2025-01-09 20:02<br><b>Topic:</b> republican-democrat-judge (Confidence: 0.527)<br><b>Content:</b><br>I appreciate the time and effort of the United States<br>Supreme Court in trying to remedy the great injustice done<br>to me by the highly conflicted “Acting Justice,” who should<br>not have been allowed to tr...<br><b>Speaker:</b> Donald Trump",
          "<b>Date:</b> 2025-01-07 10:45<br><b>Topic:</b> republican-democrat-judge (Confidence: 0.525)<br><b>Content:</b><br>RT@RSBNLIVE: President-Elect Donald Trump will give his<br>first remarks after the 2024 election certification at 11 am<br>EST TODAY! Don't miss it‼️<br><b>Speaker:</b> Donald Trump",
          "<b>Date:</b> 2025-01-05 18:10<br><b>Topic:</b> republican-democrat-judge (Confidence: 0.453)<br><b>Content:</b><br>D.A. Alvin Bragg never wanted to bring this lawless case<br>against me. He was furious at the way it was handled, and<br>especially angry at MARK POMERANTZ for his behavior, and<br>what he did. Ultimately, the...<br><b>Speaker:</b> Donald Trump",
          "<b>Date:</b> 2025-01-04 08:03<br><b>Topic:</b> republican-democrat-judge (Confidence: 0.557)<br><b>Content:</b><br>There has never been a President who was so evilly and<br>illegally treated as I. Corrupt Democrat judges and<br>prosecutors have gone against a political opponent of a<br>President, ME, at levels of injustice...<br><b>Speaker:</b> Donald Trump",
          "<b>Date:</b> 2025-01-03 20:43<br><b>Topic:</b> republican-democrat-judge (Confidence: 0.970)<br><b>Content:</b><br>…Merchan took the Bragg Hoax that, according to all Legal<br>Scholars, should have been dead on arrival and, through his<br>fraud and misconduct, gave it a semblance of “life.” While<br>Deranged Jack Smith was...<br><b>Speaker:</b> Donald Trump",
          "<b>Date:</b> 2025-01-03 20:43<br><b>Topic:</b> republican-democrat-judge (Confidence: 0.624)<br><b>Content:</b><br>Every Legal Scholar and Pundit, including the highly<br>respected, and sadly recently passed, David Rivkin, as well<br>as Jonathan Turley, Elie Honig, Andy McCarthy, Alan<br>Dershowitz, Gregg Jarrett, Elizabet...<br><b>Speaker:</b> Donald Trump",
          "<b>Date:</b> 2025-01-02 00:06<br><b>Topic:</b> republican-democrat-judge (Confidence: 0.372)<br><b>Content:</b><br>Our Country is a disaster, a laughing stock all over the<br>World! This is what happens when you have OPEN BORDERS, with<br>weak, ineffective, and virtually nonexistent leadership. The<br>DOJ, FBI, and Democra...<br><b>Speaker:</b> Donald Trump"
         ],
         "type": "scatter3d",
         "x": {
          "bdata": "PD8rQAaIGECgPmg/Da+yv49t4T/DpuU/wNlxQOxoHEDzxh5AXmelvvjPTD+QrQJAVW1KQN/jzj72AVVAAMs7QPksAUBnMEhAhPG3PmfqOUC2mFpAD0JHQFcHfz7PDkhAYQbfPyNSXkAxXklAGUC5vviHHEAZwkU/avSpvwAtIUAni25AcuICQC1vcUDPvFdAtPRdQJNDRr5+Dl9Aazk8QJy3K0A5IVtAmJYeQF9pXD81U7e/scsjQM6Wa0Ac9LO/ge1qQF4fckDe70Y/e5SlPhjk1z/Ml7M+4G/PPpgHlT7wLnU+ZgjjP0Glu79x8QJAyLVLQC58WkCsfRZARhFtQJuDEUAFsd8/BFZdQHDgbEDfwm1AaFcxPa8Xjz4Em0M+8RsCPv/k0L4jZQ9Ay0xLQAJjS0BTOhpAc1x0QO37G0DU7iJArvT9vsps6j/RQjxA70TlPx04YUBE0bG+SPwhQBkgmb6Mj8O/VO4bQNLGIUBMUtw/1rc9QCIePUC3qjpAm+k9PPwmrb81/1Y/sKKtvgq7YD+FvJg+JB3lP5qzUz/n105AnXZGQItUJEATJUU/56vcP5kJ4D882+Q/DDheQOr8dECIemE/Ber3P/AoNUAJZLy+I1hdQFSnR0CknT1AxAEeQHQuHkBA5sa+qkPMvpT1MUAXiMS/jeUVQHLQFkBUAj4/SYIWQN8GMED7+11AUchbQOzKdUDCDRdAJuSuv+tbD0CdIhY/gEOvv5heWUAOsK8+y4yEPhkYKkDGmbE9U9HIvm90HEBUpsS/aRhfQJ5xHEBu/xQ9yiogP+k/hj/McgpARqZBP0GbX0D60mhAQQwXQGpCE0CrFVtAqYdLQOvCD0CIwWBAML/9P6WKu74Kl00/cvbfP4FmE0CPRRRAYvLdPw==",
          "dtype": "f4"
         },
         "y": {
          "bdata": "xFLZQGQbx0BjIrZA4tD8QLGQq0Bsu6xAgdO6QCd4x0D6MdRAg4HSQPgCtkB/X7hAL4TnQGKJykASiuFAZOlNwK3TtUCDpOZAMlXSQOdPTcA8rNxA2jXmQHKx1UBKiOZAVcSqQCx300CjC+dA7mbTQEclw0CEzq9AnHf+QPJM00ACcb9AmOq3QDBUvEC8f+NAltrTQKOW1EDE4dJA9iBSwKvG2UBFfNhABmzEQFjutECKEfhAFWDVQM7HwkBgNPxAGpfDQFj8uEBCMq9AyN7SQH4Kp0BkPNJAjcHRQNsl1EC+stVANquvQBJi/EBAar1ArCboQI1m2kC1j81A4RC0QK4jv0DXHqpAFAzUQMSbv0CGRMBAhg/dQN0V1EA4PdhAPDXaQJzsz0Dc8L1AduznQIWF50CtesZAkUq2QBTdyUA4ANVAN0jSQDeeskDK2U3Ap9WqQJbNzUDb+9BAQMPRQE9400A59/tA3LPHQB0/1EDw/KtAheNJwKMCTcBReE7ADPncQMd7/UCjtLJAxkzUQLa4s0DQu9RAuymwQPrnskDgSdZA4cnlQNe51UBLfK9AycioQP5wrUAVD6tA9vfTQEKptUD05rVA2hizQOB+TsBQ3tJA2h7VQB1n5kBNwVPAr8bIQHazx0BwHtNAthjSQHt+3ECfgPtA+zjNQEBizUAYzbBA1YTNQByd20B8sdNAL2HUQLdSuEAz1MdA1CP9QORcvkDYo8FAgHb9QC784EAg2NJAYVrVQP3U2EACldxA1/nSQK2Ox0DcavtAXGLTQNRxx0DknN1AXRq9QATUtUCQdLtAe66uQGba0kAlbsZAGKzNQFd2zUBuwttAiCzoQGb2vUCM0cxAAVe2QO4q00D756tAzM+qQOmTzUA3nL9AZQWtQA==",
          "dtype": "f4"
         },
         "z": {
          "bdata": "uIWbQA2Xj0AWtrNARRRJP3K8akAW9GxAFcv7P6o1kkBTPJpAxGufQDBttEBwVoBAUkmcQN7twkDsJ1VAlqAQQAqne0BSY51AJ2W/QH2+EEAWtU9AppKdQLPHw0DEXJ1AGOppQIn0RkASB5xAEHefQHINjkAcXbtAo61aPzEYmUCPFgpANCt9QAkBAkA9NFRAFeZHQCSor0BpQUZAOKwLQI7Zm0BtmU5AcZKPQNJmtUDqaTc/JS2aQHCxE0AzVkc/UAkWQKxf8j86ebtAZg3AQLzzYkCm5b9ABGe+QDoCwkDPHMRA1XxxQD5aOT/IuohAG7KbQPXfT0CbbpdAJ7bnP+LWgkA4MWhAXFxIQDBuCkCfewxAOIrLQGDywUD6ecZA8z7IQAMek0BgJIBAAOKbQJMMm0AH7Y9A/c3lP7qqk0D+FJpAz7mdQC9LdUDtORBA6MtpQGeWOEDd0ZdA/iCVQGr/m0BiTSs/toiSQNucmUAnt2tAcbETQLv9EEDbhg9ABNTLQCE6Uz8UQ7dA1vqpQKOYtkD3A8NAXj5yQGMxt0DeHV5A1AueQMlMmkCin7tAxc5lQAyMbkAcC2pAuGtHQF704j9/e7RA6Vh1QFJFDEDhI51A3LdKQMyJnUBiwAtAFKiTQMQXkkCawp5AJ9GeQLCPnEBcsSk/O0yXQGVUl0BCb7xAdGOXQMpWnEBXOkhAzKtJQHCU7j8lypBAGvBQP+PzgUDnk71AXGNPP2JbUkAuJMBAC0HDQDmPm0Bu1shAJbqeQDFOkkBfjyg/EqxGQDk1kkDw3spA4Mq9QG4eqEAvL4BAwm+8QF4kRkBDCx9ABGqXQMOyl0CdeE9Als6cQFYdgEAchzdAO16AQPDdnkCfRLtAQoVpQHhOmEByYX5ALKlsQA==",
          "dtype": "f4"
         }
        }
       ],
       "layout": {
        "font": {
         "size": 12
        },
        "height": 800,
        "legend": {
         "bgcolor": "rgba(255,255,255,0.8)",
         "bordercolor": "gray",
         "borderwidth": 1,
         "x": 0.02,
         "y": 0.98
        },
        "scene": {
         "bgcolor": "rgba(240,240,240,0.1)",
         "camera": {
          "eye": {
           "x": 1.5,
           "y": 1.5,
           "z": 1.5
          }
         },
         "xaxis": {
          "gridcolor": "lightgray",
          "gridwidth": 1,
          "title": {
           "text": "UMAP Dimension 1"
          }
         },
         "yaxis": {
          "gridcolor": "lightgray",
          "gridwidth": 1,
          "title": {
           "text": "UMAP Dimension 2"
          }
         },
         "zaxis": {
          "gridcolor": "lightgray",
          "gridwidth": 1,
          "title": {
           "text": "UMAP Dimension 3"
          }
         }
        },
        "template": {
         "data": {
          "bar": [
           {
            "error_x": {
             "color": "#2a3f5f"
            },
            "error_y": {
             "color": "#2a3f5f"
            },
            "marker": {
             "line": {
              "color": "white",
              "width": 0.5
             },
             "pattern": {
              "fillmode": "overlay",
              "size": 10,
              "solidity": 0.2
             }
            },
            "type": "bar"
           }
          ],
          "barpolar": [
           {
            "marker": {
             "line": {
              "color": "white",
              "width": 0.5
             },
             "pattern": {
              "fillmode": "overlay",
              "size": 10,
              "solidity": 0.2
             }
            },
            "type": "barpolar"
           }
          ],
          "carpet": [
           {
            "aaxis": {
             "endlinecolor": "#2a3f5f",
             "gridcolor": "#C8D4E3",
             "linecolor": "#C8D4E3",
             "minorgridcolor": "#C8D4E3",
             "startlinecolor": "#2a3f5f"
            },
            "baxis": {
             "endlinecolor": "#2a3f5f",
             "gridcolor": "#C8D4E3",
             "linecolor": "#C8D4E3",
             "minorgridcolor": "#C8D4E3",
             "startlinecolor": "#2a3f5f"
            },
            "type": "carpet"
           }
          ],
          "choropleth": [
           {
            "colorbar": {
             "outlinewidth": 0,
             "ticks": ""
            },
            "type": "choropleth"
           }
          ],
          "contour": [
           {
            "colorbar": {
             "outlinewidth": 0,
             "ticks": ""
            },
            "colorscale": [
             [
              0,
              "#0d0887"
             ],
             [
              0.1111111111111111,
              "#46039f"
             ],
             [
              0.2222222222222222,
              "#7201a8"
             ],
             [
              0.3333333333333333,
              "#9c179e"
             ],
             [
              0.4444444444444444,
              "#bd3786"
             ],
             [
              0.5555555555555556,
              "#d8576b"
             ],
             [
              0.6666666666666666,
              "#ed7953"
             ],
             [
              0.7777777777777778,
              "#fb9f3a"
             ],
             [
              0.8888888888888888,
              "#fdca26"
             ],
             [
              1,
              "#f0f921"
             ]
            ],
            "type": "contour"
           }
          ],
          "contourcarpet": [
           {
            "colorbar": {
             "outlinewidth": 0,
             "ticks": ""
            },
            "type": "contourcarpet"
           }
          ],
          "heatmap": [
           {
            "colorbar": {
             "outlinewidth": 0,
             "ticks": ""
            },
            "colorscale": [
             [
              0,
              "#0d0887"
             ],
             [
              0.1111111111111111,
              "#46039f"
             ],
             [
              0.2222222222222222,
              "#7201a8"
             ],
             [
              0.3333333333333333,
              "#9c179e"
             ],
             [
              0.4444444444444444,
              "#bd3786"
             ],
             [
              0.5555555555555556,
              "#d8576b"
             ],
             [
              0.6666666666666666,
              "#ed7953"
             ],
             [
              0.7777777777777778,
              "#fb9f3a"
             ],
             [
              0.8888888888888888,
              "#fdca26"
             ],
             [
              1,
              "#f0f921"
             ]
            ],
            "type": "heatmap"
           }
          ],
          "histogram": [
           {
            "marker": {
             "pattern": {
              "fillmode": "overlay",
              "size": 10,
              "solidity": 0.2
             }
            },
            "type": "histogram"
           }
          ],
          "histogram2d": [
           {
            "colorbar": {
             "outlinewidth": 0,
             "ticks": ""
            },
            "colorscale": [
             [
              0,
              "#0d0887"
             ],
             [
              0.1111111111111111,
              "#46039f"
             ],
             [
              0.2222222222222222,
              "#7201a8"
             ],
             [
              0.3333333333333333,
              "#9c179e"
             ],
             [
              0.4444444444444444,
              "#bd3786"
             ],
             [
              0.5555555555555556,
              "#d8576b"
             ],
             [
              0.6666666666666666,
              "#ed7953"
             ],
             [
              0.7777777777777778,
              "#fb9f3a"
             ],
             [
              0.8888888888888888,
              "#fdca26"
             ],
             [
              1,
              "#f0f921"
             ]
            ],
            "type": "histogram2d"
           }
          ],
          "histogram2dcontour": [
           {
            "colorbar": {
             "outlinewidth": 0,
             "ticks": ""
            },
            "colorscale": [
             [
              0,
              "#0d0887"
             ],
             [
              0.1111111111111111,
              "#46039f"
             ],
             [
              0.2222222222222222,
              "#7201a8"
             ],
             [
              0.3333333333333333,
              "#9c179e"
             ],
             [
              0.4444444444444444,
              "#bd3786"
             ],
             [
              0.5555555555555556,
              "#d8576b"
             ],
             [
              0.6666666666666666,
              "#ed7953"
             ],
             [
              0.7777777777777778,
              "#fb9f3a"
             ],
             [
              0.8888888888888888,
              "#fdca26"
             ],
             [
              1,
              "#f0f921"
             ]
            ],
            "type": "histogram2dcontour"
           }
          ],
          "mesh3d": [
           {
            "colorbar": {
             "outlinewidth": 0,
             "ticks": ""
            },
            "type": "mesh3d"
           }
          ],
          "parcoords": [
           {
            "line": {
             "colorbar": {
              "outlinewidth": 0,
              "ticks": ""
             }
            },
            "type": "parcoords"
           }
          ],
          "pie": [
           {
            "automargin": true,
            "type": "pie"
           }
          ],
          "scatter": [
           {
            "fillpattern": {
             "fillmode": "overlay",
             "size": 10,
             "solidity": 0.2
            },
            "type": "scatter"
           }
          ],
          "scatter3d": [
           {
            "line": {
             "colorbar": {
              "outlinewidth": 0,
              "ticks": ""
             }
            },
            "marker": {
             "colorbar": {
              "outlinewidth": 0,
              "ticks": ""
             }
            },
            "type": "scatter3d"
           }
          ],
          "scattercarpet": [
           {
            "marker": {
             "colorbar": {
              "outlinewidth": 0,
              "ticks": ""
             }
            },
            "type": "scattercarpet"
           }
          ],
          "scattergeo": [
           {
            "marker": {
             "colorbar": {
              "outlinewidth": 0,
              "ticks": ""
             }
            },
            "type": "scattergeo"
           }
          ],
          "scattergl": [
           {
            "marker": {
             "colorbar": {
              "outlinewidth": 0,
              "ticks": ""
             }
            },
            "type": "scattergl"
           }
          ],
          "scattermap": [
           {
            "marker": {
             "colorbar": {
              "outlinewidth": 0,
              "ticks": ""
             }
            },
            "type": "scattermap"
           }
          ],
          "scattermapbox": [
           {
            "marker": {
             "colorbar": {
              "outlinewidth": 0,
              "ticks": ""
             }
            },
            "type": "scattermapbox"
           }
          ],
          "scatterpolar": [
           {
            "marker": {
             "colorbar": {
              "outlinewidth": 0,
              "ticks": ""
             }
            },
            "type": "scatterpolar"
           }
          ],
          "scatterpolargl": [
           {
            "marker": {
             "colorbar": {
              "outlinewidth": 0,
              "ticks": ""
             }
            },
            "type": "scatterpolargl"
           }
          ],
          "scatterternary": [
           {
            "marker": {
             "colorbar": {
              "outlinewidth": 0,
              "ticks": ""
             }
            },
            "type": "scatterternary"
           }
          ],
          "surface": [
           {
            "colorbar": {
             "outlinewidth": 0,
             "ticks": ""
            },
            "colorscale": [
             [
              0,
              "#0d0887"
             ],
             [
              0.1111111111111111,
              "#46039f"
             ],
             [
              0.2222222222222222,
              "#7201a8"
             ],
             [
              0.3333333333333333,
              "#9c179e"
             ],
             [
              0.4444444444444444,
              "#bd3786"
             ],
             [
              0.5555555555555556,
              "#d8576b"
             ],
             [
              0.6666666666666666,
              "#ed7953"
             ],
             [
              0.7777777777777778,
              "#fb9f3a"
             ],
             [
              0.8888888888888888,
              "#fdca26"
             ],
             [
              1,
              "#f0f921"
             ]
            ],
            "type": "surface"
           }
          ],
          "table": [
           {
            "cells": {
             "fill": {
              "color": "#EBF0F8"
             },
             "line": {
              "color": "white"
             }
            },
            "header": {
             "fill": {
              "color": "#C8D4E3"
             },
             "line": {
              "color": "white"
             }
            },
            "type": "table"
           }
          ]
         },
         "layout": {
          "annotationdefaults": {
           "arrowcolor": "#2a3f5f",
           "arrowhead": 0,
           "arrowwidth": 1
          },
          "autotypenumbers": "strict",
          "coloraxis": {
           "colorbar": {
            "outlinewidth": 0,
            "ticks": ""
           }
          },
          "colorscale": {
           "diverging": [
            [
             0,
             "#8e0152"
            ],
            [
             0.1,
             "#c51b7d"
            ],
            [
             0.2,
             "#de77ae"
            ],
            [
             0.3,
             "#f1b6da"
            ],
            [
             0.4,
             "#fde0ef"
            ],
            [
             0.5,
             "#f7f7f7"
            ],
            [
             0.6,
             "#e6f5d0"
            ],
            [
             0.7,
             "#b8e186"
            ],
            [
             0.8,
             "#7fbc41"
            ],
            [
             0.9,
             "#4d9221"
            ],
            [
             1,
             "#276419"
            ]
           ],
           "sequential": [
            [
             0,
             "#0d0887"
            ],
            [
             0.1111111111111111,
             "#46039f"
            ],
            [
             0.2222222222222222,
             "#7201a8"
            ],
            [
             0.3333333333333333,
             "#9c179e"
            ],
            [
             0.4444444444444444,
             "#bd3786"
            ],
            [
             0.5555555555555556,
             "#d8576b"
            ],
            [
             0.6666666666666666,
             "#ed7953"
            ],
            [
             0.7777777777777778,
             "#fb9f3a"
            ],
            [
             0.8888888888888888,
             "#fdca26"
            ],
            [
             1,
             "#f0f921"
            ]
           ],
           "sequentialminus": [
            [
             0,
             "#0d0887"
            ],
            [
             0.1111111111111111,
             "#46039f"
            ],
            [
             0.2222222222222222,
             "#7201a8"
            ],
            [
             0.3333333333333333,
             "#9c179e"
            ],
            [
             0.4444444444444444,
             "#bd3786"
            ],
            [
             0.5555555555555556,
             "#d8576b"
            ],
            [
             0.6666666666666666,
             "#ed7953"
            ],
            [
             0.7777777777777778,
             "#fb9f3a"
            ],
            [
             0.8888888888888888,
             "#fdca26"
            ],
            [
             1,
             "#f0f921"
            ]
           ]
          },
          "colorway": [
           "#636efa",
           "#EF553B",
           "#00cc96",
           "#ab63fa",
           "#FFA15A",
           "#19d3f3",
           "#FF6692",
           "#B6E880",
           "#FF97FF",
           "#FECB52"
          ],
          "font": {
           "color": "#2a3f5f"
          },
          "geo": {
           "bgcolor": "white",
           "lakecolor": "white",
           "landcolor": "white",
           "showlakes": true,
           "showland": true,
           "subunitcolor": "#C8D4E3"
          },
          "hoverlabel": {
           "align": "left"
          },
          "hovermode": "closest",
          "mapbox": {
           "style": "light"
          },
          "paper_bgcolor": "white",
          "plot_bgcolor": "white",
          "polar": {
           "angularaxis": {
            "gridcolor": "#EBF0F8",
            "linecolor": "#EBF0F8",
            "ticks": ""
           },
           "bgcolor": "white",
           "radialaxis": {
            "gridcolor": "#EBF0F8",
            "linecolor": "#EBF0F8",
            "ticks": ""
           }
          },
          "scene": {
           "xaxis": {
            "backgroundcolor": "white",
            "gridcolor": "#DFE8F3",
            "gridwidth": 2,
            "linecolor": "#EBF0F8",
            "showbackground": true,
            "ticks": "",
            "zerolinecolor": "#EBF0F8"
           },
           "yaxis": {
            "backgroundcolor": "white",
            "gridcolor": "#DFE8F3",
            "gridwidth": 2,
            "linecolor": "#EBF0F8",
            "showbackground": true,
            "ticks": "",
            "zerolinecolor": "#EBF0F8"
           },
           "zaxis": {
            "backgroundcolor": "white",
            "gridcolor": "#DFE8F3",
            "gridwidth": 2,
            "linecolor": "#EBF0F8",
            "showbackground": true,
            "ticks": "",
            "zerolinecolor": "#EBF0F8"
           }
          },
          "shapedefaults": {
           "line": {
            "color": "#2a3f5f"
           }
          },
          "ternary": {
           "aaxis": {
            "gridcolor": "#DFE8F3",
            "linecolor": "#A2B1C6",
            "ticks": ""
           },
           "baxis": {
            "gridcolor": "#DFE8F3",
            "linecolor": "#A2B1C6",
            "ticks": ""
           },
           "bgcolor": "white",
           "caxis": {
            "gridcolor": "#DFE8F3",
            "linecolor": "#A2B1C6",
            "ticks": ""
           }
          },
          "title": {
           "x": 0.05
          },
          "xaxis": {
           "automargin": true,
           "gridcolor": "#EBF0F8",
           "linecolor": "#EBF0F8",
           "ticks": "",
           "title": {
            "standoff": 15
           },
           "zerolinecolor": "#EBF0F8",
           "zerolinewidth": 2
          },
          "yaxis": {
           "automargin": true,
           "gridcolor": "#EBF0F8",
           "linecolor": "#EBF0F8",
           "ticks": "",
           "title": {
            "standoff": 15
           },
           "zerolinecolor": "#EBF0F8",
           "zerolinewidth": 2
          }
         }
        },
        "title": {
         "font": {
          "size": 20
         },
         "text": "🎯 3D Interactive Topic Clustering - Truth Social Posts<br><sub>Hover over points to see post content | Colors represent different topics</sub>",
         "x": 0.5
        },
        "width": 1300
       }
      }
     },
     "metadata": {},
     "output_type": "display_data"
    }
   ],
   "source": [
    "# Create the 3D interactive scatter plot\n",
    "print(\"🎨 Creating 3D interactive scatter plot...\")\n",
    "\n",
    "# Create the main 3D scatter plot\n",
    "fig = go.Figure()\n",
    "\n",
    "# Add points for each topic\n",
    "for topic_id in sorted(topic_info.keys()):\n",
    "    topic_mask = df['dominant_topic'] == topic_id\n",
    "    topic_data = df[topic_mask]\n",
    "    \n",
    "    if len(topic_data) == 0:\n",
    "        continue\n",
    "    \n",
    "    fig.add_trace(go.Scatter3d(\n",
    "        x=topic_data['x_3d'],\n",
    "        y=topic_data['y_3d'],\n",
    "        z=topic_data['z_3d'],\n",
    "        mode='markers',\n",
    "        name=f\"Topic {topic_id + 1}: {topic_info[topic_id]['short_name']}\",\n",
    "        marker=dict(\n",
    "            size=5,\n",
    "            color=topic_info[topic_id]['color'],\n",
    "            opacity=0.8,\n",
    "            line=dict(width=0.5, color='darkgray')\n",
    "        ),\n",
    "        text=topic_data['hover_text'],\n",
    "        hovertemplate='%{text}<extra></extra>',  # Hide the trace name in hover\n",
    "        hoverinfo='text'\n",
    "    ))\n",
    "\n",
    "# Update layout for better visualization\n",
    "fig.update_layout(\n",
    "    title=dict(\n",
    "        text=\"🎯 3D Interactive Topic Clustering - Truth Social Posts<br><sub>Hover over points to see post content | Colors represent different topics</sub>\",\n",
    "        x=0.5,\n",
    "        font=dict(size=20)\n",
    "    ),\n",
    "    scene=dict(\n",
    "        xaxis_title=\"UMAP Dimension 1\",\n",
    "        yaxis_title=\"UMAP Dimension 2\",\n",
    "        zaxis_title=\"UMAP Dimension 3\",\n",
    "        camera=dict(\n",
    "            eye=dict(x=1.5, y=1.5, z=1.5)  # Good initial viewing angle\n",
    "        ),\n",
    "        bgcolor=\"rgba(240,240,240,0.1)\",\n",
    "        xaxis=dict(gridcolor=\"lightgray\", gridwidth=1),\n",
    "        yaxis=dict(gridcolor=\"lightgray\", gridwidth=1),\n",
    "        zaxis=dict(gridcolor=\"lightgray\", gridwidth=1)\n",
    "    ),\n",
    "    width=1300,\n",
    "    height=800,\n",
    "    font=dict(size=12),\n",
    "    legend=dict(\n",
    "        x=0.02,\n",
    "        y=0.98,\n",
    "        bgcolor=\"rgba(255,255,255,0.8)\",\n",
    "        bordercolor=\"gray\",\n",
    "        borderwidth=1\n",
    "    )\n",
    ")\n",
    "\n",
    "print(\"✅ 3D scatter plot created!\")\n",
    "print(f\"   📊 {len(df)} posts plotted across {n_topics} topics\")\n",
    "print(\"   🖱️  Interactive features:\")\n",
    "print(\"      - Hover over points to see post content\")\n",
    "print(\"      - Click and drag to rotate the plot\")\n",
    "print(\"      - Scroll to zoom in/out\")\n",
    "print(\"      - Click legend items to show/hide topics\")\n",
    "\n",
    "# Display the plot\n",
    "fig.show()\n"
   ]
  },
  {
   "cell_type": "code",
   "execution_count": 8,
   "metadata": {
    "execution": {
     "iopub.execute_input": "2025-07-20T07:46:38.974586Z",
     "iopub.status.busy": "2025-07-20T07:46:38.974413Z",
     "iopub.status.idle": "2025-07-20T07:46:39.023878Z",
     "shell.execute_reply": "2025-07-20T07:46:39.023499Z"
    }
   },
   "outputs": [
    {
     "name": "stdout",
     "output_type": "stream",
     "text": [
      "💾 Saving interactive visualization...\n",
      "✅ 3D interactive plot saved to '../images/3d_topic_clustering_interactive.html'\n",
      "✅ Enhanced dataset with 3D coordinates saved to '../data/truth_social_posts_with_3d_coords.csv'\n",
      "\n",
      "🎉 3D Interactive Topic Clustering Complete!\n",
      "📁 Files created:\n",
      "   📊 3d_topic_clustering_interactive.html - Interactive 3D visualization\n",
      "   📄 truth_social_posts_with_3d_coords.csv - Data with 3D coordinates\n",
      "\n",
      "🖱️  Open the HTML file in your browser to interact with the visualization!\n"
     ]
    }
   ],
   "source": [
    "# Save the interactive plot as HTML file\n",
    "print(\"💾 Saving interactive visualization...\")\n",
    "\n",
    "# Save 3D plot\n",
    "fig.write_html(\"../images/3d_topic_clustering_interactive.html\")\n",
    "print(\"✅ 3D interactive plot saved to '../images/3d_topic_clustering_interactive.html'\")\n",
    "\n",
    "# Save the enhanced dataset with 3D coordinates\n",
    "df_export = df[[\n",
    "    'speaker', 'handle', 'content_text', 'date_parsed',\n",
    "    'dominant_topic', 'topic_name', 'topic_confidence',\n",
    "    'x_3d', 'y_3d', 'z_3d'\n",
    "]].copy()\n",
    "\n",
    "df_export.to_csv('../data/truth_social_posts_with_3d_coords.csv', index=False)\n",
    "print(\"✅ Enhanced dataset with 3D coordinates saved to '../data/truth_social_posts_with_3d_coords.csv'\")\n",
    "\n",
    "print(\"\\n🎉 3D Interactive Topic Clustering Complete!\")\n",
    "print(\"📁 Files created:\")\n",
    "print(\"   📊 3d_topic_clustering_interactive.html - Interactive 3D visualization\")\n",
    "print(\"   📄 truth_social_posts_with_3d_coords.csv - Data with 3D coordinates\")\n",
    "print(\"\\n🖱️  Open the HTML file in your browser to interact with the visualization!\")\n"
   ]
  }
 ],
 "metadata": {
  "kernelspec": {
   "display_name": "venv",
   "language": "python",
   "name": "python3"
  },
  "language_info": {
   "codemirror_mode": {
    "name": "ipython",
    "version": 3
   },
   "file_extension": ".py",
   "mimetype": "text/x-python",
   "name": "python",
   "nbconvert_exporter": "python",
   "pygments_lexer": "ipython3",
   "version": "3.9.20"
  }
 },
 "nbformat": 4,
 "nbformat_minor": 2
}
