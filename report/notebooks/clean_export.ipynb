{
 "cells": [
  {
   "cell_type": "code",
   "execution_count": 8,
   "id": "c9993c7c",
   "metadata": {},
   "outputs": [
    {
     "name": "stdout",
     "output_type": "stream",
     "text": [
      "Loaded 6550 posts from JSON file\n"
     ]
    }
   ],
   "source": [
    "import pandas as pd\n",
    "import json\n",
    "from datetime import datetime\n",
    "\n",
    "# Load the JSON data\n",
    "with open('truth_social_posts_final.json', 'r', encoding='utf-8') as f:\n",
    "    data = json.load(f)\n",
    "\n",
    "print(f\"Loaded {len(data)} posts from JSON file\")\n"
   ]
  },
  {
   "cell_type": "code",
   "execution_count": 9,
   "id": "543164b0",
   "metadata": {},
   "outputs": [
    {
     "name": "stdout",
     "output_type": "stream",
     "text": [
      "DataFrame created successfully!\n",
      "Shape: (6550, 10)\n",
      "Columns: ['speaker', 'handle', 'date', 'platform', 'post_url', 'image_url', 'deleted_flag', 'content_text', 'content_html', 'content_links']\n",
      "\n",
      "DataFrame info:\n",
      "<class 'pandas.core.frame.DataFrame'>\n",
      "RangeIndex: 6550 entries, 0 to 6549\n",
      "Data columns (total 10 columns):\n",
      " #   Column         Non-Null Count  Dtype \n",
      "---  ------         --------------  ----- \n",
      " 0   speaker        6550 non-null   object\n",
      " 1   handle         6550 non-null   object\n",
      " 2   date           6550 non-null   object\n",
      " 3   platform       6550 non-null   object\n",
      " 4   post_url       6352 non-null   object\n",
      " 5   image_url      6550 non-null   object\n",
      " 6   deleted_flag   6550 non-null   bool  \n",
      " 7   content_text   5289 non-null   object\n",
      " 8   content_html   5289 non-null   object\n",
      " 9   content_links  2599 non-null   object\n",
      "dtypes: bool(1), object(9)\n",
      "memory usage: 467.1+ KB\n"
     ]
    }
   ],
   "source": [
    "# Convert JSON to DataFrame\n",
    "df = pd.DataFrame(data)\n",
    "\n",
    "print(\"DataFrame created successfully!\")\n",
    "print(f\"Shape: {df.shape}\")\n",
    "print(f\"Columns: {list(df.columns)}\")\n",
    "print(\"\\nDataFrame info:\")\n",
    "df.info()\n"
   ]
  },
  {
   "cell_type": "code",
   "execution_count": 10,
   "id": "884c3be9",
   "metadata": {},
   "outputs": [
    {
     "name": "stdout",
     "output_type": "stream",
     "text": [
      "First 5 rows:\n"
     ]
    },
    {
     "data": {
      "text/html": [
       "<div>\n",
       "<style scoped>\n",
       "    .dataframe tbody tr th:only-of-type {\n",
       "        vertical-align: middle;\n",
       "    }\n",
       "\n",
       "    .dataframe tbody tr th {\n",
       "        vertical-align: top;\n",
       "    }\n",
       "\n",
       "    .dataframe thead th {\n",
       "        text-align: right;\n",
       "    }\n",
       "</style>\n",
       "<table border=\"1\" class=\"dataframe\">\n",
       "  <thead>\n",
       "    <tr style=\"text-align: right;\">\n",
       "      <th></th>\n",
       "      <th>speaker</th>\n",
       "      <th>handle</th>\n",
       "      <th>date</th>\n",
       "      <th>platform</th>\n",
       "      <th>post_url</th>\n",
       "      <th>image_url</th>\n",
       "      <th>deleted_flag</th>\n",
       "      <th>content_text</th>\n",
       "      <th>content_html</th>\n",
       "      <th>content_links</th>\n",
       "    </tr>\n",
       "  </thead>\n",
       "  <tbody>\n",
       "    <tr>\n",
       "      <th>0</th>\n",
       "      <td>Donald Trump</td>\n",
       "      <td>@realDonaldTrump</td>\n",
       "      <td>July 18, 2025 @ 11:17 PM ET</td>\n",
       "      <td>Truth Social</td>\n",
       "      <td>https://truthsocial.com/@realDonaldTrump/posts...</td>\n",
       "      <td>https://media-cdn.factba.se/realdonaldtrump-tr...</td>\n",
       "      <td>False</td>\n",
       "      <td>NaN</td>\n",
       "      <td>NaN</td>\n",
       "      <td>NaN</td>\n",
       "    </tr>\n",
       "    <tr>\n",
       "      <th>1</th>\n",
       "      <td>Donald Trump</td>\n",
       "      <td>@realDonaldTrump</td>\n",
       "      <td>July 18, 2025 @ 10:03 PM ET</td>\n",
       "      <td>Truth Social</td>\n",
       "      <td>https://truthsocial.com/@realDonaldTrump/posts...</td>\n",
       "      <td>https://media-cdn.factba.se/realdonaldtrump-tr...</td>\n",
       "      <td>False</td>\n",
       "      <td>NaN</td>\n",
       "      <td>NaN</td>\n",
       "      <td>NaN</td>\n",
       "    </tr>\n",
       "    <tr>\n",
       "      <th>2</th>\n",
       "      <td>Donald Trump</td>\n",
       "      <td>@realDonaldTrump</td>\n",
       "      <td>July 18, 2025 @ 9:39 PM ET</td>\n",
       "      <td>Truth Social</td>\n",
       "      <td>https://truthsocial.com/@realDonaldTrump/posts...</td>\n",
       "      <td>https://media-cdn.factba.se/realdonaldtrump-tr...</td>\n",
       "      <td>False</td>\n",
       "      <td>We have fulfilled so many of our promises…✅One...</td>\n",
       "      <td>&lt;div class=\"text-sm font-medium whitespace-pre...</td>\n",
       "      <td>NaN</td>\n",
       "    </tr>\n",
       "    <tr>\n",
       "      <th>3</th>\n",
       "      <td>Donald Trump</td>\n",
       "      <td>@realDonaldTrump</td>\n",
       "      <td>July 18, 2025 @ 8:51 PM ET</td>\n",
       "      <td>Truth Social</td>\n",
       "      <td>https://truthsocial.com/@realDonaldTrump/posts...</td>\n",
       "      <td>https://media-cdn.factba.se/realdonaldtrump-tr...</td>\n",
       "      <td>False</td>\n",
       "      <td>RT@realDonaldTrumpEverybody should watch Sean ...</td>\n",
       "      <td>&lt;div class=\"text-sm font-medium whitespace-pre...</td>\n",
       "      <td>[{'url': 'https://truthsocial.com/@realDonaldT...</td>\n",
       "    </tr>\n",
       "    <tr>\n",
       "      <th>4</th>\n",
       "      <td>Donald Trump</td>\n",
       "      <td>@realDonaldTrump</td>\n",
       "      <td>July 18, 2025 @ 8:46 PM ET</td>\n",
       "      <td>Truth Social</td>\n",
       "      <td>https://truthsocial.com/@realDonaldTrump/posts...</td>\n",
       "      <td>https://media-cdn.factba.se/realdonaldtrump-tr...</td>\n",
       "      <td>False</td>\n",
       "      <td>NaN</td>\n",
       "      <td>NaN</td>\n",
       "      <td>NaN</td>\n",
       "    </tr>\n",
       "  </tbody>\n",
       "</table>\n",
       "</div>"
      ],
      "text/plain": [
       "        speaker            handle                         date      platform  \\\n",
       "0  Donald Trump  @realDonaldTrump  July 18, 2025 @ 11:17 PM ET  Truth Social   \n",
       "1  Donald Trump  @realDonaldTrump  July 18, 2025 @ 10:03 PM ET  Truth Social   \n",
       "2  Donald Trump  @realDonaldTrump   July 18, 2025 @ 9:39 PM ET  Truth Social   \n",
       "3  Donald Trump  @realDonaldTrump   July 18, 2025 @ 8:51 PM ET  Truth Social   \n",
       "4  Donald Trump  @realDonaldTrump   July 18, 2025 @ 8:46 PM ET  Truth Social   \n",
       "\n",
       "                                            post_url  \\\n",
       "0  https://truthsocial.com/@realDonaldTrump/posts...   \n",
       "1  https://truthsocial.com/@realDonaldTrump/posts...   \n",
       "2  https://truthsocial.com/@realDonaldTrump/posts...   \n",
       "3  https://truthsocial.com/@realDonaldTrump/posts...   \n",
       "4  https://truthsocial.com/@realDonaldTrump/posts...   \n",
       "\n",
       "                                           image_url  deleted_flag  \\\n",
       "0  https://media-cdn.factba.se/realdonaldtrump-tr...         False   \n",
       "1  https://media-cdn.factba.se/realdonaldtrump-tr...         False   \n",
       "2  https://media-cdn.factba.se/realdonaldtrump-tr...         False   \n",
       "3  https://media-cdn.factba.se/realdonaldtrump-tr...         False   \n",
       "4  https://media-cdn.factba.se/realdonaldtrump-tr...         False   \n",
       "\n",
       "                                        content_text  \\\n",
       "0                                                NaN   \n",
       "1                                                NaN   \n",
       "2  We have fulfilled so many of our promises…✅One...   \n",
       "3  RT@realDonaldTrumpEverybody should watch Sean ...   \n",
       "4                                                NaN   \n",
       "\n",
       "                                        content_html  \\\n",
       "0                                                NaN   \n",
       "1                                                NaN   \n",
       "2  <div class=\"text-sm font-medium whitespace-pre...   \n",
       "3  <div class=\"text-sm font-medium whitespace-pre...   \n",
       "4                                                NaN   \n",
       "\n",
       "                                       content_links  \n",
       "0                                                NaN  \n",
       "1                                                NaN  \n",
       "2                                                NaN  \n",
       "3  [{'url': 'https://truthsocial.com/@realDonaldT...  \n",
       "4                                                NaN  "
      ]
     },
     "execution_count": 10,
     "metadata": {},
     "output_type": "execute_result"
    }
   ],
   "source": [
    "# Display first few rows of the DataFrame\n",
    "print(\"First 5 rows:\")\n",
    "df.head()\n"
   ]
  },
  {
   "cell_type": "code",
   "execution_count": 11,
   "id": "618580aa",
   "metadata": {},
   "outputs": [
    {
     "name": "stdout",
     "output_type": "stream",
     "text": [
      "Data Summary:\n",
      "=============\n",
      "Total posts: 6550\n",
      "Unique speakers: 1\n",
      "Date range: April 1, 2025 @ 10:23 PM ET to September 9, 2024 @ 9:59 AM ET\n",
      "Posts with images: 6550\n",
      "Deleted posts: 199\n",
      "\n",
      "Speaker distribution:\n",
      "speaker\n",
      "Donald Trump    6550\n",
      "Name: count, dtype: int64\n"
     ]
    }
   ],
   "source": [
    "# Basic data exploration\n",
    "print(\"Data Summary:\")\n",
    "print(\"=============\")\n",
    "print(f\"Total posts: {len(df)}\")\n",
    "print(f\"Unique speakers: {df['speaker'].nunique()}\")\n",
    "print(f\"Date range: {df['date'].min()} to {df['date'].max()}\")\n",
    "print(f\"Posts with images: {df['image_url'].notna().sum()}\")\n",
    "print(f\"Deleted posts: {df['deleted_flag'].sum()}\")\n",
    "\n",
    "print(\"\\nSpeaker distribution:\")\n",
    "print(df['speaker'].value_counts().head(10))\n"
   ]
  },
  {
   "cell_type": "code",
   "execution_count": 12,
   "id": "c2c1d546",
   "metadata": {},
   "outputs": [
    {
     "name": "stdout",
     "output_type": "stream",
     "text": [
      "Converting date strings to datetime objects...\n",
      "Date conversion complete!\n",
      "Successfully parsed: 6550 out of 6550 dates\n",
      "Failed to parse: 0 dates\n",
      "\n",
      "Example date conversions:\n",
      "                          date         date_parsed\n",
      "0  July 18, 2025 @ 11:17 PM ET 2025-07-18 23:17:00\n",
      "1  July 18, 2025 @ 10:03 PM ET 2025-07-18 22:03:00\n",
      "2   July 18, 2025 @ 9:39 PM ET 2025-07-18 21:39:00\n",
      "3   July 18, 2025 @ 8:51 PM ET 2025-07-18 20:51:00\n",
      "4   July 18, 2025 @ 8:46 PM ET 2025-07-18 20:46:00\n"
     ]
    }
   ],
   "source": [
    "# Convert date strings to datetime objects\n",
    "def parse_date(date_str):\n",
    "    \"\"\"Parse date string format like 'January 1, 2025 @ 10:48 AM ET'\"\"\"\n",
    "    try:\n",
    "        # Remove the timezone part and @ symbol\n",
    "        date_part = date_str.split(' @')[0]\n",
    "        time_part = date_str.split('@ ')[1].replace(' ET', '')\n",
    "        \n",
    "        # Combine and parse\n",
    "        full_date_str = f\"{date_part} {time_part}\"\n",
    "        return pd.to_datetime(full_date_str, format='%B %d, %Y %I:%M %p')\n",
    "    except:\n",
    "        # Fallback for any parsing issues\n",
    "        return pd.NaT\n",
    "\n",
    "# Apply the conversion\n",
    "print(\"Converting date strings to datetime objects...\")\n",
    "df['date_parsed'] = df['date'].apply(parse_date)\n",
    "\n",
    "# Check the conversion\n",
    "print(\"Date conversion complete!\")\n",
    "print(f\"Successfully parsed: {df['date_parsed'].notna().sum()} out of {len(df)} dates\")\n",
    "print(f\"Failed to parse: {df['date_parsed'].isna().sum()} dates\")\n",
    "\n",
    "# Show some examples\n",
    "print(\"\\nExample date conversions:\")\n",
    "print(df[['date', 'date_parsed']].head())\n"
   ]
  },
  {
   "cell_type": "code",
   "execution_count": 13,
   "id": "35648a9e",
   "metadata": {},
   "outputs": [
    {
     "name": "stdout",
     "output_type": "stream",
     "text": [
      "Posts after January 1, 2025: 3492\n",
      "Date range: 2025-01-01 10:48:00 to 2025-07-18 23:17:00\n",
      "\n",
      "3492 posts after January 2025\n"
     ]
    }
   ],
   "source": [
    "# Filter for posts after January 1, 2025\n",
    "jan_2025 = pd.Timestamp('2025-01-01')\n",
    "posts_after_jan_2025 = df[df['date_parsed'] >= jan_2025].copy()\n",
    "\n",
    "print(f\"Posts after January 1, 2025: {len(posts_after_jan_2025)}\")\n",
    "print(f\"Date range: {posts_after_jan_2025['date_parsed'].min()} to {posts_after_jan_2025['date_parsed'].max()}\")\n",
    "\n",
    "# Sort by date (newest first)\n",
    "posts_after_jan_2025 = posts_after_jan_2025.sort_values('date_parsed', ascending=False)\n",
    "\n",
    "print(f\"\\n{len(posts_after_jan_2025)} posts after January 2025\")\n"
   ]
  },
  {
   "cell_type": "code",
   "execution_count": 14,
   "id": "e11b8800",
   "metadata": {},
   "outputs": [],
   "source": [
    "df.to_csv('truth_social_posts_final_2025.csv', index=False)\n",
    "posts_after_jan_2025.to_csv('truth_social_posts_final_2025.csv', index=False)"
   ]
  }
 ],
 "metadata": {
  "kernelspec": {
   "display_name": "venv",
   "language": "python",
   "name": "python3"
  },
  "language_info": {
   "codemirror_mode": {
    "name": "ipython",
    "version": 3
   },
   "file_extension": ".py",
   "mimetype": "text/x-python",
   "name": "python",
   "nbconvert_exporter": "python",
   "pygments_lexer": "ipython3",
   "version": "3.9.20"
  }
 },
 "nbformat": 4,
 "nbformat_minor": 5
}
